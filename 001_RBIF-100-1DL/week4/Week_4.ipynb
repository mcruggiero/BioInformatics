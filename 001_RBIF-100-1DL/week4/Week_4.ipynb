{
 "cells": [
  {
   "cell_type": "markdown",
   "metadata": {},
   "source": [
    "# Week 4 Assignment"
   ]
  },
  {
   "cell_type": "markdown",
   "metadata": {
    "toc": true
   },
   "source": [
    "<h1>Table of Contents<span class=\"tocSkip\"></span></h1>\n",
    "<div class=\"toc\"><ul class=\"toc-item\"><li><span><a href=\"#Description\" data-toc-modified-id=\"Description-1\"><span class=\"toc-item-num\">1&nbsp;&nbsp;</span>Description</a></span><ul class=\"toc-item\"><li><span><a href=\"#readme.txt\" data-toc-modified-id=\"readme.txt-1.1\"><span class=\"toc-item-num\">1.1&nbsp;&nbsp;</span>readme.txt</a></span></li><li><span><a href=\"#Story\" data-toc-modified-id=\"Story-1.2\"><span class=\"toc-item-num\">1.2&nbsp;&nbsp;</span>Story</a></span></li><li><span><a href=\"#File-Structure\" data-toc-modified-id=\"File-Structure-1.3\"><span class=\"toc-item-num\">1.3&nbsp;&nbsp;</span>File Structure</a></span></li><li><span><a href=\"#copyExomes.sh\" data-toc-modified-id=\"copyExomes.sh-1.4\"><span class=\"toc-item-num\">1.4&nbsp;&nbsp;</span>copyExomes.sh</a></span></li><li><span><a href=\"#createCrisprReady.sh\" data-toc-modified-id=\"createCrisprReady.sh-1.5\"><span class=\"toc-item-num\">1.5&nbsp;&nbsp;</span>createCrisprReady.sh</a></span></li><li><span><a href=\"#identifyCrisprSite.sh\" data-toc-modified-id=\"identifyCrisprSite.sh-1.6\"><span class=\"toc-item-num\">1.6&nbsp;&nbsp;</span>identifyCrisprSite.sh</a></span></li><li><span><a href=\"#editGenome.sh\" data-toc-modified-id=\"editGenome.sh-1.7\"><span class=\"toc-item-num\">1.7&nbsp;&nbsp;</span>editGenome.sh</a></span></li><li><span><a href=\"#exomeReport.py\" data-toc-modified-id=\"exomeReport.py-1.8\"><span class=\"toc-item-num\">1.8&nbsp;&nbsp;</span>exomeReport.py</a></span></li></ul></li><li><span><a href=\"#Readme.txt\" data-toc-modified-id=\"Readme.txt-2\"><span class=\"toc-item-num\">2&nbsp;&nbsp;</span>Readme.txt</a></span></li><li><span><a href=\"#copyExomes.sh\" data-toc-modified-id=\"copyExomes.sh-3\"><span class=\"toc-item-num\">3&nbsp;&nbsp;</span>copyExomes.sh</a></span><ul class=\"toc-item\"><li><span><a href=\"#Structure-Decision\" data-toc-modified-id=\"Structure-Decision-3.1\"><span class=\"toc-item-num\">3.1&nbsp;&nbsp;</span>Structure Decision</a></span></li><li><span><a href=\"#Programing-Decision\" data-toc-modified-id=\"Programing-Decision-3.2\"><span class=\"toc-item-num\">3.2&nbsp;&nbsp;</span>Programing Decision</a></span></li><li><span><a href=\"#Read-in-clinical_data-with-pandas\" data-toc-modified-id=\"Read-in-clinical_data-with-pandas-3.3\"><span class=\"toc-item-num\">3.3&nbsp;&nbsp;</span>Read in clinical_data with pandas</a></span></li><li><span><a href=\"#Filter-dataframe-by-diameter-size\" data-toc-modified-id=\"Filter-dataframe-by-diameter-size-3.4\"><span class=\"toc-item-num\">3.4&nbsp;&nbsp;</span>Filter dataframe by diameter size</a></span></li><li><span><a href=\"#Make-exomes-directory-and-copy-over-filtered-files\" data-toc-modified-id=\"Make-exomes-directory-and-copy-over-filtered-files-3.5\"><span class=\"toc-item-num\">3.5&nbsp;&nbsp;</span>Make exomes directory and copy over filtered files</a></span></li><li><span><a href=\"#Create-motif_manager.py\" data-toc-modified-id=\"Create-motif_manager.py-3.6\"><span class=\"toc-item-num\">3.6&nbsp;&nbsp;</span>Create motif_manager.py</a></span></li><li><span><a href=\"#Task-1.4-Complete\" data-toc-modified-id=\"Task-1.4-Complete-3.7\"><span class=\"toc-item-num\">3.7&nbsp;&nbsp;</span>Task 1.4 Complete</a></span></li></ul></li><li><span><a href=\"#createCrisprReady.sh\" data-toc-modified-id=\"createCrisprReady.sh-4\"><span class=\"toc-item-num\">4&nbsp;&nbsp;</span>createCrisprReady.sh</a></span><ul class=\"toc-item\"><li><span><a href=\"#Check-size-length-of-.fasta-files\" data-toc-modified-id=\"Check-size-length-of-.fasta-files-4.1\"><span class=\"toc-item-num\">4.1&nbsp;&nbsp;</span>Check size length of .fasta files</a></span></li><li><span><a href=\"#Build-Animal-Dataframe\" data-toc-modified-id=\"Build-Animal-Dataframe-4.2\"><span class=\"toc-item-num\">4.2&nbsp;&nbsp;</span>Build Animal Dataframe</a></span></li><li><span><a href=\"#Build-dataframe-counter-for-each-animal\" data-toc-modified-id=\"Build-dataframe-counter-for-each-animal-4.3\"><span class=\"toc-item-num\">4.3&nbsp;&nbsp;</span>Build dataframe counter for each animal</a></span></li><li><span><a href=\"#Top-Ten-Motifs\" data-toc-modified-id=\"Top-Ten-Motifs-4.4\"><span class=\"toc-item-num\">4.4&nbsp;&nbsp;</span>Top Ten Motifs</a></span></li><li><span><a href=\"#Top-motifs-for-each-animal\" data-toc-modified-id=\"Top-motifs-for-each-animal-4.5\"><span class=\"toc-item-num\">4.5&nbsp;&nbsp;</span>Top motifs for each animal</a></span></li><li><span><a href=\"#Count-Report\" data-toc-modified-id=\"Count-Report-4.6\"><span class=\"toc-item-num\">4.6&nbsp;&nbsp;</span>Count Report</a></span></li><li><span><a href=\"#Create-motif_manager.py\" data-toc-modified-id=\"Create-motif_manager.py-4.7\"><span class=\"toc-item-num\">4.7&nbsp;&nbsp;</span>Create motif_manager.py</a></span></li></ul></li></ul></div>"
   ]
  },
  {
   "cell_type": "markdown",
   "metadata": {},
   "source": [
    "## Description"
   ]
  },
  {
   "cell_type": "markdown",
   "metadata": {},
   "source": [
    "<strong>Due Tuesday Week 4 </strong><br>\n",
    "Beginning Python scripting <br>\n",
    "Key concepts covered: Apply Bash and Python practices to solving problems"
   ]
  },
  {
   "cell_type": "markdown",
   "metadata": {},
   "source": [
    "### readme.txt"
   ]
  },
  {
   "cell_type": "markdown",
   "metadata": {},
   "source": [
    "<strong>Important! Your assignment must contain a readme.txt file that indicates the exact command used to execute your script on the AWS server. It should indicate what inputs are used, and indicate what outputs are produced.\n",
    "Use relative paths so that if I copied your week4 folder to any other directory, it will still execute properly.</strong>"
   ]
  },
  {
   "cell_type": "markdown",
   "metadata": {},
   "source": [
    "### Story"
   ]
  },
  {
   "cell_type": "markdown",
   "metadata": {},
   "source": [
    "Dr. Banner leads a team of researchers that have each discovered a unique eukaryotic organism. They all seem to be related to each other and the team has tried to sequence their specimens. Homologous genes between each eukaryote were labeled with the same gene name. Each of organisms have some degree of gamma ray resistance and Dr. Banner constructed a list of motifs that may be associated with resistance. He wants to use only the most abundant motif and knockout the genes that contain these motifs using CRISPR.  He first needs to identify a list of suitable CRISPR gene candidates and submit a report. \n",
    "\n",
    "Inputs:\n",
    "\n",
    "/home/rbif/week4/clinical_data.txt <br>\n",
    "/home/rbif/week4/motif_list.txt <br>\n",
    "/home/rbif/week4/exomes/*.fasta <br>"
   ]
  },
  {
   "cell_type": "markdown",
   "metadata": {},
   "source": [
    "### File Structure"
   ]
  },
  {
   "cell_type": "markdown",
   "metadata": {},
   "source": [
    "notes: Task completed. Tim, I am not sure if you want me to make a bash script that does this with something like:\n",
    "```\n",
    "mkdir week4\n",
    "rsync . /home/ruggm/BioInformatics/001_RBIF-100-1DL/week4\n",
    "```\n",
    "or just make it here. I am going to assume that I have done this successfully, but let me know if you want me to make a little build_me script."
   ]
  },
  {
   "cell_type": "markdown",
   "metadata": {},
   "source": [
    "<strong>Task 1.3 completed</strong>"
   ]
  },
  {
   "cell_type": "markdown",
   "metadata": {},
   "source": [
    "### copyExomes.sh"
   ]
  },
  {
   "cell_type": "markdown",
   "metadata": {},
   "source": [
    "Read in the clinical data file and identify the samples that have a diameter between 20 and 30 mm long (inclusive) and have had their genomes sequenced. Copy the identified exomes using the sample code names to a new directory called exomes.<br><br><strong>Task 1.4 completed</strong>"
   ]
  },
  {
   "cell_type": "markdown",
   "metadata": {},
   "source": [
    "### createCrisprReady.sh"
   ]
  },
  {
   "cell_type": "markdown",
   "metadata": {},
   "source": [
    "Using the motif_list.txt file, identify the 3 highest occurring motifs in each exome inside the exomes folder. \n",
    "Output the headers and corresponding sequences to a new file called exomename_topmotifs.fasta.  **This means to only select for the genes that have at least one of the three top motifs and output to a new file\n",
    "Rename the headers of the exomename_topmotifs.fasta files to include the motif sequences and their count. (Example: >gene1  ===> >gene1 ATGC_1 AAAA_38)\n",
    "\n",
    "Note: The sequence does not need to contain all 3 motifs, it just needs to have at least 1 of them.\n",
    "“exomename_topmotifs.fasta” should contain the code name of the sample. For example, fox_topmotifs.fasta."
   ]
  },
  {
   "cell_type": "markdown",
   "metadata": {},
   "source": [
    "### identifyCrisprSite.sh"
   ]
  },
  {
   "cell_type": "markdown",
   "metadata": {},
   "source": [
    "For each gene inside the exomename_topmotifs.fasta files, identify a suitable CRISPR site.\n",
    "Find sequences that contain “NGG”, where “N” can be any base, that has at least 20 basepairs upstream.\n",
    "Example of upstream: ATGAACGTCTGTAAGAACTGCGGATCTGTCA (Everything left of CGG is upstream of the DNA) \n",
    "Output suitable candidates (headers and sequences) to a new file called exomenames_precrispr.fasta"
   ]
  },
  {
   "cell_type": "markdown",
   "metadata": {},
   "source": [
    "### editGenome.sh"
   ]
  },
  {
   "cell_type": "markdown",
   "metadata": {},
   "source": [
    "Using those files, write a script that will insert the letter A right before the NGG site. Output to a new file called exomename_postcrispr.fasta \n"
   ]
  },
  {
   "cell_type": "markdown",
   "metadata": {},
   "source": [
    "### exomeReport.py"
   ]
  },
  {
   "cell_type": "markdown",
   "metadata": {},
   "source": [
    "Create a single report that summarizes the findings. It should be a text file that lists the name of the discoverer of the organism, the diameter, the code name and the environment it came from. -Additionally, include how many genes the organism has in common with all of the other organisms, and which genes are unique to that organism.\n",
    "Note: You are only comparing that organism against the other organisms of the same cohort (20-30mm in diameter). ie You are summarizing the motif-containing exomes with just the CRISPR-ready genes, in otherwords using the exomenames_precrispr.fasta (or exomenames_postcrispr.fasta since the headers should be identical between those two files)\n",
    "There may not be any genes in common in that entire cohort.\n",
    "\n",
    "Example:\n",
    "Organism FOX, discovered by DISCOVERER, has a diameter of DIAMETER, and has the NUMBER of genes in common with the cohort, and the following genes unique to only itself: gene1, gene4, gene823"
   ]
  },
  {
   "cell_type": "markdown",
   "metadata": {},
   "source": [
    "## Readme.txt"
   ]
  },
  {
   "cell_type": "code",
   "execution_count": null,
   "metadata": {},
   "outputs": [],
   "source": []
  },
  {
   "cell_type": "markdown",
   "metadata": {},
   "source": [
    "## copyExomes.sh"
   ]
  },
  {
   "cell_type": "markdown",
   "metadata": {},
   "source": [
    "### Structure Decision"
   ]
  },
  {
   "cell_type": "markdown",
   "metadata": {},
   "source": [
    "This is a little confusing to me Tim, we already have a file \n",
    "exomes. Do you want me to over write this folder and delete the \n",
    "Older .fasta files? \n",
    "\n",
    "Seems weird to overwrite everything like that and destroy\n",
    "The old .fasta files. So I am going to move the exomes folder to a \n",
    "exomes_given and make a new directory as asked."
   ]
  },
  {
   "cell_type": "code",
   "execution_count": 1,
   "metadata": {},
   "outputs": [
    {
     "name": "stdout",
     "output_type": "stream",
     "text": [
      "clinical_data.txt\n",
      "copyExomes.sh\n",
      "createCrisprReady.sh\n",
      "exomes\n",
      "exomes_given\n",
      "motif_list.txt\n",
      "motif_manager.py\n",
      "__pycache__\n",
      "Week_4.ipynb\n"
     ]
    }
   ],
   "source": [
    "%%bash \n",
    "\n",
    "ls"
   ]
  },
  {
   "cell_type": "markdown",
   "metadata": {},
   "source": [
    "### Programing Decision"
   ]
  },
  {
   "cell_type": "markdown",
   "metadata": {},
   "source": [
    "It seems like I have two choices to make all of this work. I can make a bunch of little scripts that play together in a modular fashion or I can maybe a larger python script that is called in different bash scripts. For such a little project, it seems strained to make a bunch of little scripts to fry all together. Therefore, I am going to build one larger python script that will do most of the heavy lifting and call all of the parts of that script from different parts of the bash shell. <br><br>\n",
    "It looks like you are giving me a lot of latitude here, so I am going to use pandas."
   ]
  },
  {
   "cell_type": "markdown",
   "metadata": {},
   "source": [
    "### Read in clinical_data with pandas"
   ]
  },
  {
   "cell_type": "code",
   "execution_count": 2,
   "metadata": {},
   "outputs": [
    {
     "data": {
      "text/html": [
       "<div>\n",
       "<style scoped>\n",
       "    .dataframe tbody tr th:only-of-type {\n",
       "        vertical-align: middle;\n",
       "    }\n",
       "\n",
       "    .dataframe tbody tr th {\n",
       "        vertical-align: top;\n",
       "    }\n",
       "\n",
       "    .dataframe thead th {\n",
       "        text-align: right;\n",
       "    }\n",
       "</style>\n",
       "<table border=\"1\" class=\"dataframe\">\n",
       "  <thead>\n",
       "    <tr style=\"text-align: right;\">\n",
       "      <th></th>\n",
       "      <th>Discoverer</th>\n",
       "      <th>Location</th>\n",
       "      <th>Diamater (mm)</th>\n",
       "      <th>Environment</th>\n",
       "      <th>Status</th>\n",
       "      <th>code_name</th>\n",
       "    </tr>\n",
       "  </thead>\n",
       "  <tbody>\n",
       "    <tr>\n",
       "      <th>0</th>\n",
       "      <td>Kerr</td>\n",
       "      <td>New Jersey</td>\n",
       "      <td>68</td>\n",
       "      <td>River</td>\n",
       "      <td>Sequenced</td>\n",
       "      <td>addax</td>\n",
       "    </tr>\n",
       "    <tr>\n",
       "      <th>1</th>\n",
       "      <td>Schacher</td>\n",
       "      <td>Sweden</td>\n",
       "      <td>44</td>\n",
       "      <td>Sewage</td>\n",
       "      <td>Sequenced</td>\n",
       "      <td>badger</td>\n",
       "    </tr>\n",
       "    <tr>\n",
       "      <th>2</th>\n",
       "      <td>No</td>\n",
       "      <td>Florida</td>\n",
       "      <td>6</td>\n",
       "      <td>River</td>\n",
       "      <td>Sequenced</td>\n",
       "      <td>basilisk</td>\n",
       "    </tr>\n",
       "    <tr>\n",
       "      <th>3</th>\n",
       "      <td>Farrior</td>\n",
       "      <td>New Jersey</td>\n",
       "      <td>75</td>\n",
       "      <td>River</td>\n",
       "      <td>Sequenced</td>\n",
       "      <td>bat</td>\n",
       "    </tr>\n",
       "    <tr>\n",
       "      <th>4</th>\n",
       "      <td>Look</td>\n",
       "      <td>Florida</td>\n",
       "      <td>66</td>\n",
       "      <td>Sewage</td>\n",
       "      <td>Sequenced</td>\n",
       "      <td>bear</td>\n",
       "    </tr>\n",
       "  </tbody>\n",
       "</table>\n",
       "</div>"
      ],
      "text/plain": [
       "  Discoverer    Location  Diamater (mm) Environment     Status code_name\n",
       "0       Kerr  New Jersey             68       River  Sequenced     addax\n",
       "1   Schacher      Sweden             44      Sewage  Sequenced    badger\n",
       "2         No     Florida              6       River  Sequenced  basilisk\n",
       "3    Farrior  New Jersey             75       River  Sequenced       bat\n",
       "4       Look     Florida             66      Sewage  Sequenced      bear"
      ]
     },
     "execution_count": 2,
     "metadata": {},
     "output_type": "execute_result"
    }
   ],
   "source": [
    "import os, shutil\n",
    "import pandas as pd\n",
    "import numpy as np\n",
    "\n",
    "def copy_exomes():\n",
    "    df = pd.read_csv(\"clinical_data.txt\", sep='\\t', engine='python')\n",
    "    return df\n",
    "\n",
    "df = copy_exomes()\n",
    "df.head()"
   ]
  },
  {
   "cell_type": "code",
   "execution_count": 3,
   "metadata": {},
   "outputs": [
    {
     "data": {
      "text/plain": [
       "Discoverer       object\n",
       "Location         object\n",
       "Diamater (mm)     int64\n",
       "Environment      object\n",
       "Status           object\n",
       "code_name        object\n",
       "dtype: object"
      ]
     },
     "execution_count": 3,
     "metadata": {},
     "output_type": "execute_result"
    }
   ],
   "source": [
    "df.dtypes"
   ]
  },
  {
   "cell_type": "code",
   "execution_count": 4,
   "metadata": {},
   "outputs": [
    {
     "data": {
      "text/plain": [
       "Index(['Discoverer', 'Location', 'Diamater (mm)', 'Environment', 'Status',\n",
       "       'code_name'],\n",
       "      dtype='object')"
      ]
     },
     "execution_count": 4,
     "metadata": {},
     "output_type": "execute_result"
    }
   ],
   "source": [
    "df.columns"
   ]
  },
  {
   "cell_type": "markdown",
   "metadata": {},
   "source": [
    "This looks rather clean, moving to filer by the requested diameters."
   ]
  },
  {
   "cell_type": "markdown",
   "metadata": {},
   "source": [
    "### Filter dataframe by diameter size"
   ]
  },
  {
   "cell_type": "code",
   "execution_count": 5,
   "metadata": {},
   "outputs": [
    {
     "data": {
      "text/html": [
       "<div>\n",
       "<style scoped>\n",
       "    .dataframe tbody tr th:only-of-type {\n",
       "        vertical-align: middle;\n",
       "    }\n",
       "\n",
       "    .dataframe tbody tr th {\n",
       "        vertical-align: top;\n",
       "    }\n",
       "\n",
       "    .dataframe thead th {\n",
       "        text-align: right;\n",
       "    }\n",
       "</style>\n",
       "<table border=\"1\" class=\"dataframe\">\n",
       "  <thead>\n",
       "    <tr style=\"text-align: right;\">\n",
       "      <th></th>\n",
       "      <th>Discoverer</th>\n",
       "      <th>Location</th>\n",
       "      <th>Diamater (mm)</th>\n",
       "      <th>Environment</th>\n",
       "      <th>Status</th>\n",
       "      <th>code_name</th>\n",
       "    </tr>\n",
       "  </thead>\n",
       "  <tbody>\n",
       "    <tr>\n",
       "      <th>9</th>\n",
       "      <td>Kelleher</td>\n",
       "      <td>New Jersey</td>\n",
       "      <td>26</td>\n",
       "      <td>Swamp</td>\n",
       "      <td>Not sequenced</td>\n",
       "      <td>bunny</td>\n",
       "    </tr>\n",
       "    <tr>\n",
       "      <th>11</th>\n",
       "      <td>Rivet</td>\n",
       "      <td>Sweden</td>\n",
       "      <td>26</td>\n",
       "      <td>Swamp</td>\n",
       "      <td>Sequenced</td>\n",
       "      <td>chicken</td>\n",
       "    </tr>\n",
       "    <tr>\n",
       "      <th>17</th>\n",
       "      <td>Forness</td>\n",
       "      <td>New Jersey</td>\n",
       "      <td>30</td>\n",
       "      <td>Sewage</td>\n",
       "      <td>Sequenced</td>\n",
       "      <td>dromedary</td>\n",
       "    </tr>\n",
       "    <tr>\n",
       "      <th>21</th>\n",
       "      <td>Vanderburg</td>\n",
       "      <td>Sweden</td>\n",
       "      <td>26</td>\n",
       "      <td>River</td>\n",
       "      <td>Sequenced</td>\n",
       "      <td>fox</td>\n",
       "    </tr>\n",
       "    <tr>\n",
       "      <th>22</th>\n",
       "      <td>Gorham</td>\n",
       "      <td>New Jersey</td>\n",
       "      <td>24</td>\n",
       "      <td>Sewage</td>\n",
       "      <td>Sequenced</td>\n",
       "      <td>goat</td>\n",
       "    </tr>\n",
       "  </tbody>\n",
       "</table>\n",
       "</div>"
      ],
      "text/plain": [
       "    Discoverer    Location  Diamater (mm) Environment         Status  \\\n",
       "9     Kelleher  New Jersey             26       Swamp  Not sequenced   \n",
       "11       Rivet      Sweden             26       Swamp      Sequenced   \n",
       "17     Forness  New Jersey             30      Sewage      Sequenced   \n",
       "21  Vanderburg      Sweden             26       River      Sequenced   \n",
       "22      Gorham  New Jersey             24      Sewage      Sequenced   \n",
       "\n",
       "    code_name  \n",
       "9       bunny  \n",
       "11    chicken  \n",
       "17  dromedary  \n",
       "21        fox  \n",
       "22       goat  "
      ]
     },
     "execution_count": 5,
     "metadata": {},
     "output_type": "execute_result"
    }
   ],
   "source": [
    "mover = df[(20 <= df['Diamater (mm)']) & (df['Diamater (mm)'] <= 30)]\n",
    "mover.head()"
   ]
  },
  {
   "cell_type": "markdown",
   "metadata": {},
   "source": [
    "### Make exomes directory and copy over filtered files"
   ]
  },
  {
   "cell_type": "code",
   "execution_count": 6,
   "metadata": {},
   "outputs": [
    {
     "name": "stdout",
     "output_type": "stream",
     "text": [
      "copying bunny.fasta file\n",
      "copying chicken.fasta file\n",
      "copying dromedary.fasta file\n",
      "copying fox.fasta file\n",
      "copying goat.fasta file\n",
      "copying gopher.fasta file\n",
      "copying gorilla.fasta file\n",
      "copying lamb.fasta file\n",
      "copying lovebird.fasta file\n",
      "copying turtle.fasta file\n"
     ]
    }
   ],
   "source": [
    "if not os.path.exists(\"exomes\"):\n",
    "    os.mkdir(\"exomes\")\n",
    "else:\n",
    "    shutil.rmtree(\"exomes\")\n",
    "    os.mkdir(\"exomes\")\n",
    "    \n",
    "for i in mover[\"code_name\"].tolist():\n",
    "    print(\"copying {}.fasta file\".format(i))\n",
    "    shutil.copy2(\"exomes_given/{}.fasta\".format(i), \n",
    "                 \"exomes/{}.fasta\".format(i))"
   ]
  },
  {
   "cell_type": "markdown",
   "metadata": {},
   "source": [
    "### Create motif_manager.py"
   ]
  },
  {
   "cell_type": "code",
   "execution_count": 7,
   "metadata": {},
   "outputs": [
    {
     "name": "stdout",
     "output_type": "stream",
     "text": [
      "Overwriting motif_manager.py\n"
     ]
    }
   ],
   "source": [
    "%%writefile motif_manager.py\n",
    "#!/usr/bin/env python\n",
    "\n",
    "import os, shutil\n",
    "import pandas as pd\n",
    "import numpy as np\n",
    "from itertools import combinations, permutations\n",
    "\n",
    "def copy_exomes():\n",
    "    # Read in tab deliniated file\n",
    "    df = pd.read_csv(\"clinical_data.txt\", sep='\\t', engine='python')\n",
    "    \n",
    "    # Filter out by needed terms\n",
    "    mover = df[(20 <= df['Diamater (mm)']) & (df['Diamater (mm)'] <= 30)]\n",
    "    print(\"The following entries are of interest:\")\n",
    "    print(mover)\n",
    "    \n",
    "    # Make Directory Structure\n",
    "    if not os.path.exists(\"exomes\"):\n",
    "        os.mkdir(\"exomes\")\n",
    "    else:\n",
    "        shutil.rmtree(\"exomes\")\n",
    "        os.mkdir(\"exomes\")\n",
    "    \n",
    "    # Check to see if path exists, it it does, remove and create\n",
    "    if not os.path.exists(\"exomes\"):\n",
    "        os.mkdir(\"exomes\")\n",
    "    else:\n",
    "        shutil.rmtree(\"exomes\")\n",
    "        os.mkdir(\"exomes\")\n",
    "\n",
    "    # Copy files\n",
    "    for i in mover[\"code_name\"].tolist():\n",
    "        print(\"copying {}.fasta file\".format(i))\n",
    "        shutil.copy2(\"exomes_given/{}.fasta\".format(i), \n",
    "                     \"exomes/{}.fasta\".format(i))"
   ]
  },
  {
   "cell_type": "code",
   "execution_count": 8,
   "metadata": {},
   "outputs": [
    {
     "name": "stdout",
     "output_type": "stream",
     "text": [
      "Overwriting copyExomes.sh\n"
     ]
    }
   ],
   "source": [
    "%%writefile copyExomes.sh\n",
    "#!/bin/bash\n",
    "\n",
    "python -c 'import motif_manager; motif_manager.copy_exomes()'"
   ]
  },
  {
   "cell_type": "markdown",
   "metadata": {},
   "source": [
    "### Task 1.4 Complete"
   ]
  },
  {
   "cell_type": "markdown",
   "metadata": {},
   "source": [
    "## createCrisprReady.sh"
   ]
  },
  {
   "cell_type": "markdown",
   "metadata": {},
   "source": [
    "### Check size length of .fasta files"
   ]
  },
  {
   "cell_type": "code",
   "execution_count": 9,
   "metadata": {},
   "outputs": [
    {
     "name": "stdout",
     "output_type": "stream",
     "text": [
      "1000\n",
      "1000\n",
      "1000\n",
      "1000\n",
      "1000\n",
      "1000\n",
      "1000\n",
      "1000\n",
      "1000\n",
      "1000\n",
      "['TTTTTTTTTACA', 'TACATCTCTCTC', 'TTTTTCTCTTTT', 'CTTCAAAATTTT', 'TCTCTACATTTT', 'CTTCAAAATCTC', 'AAAAAAAAAAAA', 'TACACTTCTTTT', 'AAAATCTCCTTC', 'CTTCTCTCTTTT', 'TTTTTACACTTC', 'AAAAAAAATACA', 'TTTTCTTCTCTC', 'TTTTTTTTAAAA', 'TTTTTCTCTCTC', 'CTTCCTTCTTTT', 'TACATTTTAAAA', 'CTTCAAAAAAAA', 'AAAATTTTTACA', 'TTTTAAAATCTC', 'TACACTTCTACA', 'TACATACACTTC', 'TACATTTTTCTC', 'TCTCTACATCTC', 'TACATCTCCTTC', 'TACATCTCTTTT', 'TCTCTCTCTACA', 'CTTCTTTTAAAA', 'CTTCTTTTTTTT', 'TTTTTTTTTTTT', 'TCTCAAAATTTT', 'TTTTCTTCTACA', 'AAAATTTTAAAA', 'TCTCTTTTTACA', 'TACACTTCTCTC', 'TACATACAAAAA', 'TTTTTCTCAAAA', 'TACATACATACA', 'TCTCTCTCTTTT', 'AAAATCTCTCTC', 'AAAATTTTCTTC', 'AAAATACATCTC', 'TCTCAAAAAAAA', 'TCTCAAAACTTC', 'CTTCCTTCAAAA', 'AAAATTTTTTTT', 'AAAATCTCAAAA', 'TTTTAAAAAAAA', 'TTTTAAAATTTT', 'AAAAAAAATCTC', 'TTTTCTTCAAAA', 'CTTCCTTCTCTC', 'TTTTAAAACTTC', 'AAAACTTCTACA', 'TCTCCTTCCTTC', 'AAAATACACTTC', 'TACAAAAATCTC', 'AAAACTTCCTTC', 'TTTTTCTCTACA', 'AAAAAAAACTTC', 'CTTCTTTTTCTC', 'CTTCTACATACA', 'AAAACTTCAAAA', 'TCTCCTTCTACA', 'TTTTTACATACA', 'TCTCTACACTTC', 'TCTCCTTCAAAA', 'TACAAAAACTTC', 'AAAATCTCTTTT', 'AAAATACATTTT', 'TTTTTACAAAAA', 'CTTCTCTCAAAA', 'TTTTTTTTCTTC', 'CTTCTCTCTCTC', 'TTTTTACATTTT', 'TTTTTCTCCTTC', 'TACATACATTTT', 'TACATTTTTTTT', 'AAAATACATACA', 'AAAACTTCTCTC', 'TACACTTCAAAA', 'TCTCTACAAAAA', 'TTTTCTTCTTTT', 'TACAAAAAAAAA', 'TACATTTTCTTC', 'AAAAAAAATTTT', 'CTTCAAAACTTC', 'CTTCTACATTTT', 'TACATACATCTC', 'CTTCTTTTCTTC', 'TCTCTCTCCTTC', 'CTTCTACATCTC', 'TCTCCTTCTCTC', 'CTTCTACACTTC', 'TCTCTCTCTCTC', 'TTTTTACATCTC', 'AAAATACAAAAA', 'TACAAAAATTTT', 'TACATCTCAAAA', 'TCTCCTTCTTTT']\n"
     ]
    }
   ],
   "source": [
    "for fasta in os.listdir(\"exomes\"):\n",
    "    with open('exomes/{}'.format(fasta)) as f:\n",
    "        lines = [line.rstrip() for line in f]\n",
    "        print(len(lines))\n",
    "        \n",
    "with open(\"motif_list.txt\") as f:\n",
    "    motifs = [line.rstrip() for line in f]\n",
    "    \n",
    "print(motifs)"
   ]
  },
  {
   "cell_type": "markdown",
   "metadata": {},
   "source": [
    "It is very helpful that all of these lists have the same size. "
   ]
  },
  {
   "cell_type": "markdown",
   "metadata": {},
   "source": [
    "### Build Animal Dataframe"
   ]
  },
  {
   "cell_type": "code",
   "execution_count": 10,
   "metadata": {},
   "outputs": [],
   "source": [
    "animal_house = []\n",
    "for fasta in os.listdir(\"exomes\"):\n",
    "    with open('exomes/{}'.format(fasta)) as f:\n",
    "        lines = [line.rstrip() for line in f]\n",
    "    entry = {lines[2*i][1:]:lines[2*i + 1] for i in range(0,500)}\n",
    "    entry[\"name\"] = fasta[:-6]\n",
    "    animal_house.append(entry)\n",
    "\n",
    "        \n",
    "with open(\"motif_list.txt\") as f:\n",
    "    motifs = [line.rstrip() for line in f]\n",
    "        \n",
    "animal_house = pd.DataFrame(animal_house)\n",
    "animal_house.set_index('name', inplace=True)"
   ]
  },
  {
   "cell_type": "code",
   "execution_count": 11,
   "metadata": {},
   "outputs": [
    {
     "data": {
      "text/html": [
       "<div>\n",
       "<style scoped>\n",
       "    .dataframe tbody tr th:only-of-type {\n",
       "        vertical-align: middle;\n",
       "    }\n",
       "\n",
       "    .dataframe tbody tr th {\n",
       "        vertical-align: top;\n",
       "    }\n",
       "\n",
       "    .dataframe thead th {\n",
       "        text-align: right;\n",
       "    }\n",
       "</style>\n",
       "<table border=\"1\" class=\"dataframe\">\n",
       "  <thead>\n",
       "    <tr style=\"text-align: right;\">\n",
       "      <th></th>\n",
       "      <th>gene1</th>\n",
       "    </tr>\n",
       "    <tr>\n",
       "      <th>name</th>\n",
       "      <th></th>\n",
       "    </tr>\n",
       "  </thead>\n",
       "  <tbody>\n",
       "    <tr>\n",
       "      <th>lamb</th>\n",
       "      <td>ATGTTCATTTCATCAACCCACCACACCCACTATACCTTCTCCTTCT...</td>\n",
       "    </tr>\n",
       "    <tr>\n",
       "      <th>chicken</th>\n",
       "      <td>ATGCTTATCAATGCTTGATAAAAACCACACTTCACTACCACAATCT...</td>\n",
       "    </tr>\n",
       "    <tr>\n",
       "      <th>gopher</th>\n",
       "      <td>ATGCATTATATATCTAAACAATAAAATCACTAGAAATTTCCAATAA...</td>\n",
       "    </tr>\n",
       "    <tr>\n",
       "      <th>dromedary</th>\n",
       "      <td>ATGCAACTCTACACCCTTCTTCATTATATTTTATATTAATCGTTGT...</td>\n",
       "    </tr>\n",
       "    <tr>\n",
       "      <th>turtle</th>\n",
       "      <td>ATGATACAACCCAAAGCAAGTCATACCTCCACTTAATTACAAAACG...</td>\n",
       "    </tr>\n",
       "    <tr>\n",
       "      <th>bunny</th>\n",
       "      <td>ATGCTTATTAATATTTATTTATATACACTTCTACAAACCCTACCTA...</td>\n",
       "    </tr>\n",
       "    <tr>\n",
       "      <th>lovebird</th>\n",
       "      <td>ATGAACGCCCCACAACGACTCCCACATTACCACGTCATCACCAAAC...</td>\n",
       "    </tr>\n",
       "    <tr>\n",
       "      <th>goat</th>\n",
       "      <td>ATGATAATATTCCTCACAAATATCCTTCATTAATACACATTCATTT...</td>\n",
       "    </tr>\n",
       "    <tr>\n",
       "      <th>fox</th>\n",
       "      <td>ATGTTCTAACAATAAATTTTTTACACTTCTATCAATTACTTATCAT...</td>\n",
       "    </tr>\n",
       "    <tr>\n",
       "      <th>gorilla</th>\n",
       "      <td>ATGAGCATCTACTGACATTTTTACACTTCTAATTGCCTCATATCCC...</td>\n",
       "    </tr>\n",
       "  </tbody>\n",
       "</table>\n",
       "</div>"
      ],
      "text/plain": [
       "                                                       gene1\n",
       "name                                                        \n",
       "lamb       ATGTTCATTTCATCAACCCACCACACCCACTATACCTTCTCCTTCT...\n",
       "chicken    ATGCTTATCAATGCTTGATAAAAACCACACTTCACTACCACAATCT...\n",
       "gopher     ATGCATTATATATCTAAACAATAAAATCACTAGAAATTTCCAATAA...\n",
       "dromedary  ATGCAACTCTACACCCTTCTTCATTATATTTTATATTAATCGTTGT...\n",
       "turtle     ATGATACAACCCAAAGCAAGTCATACCTCCACTTAATTACAAAACG...\n",
       "bunny      ATGCTTATTAATATTTATTTATATACACTTCTACAAACCCTACCTA...\n",
       "lovebird   ATGAACGCCCCACAACGACTCCCACATTACCACGTCATCACCAAAC...\n",
       "goat       ATGATAATATTCCTCACAAATATCCTTCATTAATACACATTCATTT...\n",
       "fox        ATGTTCTAACAATAAATTTTTTACACTTCTATCAATTACTTATCAT...\n",
       "gorilla    ATGAGCATCTACTGACATTTTTACACTTCTAATTGCCTCATATCCC..."
      ]
     },
     "execution_count": 11,
     "metadata": {},
     "output_type": "execute_result"
    }
   ],
   "source": [
    "animal_house[[\"gene1\"]]"
   ]
  },
  {
   "cell_type": "markdown",
   "metadata": {},
   "source": [
    "It looks like we have two different lines of attack here. First, I could make a tensor of all of the different motifs and then collapse the tensor by count. Also, I could crush down genes inside each animal and then explore the values. The tensor option seems the most fun, but I think we will stick to a plain Jane adding a column count inside of the dataframe."
   ]
  },
  {
   "cell_type": "markdown",
   "metadata": {},
   "source": [
    "### Build dataframe counter for each animal"
   ]
  },
  {
   "cell_type": "code",
   "execution_count": 12,
   "metadata": {},
   "outputs": [
    {
     "data": {
      "text/plain": [
       "['lamb',\n",
       " 'chicken',\n",
       " 'gopher',\n",
       " 'dromedary',\n",
       " 'turtle',\n",
       " 'bunny',\n",
       " 'lovebird',\n",
       " 'goat',\n",
       " 'fox',\n",
       " 'gorilla']"
      ]
     },
     "execution_count": 12,
     "metadata": {},
     "output_type": "execute_result"
    }
   ],
   "source": [
    "list(animal_house.index)"
   ]
  },
  {
   "cell_type": "code",
   "execution_count": 13,
   "metadata": {},
   "outputs": [],
   "source": [
    "animal_data = {}\n",
    "count_list = []\n",
    "top_per_animal = {}\n",
    "for animal in list(animal_house.index):\n",
    "    animal_data[animal] = animal_house.loc[[animal]].T\n",
    "    for motif in motifs:\n",
    "        animal_data[animal][motif] = animal_data[animal][animal].apply(lambda a: a.count(motif))\n",
    "                \n",
    "    # Suming up columns and rows\n",
    "    animal_data[animal].loc['{}'.format(animal),:]= animal_data[animal].sum(axis=0)\n",
    "    \n",
    "    # There is a quirk in Pandas where the Text column is added, will drop\n",
    "    animal_data[animal].drop([animal], axis=1, inplace = True)\n",
    "    \n",
    "    # Casting to ints\n",
    "    animal_data[animal] = animal_data[animal].astype(int)\n",
    "    \n",
    "    \n",
    "    count_list.append(animal_data[animal].loc[['{}'.format(animal)]].T)\n",
    "    top_per_animal[animal] = list(animal_data[animal].loc[animal].nlargest(3).index)\n",
    "\n",
    "count_values = pd.concat(count_list, axis=1, sort = True)\n",
    "\n",
    "#Total sum per row: \n",
    "count_values.loc[:,'sum'] = count_values.sum(axis=1)\n"
   ]
  },
  {
   "cell_type": "markdown",
   "metadata": {},
   "source": [
    "### Top Ten Motifs"
   ]
  },
  {
   "cell_type": "code",
   "execution_count": 14,
   "metadata": {},
   "outputs": [
    {
     "data": {
      "text/plain": [
       "name\n",
       "TTTTTACACTTC    3291\n",
       "TACACTTCTACA    1300\n",
       "CTTCAAAATTTT    1284\n",
       "TACACTTCAAAA     117\n",
       "TACACTTCTTTT     116\n",
       "AAAATTTTTACA      96\n",
       "TACACTTCTCTC      86\n",
       "TTTTTTTTTACA      78\n",
       "CTTCCTTCAAAA      73\n",
       "TTTTCTTCAAAA      70\n",
       "Name: sum, dtype: int64"
      ]
     },
     "execution_count": 14,
     "metadata": {},
     "output_type": "execute_result"
    }
   ],
   "source": [
    "count_values[\"sum\"].nlargest(10)"
   ]
  },
  {
   "cell_type": "code",
   "execution_count": 15,
   "metadata": {},
   "outputs": [
    {
     "data": {
      "text/html": [
       "<div>\n",
       "<style scoped>\n",
       "    .dataframe tbody tr th:only-of-type {\n",
       "        vertical-align: middle;\n",
       "    }\n",
       "\n",
       "    .dataframe tbody tr th {\n",
       "        vertical-align: top;\n",
       "    }\n",
       "\n",
       "    .dataframe thead th {\n",
       "        text-align: right;\n",
       "    }\n",
       "</style>\n",
       "<table border=\"1\" class=\"dataframe\">\n",
       "  <thead>\n",
       "    <tr style=\"text-align: right;\">\n",
       "      <th></th>\n",
       "      <th>lamb</th>\n",
       "      <th>chicken</th>\n",
       "      <th>gopher</th>\n",
       "      <th>dromedary</th>\n",
       "      <th>turtle</th>\n",
       "      <th>bunny</th>\n",
       "      <th>lovebird</th>\n",
       "      <th>goat</th>\n",
       "      <th>fox</th>\n",
       "      <th>gorilla</th>\n",
       "      <th>sum</th>\n",
       "    </tr>\n",
       "    <tr>\n",
       "      <th>name</th>\n",
       "      <th></th>\n",
       "      <th></th>\n",
       "      <th></th>\n",
       "      <th></th>\n",
       "      <th></th>\n",
       "      <th></th>\n",
       "      <th></th>\n",
       "      <th></th>\n",
       "      <th></th>\n",
       "      <th></th>\n",
       "      <th></th>\n",
       "    </tr>\n",
       "  </thead>\n",
       "  <tbody>\n",
       "    <tr>\n",
       "      <th>AAAAAAAAAAAA</th>\n",
       "      <td>6</td>\n",
       "      <td>7</td>\n",
       "      <td>5</td>\n",
       "      <td>5</td>\n",
       "      <td>7</td>\n",
       "      <td>2</td>\n",
       "      <td>3</td>\n",
       "      <td>8</td>\n",
       "      <td>1</td>\n",
       "      <td>9</td>\n",
       "      <td>53</td>\n",
       "    </tr>\n",
       "    <tr>\n",
       "      <th>AAAAAAAACTTC</th>\n",
       "      <td>4</td>\n",
       "      <td>2</td>\n",
       "      <td>4</td>\n",
       "      <td>5</td>\n",
       "      <td>7</td>\n",
       "      <td>0</td>\n",
       "      <td>2</td>\n",
       "      <td>5</td>\n",
       "      <td>2</td>\n",
       "      <td>11</td>\n",
       "      <td>42</td>\n",
       "    </tr>\n",
       "    <tr>\n",
       "      <th>AAAAAAAATACA</th>\n",
       "      <td>0</td>\n",
       "      <td>1</td>\n",
       "      <td>5</td>\n",
       "      <td>2</td>\n",
       "      <td>10</td>\n",
       "      <td>10</td>\n",
       "      <td>8</td>\n",
       "      <td>3</td>\n",
       "      <td>1</td>\n",
       "      <td>5</td>\n",
       "      <td>45</td>\n",
       "    </tr>\n",
       "    <tr>\n",
       "      <th>AAAAAAAATCTC</th>\n",
       "      <td>5</td>\n",
       "      <td>6</td>\n",
       "      <td>4</td>\n",
       "      <td>6</td>\n",
       "      <td>9</td>\n",
       "      <td>4</td>\n",
       "      <td>6</td>\n",
       "      <td>2</td>\n",
       "      <td>12</td>\n",
       "      <td>10</td>\n",
       "      <td>64</td>\n",
       "    </tr>\n",
       "    <tr>\n",
       "      <th>AAAAAAAATTTT</th>\n",
       "      <td>3</td>\n",
       "      <td>8</td>\n",
       "      <td>9</td>\n",
       "      <td>2</td>\n",
       "      <td>6</td>\n",
       "      <td>12</td>\n",
       "      <td>3</td>\n",
       "      <td>4</td>\n",
       "      <td>1</td>\n",
       "      <td>7</td>\n",
       "      <td>55</td>\n",
       "    </tr>\n",
       "  </tbody>\n",
       "</table>\n",
       "</div>"
      ],
      "text/plain": [
       "              lamb  chicken  gopher  dromedary  turtle  bunny  lovebird  goat  \\\n",
       "name                                                                            \n",
       "AAAAAAAAAAAA     6        7       5          5       7      2         3     8   \n",
       "AAAAAAAACTTC     4        2       4          5       7      0         2     5   \n",
       "AAAAAAAATACA     0        1       5          2      10     10         8     3   \n",
       "AAAAAAAATCTC     5        6       4          6       9      4         6     2   \n",
       "AAAAAAAATTTT     3        8       9          2       6     12         3     4   \n",
       "\n",
       "              fox  gorilla  sum  \n",
       "name                             \n",
       "AAAAAAAAAAAA    1        9   53  \n",
       "AAAAAAAACTTC    2       11   42  \n",
       "AAAAAAAATACA    1        5   45  \n",
       "AAAAAAAATCTC   12       10   64  \n",
       "AAAAAAAATTTT    1        7   55  "
      ]
     },
     "execution_count": 15,
     "metadata": {},
     "output_type": "execute_result"
    }
   ],
   "source": [
    "count_values.head()"
   ]
  },
  {
   "cell_type": "code",
   "execution_count": 16,
   "metadata": {},
   "outputs": [],
   "source": [
    "import matplotlib.pyplot as plt\n",
    "\n",
    "count_values[\"sum\"].nlargest(10).plot.bar(x=\"name\");"
   ]
  },
  {
   "cell_type": "markdown",
   "metadata": {},
   "source": [
    "### Top motifs for each animal"
   ]
  },
  {
   "cell_type": "code",
   "execution_count": 23,
   "metadata": {},
   "outputs": [
    {
     "data": {
      "text/plain": [
       "['TTTTTACACTTC', 'CTTCAAAATTTT', 'TACACTTCTACA']"
      ]
     },
     "execution_count": 23,
     "metadata": {},
     "output_type": "execute_result"
    }
   ],
   "source": [
    "top_per_animal[\"lamb\"]"
   ]
  },
  {
   "cell_type": "code",
   "execution_count": 17,
   "metadata": {},
   "outputs": [
    {
     "name": "stdout",
     "output_type": "stream",
     "text": [
      "lamb\n",
      "['TTTTTACACTTC', 'CTTCAAAATTTT', 'TACACTTCTACA']\n",
      "chicken\n",
      "['TTTTTACACTTC', 'TACACTTCTACA', 'CTTCAAAATTTT']\n",
      "gopher\n",
      "['TTTTTACACTTC', 'CTTCAAAATTTT', 'TACACTTCTACA']\n",
      "dromedary\n",
      "['TTTTTACACTTC', 'CTTCAAAATTTT', 'TACACTTCTACA']\n",
      "turtle\n",
      "['TTTTTACACTTC', 'TACACTTCTACA', 'CTTCAAAATTTT']\n",
      "bunny\n",
      "['TTTTTACACTTC', 'CTTCAAAATTTT', 'TACACTTCTACA']\n",
      "lovebird\n",
      "['TTTTTACACTTC', 'TACACTTCTACA', 'CTTCAAAATTTT']\n",
      "goat\n",
      "['TTTTTACACTTC', 'CTTCAAAATTTT', 'TACACTTCTACA']\n",
      "fox\n",
      "['TTTTTACACTTC', 'TACACTTCTACA', 'CTTCAAAATTTT']\n",
      "gorilla\n",
      "['TTTTTACACTTC', 'CTTCAAAATTTT', 'TACACTTCTACA']\n"
     ]
    }
   ],
   "source": [
    "for animal in top_per_animal:\n",
    "    print(animal)\n",
    "    print(top_per_animal[animal])"
   ]
  },
  {
   "cell_type": "markdown",
   "metadata": {},
   "source": [
    "Here we can see that the same three motifs do in fact dominate all\n",
    "of the various animals."
   ]
  },
  {
   "cell_type": "markdown",
   "metadata": {},
   "source": [
    "### Count Report"
   ]
  },
  {
   "cell_type": "code",
   "execution_count": null,
   "metadata": {},
   "outputs": [],
   "source": [
    "df = animal_data[\"lamb\"][top_per_animal[animal]]\n",
    "\n",
    "\n",
    "df[df != 0]"
   ]
  },
  {
   "cell_type": "markdown",
   "metadata": {},
   "source": [
    "### Create motif_manager.py"
   ]
  },
  {
   "cell_type": "code",
   "execution_count": 19,
   "metadata": {},
   "outputs": [
    {
     "name": "stdout",
     "output_type": "stream",
     "text": [
      "Overwriting motif_manager.py\n"
     ]
    }
   ],
   "source": [
    "%%writefile motif_manager.py\n",
    "#!/usr/bin/env python\n",
    "\n",
    "import os, shutil\n",
    "import pandas as pd\n",
    "import numpy as np\n",
    "from itertools import combinations, permutations\n",
    "\n",
    "def copy_exomes():\n",
    "    # Read in tab deliniated file\n",
    "    df = pd.read_csv(\"clinical_data.txt\", sep='\\t', engine='python')\n",
    "    \n",
    "    # Filter out by needed terms\n",
    "    mover = df[(20 <= df['Diamater (mm)']) & (df['Diamater (mm)'] <= 30)]\n",
    "    print(\"The following entries are of interest:\")\n",
    "    print(mover)\n",
    "    \n",
    "    # Make Directory Structure\n",
    "    if not os.path.exists(\"exomes\"):\n",
    "        os.mkdir(\"exomes\")\n",
    "    else:\n",
    "        shutil.rmtree(\"exomes\")\n",
    "        os.mkdir(\"exomes\")\n",
    "    \n",
    "    # Check to see if path exists, it it does, remove and create\n",
    "    if not os.path.exists(\"exomes\"):\n",
    "        os.mkdir(\"exomes\")\n",
    "    else:\n",
    "        shutil.rmtree(\"exomes\")\n",
    "        os.mkdir(\"exomes\")\n",
    "\n",
    "    # Copy files\n",
    "    for i in mover[\"code_name\"].tolist():\n",
    "        print(\"copying {}.fasta file\".format(i))\n",
    "        shutil.copy2(\"exomes_given/{}.fasta\".format(i), \n",
    "                     \"exomes/{}.fasta\".format(i))\n",
    "        \n",
    "def create_crispy():\n",
    "    animal_house = []\n",
    "    \n",
    "    #First build dataframe animals in exome dir\n",
    "    for fasta in os.listdir(\"exomes\"):\n",
    "        with open('exomes/{}'.format(fasta)) as f:\n",
    "            lines = [line.rstrip() for line in f]\n",
    "        entry = {lines[2*i][1:]:lines[2*i + 1] for i in range(0,500)}\n",
    "        entry[\"name\"] = fasta[:-6]\n",
    "        animal_house.append(entry)\n",
    "\n",
    "    animal_house = pd.DataFrame(animal_house)\n",
    "    animal_house.set_index('name', inplace=True)  \n",
    "    \n",
    "    #Iterate through motif_list\n",
    "    with open(\"motif_list.txt\") as f:\n",
    "        motifs = [line.rstrip() for line in f]\n",
    "\n",
    "    # Build counting dataframe for each animal\n",
    "    animal_data = {}\n",
    "    count_list = []\n",
    "    top_per_animal = {}\n",
    "    \n",
    "    for animal in list(animal_house.index):\n",
    "        animal_data[animal] = animal_house.loc[[animal]].T\n",
    "        for motif in motifs:\n",
    "            animal_data[animal][motif] = animal_data[animal][animal].apply(lambda a: a.count(motif))\n",
    "    \n",
    "        # Suming up columns and rows\n",
    "        animal_data[animal].loc['{}'.format(animal),:]= animal_data[animal].sum(axis=0)\n",
    "        \n",
    "        # There is a quirk in Pandas where the Text column is added, will drop\n",
    "        animal_data[animal].drop([animal], axis=1, inplace = True)\n",
    "        \n",
    "        # Casting to ints\n",
    "        animal_data[animal] = animal_data[animal].astype(int)\n",
    "        \n",
    "        # Add the sum into a count_column list\n",
    "        count_list.append(animal_data[animal].loc[['{}'.format(animal)]].T.dropna())\n",
    "        \n",
    "        # Populate top 3 lists\n",
    "        top_per_animal[animal] = list(animal_data[animal].loc[animal].nlargest(3).index)\n",
    "\n",
    "\n",
    "    # Join all of the columns into one dataframe\n",
    "    count_values = pd.concat(count_list, axis=1)\n",
    "    \n",
    "    #Total sum per row: \n",
    "    count_values.loc[:,'sum'] = count_values.sum(axis=1)\n",
    "    \n",
    "    print(\"\\nTop Ten Motifs\")\n",
    "    print(count_values[\"sum\"].nlargest(10))\n",
    "    print('\\nTop Motifs Per Animal')\n",
    "    for animal in top_per_animal:\n",
    "        print(animal)\n",
    "        print(top_per_animal[animal])"
   ]
  },
  {
   "cell_type": "code",
   "execution_count": 20,
   "metadata": {},
   "outputs": [
    {
     "name": "stdout",
     "output_type": "stream",
     "text": [
      "Overwriting createCrisprReady.sh\n"
     ]
    }
   ],
   "source": [
    "%%writefile createCrisprReady.sh\n",
    "#!/bin/bash\n",
    "\n",
    "python -c 'import motif_manager; motif_manager.create_crispy()'"
   ]
  },
  {
   "cell_type": "code",
   "execution_count": null,
   "metadata": {},
   "outputs": [],
   "source": []
  }
 ],
 "metadata": {
  "kernelspec": {
   "display_name": "Python 3",
   "language": "python",
   "name": "python3"
  },
  "language_info": {
   "codemirror_mode": {
    "name": "ipython",
    "version": 3
   },
   "file_extension": ".py",
   "mimetype": "text/x-python",
   "name": "python",
   "nbconvert_exporter": "python",
   "pygments_lexer": "ipython3",
   "version": "3.7.3"
  },
  "toc": {
   "base_numbering": 1,
   "nav_menu": {},
   "number_sections": true,
   "sideBar": true,
   "skip_h1_title": true,
   "title_cell": "Table of Contents",
   "title_sidebar": "Contents",
   "toc_cell": true,
   "toc_position": {
    "height": "calc(100% - 180px)",
    "left": "10px",
    "top": "150px",
    "width": "165px"
   },
   "toc_section_display": true,
   "toc_window_display": true
  }
 },
 "nbformat": 4,
 "nbformat_minor": 2
}
