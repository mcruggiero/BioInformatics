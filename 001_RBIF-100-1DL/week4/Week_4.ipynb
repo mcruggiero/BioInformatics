{
 "cells": [
  {
   "cell_type": "markdown",
   "metadata": {},
   "source": [
    "# Week 4 Assignment"
   ]
  },
  {
   "cell_type": "markdown",
   "metadata": {
    "toc": true
   },
   "source": [
    "<h1>Table of Contents<span class=\"tocSkip\"></span></h1>\n",
    "<div class=\"toc\"><ul class=\"toc-item\"><li><span><a href=\"#Description\" data-toc-modified-id=\"Description-1\"><span class=\"toc-item-num\">1&nbsp;&nbsp;</span>Description</a></span><ul class=\"toc-item\"><li><span><a href=\"#readme.txt\" data-toc-modified-id=\"readme.txt-1.1\"><span class=\"toc-item-num\">1.1&nbsp;&nbsp;</span>readme.txt</a></span></li><li><span><a href=\"#Story\" data-toc-modified-id=\"Story-1.2\"><span class=\"toc-item-num\">1.2&nbsp;&nbsp;</span>Story</a></span></li><li><span><a href=\"#File-Structure\" data-toc-modified-id=\"File-Structure-1.3\"><span class=\"toc-item-num\">1.3&nbsp;&nbsp;</span>File Structure</a></span></li><li><span><a href=\"#copyExomes.sh\" data-toc-modified-id=\"copyExomes.sh-1.4\"><span class=\"toc-item-num\">1.4&nbsp;&nbsp;</span>copyExomes.sh</a></span></li><li><span><a href=\"#createCrisprReady.sh\" data-toc-modified-id=\"createCrisprReady.sh-1.5\"><span class=\"toc-item-num\">1.5&nbsp;&nbsp;</span>createCrisprReady.sh</a></span></li><li><span><a href=\"#identifyCrisprSite.sh\" data-toc-modified-id=\"identifyCrisprSite.sh-1.6\"><span class=\"toc-item-num\">1.6&nbsp;&nbsp;</span>identifyCrisprSite.sh</a></span></li><li><span><a href=\"#editGenome.sh\" data-toc-modified-id=\"editGenome.sh-1.7\"><span class=\"toc-item-num\">1.7&nbsp;&nbsp;</span>editGenome.sh</a></span></li><li><span><a href=\"#exomeReport.py\" data-toc-modified-id=\"exomeReport.py-1.8\"><span class=\"toc-item-num\">1.8&nbsp;&nbsp;</span>exomeReport.py</a></span></li></ul></li><li><span><a href=\"#Readme.txt\" data-toc-modified-id=\"Readme.txt-2\"><span class=\"toc-item-num\">2&nbsp;&nbsp;</span>Readme.txt</a></span></li><li><span><a href=\"#copyExomes.sh\" data-toc-modified-id=\"copyExomes.sh-3\"><span class=\"toc-item-num\">3&nbsp;&nbsp;</span>copyExomes.sh</a></span><ul class=\"toc-item\"><li><span><a href=\"#Structure-Decision\" data-toc-modified-id=\"Structure-Decision-3.1\"><span class=\"toc-item-num\">3.1&nbsp;&nbsp;</span>Structure Decision</a></span></li><li><span><a href=\"#Programing-Decision\" data-toc-modified-id=\"Programing-Decision-3.2\"><span class=\"toc-item-num\">3.2&nbsp;&nbsp;</span>Programing Decision</a></span></li><li><span><a href=\"#Read-in-clinical_data-with-pandas\" data-toc-modified-id=\"Read-in-clinical_data-with-pandas-3.3\"><span class=\"toc-item-num\">3.3&nbsp;&nbsp;</span>Read in clinical_data with pandas</a></span></li><li><span><a href=\"#Filter-dataframe-by-diameter-size\" data-toc-modified-id=\"Filter-dataframe-by-diameter-size-3.4\"><span class=\"toc-item-num\">3.4&nbsp;&nbsp;</span>Filter dataframe by diameter size</a></span></li><li><span><a href=\"#Make-exomes-directory-and-copy-over-filtered-files\" data-toc-modified-id=\"Make-exomes-directory-and-copy-over-filtered-files-3.5\"><span class=\"toc-item-num\">3.5&nbsp;&nbsp;</span>Make exomes directory and copy over filtered files</a></span></li><li><span><a href=\"#Create-motif_manager.py\" data-toc-modified-id=\"Create-motif_manager.py-3.6\"><span class=\"toc-item-num\">3.6&nbsp;&nbsp;</span>Create motif_manager.py</a></span></li><li><span><a href=\"#Task-1.4-Complete\" data-toc-modified-id=\"Task-1.4-Complete-3.7\"><span class=\"toc-item-num\">3.7&nbsp;&nbsp;</span>Task 1.4 Complete</a></span></li></ul></li><li><span><a href=\"#createCrisprReady.sh\" data-toc-modified-id=\"createCrisprReady.sh-4\"><span class=\"toc-item-num\">4&nbsp;&nbsp;</span>createCrisprReady.sh</a></span><ul class=\"toc-item\"><li><span><a href=\"#Check-size-length-of-.fasta-files\" data-toc-modified-id=\"Check-size-length-of-.fasta-files-4.1\"><span class=\"toc-item-num\">4.1&nbsp;&nbsp;</span>Check size length of .fasta files</a></span></li></ul></li></ul></div>"
   ]
  },
  {
   "cell_type": "markdown",
   "metadata": {},
   "source": [
    "## Description"
   ]
  },
  {
   "cell_type": "markdown",
   "metadata": {},
   "source": [
    "<strong>Due Tuesday Week 4 </strong><br>\n",
    "Beginning Python scripting <br>\n",
    "Key concepts covered: Apply Bash and Python practices to solving problems"
   ]
  },
  {
   "cell_type": "markdown",
   "metadata": {},
   "source": [
    "### readme.txt"
   ]
  },
  {
   "cell_type": "markdown",
   "metadata": {},
   "source": [
    "<strong>Important! Your assignment must contain a readme.txt file that indicates the exact command used to execute your script on the AWS server. It should indicate what inputs are used, and indicate what outputs are produced.\n",
    "Use relative paths so that if I copied your week4 folder to any other directory, it will still execute properly.</strong>"
   ]
  },
  {
   "cell_type": "markdown",
   "metadata": {},
   "source": [
    "### Story"
   ]
  },
  {
   "cell_type": "markdown",
   "metadata": {},
   "source": [
    "Dr. Banner leads a team of researchers that have each discovered a unique eukaryotic organism. They all seem to be related to each other and the team has tried to sequence their specimens. Homologous genes between each eukaryote were labeled with the same gene name. Each of organisms have some degree of gamma ray resistance and Dr. Banner constructed a list of motifs that may be associated with resistance. He wants to use only the most abundant motif and knockout the genes that contain these motifs using CRISPR.  He first needs to identify a list of suitable CRISPR gene candidates and submit a report. \n",
    "\n",
    "Inputs:\n",
    "\n",
    "/home/rbif/week4/clinical_data.txt <br>\n",
    "/home/rbif/week4/motif_list.txt <br>\n",
    "/home/rbif/week4/exomes/*.fasta <br>"
   ]
  },
  {
   "cell_type": "markdown",
   "metadata": {},
   "source": [
    "### File Structure"
   ]
  },
  {
   "cell_type": "markdown",
   "metadata": {},
   "source": [
    "notes: Task completed. Tim, I am not sure if you want me to make a bash script that does this with something like:\n",
    "```\n",
    "mkdir week4\n",
    "rsync . /home/ruggm/BioInformatics/001_RBIF-100-1DL/week4\n",
    "```\n",
    "or just make it here. I am going to assume that I have done this successfully, but let me know if you want me to make a little build_me script."
   ]
  },
  {
   "cell_type": "markdown",
   "metadata": {},
   "source": [
    "<strong>Task 1.3 completed</strong>"
   ]
  },
  {
   "cell_type": "markdown",
   "metadata": {},
   "source": [
    "### copyExomes.sh"
   ]
  },
  {
   "cell_type": "markdown",
   "metadata": {},
   "source": [
    "Read in the clinical data file and identify the samples that have a diameter between 20 and 30 mm long (inclusive) and have had their genomes sequenced. Copy the identified exomes using the sample code names to a new directory called exomes.<br><br><strong>Task 1.4 completed</strong>"
   ]
  },
  {
   "cell_type": "markdown",
   "metadata": {},
   "source": [
    "### createCrisprReady.sh"
   ]
  },
  {
   "cell_type": "markdown",
   "metadata": {},
   "source": [
    "Using the motif_list.txt file, identify the 3 highest occurring motifs in each exome inside the exomes folder. \n",
    "Output the headers and corresponding sequences to a new file called exomename_topmotifs.fasta.  **This means to only select for the genes that have at least one of the three top motifs and output to a new file\n",
    "Rename the headers of the exomename_topmotifs.fasta files to include the motif sequences and their count. (Example: >gene1  ===> >gene1 ATGC_1 AAAA_38)\n",
    "\n",
    "Note: The sequence does not need to contain all 3 motifs, it just needs to have at least 1 of them.\n",
    "“exomename_topmotifs.fasta” should contain the code name of the sample. For example, fox_topmotifs.fasta."
   ]
  },
  {
   "cell_type": "markdown",
   "metadata": {},
   "source": [
    "### identifyCrisprSite.sh"
   ]
  },
  {
   "cell_type": "markdown",
   "metadata": {},
   "source": [
    "For each gene inside the exomename_topmotifs.fasta files, identify a suitable CRISPR site.\n",
    "Find sequences that contain “NGG”, where “N” can be any base, that has at least 20 basepairs upstream.\n",
    "Example of upstream: ATGAACGTCTGTAAGAACTGCGGATCTGTCA (Everything left of CGG is upstream of the DNA) \n",
    "Output suitable candidates (headers and sequences) to a new file called exomenames_precrispr.fasta"
   ]
  },
  {
   "cell_type": "markdown",
   "metadata": {},
   "source": [
    "### editGenome.sh"
   ]
  },
  {
   "cell_type": "markdown",
   "metadata": {},
   "source": [
    "Using those files, write a script that will insert the letter A right before the NGG site. Output to a new file called exomename_postcrispr.fasta \n"
   ]
  },
  {
   "cell_type": "markdown",
   "metadata": {},
   "source": [
    "### exomeReport.py"
   ]
  },
  {
   "cell_type": "markdown",
   "metadata": {},
   "source": [
    "Create a single report that summarizes the findings. It should be a text file that lists the name of the discoverer of the organism, the diameter, the code name and the environment it came from. -Additionally, include how many genes the organism has in common with all of the other organisms, and which genes are unique to that organism.\n",
    "Note: You are only comparing that organism against the other organisms of the same cohort (20-30mm in diameter). ie You are summarizing the motif-containing exomes with just the CRISPR-ready genes, in otherwords using the exomenames_precrispr.fasta (or exomenames_postcrispr.fasta since the headers should be identical between those two files)\n",
    "There may not be any genes in common in that entire cohort.\n",
    "\n",
    "Example:\n",
    "Organism FOX, discovered by DISCOVERER, has a diameter of DIAMETER, and has the NUMBER of genes in common with the cohort, and the following genes unique to only itself: gene1, gene4, gene823"
   ]
  },
  {
   "cell_type": "markdown",
   "metadata": {},
   "source": [
    "## Readme.txt"
   ]
  },
  {
   "cell_type": "code",
   "execution_count": null,
   "metadata": {},
   "outputs": [],
   "source": []
  },
  {
   "cell_type": "markdown",
   "metadata": {},
   "source": [
    "## copyExomes.sh"
   ]
  },
  {
   "cell_type": "markdown",
   "metadata": {},
   "source": [
    "### Structure Decision"
   ]
  },
  {
   "cell_type": "markdown",
   "metadata": {},
   "source": [
    "This is a little confusing to me Tim, we already have a file \n",
    "exomes. Do you want me to over write this folder and delete the \n",
    "Older .fasta files? \n",
    "\n",
    "Seems weird to overwrite everything like that and destroy\n",
    "The old .fasta files. So I am going to move the exomes folder to a \n",
    "exomes_given and make a new directory as asked."
   ]
  },
  {
   "cell_type": "code",
   "execution_count": 9,
   "metadata": {},
   "outputs": [
    {
     "name": "stdout",
     "output_type": "stream",
     "text": [
      "clinical_data.txt\n",
      "exomes_given\n",
      "motif_list.txt\n",
      "Week_4.ipynb\n"
     ]
    }
   ],
   "source": [
    "%%bash \n",
    "\n",
    "ls"
   ]
  },
  {
   "cell_type": "markdown",
   "metadata": {},
   "source": [
    "### Programing Decision"
   ]
  },
  {
   "cell_type": "markdown",
   "metadata": {},
   "source": [
    "It seems like I have two choices to make all of this work. I can make a bunch of little scripts that play together in a modular fashion or I can maybe a larger python script that is called in different bash scripts. For such a little project, it seems strained to make a bunch of little scripts to fry all together. Therefore, I am going to build one larger python script that will do most of the heavy lifting and call all of the parts of that script from different parts of the bash shell. <br><br>\n",
    "It looks like you are giving me a lot of latitude here, so I am going to use pandas."
   ]
  },
  {
   "cell_type": "markdown",
   "metadata": {},
   "source": [
    "### Read in clinical_data with pandas"
   ]
  },
  {
   "cell_type": "code",
   "execution_count": 75,
   "metadata": {},
   "outputs": [
    {
     "data": {
      "text/html": [
       "<div>\n",
       "<style scoped>\n",
       "    .dataframe tbody tr th:only-of-type {\n",
       "        vertical-align: middle;\n",
       "    }\n",
       "\n",
       "    .dataframe tbody tr th {\n",
       "        vertical-align: top;\n",
       "    }\n",
       "\n",
       "    .dataframe thead th {\n",
       "        text-align: right;\n",
       "    }\n",
       "</style>\n",
       "<table border=\"1\" class=\"dataframe\">\n",
       "  <thead>\n",
       "    <tr style=\"text-align: right;\">\n",
       "      <th></th>\n",
       "      <th>Discoverer</th>\n",
       "      <th>Location</th>\n",
       "      <th>Diamater (mm)</th>\n",
       "      <th>Environment</th>\n",
       "      <th>Status</th>\n",
       "      <th>code_name</th>\n",
       "    </tr>\n",
       "  </thead>\n",
       "  <tbody>\n",
       "    <tr>\n",
       "      <th>0</th>\n",
       "      <td>Kerr</td>\n",
       "      <td>New Jersey</td>\n",
       "      <td>68</td>\n",
       "      <td>River</td>\n",
       "      <td>Sequenced</td>\n",
       "      <td>addax</td>\n",
       "    </tr>\n",
       "    <tr>\n",
       "      <th>1</th>\n",
       "      <td>Schacher</td>\n",
       "      <td>Sweden</td>\n",
       "      <td>44</td>\n",
       "      <td>Sewage</td>\n",
       "      <td>Sequenced</td>\n",
       "      <td>badger</td>\n",
       "    </tr>\n",
       "    <tr>\n",
       "      <th>2</th>\n",
       "      <td>No</td>\n",
       "      <td>Florida</td>\n",
       "      <td>6</td>\n",
       "      <td>River</td>\n",
       "      <td>Sequenced</td>\n",
       "      <td>basilisk</td>\n",
       "    </tr>\n",
       "    <tr>\n",
       "      <th>3</th>\n",
       "      <td>Farrior</td>\n",
       "      <td>New Jersey</td>\n",
       "      <td>75</td>\n",
       "      <td>River</td>\n",
       "      <td>Sequenced</td>\n",
       "      <td>bat</td>\n",
       "    </tr>\n",
       "    <tr>\n",
       "      <th>4</th>\n",
       "      <td>Look</td>\n",
       "      <td>Florida</td>\n",
       "      <td>66</td>\n",
       "      <td>Sewage</td>\n",
       "      <td>Sequenced</td>\n",
       "      <td>bear</td>\n",
       "    </tr>\n",
       "  </tbody>\n",
       "</table>\n",
       "</div>"
      ],
      "text/plain": [
       "  Discoverer    Location  Diamater (mm) Environment     Status code_name\n",
       "0       Kerr  New Jersey             68       River  Sequenced     addax\n",
       "1   Schacher      Sweden             44      Sewage  Sequenced    badger\n",
       "2         No     Florida              6       River  Sequenced  basilisk\n",
       "3    Farrior  New Jersey             75       River  Sequenced       bat\n",
       "4       Look     Florida             66      Sewage  Sequenced      bear"
      ]
     },
     "execution_count": 75,
     "metadata": {},
     "output_type": "execute_result"
    }
   ],
   "source": [
    "import os, shutil\n",
    "import pandas as pd\n",
    "importa numpy as np\n",
    "\n",
    "def copy_exomes():\n",
    "    df = pd.read_csv(\"clinical_data.txt\", sep='\\t', engine='python')\n",
    "    return df\n",
    "\n",
    "df = copy_exomes()\n",
    "df.head()"
   ]
  },
  {
   "cell_type": "code",
   "execution_count": 50,
   "metadata": {},
   "outputs": [
    {
     "data": {
      "text/plain": [
       "Discoverer       object\n",
       "Location         object\n",
       "Diamater (mm)     int64\n",
       "Environment      object\n",
       "Status           object\n",
       "code_name        object\n",
       "dtype: object"
      ]
     },
     "execution_count": 50,
     "metadata": {},
     "output_type": "execute_result"
    }
   ],
   "source": [
    "df.dtypes"
   ]
  },
  {
   "cell_type": "code",
   "execution_count": 51,
   "metadata": {},
   "outputs": [
    {
     "data": {
      "text/plain": [
       "Index(['Discoverer', 'Location', 'Diamater (mm)', 'Environment', 'Status',\n",
       "       'code_name'],\n",
       "      dtype='object')"
      ]
     },
     "execution_count": 51,
     "metadata": {},
     "output_type": "execute_result"
    }
   ],
   "source": [
    "df.columns"
   ]
  },
  {
   "cell_type": "markdown",
   "metadata": {},
   "source": [
    "This looks rather clean, moving to filer by the requested diameters."
   ]
  },
  {
   "cell_type": "markdown",
   "metadata": {},
   "source": [
    "### Filter dataframe by diameter size"
   ]
  },
  {
   "cell_type": "code",
   "execution_count": 72,
   "metadata": {},
   "outputs": [
    {
     "data": {
      "text/html": [
       "<div>\n",
       "<style scoped>\n",
       "    .dataframe tbody tr th:only-of-type {\n",
       "        vertical-align: middle;\n",
       "    }\n",
       "\n",
       "    .dataframe tbody tr th {\n",
       "        vertical-align: top;\n",
       "    }\n",
       "\n",
       "    .dataframe thead th {\n",
       "        text-align: right;\n",
       "    }\n",
       "</style>\n",
       "<table border=\"1\" class=\"dataframe\">\n",
       "  <thead>\n",
       "    <tr style=\"text-align: right;\">\n",
       "      <th></th>\n",
       "      <th>Discoverer</th>\n",
       "      <th>Location</th>\n",
       "      <th>Diamater (mm)</th>\n",
       "      <th>Environment</th>\n",
       "      <th>Status</th>\n",
       "      <th>code_name</th>\n",
       "    </tr>\n",
       "  </thead>\n",
       "  <tbody>\n",
       "    <tr>\n",
       "      <th>9</th>\n",
       "      <td>Kelleher</td>\n",
       "      <td>New Jersey</td>\n",
       "      <td>26</td>\n",
       "      <td>Swamp</td>\n",
       "      <td>Not sequenced</td>\n",
       "      <td>bunny</td>\n",
       "    </tr>\n",
       "    <tr>\n",
       "      <th>11</th>\n",
       "      <td>Rivet</td>\n",
       "      <td>Sweden</td>\n",
       "      <td>26</td>\n",
       "      <td>Swamp</td>\n",
       "      <td>Sequenced</td>\n",
       "      <td>chicken</td>\n",
       "    </tr>\n",
       "    <tr>\n",
       "      <th>17</th>\n",
       "      <td>Forness</td>\n",
       "      <td>New Jersey</td>\n",
       "      <td>30</td>\n",
       "      <td>Sewage</td>\n",
       "      <td>Sequenced</td>\n",
       "      <td>dromedary</td>\n",
       "    </tr>\n",
       "    <tr>\n",
       "      <th>21</th>\n",
       "      <td>Vanderburg</td>\n",
       "      <td>Sweden</td>\n",
       "      <td>26</td>\n",
       "      <td>River</td>\n",
       "      <td>Sequenced</td>\n",
       "      <td>fox</td>\n",
       "    </tr>\n",
       "    <tr>\n",
       "      <th>22</th>\n",
       "      <td>Gorham</td>\n",
       "      <td>New Jersey</td>\n",
       "      <td>24</td>\n",
       "      <td>Sewage</td>\n",
       "      <td>Sequenced</td>\n",
       "      <td>goat</td>\n",
       "    </tr>\n",
       "  </tbody>\n",
       "</table>\n",
       "</div>"
      ],
      "text/plain": [
       "    Discoverer    Location  Diamater (mm) Environment         Status  \\\n",
       "9     Kelleher  New Jersey             26       Swamp  Not sequenced   \n",
       "11       Rivet      Sweden             26       Swamp      Sequenced   \n",
       "17     Forness  New Jersey             30      Sewage      Sequenced   \n",
       "21  Vanderburg      Sweden             26       River      Sequenced   \n",
       "22      Gorham  New Jersey             24      Sewage      Sequenced   \n",
       "\n",
       "    code_name  \n",
       "9       bunny  \n",
       "11    chicken  \n",
       "17  dromedary  \n",
       "21        fox  \n",
       "22       goat  "
      ]
     },
     "execution_count": 72,
     "metadata": {},
     "output_type": "execute_result"
    }
   ],
   "source": [
    "mover = df[(20 <= df['Diamater (mm)']) & (df['Diamater (mm)'] <= 30)]\n",
    "mover.head()"
   ]
  },
  {
   "cell_type": "markdown",
   "metadata": {},
   "source": [
    "### Make exomes directory and copy over filtered files"
   ]
  },
  {
   "cell_type": "code",
   "execution_count": 81,
   "metadata": {},
   "outputs": [
    {
     "name": "stdout",
     "output_type": "stream",
     "text": [
      "copying bunny.fasta file\n",
      "copying chicken.fasta file\n",
      "copying dromedary.fasta file\n",
      "copying fox.fasta file\n",
      "copying goat.fasta file\n",
      "copying gopher.fasta file\n",
      "copying gorilla.fasta file\n",
      "copying lamb.fasta file\n",
      "copying lovebird.fasta file\n",
      "copying turtle.fasta file\n"
     ]
    }
   ],
   "source": [
    "if not os.path.exists(\"exomes\"):\n",
    "    os.mkdir(\"exomes\")\n",
    "else:\n",
    "    shutil.rmtree(\"exomes\")\n",
    "    os.mkdir(\"exomes\")\n",
    "    \n",
    "for i in mover[\"code_name\"].tolist():\n",
    "    print(\"copying {}.fasta file\".format(i))\n",
    "    shutil.copy2(\"exomes_given/{}.fasta\".format(i), \n",
    "                 \"exomes/{}.fasta\".format(i))"
   ]
  },
  {
   "cell_type": "markdown",
   "metadata": {},
   "source": [
    "### Create motif_manager.py"
   ]
  },
  {
   "cell_type": "code",
   "execution_count": 82,
   "metadata": {},
   "outputs": [
    {
     "name": "stdout",
     "output_type": "stream",
     "text": [
      "Overwriting motif_manager.py\n"
     ]
    }
   ],
   "source": [
    "%%writefile motif_manager.py\n",
    "#!/usr/bin/env python\n",
    "\n",
    "import os, shutil\n",
    "import pandas as pd\n",
    "import numpy as np\n",
    "from itertools import combinations, permutations\n",
    "\n",
    "def copy_exomes():\n",
    "    # Read in tab deliniated file\n",
    "    df = pd.read_csv(\"clinical_data.txt\", sep='\\t', engine='python')\n",
    "    \n",
    "    # Filter out by needed terms\n",
    "    mover = df[(20 <= df['Diamater (mm)']) & (df['Diamater (mm)'] <= 30)]\n",
    "    print(\"The following entries are of interest:\")\n",
    "    print(mover)\n",
    "    \n",
    "    # Make Directory Structure\n",
    "    if not os.path.exists(\"exomes\"):\n",
    "        os.mkdir(\"exomes\")\n",
    "    else:\n",
    "        shutil.rmtree(\"exomes\")\n",
    "        os.mkdir(\"exomes\")\n",
    "    \n",
    "    # Check to see if path exists, it it does, remove and create\n",
    "    if not os.path.exists(\"exomes\"):\n",
    "        os.mkdir(\"exomes\")\n",
    "    else:\n",
    "        shutil.rmtree(\"exomes\")\n",
    "        os.mkdir(\"exomes\")\n",
    "\n",
    "    # Copy files\n",
    "    for i in mover[\"code_name\"].tolist():\n",
    "        print(\"copying {}.fasta file\".format(i))\n",
    "        shutil.copy2(\"exomes_given/{}.fasta\".format(i), \n",
    "                     \"exomes/{}.fasta\".format(i))"
   ]
  },
  {
   "cell_type": "code",
   "execution_count": 36,
   "metadata": {},
   "outputs": [
    {
     "name": "stdout",
     "output_type": "stream",
     "text": [
      "Writing copyExomes.sh\n"
     ]
    }
   ],
   "source": [
    "%%writefile copyExomes.sh\n",
    "#!/bin/bash\n",
    "\n",
    "python -c 'import motif_manager; motif_manager.copy_exomes()'"
   ]
  },
  {
   "cell_type": "markdown",
   "metadata": {},
   "source": [
    "### Task 1.4 Complete"
   ]
  },
  {
   "cell_type": "markdown",
   "metadata": {},
   "source": [
    "## createCrisprReady.sh"
   ]
  },
  {
   "cell_type": "markdown",
   "metadata": {},
   "source": [
    "### Check size length of .fasta files"
   ]
  },
  {
   "cell_type": "code",
   "execution_count": 94,
   "metadata": {},
   "outputs": [
    {
     "name": "stdout",
     "output_type": "stream",
     "text": [
      "1000\n",
      "1000\n",
      "1000\n",
      "1000\n",
      "1000\n",
      "1000\n",
      "1000\n",
      "1000\n",
      "1000\n",
      "1000\n"
     ]
    }
   ],
   "source": [
    "for fasta in os.listdir(\"exomes\"):\n",
    "    with open('exomes/{}'.format(fasta)) as f:\n",
    "        lines = [line.rstrip() for line in f]\n",
    "        print(len(lines))"
   ]
  },
  {
   "cell_type": "markdown",
   "metadata": {},
   "source": [
    "It is very helpful that all of these lists have the same size. "
   ]
  },
  {
   "cell_type": "code",
   "execution_count": 109,
   "metadata": {},
   "outputs": [],
   "source": [
    "animal_house = []\n",
    "for fasta in os.listdir(\"exomes\"):\n",
    "    with open('exomes/{}'.format(fasta)) as f:\n",
    "        lines = [line.rstrip() for line in f]\n",
    "        entry = {lines[2*i][1:]:lines[2*i + 1] for i in range(0,500)}\n",
    "        entry[\"name\"] = fasta[:-6]\n",
    "        animal_house.append(entry)\n",
    "        \n",
    "animal_house = pd.DataFrame(animal_house)\n",
    "animal_house.set_index('name', inplace=True)"
   ]
  },
  {
   "cell_type": "code",
   "execution_count": 111,
   "metadata": {},
   "outputs": [
    {
     "data": {
      "text/html": [
       "<div>\n",
       "<style scoped>\n",
       "    .dataframe tbody tr th:only-of-type {\n",
       "        vertical-align: middle;\n",
       "    }\n",
       "\n",
       "    .dataframe tbody tr th {\n",
       "        vertical-align: top;\n",
       "    }\n",
       "\n",
       "    .dataframe thead th {\n",
       "        text-align: right;\n",
       "    }\n",
       "</style>\n",
       "<table border=\"1\" class=\"dataframe\">\n",
       "  <thead>\n",
       "    <tr style=\"text-align: right;\">\n",
       "      <th></th>\n",
       "      <th>gene1</th>\n",
       "      <th>gene10</th>\n",
       "      <th>gene100</th>\n",
       "      <th>gene101</th>\n",
       "      <th>gene102</th>\n",
       "      <th>gene103</th>\n",
       "      <th>gene104</th>\n",
       "      <th>gene105</th>\n",
       "      <th>gene106</th>\n",
       "      <th>gene107</th>\n",
       "      <th>...</th>\n",
       "      <th>gene90</th>\n",
       "      <th>gene91</th>\n",
       "      <th>gene92</th>\n",
       "      <th>gene93</th>\n",
       "      <th>gene94</th>\n",
       "      <th>gene95</th>\n",
       "      <th>gene96</th>\n",
       "      <th>gene97</th>\n",
       "      <th>gene98</th>\n",
       "      <th>gene99</th>\n",
       "    </tr>\n",
       "    <tr>\n",
       "      <th>name</th>\n",
       "      <th></th>\n",
       "      <th></th>\n",
       "      <th></th>\n",
       "      <th></th>\n",
       "      <th></th>\n",
       "      <th></th>\n",
       "      <th></th>\n",
       "      <th></th>\n",
       "      <th></th>\n",
       "      <th></th>\n",
       "      <th></th>\n",
       "      <th></th>\n",
       "      <th></th>\n",
       "      <th></th>\n",
       "      <th></th>\n",
       "      <th></th>\n",
       "      <th></th>\n",
       "      <th></th>\n",
       "      <th></th>\n",
       "      <th></th>\n",
       "      <th></th>\n",
       "    </tr>\n",
       "  </thead>\n",
       "  <tbody>\n",
       "    <tr>\n",
       "      <th>lamb</th>\n",
       "      <td>ATGTTCATTTCATCAACCCACCACACCCACTATACCTTCTCCTTCT...</td>\n",
       "      <td>ATGTTTTTATTCCACCTAACTAACCATATATTTCCCAACCTGTATC...</td>\n",
       "      <td>ATGACCCTTATTAATCTTGTAAACATCAATATATGAAATAGCATCA...</td>\n",
       "      <td>ATGATCATCAAAACTTTCCCACTTAAAGCTTATATACCATATTTAA...</td>\n",
       "      <td>ATGTACACCTATCCTTTTTCTCTCTCAACCTACTAATAAATTTTTC...</td>\n",
       "      <td>ATGCTTCTTTACATAATAATATCACTTTACATCTCTCTCCCTCTTA...</td>\n",
       "      <td>ATGCAACTACTAATCTAATCCCTAACTCATCCTAATACACTCTCAC...</td>\n",
       "      <td>ATGTGTCAATCATACTCTTAACCCAACCTTCCGCTCATACGATTTA...</td>\n",
       "      <td>ATGTTCCTTTTCCTCCATTATCCCCTACATACACTTCTACACTATC...</td>\n",
       "      <td>ATGTCCACCTCTTAATAATTTAATTTCTTCAGCCCACAACAATGTC...</td>\n",
       "      <td>...</td>\n",
       "      <td>ATGTCATTACATATTTCATCCCCACTTCTGCAACCTTTACTATCAA...</td>\n",
       "      <td>ATGATATCCTCCTACACAACGTACCCAAAAATCAAATTCTACTTAT...</td>\n",
       "      <td>ATGTACATACCTACACTTCAAAATCCAAATCTCATCTTTAAATTTT...</td>\n",
       "      <td>ATGTCTCAAAACTAATCAATCACATTCCCTCCATTTCGATATTCTC...</td>\n",
       "      <td>ATGTCATTTTTCTCTACACCCTATTATATCCCAATATCCAATCCTC...</td>\n",
       "      <td>ATGAACCACCTTTCTCCTTCTTTTAACACAATTTCTCCTTCTTTTA...</td>\n",
       "      <td>ATGCTTTCATTCAGTTCATACCATTCAGACCTTTTTACACTTCATT...</td>\n",
       "      <td>ATGCTTCCGTCTCCTCAAATTATTCTCCCGACAGAAAATTTTAAAA...</td>\n",
       "      <td>ATGACTAATATACCCTCTTACCCACTTCCACCATCGTTACAATTAT...</td>\n",
       "      <td>ATGATTTTTACACTTCCCTTACCCCCAATCACTGACTTAAACATAC...</td>\n",
       "    </tr>\n",
       "    <tr>\n",
       "      <th>chicken</th>\n",
       "      <td>ATGCTTATCAATGCTTGATAAAAACCACACTTCACTACCACAATCT...</td>\n",
       "      <td>ATGTTTAAATACGACCACACACACCTACACCCCACCTTCTCTTTAC...</td>\n",
       "      <td>ATGCACTCAAATCTCATTCCTATCAAACCATAACACTTCCCCCAAC...</td>\n",
       "      <td>ATGAATTAATTCCACTTCTCAATCCAATCATAAACTCATACAAAAA...</td>\n",
       "      <td>ATGATAAAGTCATCTACAGACCATTCTCCCTTCAAAATTTTTCGAT...</td>\n",
       "      <td>ATGTATCTATCCTTTCAAATACTACCAAACCCTACTCACTCCCTAC...</td>\n",
       "      <td>ATGTTACTTTTACCAAACTTTAATTTCTCTATAACCTGCTAACGCT...</td>\n",
       "      <td>ATGTTTAACAATGACTTACAAAAATAATTCTTCTTTAATCTACAAA...</td>\n",
       "      <td>ATGAAATTTCTTTCTCCTTCAAAATTTTGATTTCCTACTTTATCTC...</td>\n",
       "      <td>ATGACTATTCTCAAATTAAAATCAAATTTTTACACTTCCCCTTTCC...</td>\n",
       "      <td>...</td>\n",
       "      <td>ATGTTTTAACACTACTTAATCAACCCTTACTATCAAATTTTTTCAA...</td>\n",
       "      <td>ATGTCAACTTTTAAATTTAATTCCACTACCCACGATCCATTCAACT...</td>\n",
       "      <td>ATGTCCTTAAACCTTTTTACACTTCAACATCTTTTCCCTAAACTTC...</td>\n",
       "      <td>ATGATATCTATGATATTCAAACTTCTACATACAAATACAACCGAGT...</td>\n",
       "      <td>ATGTACACCTATTACGCTCTCAACTTCTAATTTTTTTTCTTCTTCT...</td>\n",
       "      <td>ATGTCATACCTTACCAACTACATACACTTCCCCAATTCAACTACGC...</td>\n",
       "      <td>ATGTTGAAATGCTTTCCAACACCTACCTCCCCTACCAACCATAAAC...</td>\n",
       "      <td>ATGCCCAAAACCAACTAATATTAATCTTAAATTACATTCTACCATC...</td>\n",
       "      <td>ATGATCATCCCTACGCTTATTCACTTCTTTATTACTCATAACTTAT...</td>\n",
       "      <td>ATGGTACACTTCTACACACTAAATTAAAATTACCCTTTAAACTCAC...</td>\n",
       "    </tr>\n",
       "    <tr>\n",
       "      <th>gopher</th>\n",
       "      <td>ATGCATTATATATCTAAACAATAAAATCACTAGAAATTTCCAATAA...</td>\n",
       "      <td>ATGGAATTCATCAGTCTTAACCCTCCAAATTTCTCTATAAAATAAT...</td>\n",
       "      <td>ATGTAAATCATTCACCACCAAACTAAATTCTATAGTCATGCATTTT...</td>\n",
       "      <td>ATGCACATTAACTCTTTATATACTCACTTTCCTTTTTACACTTCAA...</td>\n",
       "      <td>ATGCCCCTAAATAACTTACAACCCGTACACACCGTTTACTATTCCT...</td>\n",
       "      <td>ATGTCAACTACTCATTCATCTAGTTCTCACATCTCACATCTCAAAA...</td>\n",
       "      <td>ATGCCACCATTTTATCCCCATAATTCTCACCTTTCTCTATTCCAAA...</td>\n",
       "      <td>ATGAATCCTTCAAAATTTTACTTCTCTCACTTAATCCTCTATCTCC...</td>\n",
       "      <td>ATGTCTACCTTTACTCCATGTAACTATCACCTCCACCCCCAATATC...</td>\n",
       "      <td>ATGCTTATATCATATGCTCCTATCATTCACCGTTAGCCACTATATA...</td>\n",
       "      <td>...</td>\n",
       "      <td>ATGCCCGCATCATTCTTAAATTATTTTTGCCTCTCTTTTATATTTT...</td>\n",
       "      <td>ATGTACCCCTCTACCTCACTATTATCCATCCATTACACAAATCGTC...</td>\n",
       "      <td>ATGAGCCCCCTAACAATTATATTAACCTCACTTCATGTCATTCCCA...</td>\n",
       "      <td>ATGTTACATTTCTATATCTACCATAGATAACCTATCTCCACCTAAT...</td>\n",
       "      <td>ATGCCCAAACCACACATTACACTTCTACAGAAGCTCTCTCACTCCT...</td>\n",
       "      <td>ATGTCACCTCAATTACTCAATTGATAATCCTTATTTTTTAATTTTG...</td>\n",
       "      <td>ATGTCCATCACTATCCCCTCTCTTACACCTCACTATATACCTTCCA...</td>\n",
       "      <td>ATGCTTTCATTCCTATTTTTACACTTCCATTTTTACACTTCCTATC...</td>\n",
       "      <td>ATGCAAATATACTAAACTTCCTACATATACTCTCACTCTCTACATG...</td>\n",
       "      <td>ATGCATCCCACCTAAATTTTTCTCCTTTTTCCCACGCCCTACCTCA...</td>\n",
       "    </tr>\n",
       "    <tr>\n",
       "      <th>dromedary</th>\n",
       "      <td>ATGCAACTCTACACCCTTCTTCATTATATTTTATATTAATCGTTGT...</td>\n",
       "      <td>ATGATCACCTTTAGTCTATAAATTCTCCATTTACATTCTCTTTTCT...</td>\n",
       "      <td>ATGAACATCTCTAATCATTCCTATCATCCTTTTTACACTTCAATAC...</td>\n",
       "      <td>ATGTTTACACAAACCTCACAAAAGATTTCTCTCTATTAATTTATCC...</td>\n",
       "      <td>ATGCCATTTCACATACATAAACCCCTTTCTCAATTTTTACACTTCC...</td>\n",
       "      <td>ATGCTTAATAGCCTTTGACATATCTACACATTTTTTACACTTCCCT...</td>\n",
       "      <td>ATGCTACACTAGTCTTAAAATCTCATATTTTAAAAATTATCCACCA...</td>\n",
       "      <td>ATGTAATAATTCTCCCTAAACCAACTTCAAAATTTTACGCTCTCTT...</td>\n",
       "      <td>ATGTTACTTCTAAACTCTTACTCCATATTACCATCTCCAGCCATCT...</td>\n",
       "      <td>ATGCTTTATTCTCACCTTACATTTTTACACTTCCACTGTATCTTTC...</td>\n",
       "      <td>...</td>\n",
       "      <td>ATGTCACTCTCAAAAAAAAAACCCCTTACCACCTTCAACTACACAC...</td>\n",
       "      <td>ATGACATTCCTTACACTACCTAAATATCTCTTTTTACATATAATAG...</td>\n",
       "      <td>ATGAACTATAATAACCATCAATATCTTTTCATTACCGTCAGACACA...</td>\n",
       "      <td>ATGCAGTCAAATCTCCTTCCTTCCATACAAATACCTACTAAGATCC...</td>\n",
       "      <td>ATGTATTCTTATCGCCCCTCCACCATACTATAACCACCTTTTCGAC...</td>\n",
       "      <td>ATGTCTTTCTTACACCCCTAAGTCACTTTTTACACTTCAAAAACTT...</td>\n",
       "      <td>ATGAAACCAAAATTCACAATTCTATTCTTTTTCTCATAATCACATG...</td>\n",
       "      <td>ATGAGATAATCAAAATTCTTTCATATATCAACAAATACATACATAC...</td>\n",
       "      <td>ATGCTCACCTCACCATTATTATACAAACATATATACTCCTTCTCTC...</td>\n",
       "      <td>ATGACATTTTTCCCACATTATTTAAATACATCACCTAATTAATCTA...</td>\n",
       "    </tr>\n",
       "    <tr>\n",
       "      <th>turtle</th>\n",
       "      <td>ATGATACAACCCAAAGCAAGTCATACCTCCACTTAATTACAAAACG...</td>\n",
       "      <td>ATGTCTTGCAAAATTTAATACCAATTACCATAACATCACTTATATA...</td>\n",
       "      <td>ATGTAACTCTTTCCCCTACTCCCTTTACCATATCCAGATACCTATT...</td>\n",
       "      <td>ATGTTAGATTTTAAAATTCACACTATCTCTCCAATTTTCTTACCTG...</td>\n",
       "      <td>ATGACAAAAATTCTTCTTTTTACACTTCTTTTTTACACTTCTCTTT...</td>\n",
       "      <td>ATGTTCTTAAATTATGCTCCTTTCCTCTCTTTATTCTAATACCATA...</td>\n",
       "      <td>ATGTCCACTACTATCATACCATACCTCTTGACTTTCACACCCCCTA...</td>\n",
       "      <td>ATGACTCTCTACCATAAAACATCTACCCCCACTCTAACCCGCATTC...</td>\n",
       "      <td>ATGACTTTTTACACTTCCCACACTTCCCCAATCCCCTATTATTCTA...</td>\n",
       "      <td>ATGCCTCAGCTCTACAGAAACCAAAAATCCCACTCCTATCACTAAA...</td>\n",
       "      <td>...</td>\n",
       "      <td>ATGTATAATCAAAAGCAACTCATCCCTCTCTACTTCATCTACACCA...</td>\n",
       "      <td>ATGACAAATATGAAGGACACTCTACCACTATCAACTCCTTCTCTCT...</td>\n",
       "      <td>ATGTTTTATCATTACAAACTGATATCTTAAATTACATTTTTTTTGT...</td>\n",
       "      <td>ATGTTAATGTTCATTAATAACATCCAATATCTCTACCATTAGTATT...</td>\n",
       "      <td>ATGTTCTTATCACTCTCTCACCTTCCTAATCCCCGTACTTTTACAA...</td>\n",
       "      <td>ATGCAAACCCTTATATAACCCTATTCTTCCAACCTTTCCAACTTCA...</td>\n",
       "      <td>ATGTTCTCAATTCCAATCTTTATCCCTATTCAGTTCCAATGACAAA...</td>\n",
       "      <td>ATGAACTCCCCTCCATCCAAACAATATCTAGACAACATGAGTTCAC...</td>\n",
       "      <td>ATGCAACTATATTCAATACAACCTACTCTATTAACATTCATACCAT...</td>\n",
       "      <td>ATGTTTTTCAACAACAATCATATCAACTATTCATCACGCATACCTC...</td>\n",
       "    </tr>\n",
       "    <tr>\n",
       "      <th>bunny</th>\n",
       "      <td>ATGCTTATTAATATTTATTTATATACACTTCTACAAACCCTACCTA...</td>\n",
       "      <td>ATGAATATCCTTCTCTTTACCTACTTAATCTCAATTCCCCCAATCA...</td>\n",
       "      <td>ATGACTACTCTTCAAAATTTTCTAAATACCTAGACCTTCCCTAAAA...</td>\n",
       "      <td>ATGATTTACACTCTCATATGGTTATACACCCCCTCAAATAATACCA...</td>\n",
       "      <td>ATGCCAAATCTATTACCAATTACGCTTACTAATTCATATTTAACCC...</td>\n",
       "      <td>ATGCCTATTCAAATCTTAATGACCCCCTATAATCTAACTTCACTGA...</td>\n",
       "      <td>ATGGTTAACCATTTACCCCTTCCCACAATCTTACACCTGTTACTAA...</td>\n",
       "      <td>ATGAAAAAATATACATCACTTCAAAATTTTCAATATTAACAACCCG...</td>\n",
       "      <td>ATGTACCACCATCTACATTTTATAACCCTTACTTCATCTTAACAGC...</td>\n",
       "      <td>ATGATCACTCCTACCCTGCATGTCAAGCACATAATACTTTCATTTT...</td>\n",
       "      <td>...</td>\n",
       "      <td>ATGTAATTACACTTCTACAATATTTCTCACCTTTAACTACACTTCT...</td>\n",
       "      <td>ATGTATAATCCATTATTCTTTTACGTGCCACCTCCCTTTTTTCTCT...</td>\n",
       "      <td>ATGCCTATTCTTTATCAACCATTCCCTAAACAAATATAACAAACAA...</td>\n",
       "      <td>ATGTTTTTATTATAAATTTGACACACTAACTAAAAATTTTCTTCAA...</td>\n",
       "      <td>ATGACCCCTTTTTACACTTCATCCACTCAATAAAAATCCATCACAA...</td>\n",
       "      <td>ATGCAATTTCCAATCACACACCACCTTTTTTTACACTTCCTGATAC...</td>\n",
       "      <td>ATGTCTTTTAATAAACCTAATACACTTCTACAAATCAATGCTAATA...</td>\n",
       "      <td>ATGTAAACTACCAAACAAAAACTCTCACCTAATTCTACACTTCCTT...</td>\n",
       "      <td>ATGACCACAGTTTTTTCTTCTCTCCAATTTCACCCTTCAAATACTC...</td>\n",
       "      <td>ATGACCCTCACATTTCCATATTTTTTACAAAAACGCCTATTACTCA...</td>\n",
       "    </tr>\n",
       "    <tr>\n",
       "      <th>lovebird</th>\n",
       "      <td>ATGAACGCCCCACAACGACTCCCACATTACCACGTCATCACCAAAC...</td>\n",
       "      <td>ATGATTAACATCTCTACAATTTATTTTTCTCTACATCCTACAATCC...</td>\n",
       "      <td>ATGATTTATCTTAAACCTCCTTTCCCTCCCACAAATATTTTACCCC...</td>\n",
       "      <td>ATGTCCGATATACCTTACCTTTACTCCCCGACCCACAATATTCAAA...</td>\n",
       "      <td>ATGCCCCTCTTCCAATCTAAAAGATCACCAGAATTCCTTAAACTAC...</td>\n",
       "      <td>ATGGCTAACTCACCCTTACCTCTATCTTTCCCTCCTACCAAACTTT...</td>\n",
       "      <td>ATGCCAATGACCAAACCCCAACCATAACATTCATGATGTTTTTCTC...</td>\n",
       "      <td>ATGACTAACTTCATATTTAATAGATACCCTACACTACACCATCTTT...</td>\n",
       "      <td>ATGTACACACACTTATTACCCTATCTACATCAATTTCTCCCCACCT...</td>\n",
       "      <td>ATGCCCACACTCTTCTCAACTCATTTACTAAAAATCTCCTTCTAAT...</td>\n",
       "      <td>...</td>\n",
       "      <td>ATGATCCCTCACAATTTACTTCTCCTAAAAATACACTTCTACATTA...</td>\n",
       "      <td>ATGACTACTCTATCAAAGTCCACTAACACATAACCATTTATCAATT...</td>\n",
       "      <td>ATGCTCATATCTAACTACCATTACCCCCCTGAACACTTATCATAAC...</td>\n",
       "      <td>ATGCATACTCTAATCCTATCTATTTCAACCAAACATCCCGACTACC...</td>\n",
       "      <td>ATGCCCCAGTACTTACCATATACATAACCTTACTCCTGAAATACTT...</td>\n",
       "      <td>ATGCCTTTTTCATATATTTAAATCCTAAACTTCATAACCTTTTTCT...</td>\n",
       "      <td>ATGTCCACAAATATAATAAACCACTCCTACTTTTTACACTTCTACA...</td>\n",
       "      <td>ATGTTTAATTCTAATTTCCATTAGTAATCCAAAACGTCACGACCAT...</td>\n",
       "      <td>ATGCTTTTCCTTACTTTCACACCTTTACCCTCATATACCAACTCAA...</td>\n",
       "      <td>ATGTAACACACACTTACAAAAAACACTAACACCGATCCCCCTCACA...</td>\n",
       "    </tr>\n",
       "    <tr>\n",
       "      <th>goat</th>\n",
       "      <td>ATGATAATATTCCTCACAAATATCCTTCATTAATACACATTCATTT...</td>\n",
       "      <td>ATGTAAATAACACCAATATTCGAGACAGCTTAACTACACTTCTACA...</td>\n",
       "      <td>ATGCAATATACAATCCCACTTTACCACCCGACTACTACTCATCATC...</td>\n",
       "      <td>ATGACACTATACTTTTTAAGACTCAACTCTATACACTTCTACAAAC...</td>\n",
       "      <td>ATGTCTCCTTCCTTCTCTCACCATACTACTAAACAACAATTATTCT...</td>\n",
       "      <td>ATGTACTTTTCTACTACTACACACCCCCATTACCTCCACACAGCAA...</td>\n",
       "      <td>ATGAACTATACCACTATCATCTCTCCAATTAACTACTTCTTATACT...</td>\n",
       "      <td>ATGTAGCACTTACACTTCTACATTTAACAAACCTTCCAATCTCCAT...</td>\n",
       "      <td>ATGTCACAATCATTACCCTAACTACACTTCTACACTTTTCAAACCC...</td>\n",
       "      <td>ATGCACAAACCCAACATCCACTTACCCTTACACCTCTTCAAAATTT...</td>\n",
       "      <td>...</td>\n",
       "      <td>ATGTATTAACTAATACTAAACCCCTAAAAAAAATTTTACATCTATT...</td>\n",
       "      <td>ATGACAGTTGAACCCTCATATACATCAACTCTCAACCCACCTCAAT...</td>\n",
       "      <td>ATGCACAAAAAAAATCCAGTTAATTACCTTTTGAAAAATTCATATC...</td>\n",
       "      <td>ATGTTCATCCCCACCATAGATACTTACAATCCGTATTCTCCTACAC...</td>\n",
       "      <td>ATGTCTCACTACTCACTCTCCACCTTCAAAATTTTTAATCTACACA...</td>\n",
       "      <td>ATGCTTAATACACTTCAAAATCTCACTTCAAAATCTCATACAACTA...</td>\n",
       "      <td>ATGCATAACCCCTCCTACAACCATCTCCTATTTTTACACTTCTTTC...</td>\n",
       "      <td>ATGTAACTTTTTTACACTTCCTCTCCATAACCAAAATCACCCCATA...</td>\n",
       "      <td>ATGCACAACATAATACGTCACTTCACTCCAACATCATCATTCAATT...</td>\n",
       "      <td>ATGCTTCACAACTAACCAAATATAAAAACTATTCCAATGACTAAAA...</td>\n",
       "    </tr>\n",
       "    <tr>\n",
       "      <th>fox</th>\n",
       "      <td>ATGTTCTAACAATAAATTTTTTACACTTCTATCAATTACTTATCAT...</td>\n",
       "      <td>ATGCATTTATCACACTATTCTAAACTTTAATATTCTATCCTACCAA...</td>\n",
       "      <td>ATGCAATACACCACTTCCATAATATACTAGTACTACACTAAAATCA...</td>\n",
       "      <td>ATGTTCCAATTCACTCCCTACACTTCTCTCAAAACCTCATTATACC...</td>\n",
       "      <td>ATGTACTCCATAACATCACACTCCTTTATCTCTTAATTATAAATTT...</td>\n",
       "      <td>ATGTCTCATCCATATCTACCACACTCCCTCGTATTTCACTCCCCTA...</td>\n",
       "      <td>ATGTATTCAATTACACTTCTACATCCAAATACACTTTTTTTTGTAA...</td>\n",
       "      <td>ATGAACATTAAATTAAAACATTTATATAAAACTTCATATATTCTCC...</td>\n",
       "      <td>ATGAACCTTTCGACTAATCTACACATTTTTAATATCCTCACTCCCT...</td>\n",
       "      <td>ATGACTATTAATCCTCAGCACAACCCATTCTTTATTTTTTTACACT...</td>\n",
       "      <td>...</td>\n",
       "      <td>ATGTTTATTACTCACCACCAACTTTCAAAAATCCCATCTTACACTA...</td>\n",
       "      <td>ATGCACAATACCCATTCATATACCACCTTACTTCTATCAACCATTC...</td>\n",
       "      <td>ATGCTCAATTACACATACCATCCCATCTTCATCTATACAACACTAG...</td>\n",
       "      <td>ATGAAGTTCGTCAATATAACTTCCTTATTCAACCTATTTCTAGCCA...</td>\n",
       "      <td>ATGTAACCAACATTTTTTACACTTCTATTCTATTCTTTTTACACTT...</td>\n",
       "      <td>ATGATCTCTCAAAATTCCTATTATTCCTAATTTTTACACTTCTTCA...</td>\n",
       "      <td>ATGTGTCCCTCCTCAAATATTTCTAGAATCACGATCTACATCTCAA...</td>\n",
       "      <td>ATGTTATAAAAACTTCTCCCCAACCCCACTTGATTTTTCTTCTCTC...</td>\n",
       "      <td>ATGTACTTGTCTTCAAAATTTTACACCATTTCATCTATTTACCTCT...</td>\n",
       "      <td>ATGCTGATTCTCTTTTTCTCCTTCTCTCCCACCCAGCTTAACATCT...</td>\n",
       "    </tr>\n",
       "    <tr>\n",
       "      <th>gorilla</th>\n",
       "      <td>ATGAGCATCTACTGACATTTTTACACTTCTAATTGCCTCATATCCC...</td>\n",
       "      <td>ATGACCCTACCCCATCAAAAATCACACTTCGCACTTTTTACACTTC...</td>\n",
       "      <td>ATGTAAACCCAATCCCAATCCATCTTACCCCCTAACATAACATTTC...</td>\n",
       "      <td>ATGATATAACCGGTTATCCCACTCTTACCACATACTATACACCACA...</td>\n",
       "      <td>ATGTCAAACCAATCCCCACTCTTTCTCCGAATTCATTTCTTTTTTA...</td>\n",
       "      <td>ATGTTTCCACTACACTTCTACACATATATATCTTCCCAAAATAAAT...</td>\n",
       "      <td>ATGTATAAAGACCTTCACCCACCATTACTCTAATCACAAACCTCTT...</td>\n",
       "      <td>ATGATCACCCATACTTACTCCATTCATCTCAAACTACACAATCCAC...</td>\n",
       "      <td>ATGATCTACGTATAAAACAACCTCCTTCATCTATCCTCCTCCCCTA...</td>\n",
       "      <td>ATGCCATTTACCCATTTTGCCTATCAGACCTACATTGAACATCCAC...</td>\n",
       "      <td>...</td>\n",
       "      <td>ATGTAACATAATCATATACACTTCTACACAACCTTAACTTACATTC...</td>\n",
       "      <td>ATGATAACACATTATCCCCTTACACTTCTACAATTTTACACCTATA...</td>\n",
       "      <td>ATGTAACTATTCCTCTCAACTAATACTTAAAACTCACAATCCATTA...</td>\n",
       "      <td>ATGTTTTCGAAAACATTCTAAAAAAAAAAAATCCATTCAATAAACT...</td>\n",
       "      <td>ATGCTCCTCACCATCAAAATCTTCAAAATTTTCCTACCTTCAAAAT...</td>\n",
       "      <td>ATGAACCTCTTCAAAATTTTAAACCCAACTATCACAATAACTTCAA...</td>\n",
       "      <td>ATGCATCCTTTTCATAAATTCCTCCTCCCCTACACTTCTACACAAA...</td>\n",
       "      <td>ATGCCCACCCTTTAGCCACTCCCTTAACCGCACTCCTCTTCTTCAT...</td>\n",
       "      <td>ATGATACTACCCAGCATCAGCCCTCATCCTTACTCTCTTCACTATT...</td>\n",
       "      <td>ATGTAACAATAAAAGCCCTCCTACATTACTCCTTAACTCAGCACCC...</td>\n",
       "    </tr>\n",
       "  </tbody>\n",
       "</table>\n",
       "<p>10 rows × 500 columns</p>\n",
       "</div>"
      ],
      "text/plain": [
       "                                                       gene1  \\\n",
       "name                                                           \n",
       "lamb       ATGTTCATTTCATCAACCCACCACACCCACTATACCTTCTCCTTCT...   \n",
       "chicken    ATGCTTATCAATGCTTGATAAAAACCACACTTCACTACCACAATCT...   \n",
       "gopher     ATGCATTATATATCTAAACAATAAAATCACTAGAAATTTCCAATAA...   \n",
       "dromedary  ATGCAACTCTACACCCTTCTTCATTATATTTTATATTAATCGTTGT...   \n",
       "turtle     ATGATACAACCCAAAGCAAGTCATACCTCCACTTAATTACAAAACG...   \n",
       "bunny      ATGCTTATTAATATTTATTTATATACACTTCTACAAACCCTACCTA...   \n",
       "lovebird   ATGAACGCCCCACAACGACTCCCACATTACCACGTCATCACCAAAC...   \n",
       "goat       ATGATAATATTCCTCACAAATATCCTTCATTAATACACATTCATTT...   \n",
       "fox        ATGTTCTAACAATAAATTTTTTACACTTCTATCAATTACTTATCAT...   \n",
       "gorilla    ATGAGCATCTACTGACATTTTTACACTTCTAATTGCCTCATATCCC...   \n",
       "\n",
       "                                                      gene10  \\\n",
       "name                                                           \n",
       "lamb       ATGTTTTTATTCCACCTAACTAACCATATATTTCCCAACCTGTATC...   \n",
       "chicken    ATGTTTAAATACGACCACACACACCTACACCCCACCTTCTCTTTAC...   \n",
       "gopher     ATGGAATTCATCAGTCTTAACCCTCCAAATTTCTCTATAAAATAAT...   \n",
       "dromedary  ATGATCACCTTTAGTCTATAAATTCTCCATTTACATTCTCTTTTCT...   \n",
       "turtle     ATGTCTTGCAAAATTTAATACCAATTACCATAACATCACTTATATA...   \n",
       "bunny      ATGAATATCCTTCTCTTTACCTACTTAATCTCAATTCCCCCAATCA...   \n",
       "lovebird   ATGATTAACATCTCTACAATTTATTTTTCTCTACATCCTACAATCC...   \n",
       "goat       ATGTAAATAACACCAATATTCGAGACAGCTTAACTACACTTCTACA...   \n",
       "fox        ATGCATTTATCACACTATTCTAAACTTTAATATTCTATCCTACCAA...   \n",
       "gorilla    ATGACCCTACCCCATCAAAAATCACACTTCGCACTTTTTACACTTC...   \n",
       "\n",
       "                                                     gene100  \\\n",
       "name                                                           \n",
       "lamb       ATGACCCTTATTAATCTTGTAAACATCAATATATGAAATAGCATCA...   \n",
       "chicken    ATGCACTCAAATCTCATTCCTATCAAACCATAACACTTCCCCCAAC...   \n",
       "gopher     ATGTAAATCATTCACCACCAAACTAAATTCTATAGTCATGCATTTT...   \n",
       "dromedary  ATGAACATCTCTAATCATTCCTATCATCCTTTTTACACTTCAATAC...   \n",
       "turtle     ATGTAACTCTTTCCCCTACTCCCTTTACCATATCCAGATACCTATT...   \n",
       "bunny      ATGACTACTCTTCAAAATTTTCTAAATACCTAGACCTTCCCTAAAA...   \n",
       "lovebird   ATGATTTATCTTAAACCTCCTTTCCCTCCCACAAATATTTTACCCC...   \n",
       "goat       ATGCAATATACAATCCCACTTTACCACCCGACTACTACTCATCATC...   \n",
       "fox        ATGCAATACACCACTTCCATAATATACTAGTACTACACTAAAATCA...   \n",
       "gorilla    ATGTAAACCCAATCCCAATCCATCTTACCCCCTAACATAACATTTC...   \n",
       "\n",
       "                                                     gene101  \\\n",
       "name                                                           \n",
       "lamb       ATGATCATCAAAACTTTCCCACTTAAAGCTTATATACCATATTTAA...   \n",
       "chicken    ATGAATTAATTCCACTTCTCAATCCAATCATAAACTCATACAAAAA...   \n",
       "gopher     ATGCACATTAACTCTTTATATACTCACTTTCCTTTTTACACTTCAA...   \n",
       "dromedary  ATGTTTACACAAACCTCACAAAAGATTTCTCTCTATTAATTTATCC...   \n",
       "turtle     ATGTTAGATTTTAAAATTCACACTATCTCTCCAATTTTCTTACCTG...   \n",
       "bunny      ATGATTTACACTCTCATATGGTTATACACCCCCTCAAATAATACCA...   \n",
       "lovebird   ATGTCCGATATACCTTACCTTTACTCCCCGACCCACAATATTCAAA...   \n",
       "goat       ATGACACTATACTTTTTAAGACTCAACTCTATACACTTCTACAAAC...   \n",
       "fox        ATGTTCCAATTCACTCCCTACACTTCTCTCAAAACCTCATTATACC...   \n",
       "gorilla    ATGATATAACCGGTTATCCCACTCTTACCACATACTATACACCACA...   \n",
       "\n",
       "                                                     gene102  \\\n",
       "name                                                           \n",
       "lamb       ATGTACACCTATCCTTTTTCTCTCTCAACCTACTAATAAATTTTTC...   \n",
       "chicken    ATGATAAAGTCATCTACAGACCATTCTCCCTTCAAAATTTTTCGAT...   \n",
       "gopher     ATGCCCCTAAATAACTTACAACCCGTACACACCGTTTACTATTCCT...   \n",
       "dromedary  ATGCCATTTCACATACATAAACCCCTTTCTCAATTTTTACACTTCC...   \n",
       "turtle     ATGACAAAAATTCTTCTTTTTACACTTCTTTTTTACACTTCTCTTT...   \n",
       "bunny      ATGCCAAATCTATTACCAATTACGCTTACTAATTCATATTTAACCC...   \n",
       "lovebird   ATGCCCCTCTTCCAATCTAAAAGATCACCAGAATTCCTTAAACTAC...   \n",
       "goat       ATGTCTCCTTCCTTCTCTCACCATACTACTAAACAACAATTATTCT...   \n",
       "fox        ATGTACTCCATAACATCACACTCCTTTATCTCTTAATTATAAATTT...   \n",
       "gorilla    ATGTCAAACCAATCCCCACTCTTTCTCCGAATTCATTTCTTTTTTA...   \n",
       "\n",
       "                                                     gene103  \\\n",
       "name                                                           \n",
       "lamb       ATGCTTCTTTACATAATAATATCACTTTACATCTCTCTCCCTCTTA...   \n",
       "chicken    ATGTATCTATCCTTTCAAATACTACCAAACCCTACTCACTCCCTAC...   \n",
       "gopher     ATGTCAACTACTCATTCATCTAGTTCTCACATCTCACATCTCAAAA...   \n",
       "dromedary  ATGCTTAATAGCCTTTGACATATCTACACATTTTTTACACTTCCCT...   \n",
       "turtle     ATGTTCTTAAATTATGCTCCTTTCCTCTCTTTATTCTAATACCATA...   \n",
       "bunny      ATGCCTATTCAAATCTTAATGACCCCCTATAATCTAACTTCACTGA...   \n",
       "lovebird   ATGGCTAACTCACCCTTACCTCTATCTTTCCCTCCTACCAAACTTT...   \n",
       "goat       ATGTACTTTTCTACTACTACACACCCCCATTACCTCCACACAGCAA...   \n",
       "fox        ATGTCTCATCCATATCTACCACACTCCCTCGTATTTCACTCCCCTA...   \n",
       "gorilla    ATGTTTCCACTACACTTCTACACATATATATCTTCCCAAAATAAAT...   \n",
       "\n",
       "                                                     gene104  \\\n",
       "name                                                           \n",
       "lamb       ATGCAACTACTAATCTAATCCCTAACTCATCCTAATACACTCTCAC...   \n",
       "chicken    ATGTTACTTTTACCAAACTTTAATTTCTCTATAACCTGCTAACGCT...   \n",
       "gopher     ATGCCACCATTTTATCCCCATAATTCTCACCTTTCTCTATTCCAAA...   \n",
       "dromedary  ATGCTACACTAGTCTTAAAATCTCATATTTTAAAAATTATCCACCA...   \n",
       "turtle     ATGTCCACTACTATCATACCATACCTCTTGACTTTCACACCCCCTA...   \n",
       "bunny      ATGGTTAACCATTTACCCCTTCCCACAATCTTACACCTGTTACTAA...   \n",
       "lovebird   ATGCCAATGACCAAACCCCAACCATAACATTCATGATGTTTTTCTC...   \n",
       "goat       ATGAACTATACCACTATCATCTCTCCAATTAACTACTTCTTATACT...   \n",
       "fox        ATGTATTCAATTACACTTCTACATCCAAATACACTTTTTTTTGTAA...   \n",
       "gorilla    ATGTATAAAGACCTTCACCCACCATTACTCTAATCACAAACCTCTT...   \n",
       "\n",
       "                                                     gene105  \\\n",
       "name                                                           \n",
       "lamb       ATGTGTCAATCATACTCTTAACCCAACCTTCCGCTCATACGATTTA...   \n",
       "chicken    ATGTTTAACAATGACTTACAAAAATAATTCTTCTTTAATCTACAAA...   \n",
       "gopher     ATGAATCCTTCAAAATTTTACTTCTCTCACTTAATCCTCTATCTCC...   \n",
       "dromedary  ATGTAATAATTCTCCCTAAACCAACTTCAAAATTTTACGCTCTCTT...   \n",
       "turtle     ATGACTCTCTACCATAAAACATCTACCCCCACTCTAACCCGCATTC...   \n",
       "bunny      ATGAAAAAATATACATCACTTCAAAATTTTCAATATTAACAACCCG...   \n",
       "lovebird   ATGACTAACTTCATATTTAATAGATACCCTACACTACACCATCTTT...   \n",
       "goat       ATGTAGCACTTACACTTCTACATTTAACAAACCTTCCAATCTCCAT...   \n",
       "fox        ATGAACATTAAATTAAAACATTTATATAAAACTTCATATATTCTCC...   \n",
       "gorilla    ATGATCACCCATACTTACTCCATTCATCTCAAACTACACAATCCAC...   \n",
       "\n",
       "                                                     gene106  \\\n",
       "name                                                           \n",
       "lamb       ATGTTCCTTTTCCTCCATTATCCCCTACATACACTTCTACACTATC...   \n",
       "chicken    ATGAAATTTCTTTCTCCTTCAAAATTTTGATTTCCTACTTTATCTC...   \n",
       "gopher     ATGTCTACCTTTACTCCATGTAACTATCACCTCCACCCCCAATATC...   \n",
       "dromedary  ATGTTACTTCTAAACTCTTACTCCATATTACCATCTCCAGCCATCT...   \n",
       "turtle     ATGACTTTTTACACTTCCCACACTTCCCCAATCCCCTATTATTCTA...   \n",
       "bunny      ATGTACCACCATCTACATTTTATAACCCTTACTTCATCTTAACAGC...   \n",
       "lovebird   ATGTACACACACTTATTACCCTATCTACATCAATTTCTCCCCACCT...   \n",
       "goat       ATGTCACAATCATTACCCTAACTACACTTCTACACTTTTCAAACCC...   \n",
       "fox        ATGAACCTTTCGACTAATCTACACATTTTTAATATCCTCACTCCCT...   \n",
       "gorilla    ATGATCTACGTATAAAACAACCTCCTTCATCTATCCTCCTCCCCTA...   \n",
       "\n",
       "                                                     gene107  ...  \\\n",
       "name                                                          ...   \n",
       "lamb       ATGTCCACCTCTTAATAATTTAATTTCTTCAGCCCACAACAATGTC...  ...   \n",
       "chicken    ATGACTATTCTCAAATTAAAATCAAATTTTTACACTTCCCCTTTCC...  ...   \n",
       "gopher     ATGCTTATATCATATGCTCCTATCATTCACCGTTAGCCACTATATA...  ...   \n",
       "dromedary  ATGCTTTATTCTCACCTTACATTTTTACACTTCCACTGTATCTTTC...  ...   \n",
       "turtle     ATGCCTCAGCTCTACAGAAACCAAAAATCCCACTCCTATCACTAAA...  ...   \n",
       "bunny      ATGATCACTCCTACCCTGCATGTCAAGCACATAATACTTTCATTTT...  ...   \n",
       "lovebird   ATGCCCACACTCTTCTCAACTCATTTACTAAAAATCTCCTTCTAAT...  ...   \n",
       "goat       ATGCACAAACCCAACATCCACTTACCCTTACACCTCTTCAAAATTT...  ...   \n",
       "fox        ATGACTATTAATCCTCAGCACAACCCATTCTTTATTTTTTTACACT...  ...   \n",
       "gorilla    ATGCCATTTACCCATTTTGCCTATCAGACCTACATTGAACATCCAC...  ...   \n",
       "\n",
       "                                                      gene90  \\\n",
       "name                                                           \n",
       "lamb       ATGTCATTACATATTTCATCCCCACTTCTGCAACCTTTACTATCAA...   \n",
       "chicken    ATGTTTTAACACTACTTAATCAACCCTTACTATCAAATTTTTTCAA...   \n",
       "gopher     ATGCCCGCATCATTCTTAAATTATTTTTGCCTCTCTTTTATATTTT...   \n",
       "dromedary  ATGTCACTCTCAAAAAAAAAACCCCTTACCACCTTCAACTACACAC...   \n",
       "turtle     ATGTATAATCAAAAGCAACTCATCCCTCTCTACTTCATCTACACCA...   \n",
       "bunny      ATGTAATTACACTTCTACAATATTTCTCACCTTTAACTACACTTCT...   \n",
       "lovebird   ATGATCCCTCACAATTTACTTCTCCTAAAAATACACTTCTACATTA...   \n",
       "goat       ATGTATTAACTAATACTAAACCCCTAAAAAAAATTTTACATCTATT...   \n",
       "fox        ATGTTTATTACTCACCACCAACTTTCAAAAATCCCATCTTACACTA...   \n",
       "gorilla    ATGTAACATAATCATATACACTTCTACACAACCTTAACTTACATTC...   \n",
       "\n",
       "                                                      gene91  \\\n",
       "name                                                           \n",
       "lamb       ATGATATCCTCCTACACAACGTACCCAAAAATCAAATTCTACTTAT...   \n",
       "chicken    ATGTCAACTTTTAAATTTAATTCCACTACCCACGATCCATTCAACT...   \n",
       "gopher     ATGTACCCCTCTACCTCACTATTATCCATCCATTACACAAATCGTC...   \n",
       "dromedary  ATGACATTCCTTACACTACCTAAATATCTCTTTTTACATATAATAG...   \n",
       "turtle     ATGACAAATATGAAGGACACTCTACCACTATCAACTCCTTCTCTCT...   \n",
       "bunny      ATGTATAATCCATTATTCTTTTACGTGCCACCTCCCTTTTTTCTCT...   \n",
       "lovebird   ATGACTACTCTATCAAAGTCCACTAACACATAACCATTTATCAATT...   \n",
       "goat       ATGACAGTTGAACCCTCATATACATCAACTCTCAACCCACCTCAAT...   \n",
       "fox        ATGCACAATACCCATTCATATACCACCTTACTTCTATCAACCATTC...   \n",
       "gorilla    ATGATAACACATTATCCCCTTACACTTCTACAATTTTACACCTATA...   \n",
       "\n",
       "                                                      gene92  \\\n",
       "name                                                           \n",
       "lamb       ATGTACATACCTACACTTCAAAATCCAAATCTCATCTTTAAATTTT...   \n",
       "chicken    ATGTCCTTAAACCTTTTTACACTTCAACATCTTTTCCCTAAACTTC...   \n",
       "gopher     ATGAGCCCCCTAACAATTATATTAACCTCACTTCATGTCATTCCCA...   \n",
       "dromedary  ATGAACTATAATAACCATCAATATCTTTTCATTACCGTCAGACACA...   \n",
       "turtle     ATGTTTTATCATTACAAACTGATATCTTAAATTACATTTTTTTTGT...   \n",
       "bunny      ATGCCTATTCTTTATCAACCATTCCCTAAACAAATATAACAAACAA...   \n",
       "lovebird   ATGCTCATATCTAACTACCATTACCCCCCTGAACACTTATCATAAC...   \n",
       "goat       ATGCACAAAAAAAATCCAGTTAATTACCTTTTGAAAAATTCATATC...   \n",
       "fox        ATGCTCAATTACACATACCATCCCATCTTCATCTATACAACACTAG...   \n",
       "gorilla    ATGTAACTATTCCTCTCAACTAATACTTAAAACTCACAATCCATTA...   \n",
       "\n",
       "                                                      gene93  \\\n",
       "name                                                           \n",
       "lamb       ATGTCTCAAAACTAATCAATCACATTCCCTCCATTTCGATATTCTC...   \n",
       "chicken    ATGATATCTATGATATTCAAACTTCTACATACAAATACAACCGAGT...   \n",
       "gopher     ATGTTACATTTCTATATCTACCATAGATAACCTATCTCCACCTAAT...   \n",
       "dromedary  ATGCAGTCAAATCTCCTTCCTTCCATACAAATACCTACTAAGATCC...   \n",
       "turtle     ATGTTAATGTTCATTAATAACATCCAATATCTCTACCATTAGTATT...   \n",
       "bunny      ATGTTTTTATTATAAATTTGACACACTAACTAAAAATTTTCTTCAA...   \n",
       "lovebird   ATGCATACTCTAATCCTATCTATTTCAACCAAACATCCCGACTACC...   \n",
       "goat       ATGTTCATCCCCACCATAGATACTTACAATCCGTATTCTCCTACAC...   \n",
       "fox        ATGAAGTTCGTCAATATAACTTCCTTATTCAACCTATTTCTAGCCA...   \n",
       "gorilla    ATGTTTTCGAAAACATTCTAAAAAAAAAAAATCCATTCAATAAACT...   \n",
       "\n",
       "                                                      gene94  \\\n",
       "name                                                           \n",
       "lamb       ATGTCATTTTTCTCTACACCCTATTATATCCCAATATCCAATCCTC...   \n",
       "chicken    ATGTACACCTATTACGCTCTCAACTTCTAATTTTTTTTCTTCTTCT...   \n",
       "gopher     ATGCCCAAACCACACATTACACTTCTACAGAAGCTCTCTCACTCCT...   \n",
       "dromedary  ATGTATTCTTATCGCCCCTCCACCATACTATAACCACCTTTTCGAC...   \n",
       "turtle     ATGTTCTTATCACTCTCTCACCTTCCTAATCCCCGTACTTTTACAA...   \n",
       "bunny      ATGACCCCTTTTTACACTTCATCCACTCAATAAAAATCCATCACAA...   \n",
       "lovebird   ATGCCCCAGTACTTACCATATACATAACCTTACTCCTGAAATACTT...   \n",
       "goat       ATGTCTCACTACTCACTCTCCACCTTCAAAATTTTTAATCTACACA...   \n",
       "fox        ATGTAACCAACATTTTTTACACTTCTATTCTATTCTTTTTACACTT...   \n",
       "gorilla    ATGCTCCTCACCATCAAAATCTTCAAAATTTTCCTACCTTCAAAAT...   \n",
       "\n",
       "                                                      gene95  \\\n",
       "name                                                           \n",
       "lamb       ATGAACCACCTTTCTCCTTCTTTTAACACAATTTCTCCTTCTTTTA...   \n",
       "chicken    ATGTCATACCTTACCAACTACATACACTTCCCCAATTCAACTACGC...   \n",
       "gopher     ATGTCACCTCAATTACTCAATTGATAATCCTTATTTTTTAATTTTG...   \n",
       "dromedary  ATGTCTTTCTTACACCCCTAAGTCACTTTTTACACTTCAAAAACTT...   \n",
       "turtle     ATGCAAACCCTTATATAACCCTATTCTTCCAACCTTTCCAACTTCA...   \n",
       "bunny      ATGCAATTTCCAATCACACACCACCTTTTTTTACACTTCCTGATAC...   \n",
       "lovebird   ATGCCTTTTTCATATATTTAAATCCTAAACTTCATAACCTTTTTCT...   \n",
       "goat       ATGCTTAATACACTTCAAAATCTCACTTCAAAATCTCATACAACTA...   \n",
       "fox        ATGATCTCTCAAAATTCCTATTATTCCTAATTTTTACACTTCTTCA...   \n",
       "gorilla    ATGAACCTCTTCAAAATTTTAAACCCAACTATCACAATAACTTCAA...   \n",
       "\n",
       "                                                      gene96  \\\n",
       "name                                                           \n",
       "lamb       ATGCTTTCATTCAGTTCATACCATTCAGACCTTTTTACACTTCATT...   \n",
       "chicken    ATGTTGAAATGCTTTCCAACACCTACCTCCCCTACCAACCATAAAC...   \n",
       "gopher     ATGTCCATCACTATCCCCTCTCTTACACCTCACTATATACCTTCCA...   \n",
       "dromedary  ATGAAACCAAAATTCACAATTCTATTCTTTTTCTCATAATCACATG...   \n",
       "turtle     ATGTTCTCAATTCCAATCTTTATCCCTATTCAGTTCCAATGACAAA...   \n",
       "bunny      ATGTCTTTTAATAAACCTAATACACTTCTACAAATCAATGCTAATA...   \n",
       "lovebird   ATGTCCACAAATATAATAAACCACTCCTACTTTTTACACTTCTACA...   \n",
       "goat       ATGCATAACCCCTCCTACAACCATCTCCTATTTTTACACTTCTTTC...   \n",
       "fox        ATGTGTCCCTCCTCAAATATTTCTAGAATCACGATCTACATCTCAA...   \n",
       "gorilla    ATGCATCCTTTTCATAAATTCCTCCTCCCCTACACTTCTACACAAA...   \n",
       "\n",
       "                                                      gene97  \\\n",
       "name                                                           \n",
       "lamb       ATGCTTCCGTCTCCTCAAATTATTCTCCCGACAGAAAATTTTAAAA...   \n",
       "chicken    ATGCCCAAAACCAACTAATATTAATCTTAAATTACATTCTACCATC...   \n",
       "gopher     ATGCTTTCATTCCTATTTTTACACTTCCATTTTTACACTTCCTATC...   \n",
       "dromedary  ATGAGATAATCAAAATTCTTTCATATATCAACAAATACATACATAC...   \n",
       "turtle     ATGAACTCCCCTCCATCCAAACAATATCTAGACAACATGAGTTCAC...   \n",
       "bunny      ATGTAAACTACCAAACAAAAACTCTCACCTAATTCTACACTTCCTT...   \n",
       "lovebird   ATGTTTAATTCTAATTTCCATTAGTAATCCAAAACGTCACGACCAT...   \n",
       "goat       ATGTAACTTTTTTACACTTCCTCTCCATAACCAAAATCACCCCATA...   \n",
       "fox        ATGTTATAAAAACTTCTCCCCAACCCCACTTGATTTTTCTTCTCTC...   \n",
       "gorilla    ATGCCCACCCTTTAGCCACTCCCTTAACCGCACTCCTCTTCTTCAT...   \n",
       "\n",
       "                                                      gene98  \\\n",
       "name                                                           \n",
       "lamb       ATGACTAATATACCCTCTTACCCACTTCCACCATCGTTACAATTAT...   \n",
       "chicken    ATGATCATCCCTACGCTTATTCACTTCTTTATTACTCATAACTTAT...   \n",
       "gopher     ATGCAAATATACTAAACTTCCTACATATACTCTCACTCTCTACATG...   \n",
       "dromedary  ATGCTCACCTCACCATTATTATACAAACATATATACTCCTTCTCTC...   \n",
       "turtle     ATGCAACTATATTCAATACAACCTACTCTATTAACATTCATACCAT...   \n",
       "bunny      ATGACCACAGTTTTTTCTTCTCTCCAATTTCACCCTTCAAATACTC...   \n",
       "lovebird   ATGCTTTTCCTTACTTTCACACCTTTACCCTCATATACCAACTCAA...   \n",
       "goat       ATGCACAACATAATACGTCACTTCACTCCAACATCATCATTCAATT...   \n",
       "fox        ATGTACTTGTCTTCAAAATTTTACACCATTTCATCTATTTACCTCT...   \n",
       "gorilla    ATGATACTACCCAGCATCAGCCCTCATCCTTACTCTCTTCACTATT...   \n",
       "\n",
       "                                                      gene99  \n",
       "name                                                          \n",
       "lamb       ATGATTTTTACACTTCCCTTACCCCCAATCACTGACTTAAACATAC...  \n",
       "chicken    ATGGTACACTTCTACACACTAAATTAAAATTACCCTTTAAACTCAC...  \n",
       "gopher     ATGCATCCCACCTAAATTTTTCTCCTTTTTCCCACGCCCTACCTCA...  \n",
       "dromedary  ATGACATTTTTCCCACATTATTTAAATACATCACCTAATTAATCTA...  \n",
       "turtle     ATGTTTTTCAACAACAATCATATCAACTATTCATCACGCATACCTC...  \n",
       "bunny      ATGACCCTCACATTTCCATATTTTTTACAAAAACGCCTATTACTCA...  \n",
       "lovebird   ATGTAACACACACTTACAAAAAACACTAACACCGATCCCCCTCACA...  \n",
       "goat       ATGCTTCACAACTAACCAAATATAAAAACTATTCCAATGACTAAAA...  \n",
       "fox        ATGCTGATTCTCTTTTTCTCCTTCTCTCCCACCCAGCTTAACATCT...  \n",
       "gorilla    ATGTAACAATAAAAGCCCTCCTACATTACTCCTTAACTCAGCACCC...  \n",
       "\n",
       "[10 rows x 500 columns]"
      ]
     },
     "execution_count": 111,
     "metadata": {},
     "output_type": "execute_result"
    }
   ],
   "source": [
    "animal_house"
   ]
  },
  {
   "cell_type": "markdown",
   "metadata": {},
   "source": [
    "It looks like we have two different lines of attack here. First, I could make a tensor of all of the different motifs and then collapse the tensor by count. Also, I could crush down genes inside each animal and then explore the values. The tensor option seems the most fun, but I think we will stick to a plain Jane adding a column count inside of the datafr"
   ]
  },
  {
   "cell_type": "code",
   "execution_count": null,
   "metadata": {},
   "outputs": [],
   "source": []
  },
  {
   "cell_type": "code",
   "execution_count": null,
   "metadata": {},
   "outputs": [],
   "source": []
  },
  {
   "cell_type": "code",
   "execution_count": 84,
   "metadata": {},
   "outputs": [
    {
     "name": "stdout",
     "output_type": "stream",
     "text": [
      "TTTTTTTTTACA\n",
      "TACATCTCTCTC\n",
      "TTTTTCTCTTTT\n",
      "CTTCAAAATTTT\n",
      "TCTCTACATTTT\n",
      "CTTCAAAATCTC\n",
      "AAAAAAAAAAAA\n",
      "TACACTTCTTTT\n",
      "AAAATCTCCTTC\n",
      "CTTCTCTCTTTT\n",
      "TTTTTACACTTC\n",
      "AAAAAAAATACA\n",
      "TTTTCTTCTCTC\n",
      "TTTTTTTTAAAA\n",
      "TTTTTCTCTCTC\n",
      "CTTCCTTCTTTT\n",
      "TACATTTTAAAA\n",
      "CTTCAAAAAAAA\n",
      "AAAATTTTTACA\n",
      "TTTTAAAATCTC\n",
      "TACACTTCTACA\n",
      "TACATACACTTC\n",
      "TACATTTTTCTC\n",
      "TCTCTACATCTC\n",
      "TACATCTCCTTC\n",
      "TACATCTCTTTT\n",
      "TCTCTCTCTACA\n",
      "CTTCTTTTAAAA\n",
      "CTTCTTTTTTTT\n",
      "TTTTTTTTTTTT\n",
      "TCTCAAAATTTT\n",
      "TTTTCTTCTACA\n",
      "AAAATTTTAAAA\n",
      "TCTCTTTTTACA\n",
      "TACACTTCTCTC\n",
      "TACATACAAAAA\n",
      "TTTTTCTCAAAA\n",
      "TACATACATACA\n",
      "TCTCTCTCTTTT\n",
      "AAAATCTCTCTC\n",
      "AAAATTTTCTTC\n",
      "AAAATACATCTC\n",
      "TCTCAAAAAAAA\n",
      "TCTCAAAACTTC\n",
      "CTTCCTTCAAAA\n",
      "AAAATTTTTTTT\n",
      "AAAATCTCAAAA\n",
      "TTTTAAAAAAAA\n",
      "TTTTAAAATTTT\n",
      "AAAAAAAATCTC\n",
      "TTTTCTTCAAAA\n",
      "CTTCCTTCTCTC\n",
      "TTTTAAAACTTC\n",
      "AAAACTTCTACA\n",
      "TCTCCTTCCTTC\n",
      "AAAATACACTTC\n",
      "TACAAAAATCTC\n",
      "AAAACTTCCTTC\n",
      "TTTTTCTCTACA\n",
      "AAAAAAAACTTC\n",
      "CTTCTTTTTCTC\n",
      "CTTCTACATACA\n",
      "AAAACTTCAAAA\n",
      "TCTCCTTCTACA\n",
      "TTTTTACATACA\n",
      "TCTCTACACTTC\n",
      "TCTCCTTCAAAA\n",
      "TACAAAAACTTC\n",
      "AAAATCTCTTTT\n",
      "AAAATACATTTT\n",
      "TTTTTACAAAAA\n",
      "CTTCTCTCAAAA\n",
      "TTTTTTTTCTTC\n",
      "CTTCTCTCTCTC\n",
      "TTTTTACATTTT\n",
      "TTTTTCTCCTTC\n",
      "TACATACATTTT\n",
      "TACATTTTTTTT\n",
      "AAAATACATACA\n",
      "AAAACTTCTCTC\n",
      "TACACTTCAAAA\n",
      "TCTCTACAAAAA\n",
      "TTTTCTTCTTTT\n",
      "TACAAAAAAAAA\n",
      "TACATTTTCTTC\n",
      "AAAAAAAATTTT\n",
      "CTTCAAAACTTC\n",
      "CTTCTACATTTT\n",
      "TACATACATCTC\n",
      "CTTCTTTTCTTC\n",
      "TCTCTCTCCTTC\n",
      "CTTCTACATCTC\n",
      "TCTCCTTCTCTC\n",
      "CTTCTACACTTC\n",
      "TCTCTCTCTCTC\n",
      "TTTTTACATCTC\n",
      "AAAATACAAAAA\n",
      "TACAAAAATTTT\n",
      "TACATCTCAAAA\n",
      "TCTCCTTCTTTT\n"
     ]
    }
   ],
   "source": [
    "%%bash \n",
    "\n",
    "cat motif_list.txt"
   ]
  },
  {
   "cell_type": "code",
   "execution_count": null,
   "metadata": {},
   "outputs": [],
   "source": []
  }
 ],
 "metadata": {
  "kernelspec": {
   "display_name": "Python 3",
   "language": "python",
   "name": "python3"
  },
  "language_info": {
   "codemirror_mode": {
    "name": "ipython",
    "version": 3
   },
   "file_extension": ".py",
   "mimetype": "text/x-python",
   "name": "python",
   "nbconvert_exporter": "python",
   "pygments_lexer": "ipython3",
   "version": "3.7.3"
  },
  "toc": {
   "base_numbering": 1,
   "nav_menu": {},
   "number_sections": true,
   "sideBar": true,
   "skip_h1_title": true,
   "title_cell": "Table of Contents",
   "title_sidebar": "Contents",
   "toc_cell": true,
   "toc_position": {
    "height": "calc(100% - 180px)",
    "left": "10px",
    "top": "150px",
    "width": "165px"
   },
   "toc_section_display": true,
   "toc_window_display": true
  }
 },
 "nbformat": 4,
 "nbformat_minor": 2
}
