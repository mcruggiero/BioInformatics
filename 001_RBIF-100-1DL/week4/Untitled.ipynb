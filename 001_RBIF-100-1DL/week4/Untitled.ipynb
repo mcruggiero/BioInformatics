{
 "cells": [
  {
   "cell_type": "code",
   "execution_count": 2,
   "metadata": {},
   "outputs": [],
   "source": [
    "import json \n",
    "  \n",
    "# Opening JSON file \n",
    "with open('distance_gopher.json') as json_file: \n",
    "    data = json.load(json_file) "
   ]
  },
  {
   "cell_type": "code",
   "execution_count": 8,
   "metadata": {},
   "outputs": [
    {
     "name": "stdout",
     "output_type": "stream",
     "text": [
      "lamb_>gene1 71\n",
      "lamb_>gene6 68\n",
      "lamb_>gene38 68\n",
      "lamb_>gene138 68\n",
      "lamb_>gene159 68\n",
      "lamb_>gene242 67\n",
      "lamb_>gene285 65\n",
      "chicken_>gene228 63\n",
      "chicken_>gene371 61\n",
      "gopher_>gene460 60\n"
     ]
    }
   ],
   "source": [
    "min_size = 10000\n",
    "for i in data[\"chicken_>gene87\"]:\n",
    "    if data[\"chicken_>gene87\"][i] <= min_size and i != \"chicken_>gene87\":\n",
    "        min_size = data[\"chicken_>gene87\"][i]\n",
    "        print(i, min_size)"
   ]
  },
  {
   "cell_type": "code",
   "execution_count": null,
   "metadata": {},
   "outputs": [],
   "source": []
  }
 ],
 "metadata": {
  "kernelspec": {
   "display_name": "Python 3",
   "language": "python",
   "name": "python3"
  }
 },
 "nbformat": 4,
 "nbformat_minor": 4
}
