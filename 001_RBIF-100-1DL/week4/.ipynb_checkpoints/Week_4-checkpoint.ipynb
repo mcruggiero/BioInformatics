{
 "cells": [
  {
   "cell_type": "markdown",
   "metadata": {},
   "source": [
    "# Week 4 Assignment"
   ]
  },
  {
   "cell_type": "markdown",
   "metadata": {
    "toc": true
   },
   "source": [
    "<h1>Table of Contents<span class=\"tocSkip\"></span></h1>\n",
    "<div class=\"toc\"><ul class=\"toc-item\"><li><span><a href=\"#Description\" data-toc-modified-id=\"Description-1\"><span class=\"toc-item-num\">1&nbsp;&nbsp;</span>Description</a></span><ul class=\"toc-item\"><li><span><a href=\"#readme.txt\" data-toc-modified-id=\"readme.txt-1.1\"><span class=\"toc-item-num\">1.1&nbsp;&nbsp;</span>readme.txt</a></span></li><li><span><a href=\"#Story\" data-toc-modified-id=\"Story-1.2\"><span class=\"toc-item-num\">1.2&nbsp;&nbsp;</span>Story</a></span></li></ul></li></ul></div>"
   ]
  },
  {
   "cell_type": "markdown",
   "metadata": {},
   "source": [
    "## Description"
   ]
  },
  {
   "cell_type": "markdown",
   "metadata": {},
   "source": [
    "<strong>Due Tuesday Week 4 </strong><br>\n",
    "Beginning Python scripting <br>\n",
    "Key concepts covered: Apply Bash and Python practices to solving problems"
   ]
  },
  {
   "cell_type": "markdown",
   "metadata": {},
   "source": [
    "### readme.txt"
   ]
  },
  {
   "cell_type": "markdown",
   "metadata": {},
   "source": [
    "<strong>Important! Your assignment must contain a readme.txt file that indicates the exact command used to execute your script on the AWS server. It should indicate what inputs are used, and indicate what outputs are produced.\n",
    "Use relative paths so that if I copied your week4 folder to any other directory, it will still execute properly.</strong>"
   ]
  },
  {
   "cell_type": "markdown",
   "metadata": {},
   "source": [
    "### Story"
   ]
  },
  {
   "cell_type": "markdown",
   "metadata": {},
   "source": [
    "Dr. Banner leads a team of researchers that have each discovered a unique eukaryotic organism. They all seem to be related to each other and the team has tried to sequence their specimens. Homologous genes between each eukaryote were labeled with the same gene name. Each of organisms have some degree of gamma ray resistance and Dr. Banner constructed a list of motifs that may be associated with resistance. He wants to use only the most abundant motif and knockout the genes that contain these motifs using CRISPR.  He first needs to identify a list of suitable CRISPR gene candidates and submit a report. \n",
    "\n",
    "Inputs:\n",
    "\n",
    "/home/rbif/week4/clinical_data.txt\n",
    "/home/rbif/week4/motif_list.txt\n",
    "/home/rbif/week4/exomes/*.fasta\n",
    "\n",
    "1. Create a directory called week4 in your home directory. \n",
    "\n",
    "2. Create a bash script called copyExomes.sh\n",
    "Read in the clinical data file and identify the samples that have a diameter between 20 and 30 mm long (inclusive) and have had their genomes sequenced. Copy the identified exomes using the sample code names to a new directory called exomes.\n",
    "\n",
    "3. Create a bash script called createCrisprReady.sh\n",
    "\n",
    "Using the motif_list.txt file, identify the 3 highest occurring motifs in each exome inside the exomes folder. \n",
    "Output the headers and corresponding sequences to a new file called exomename_topmotifs.fasta.  **This means to only select for the genes that have at least one of the three top motifs and output to a new file\n",
    "Rename the headers of the exomename_topmotifs.fasta files to include the motif sequences and their count. (Example: >gene1  ===> >gene1 ATGC_1 AAAA_38)\n",
    "\n",
    "Note: The sequence does not need to contain all 3 motifs, it just needs to have at least 1 of them.\n",
    "“exomename_topmotifs.fasta” should contain the code name of the sample. For example, fox_topmotifs.fasta.\n",
    "4. Create a bash script called identifyCrisprSite.sh\n",
    "\n",
    "For each gene inside the exomename_topmotifs.fasta files, identify a suitable CRISPR site.\n",
    "Find sequences that contain “NGG”, where “N” can be any base, that has at least 20 basepairs upstream.\n",
    "Example of upstream: ATGAACGTCTGTAAGAACTGCGGATCTGTCA (Everything left of CGG is upstream of the DNA) \n",
    "Output suitable candidates (headers and sequences) to a new file called exomenames_precrispr.fasta\n",
    "5. Create a bash script called editGenome.sh\n",
    "Using those files, write a script that will insert the letter A right before the NGG site. Output to a new file called exomename_postcrispr.fasta \n",
    "\n",
    "6. Create a python script called exomeReport.py\n",
    "Create a single report that summarizes the findings. It should be a text file that lists the name of the discoverer of the organism, the diameter, the code name and the environment it came from. -Additionally, include how many genes the organism has in common with all of the other organisms, and which genes are unique to that organism.\n",
    "Note: You are only comparing that organism against the other organisms of the same cohort (20-30mm in diameter). ie You are summarizing the motif-containing exomes with just the CRISPR-ready genes, in otherwords using the exomenames_precrispr.fasta (or exomenames_postcrispr.fasta since the headers should be identical between those two files)\n",
    "There may not be any genes in common in that entire cohort.\n",
    "\n",
    "Example:\n",
    "Organism FOX, discovered by DISCOVERER, has a diameter of DIAMETER, and has the NUMBER of genes in common with the cohort, and the following genes unique to only itself: gene1, gene4, gene823"
   ]
  },
  {
   "cell_type": "code",
   "execution_count": null,
   "metadata": {},
   "outputs": [],
   "source": []
  }
 ],
 "metadata": {
  "kernelspec": {
   "display_name": "Python 3",
   "language": "python",
   "name": "python3"
  },
  "language_info": {
   "codemirror_mode": {
    "name": "ipython",
    "version": 3
   },
   "file_extension": ".py",
   "mimetype": "text/x-python",
   "name": "python",
   "nbconvert_exporter": "python",
   "pygments_lexer": "ipython3",
   "version": "3.7.3"
  },
  "toc": {
   "base_numbering": 1,
   "nav_menu": {},
   "number_sections": true,
   "sideBar": true,
   "skip_h1_title": true,
   "title_cell": "Table of Contents",
   "title_sidebar": "Contents",
   "toc_cell": true,
   "toc_position": {},
   "toc_section_display": true,
   "toc_window_display": true
  }
 },
 "nbformat": 4,
 "nbformat_minor": 2
}
