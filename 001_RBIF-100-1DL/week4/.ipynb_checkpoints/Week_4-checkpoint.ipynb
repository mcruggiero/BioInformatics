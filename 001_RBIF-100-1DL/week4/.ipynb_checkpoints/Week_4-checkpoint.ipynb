{
 "cells": [
  {
   "cell_type": "markdown",
   "metadata": {},
   "source": [
    "# Week 4 Assignment"
   ]
  },
  {
   "cell_type": "markdown",
   "metadata": {
    "toc": true
   },
   "source": [
    "<h1>Table of Contents<span class=\"tocSkip\"></span></h1>\n",
    "<div class=\"toc\"><ul class=\"toc-item\"><li><span><a href=\"#Description\" data-toc-modified-id=\"Description-1\"><span class=\"toc-item-num\">1&nbsp;&nbsp;</span>Description</a></span><ul class=\"toc-item\"><li><span><a href=\"#readme.txt\" data-toc-modified-id=\"readme.txt-1.1\"><span class=\"toc-item-num\">1.1&nbsp;&nbsp;</span>readme.txt</a></span></li><li><span><a href=\"#Story\" data-toc-modified-id=\"Story-1.2\"><span class=\"toc-item-num\">1.2&nbsp;&nbsp;</span>Story</a></span></li><li><span><a href=\"#File-Structure\" data-toc-modified-id=\"File-Structure-1.3\"><span class=\"toc-item-num\">1.3&nbsp;&nbsp;</span>File Structure</a></span></li><li><span><a href=\"#copyExomes.sh\" data-toc-modified-id=\"copyExomes.sh-1.4\"><span class=\"toc-item-num\">1.4&nbsp;&nbsp;</span>copyExomes.sh</a></span></li><li><span><a href=\"#createCrisprReady.sh\" data-toc-modified-id=\"createCrisprReady.sh-1.5\"><span class=\"toc-item-num\">1.5&nbsp;&nbsp;</span>createCrisprReady.sh</a></span></li><li><span><a href=\"#identifyCrisprSite.sh\" data-toc-modified-id=\"identifyCrisprSite.sh-1.6\"><span class=\"toc-item-num\">1.6&nbsp;&nbsp;</span>identifyCrisprSite.sh</a></span></li><li><span><a href=\"#editGenome.sh\" data-toc-modified-id=\"editGenome.sh-1.7\"><span class=\"toc-item-num\">1.7&nbsp;&nbsp;</span>editGenome.sh</a></span></li><li><span><a href=\"#exomeReport.py\" data-toc-modified-id=\"exomeReport.py-1.8\"><span class=\"toc-item-num\">1.8&nbsp;&nbsp;</span>exomeReport.py</a></span></li></ul></li><li><span><a href=\"#Readme.txt\" data-toc-modified-id=\"Readme.txt-2\"><span class=\"toc-item-num\">2&nbsp;&nbsp;</span>Readme.txt</a></span></li><li><span><a href=\"#copyExomes.sh\" data-toc-modified-id=\"copyExomes.sh-3\"><span class=\"toc-item-num\">3&nbsp;&nbsp;</span>copyExomes.sh</a></span><ul class=\"toc-item\"><li><span><a href=\"#Structure-Decision\" data-toc-modified-id=\"Structure-Decision-3.1\"><span class=\"toc-item-num\">3.1&nbsp;&nbsp;</span>Structure Decision</a></span></li><li><span><a href=\"#Programing-Decision\" data-toc-modified-id=\"Programing-Decision-3.2\"><span class=\"toc-item-num\">3.2&nbsp;&nbsp;</span>Programing Decision</a></span><ul class=\"toc-item\"><li><span><a href=\"#Read-in-clinical_data-with-pandas\" data-toc-modified-id=\"Read-in-clinical_data-with-pandas-3.2.1\"><span class=\"toc-item-num\">3.2.1&nbsp;&nbsp;</span>Read in clinical_data with pandas</a></span></li><li><span><a href=\"#Filter-dataframe-by-diameter-size\" data-toc-modified-id=\"Filter-dataframe-by-diameter-size-3.2.2\"><span class=\"toc-item-num\">3.2.2&nbsp;&nbsp;</span>Filter dataframe by diameter size</a></span></li><li><span><a href=\"#Make-exomes-directory-and-copy-over-filtered-files\" data-toc-modified-id=\"Make-exomes-directory-and-copy-over-filtered-files-3.2.3\"><span class=\"toc-item-num\">3.2.3&nbsp;&nbsp;</span>Make exomes directory and copy over filtered files</a></span></li></ul></li></ul></li></ul></div>"
   ]
  },
  {
   "cell_type": "markdown",
   "metadata": {},
   "source": [
    "## Description"
   ]
  },
  {
   "cell_type": "markdown",
   "metadata": {},
   "source": [
    "<strong>Due Tuesday Week 4 </strong><br>\n",
    "Beginning Python scripting <br>\n",
    "Key concepts covered: Apply Bash and Python practices to solving problems"
   ]
  },
  {
   "cell_type": "markdown",
   "metadata": {},
   "source": [
    "### readme.txt"
   ]
  },
  {
   "cell_type": "markdown",
   "metadata": {},
   "source": [
    "<strong>Important! Your assignment must contain a readme.txt file that indicates the exact command used to execute your script on the AWS server. It should indicate what inputs are used, and indicate what outputs are produced.\n",
    "Use relative paths so that if I copied your week4 folder to any other directory, it will still execute properly.</strong>"
   ]
  },
  {
   "cell_type": "markdown",
   "metadata": {},
   "source": [
    "### Story"
   ]
  },
  {
   "cell_type": "markdown",
   "metadata": {},
   "source": [
    "Dr. Banner leads a team of researchers that have each discovered a unique eukaryotic organism. They all seem to be related to each other and the team has tried to sequence their specimens. Homologous genes between each eukaryote were labeled with the same gene name. Each of organisms have some degree of gamma ray resistance and Dr. Banner constructed a list of motifs that may be associated with resistance. He wants to use only the most abundant motif and knockout the genes that contain these motifs using CRISPR.  He first needs to identify a list of suitable CRISPR gene candidates and submit a report. \n",
    "\n",
    "Inputs:\n",
    "\n",
    "/home/rbif/week4/clinical_data.txt <br>\n",
    "/home/rbif/week4/motif_list.txt <br>\n",
    "/home/rbif/week4/exomes/*.fasta <br>"
   ]
  },
  {
   "cell_type": "markdown",
   "metadata": {},
   "source": [
    "### File Structure"
   ]
  },
  {
   "cell_type": "markdown",
   "metadata": {},
   "source": [
    "notes: Task completed. Tim, I am not sure if you want me to make a bash script that does this with something like:\n",
    "```\n",
    "mkdir week4\n",
    "rsync . /home/ruggm/BioInformatics/001_RBIF-100-1DL/week4\n",
    "```\n",
    "or just make it here. I am going to assume that I have done this successfully, but let me know if you want me to make a little build_me script."
   ]
  },
  {
   "cell_type": "markdown",
   "metadata": {},
   "source": [
    "<strong>Task 1.3 completed</strong>"
   ]
  },
  {
   "cell_type": "markdown",
   "metadata": {},
   "source": [
    "### copyExomes.sh"
   ]
  },
  {
   "cell_type": "markdown",
   "metadata": {},
   "source": [
    "Read in the clinical data file and identify the samples that have a diameter between 20 and 30 mm long (inclusive) and have had their genomes sequenced. Copy the identified exomes using the sample code names to a new directory called exomes."
   ]
  },
  {
   "cell_type": "markdown",
   "metadata": {},
   "source": [
    "### createCrisprReady.sh"
   ]
  },
  {
   "cell_type": "markdown",
   "metadata": {},
   "source": [
    "Using the motif_list.txt file, identify the 3 highest occurring motifs in each exome inside the exomes folder. \n",
    "Output the headers and corresponding sequences to a new file called exomename_topmotifs.fasta.  **This means to only select for the genes that have at least one of the three top motifs and output to a new file\n",
    "Rename the headers of the exomename_topmotifs.fasta files to include the motif sequences and their count. (Example: >gene1  ===> >gene1 ATGC_1 AAAA_38)\n",
    "\n",
    "Note: The sequence does not need to contain all 3 motifs, it just needs to have at least 1 of them.\n",
    "“exomename_topmotifs.fasta” should contain the code name of the sample. For example, fox_topmotifs.fasta."
   ]
  },
  {
   "cell_type": "markdown",
   "metadata": {},
   "source": [
    "### identifyCrisprSite.sh"
   ]
  },
  {
   "cell_type": "markdown",
   "metadata": {},
   "source": [
    "For each gene inside the exomename_topmotifs.fasta files, identify a suitable CRISPR site.\n",
    "Find sequences that contain “NGG”, where “N” can be any base, that has at least 20 basepairs upstream.\n",
    "Example of upstream: ATGAACGTCTGTAAGAACTGCGGATCTGTCA (Everything left of CGG is upstream of the DNA) \n",
    "Output suitable candidates (headers and sequences) to a new file called exomenames_precrispr.fasta"
   ]
  },
  {
   "cell_type": "markdown",
   "metadata": {},
   "source": [
    "### editGenome.sh"
   ]
  },
  {
   "cell_type": "markdown",
   "metadata": {},
   "source": [
    "Using those files, write a script that will insert the letter A right before the NGG site. Output to a new file called exomename_postcrispr.fasta \n"
   ]
  },
  {
   "cell_type": "markdown",
   "metadata": {},
   "source": [
    "### exomeReport.py"
   ]
  },
  {
   "cell_type": "markdown",
   "metadata": {},
   "source": [
    "Create a single report that summarizes the findings. It should be a text file that lists the name of the discoverer of the organism, the diameter, the code name and the environment it came from. -Additionally, include how many genes the organism has in common with all of the other organisms, and which genes are unique to that organism.\n",
    "Note: You are only comparing that organism against the other organisms of the same cohort (20-30mm in diameter). ie You are summarizing the motif-containing exomes with just the CRISPR-ready genes, in otherwords using the exomenames_precrispr.fasta (or exomenames_postcrispr.fasta since the headers should be identical between those two files)\n",
    "There may not be any genes in common in that entire cohort.\n",
    "\n",
    "Example:\n",
    "Organism FOX, discovered by DISCOVERER, has a diameter of DIAMETER, and has the NUMBER of genes in common with the cohort, and the following genes unique to only itself: gene1, gene4, gene823"
   ]
  },
  {
   "cell_type": "markdown",
   "metadata": {},
   "source": [
    "## Readme.txt"
   ]
  },
  {
   "cell_type": "code",
   "execution_count": null,
   "metadata": {},
   "outputs": [],
   "source": []
  },
  {
   "cell_type": "markdown",
   "metadata": {},
   "source": [
    "## copyExomes.sh"
   ]
  },
  {
   "cell_type": "markdown",
   "metadata": {},
   "source": [
    "### Structure Decision"
   ]
  },
  {
   "cell_type": "markdown",
   "metadata": {},
   "source": [
    "This is a little confusing to me Tim, we already have a file \n",
    "exomes. Do you want me to over write this folder and delete the \n",
    "Older .fasta files? \n",
    "\n",
    "Seems weird to overwrite everything like that and destroy\n",
    "The old .fasta files. So I am going to move the exomes folder to a \n",
    "exomes_given and make a new directory as asked."
   ]
  },
  {
   "cell_type": "code",
   "execution_count": 9,
   "metadata": {},
   "outputs": [
    {
     "name": "stdout",
     "output_type": "stream",
     "text": [
      "clinical_data.txt\n",
      "exomes_given\n",
      "motif_list.txt\n",
      "Week_4.ipynb\n"
     ]
    }
   ],
   "source": [
    "%%bash \n",
    "\n",
    "ls"
   ]
  },
  {
   "cell_type": "markdown",
   "metadata": {},
   "source": [
    "### Programing Decision"
   ]
  },
  {
   "cell_type": "markdown",
   "metadata": {},
   "source": [
    "It seems like I have two choices to make all of this work. I can make a bunch of little scripts that play together in a modular fashion or I can maybe a larger python script that is called in different bash scripts. For such a little project, it seems strained to make a bunch of little scripts to fry all together. Therefore, I am going to build one larger python script that will do most of the heavy lifting and call all of the parts of that script from different parts of the bash shell. <br><br>\n",
    "It looks like you are giving me a lot of latitude here, so I am going to use pandas."
   ]
  },
  {
   "cell_type": "markdown",
   "metadata": {},
   "source": [
    "#### Read in clinical_data with pandas"
   ]
  },
  {
   "cell_type": "code",
   "execution_count": 75,
   "metadata": {},
   "outputs": [
    {
     "data": {
      "text/html": [
       "<div>\n",
       "<style scoped>\n",
       "    .dataframe tbody tr th:only-of-type {\n",
       "        vertical-align: middle;\n",
       "    }\n",
       "\n",
       "    .dataframe tbody tr th {\n",
       "        vertical-align: top;\n",
       "    }\n",
       "\n",
       "    .dataframe thead th {\n",
       "        text-align: right;\n",
       "    }\n",
       "</style>\n",
       "<table border=\"1\" class=\"dataframe\">\n",
       "  <thead>\n",
       "    <tr style=\"text-align: right;\">\n",
       "      <th></th>\n",
       "      <th>Discoverer</th>\n",
       "      <th>Location</th>\n",
       "      <th>Diamater (mm)</th>\n",
       "      <th>Environment</th>\n",
       "      <th>Status</th>\n",
       "      <th>code_name</th>\n",
       "    </tr>\n",
       "  </thead>\n",
       "  <tbody>\n",
       "    <tr>\n",
       "      <th>0</th>\n",
       "      <td>Kerr</td>\n",
       "      <td>New Jersey</td>\n",
       "      <td>68</td>\n",
       "      <td>River</td>\n",
       "      <td>Sequenced</td>\n",
       "      <td>addax</td>\n",
       "    </tr>\n",
       "    <tr>\n",
       "      <th>1</th>\n",
       "      <td>Schacher</td>\n",
       "      <td>Sweden</td>\n",
       "      <td>44</td>\n",
       "      <td>Sewage</td>\n",
       "      <td>Sequenced</td>\n",
       "      <td>badger</td>\n",
       "    </tr>\n",
       "    <tr>\n",
       "      <th>2</th>\n",
       "      <td>No</td>\n",
       "      <td>Florida</td>\n",
       "      <td>6</td>\n",
       "      <td>River</td>\n",
       "      <td>Sequenced</td>\n",
       "      <td>basilisk</td>\n",
       "    </tr>\n",
       "    <tr>\n",
       "      <th>3</th>\n",
       "      <td>Farrior</td>\n",
       "      <td>New Jersey</td>\n",
       "      <td>75</td>\n",
       "      <td>River</td>\n",
       "      <td>Sequenced</td>\n",
       "      <td>bat</td>\n",
       "    </tr>\n",
       "    <tr>\n",
       "      <th>4</th>\n",
       "      <td>Look</td>\n",
       "      <td>Florida</td>\n",
       "      <td>66</td>\n",
       "      <td>Sewage</td>\n",
       "      <td>Sequenced</td>\n",
       "      <td>bear</td>\n",
       "    </tr>\n",
       "  </tbody>\n",
       "</table>\n",
       "</div>"
      ],
      "text/plain": [
       "  Discoverer    Location  Diamater (mm) Environment     Status code_name\n",
       "0       Kerr  New Jersey             68       River  Sequenced     addax\n",
       "1   Schacher      Sweden             44      Sewage  Sequenced    badger\n",
       "2         No     Florida              6       River  Sequenced  basilisk\n",
       "3    Farrior  New Jersey             75       River  Sequenced       bat\n",
       "4       Look     Florida             66      Sewage  Sequenced      bear"
      ]
     },
     "execution_count": 75,
     "metadata": {},
     "output_type": "execute_result"
    }
   ],
   "source": [
    "import os, shutil\n",
    "import pandas as pd\n",
    "importa numpy as np\n",
    "\n",
    "def copy_exomes():\n",
    "    df = pd.read_csv(\"clinical_data.txt\", sep='\\t', engine='python')\n",
    "    return df\n",
    "\n",
    "df = copy_exomes()\n",
    "df.head()"
   ]
  },
  {
   "cell_type": "code",
   "execution_count": 50,
   "metadata": {},
   "outputs": [
    {
     "data": {
      "text/plain": [
       "Discoverer       object\n",
       "Location         object\n",
       "Diamater (mm)     int64\n",
       "Environment      object\n",
       "Status           object\n",
       "code_name        object\n",
       "dtype: object"
      ]
     },
     "execution_count": 50,
     "metadata": {},
     "output_type": "execute_result"
    }
   ],
   "source": [
    "df.dtypes"
   ]
  },
  {
   "cell_type": "code",
   "execution_count": 51,
   "metadata": {},
   "outputs": [
    {
     "data": {
      "text/plain": [
       "Index(['Discoverer', 'Location', 'Diamater (mm)', 'Environment', 'Status',\n",
       "       'code_name'],\n",
       "      dtype='object')"
      ]
     },
     "execution_count": 51,
     "metadata": {},
     "output_type": "execute_result"
    }
   ],
   "source": [
    "df.columns"
   ]
  },
  {
   "cell_type": "markdown",
   "metadata": {},
   "source": [
    "This looks rather clean, moving to filer by the requested diameters."
   ]
  },
  {
   "cell_type": "markdown",
   "metadata": {},
   "source": [
    "#### Filter dataframe by diameter size"
   ]
  },
  {
   "cell_type": "code",
   "execution_count": 72,
   "metadata": {},
   "outputs": [
    {
     "data": {
      "text/html": [
       "<div>\n",
       "<style scoped>\n",
       "    .dataframe tbody tr th:only-of-type {\n",
       "        vertical-align: middle;\n",
       "    }\n",
       "\n",
       "    .dataframe tbody tr th {\n",
       "        vertical-align: top;\n",
       "    }\n",
       "\n",
       "    .dataframe thead th {\n",
       "        text-align: right;\n",
       "    }\n",
       "</style>\n",
       "<table border=\"1\" class=\"dataframe\">\n",
       "  <thead>\n",
       "    <tr style=\"text-align: right;\">\n",
       "      <th></th>\n",
       "      <th>Discoverer</th>\n",
       "      <th>Location</th>\n",
       "      <th>Diamater (mm)</th>\n",
       "      <th>Environment</th>\n",
       "      <th>Status</th>\n",
       "      <th>code_name</th>\n",
       "    </tr>\n",
       "  </thead>\n",
       "  <tbody>\n",
       "    <tr>\n",
       "      <th>9</th>\n",
       "      <td>Kelleher</td>\n",
       "      <td>New Jersey</td>\n",
       "      <td>26</td>\n",
       "      <td>Swamp</td>\n",
       "      <td>Not sequenced</td>\n",
       "      <td>bunny</td>\n",
       "    </tr>\n",
       "    <tr>\n",
       "      <th>11</th>\n",
       "      <td>Rivet</td>\n",
       "      <td>Sweden</td>\n",
       "      <td>26</td>\n",
       "      <td>Swamp</td>\n",
       "      <td>Sequenced</td>\n",
       "      <td>chicken</td>\n",
       "    </tr>\n",
       "    <tr>\n",
       "      <th>17</th>\n",
       "      <td>Forness</td>\n",
       "      <td>New Jersey</td>\n",
       "      <td>30</td>\n",
       "      <td>Sewage</td>\n",
       "      <td>Sequenced</td>\n",
       "      <td>dromedary</td>\n",
       "    </tr>\n",
       "    <tr>\n",
       "      <th>21</th>\n",
       "      <td>Vanderburg</td>\n",
       "      <td>Sweden</td>\n",
       "      <td>26</td>\n",
       "      <td>River</td>\n",
       "      <td>Sequenced</td>\n",
       "      <td>fox</td>\n",
       "    </tr>\n",
       "    <tr>\n",
       "      <th>22</th>\n",
       "      <td>Gorham</td>\n",
       "      <td>New Jersey</td>\n",
       "      <td>24</td>\n",
       "      <td>Sewage</td>\n",
       "      <td>Sequenced</td>\n",
       "      <td>goat</td>\n",
       "    </tr>\n",
       "  </tbody>\n",
       "</table>\n",
       "</div>"
      ],
      "text/plain": [
       "    Discoverer    Location  Diamater (mm) Environment         Status  \\\n",
       "9     Kelleher  New Jersey             26       Swamp  Not sequenced   \n",
       "11       Rivet      Sweden             26       Swamp      Sequenced   \n",
       "17     Forness  New Jersey             30      Sewage      Sequenced   \n",
       "21  Vanderburg      Sweden             26       River      Sequenced   \n",
       "22      Gorham  New Jersey             24      Sewage      Sequenced   \n",
       "\n",
       "    code_name  \n",
       "9       bunny  \n",
       "11    chicken  \n",
       "17  dromedary  \n",
       "21        fox  \n",
       "22       goat  "
      ]
     },
     "execution_count": 72,
     "metadata": {},
     "output_type": "execute_result"
    }
   ],
   "source": [
    "mover = df[(20 <= df['Diamater (mm)']) & (df['Diamater (mm)'] <= 30)]\n",
    "mover.head()"
   ]
  },
  {
   "cell_type": "markdown",
   "metadata": {},
   "source": [
    "#### Make exomes directory and copy over filtered files"
   ]
  },
  {
   "cell_type": "code",
   "execution_count": 81,
   "metadata": {},
   "outputs": [
    {
     "name": "stdout",
     "output_type": "stream",
     "text": [
      "copying bunny.fasta file\n",
      "copying chicken.fasta file\n",
      "copying dromedary.fasta file\n",
      "copying fox.fasta file\n",
      "copying goat.fasta file\n",
      "copying gopher.fasta file\n",
      "copying gorilla.fasta file\n",
      "copying lamb.fasta file\n",
      "copying lovebird.fasta file\n",
      "copying turtle.fasta file\n"
     ]
    }
   ],
   "source": [
    "if not os.path.exists(\"exomes\"):\n",
    "    os.mkdir(\"exomes\")\n",
    "else:\n",
    "    shutil.rmtree(\"exomes\")\n",
    "    os.mkdir(\"exomes\")\n",
    "    \n",
    "for i in mover[\"code_name\"].tolist():\n",
    "    print(\"copying {}.fasta file\".format(i))\n",
    "    shutil.copy2(\"exomes_given/{}.fasta\".format(i), \n",
    "                 \"exomes/{}.fasta\".format(i))"
   ]
  },
  {
   "cell_type": "code",
   "execution_count": 74,
   "metadata": {},
   "outputs": [
    {
     "name": "stdout",
     "output_type": "stream",
     "text": [
      "bunny.fasta\n",
      "chicken.fasta\n",
      "dromedary.fasta\n",
      "fox.fasta\n",
      "goat.fasta\n",
      "gopher.fasta\n",
      "gorilla.fasta\n",
      "lamb.fasta\n",
      "lovebird.fasta\n",
      "turtle.fasta\n"
     ]
    }
   ],
   "source": [
    "for i in mover[\"code_name\"].tolist():\n",
    "    print(\"{}.fasta\".format(i))"
   ]
  },
  {
   "cell_type": "code",
   "execution_count": 80,
   "metadata": {},
   "outputs": [
    {
     "name": "stdout",
     "output_type": "stream",
     "text": [
      "Overwriting motif_manager.py\n"
     ]
    }
   ],
   "source": [
    "%%writefile motif_manager.py\n",
    "#!/usr/bin/env python\n",
    "\n",
    "import os, shutil\n",
    "import pandas as pd\n",
    "from itertools import combinations, permutations\n",
    "\n",
    "def copy_exomes():\n",
    "    # Read in tab deliniated file\n",
    "    df = pd.read_csv(\"clinical_data.txt\", sep='\\t', engine='python')\n",
    "    \n",
    "    # Filter out by needed terms\n",
    "    mover = df[(20 <= df['Diamater (mm)']) & (df['Diamater (mm)'] <= 30)]\n",
    "    print(\"The following entries are of interest:\")\n",
    "    print(mover)\n",
    "    \n",
    "    # Make Directory Structure\n",
    "    if not os.path.exists(\"exomes\"):\n",
    "        os.mkdir(\"exomes\")\n",
    "    else:\n",
    "        shutil.rmtree(\"exomes\")\n",
    "        os.mkdir(\"exomes\")"
   ]
  },
  {
   "cell_type": "code",
   "execution_count": 36,
   "metadata": {},
   "outputs": [
    {
     "name": "stdout",
     "output_type": "stream",
     "text": [
      "Writing copyExomes.sh\n"
     ]
    }
   ],
   "source": [
    "%%writefile copyExomes.sh\n",
    "#!/bin/bash\n",
    "\n",
    "python -c 'import motif_manager; motif_manager.copy_exomes()'"
   ]
  },
  {
   "cell_type": "code",
   "execution_count": null,
   "metadata": {},
   "outputs": [],
   "source": []
  }
 ],
 "metadata": {
  "kernelspec": {
   "display_name": "Python 3",
   "language": "python",
   "name": "python3"
  },
  "language_info": {
   "codemirror_mode": {
    "name": "ipython",
    "version": 3
   },
   "file_extension": ".py",
   "mimetype": "text/x-python",
   "name": "python",
   "nbconvert_exporter": "python",
   "pygments_lexer": "ipython3",
   "version": "3.7.3"
  },
  "toc": {
   "base_numbering": 1,
   "nav_menu": {},
   "number_sections": true,
   "sideBar": true,
   "skip_h1_title": true,
   "title_cell": "Table of Contents",
   "title_sidebar": "Contents",
   "toc_cell": true,
   "toc_position": {
    "height": "calc(100% - 180px)",
    "left": "10px",
    "top": "150px",
    "width": "165px"
   },
   "toc_section_display": true,
   "toc_window_display": true
  }
 },
 "nbformat": 4,
 "nbformat_minor": 2
}
