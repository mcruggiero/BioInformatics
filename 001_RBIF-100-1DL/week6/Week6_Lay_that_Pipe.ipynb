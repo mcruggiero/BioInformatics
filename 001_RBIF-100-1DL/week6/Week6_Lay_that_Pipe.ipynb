{
 "cells": [
  {
   "cell_type": "markdown",
   "metadata": {},
   "source": [
    "# Week 6 Assignment"
   ]
  },
  {
   "cell_type": "markdown",
   "metadata": {},
   "source": [
    "## Environment Review"
   ]
  },
  {
   "cell_type": "code",
   "execution_count": 1,
   "metadata": {},
   "outputs": [
    {
     "data": {
      "text/plain": [
       "'3.7.3 (default, Mar 27 2019, 22:11:17) \\n[GCC 7.3.0]'"
      ]
     },
     "execution_count": 1,
     "metadata": {},
     "output_type": "execute_result"
    }
   ],
   "source": [
    "import sys\n",
    "\n",
    "sys.version"
   ]
  },
  {
   "cell_type": "code",
   "execution_count": 2,
   "metadata": {},
   "outputs": [
    {
     "name": "stdout",
     "output_type": "stream",
     "text": [
      "Assignment 3.pdf\n",
      "dgorgon_reference.fa\n",
      "getMutations.py\n",
      "harrington_clinical_data.txt\n",
      "hawkins_pooled_sequences.fastq\n",
      "necessary_scripts\n",
      "parseFastq.py\n",
      "__pycache__\n",
      "Week6_Lay_that_Pipe.ipynb\n",
      "\n",
      "faker.sorted.bam\n",
      "faker.sorted.bam.bai\n",
      "getMutations.py\n",
      "parseFastq.py\n",
      "\n",
      "----------------------\n",
      "Line Count of getMutations\n",
      "29 getMutations.py\n",
      "\n",
      "----------------------\n",
      "Line Count of parseFastq.py\n",
      "92 parseFastq.py\n"
     ]
    }
   ],
   "source": [
    "%%bash\n",
    "\n",
    "ls\n",
    "echo \"\"\n",
    "cd necessary_scripts/\n",
    "ls\n",
    "echo \"\"\n",
    "echo \"----------------------\"\n",
    "echo \"Line Count of getMutations\"\n",
    "wc -l getMutations.py\n",
    "echo \"\"\n",
    "echo \"----------------------\"\n",
    "echo \"Line Count of parseFastq.py\"\n",
    "wc -l parseFastq.py"
   ]
  },
  {
   "cell_type": "markdown",
   "metadata": {},
   "source": [
    "### Initial Thoughts"
   ]
  },
  {
   "cell_type": "markdown",
   "metadata": {},
   "source": [
    "These files are just too big, to look cat them out above, let's bring these files into jupyter"
   ]
  },
  {
   "cell_type": "markdown",
   "metadata": {},
   "source": [
    "### hawking_pooled_sequences.fastq"
   ]
  },
  {
   "cell_type": "code",
   "execution_count": 3,
   "metadata": {},
   "outputs": [
    {
     "name": "stdout",
     "output_type": "stream",
     "text": [
      "@seq13534-419\n",
      "GCAGTAGCGGTCATAAGTGGTACATTACGAGATTCGGAGTACCATAGATTCGCATGAATCCCTGTGGATACGAGAGTGTGAGATATATGTACGCCAATCCAGTGTGATACCCATGAGATTTAGGACCGATGATGGTTGAGGACCAAGGATTGACCCGATGGATGCAGATTTGACCCCAGATAGAATAAATGCGATGAGATGATTTGGCCGATAGATAGATAGTGTCGTGAGGTGACGTCCGTCACTGGACGAA\n",
      "+\n",
      "IIIIIIIIIIIIIIIIIIIIIIIIIIIIIIIIIIIIIIIIIIIIIIIIIIIIIIIIIIIIIIIIIIIIIIIIIIIIIIIIIIIIIIIIIIDIIIIIIIIIIIIIIIIIIIIIIIIIIIIIIIIIIIIIIIIIIIIIIIIIIIIIIIIIIIIIIIIIIIIIIIIIIIIIIIIIIIIIIIIIIIIIIIIIIIIIIIIIIIIIIIIIIIIIIIIIIIIIIIIIIIFFFFDFFDFFDDFDFDFFFFDDFFDDFDDFF\n",
      "@seq86249-867\n",
      "GGATTAGCGGTCATAAGTCGTACATTACGAGATTCGGAGTACCATAGATTCGCATGAATCCCTGTGGATACGAGAGTGTGAGATATATGTACGCCAATCCAGTGTGATACCCATGAGATTTAGGACCGATGATGGTTGAGGACCAAGGATTGACCCGATGGATGCAGATTTGACCCCAGATAGAATAAATGCGATGAGATGATTTGGCCGATAGATAGATAGAGGTCAGTATAACCTCTCAAAGCTTTATCTACGGATGGATCCGCGC\n",
      "+\n",
      "IIIIIIIIIIIIIIIIIIIIIIIIIIIIIIIIIIIIIIIIIIIIIIIIIIIIIIIIIIIIIIIIIIIIIIIIIIIIIIIIIIIIIIIIIIIIIIIIIIIIIIIIIIIIIIIIIIIIIIIIIIIIIIIIIIIIIIIIIIIIIIIIIIIIIIIIIIIIIIIDIIIIIIIIIIIIIIIIIIIIIIIIIIIIIIIIIIIIIIIIIIIIIIIIIIIIIIIIIIIIIIDDFDDDDDDFFDFDDFDDDFDFFDDFFFFFFFFFDDFDFFDDFDDF\n",
      "@seq46647-928\n",
      "GACCTAGCGGTCATAAGTGGTACATTACGAGATTCGGAGTACCATAGATTCGCATGAATCCCTGTGGATACGAGAGTGTGAGATATATGTACGCCAATCCAGTGTGATACCCATGAGATTTAGGACCGATGATGGTTGACGACCAAGGATTGACCCGATGGATGCAGATTTGACCCCAGATAGAATAAATGCGATGAGATGATTTGGCCGATAGATAGATAGTAAGTAAATGCCACGGACTCGTCACGTG\n"
     ]
    }
   ],
   "source": [
    "%%bash\n",
    "\n",
    "head -10 hawkins_pooled_sequences.fastq"
   ]
  },
  {
   "cell_type": "code",
   "execution_count": 4,
   "metadata": {},
   "outputs": [
    {
     "name": "stdout",
     "output_type": "stream",
     "text": [
      "Name\tColor\tBarcode\n",
      "Abbey\tBlack\tGCAGA\n",
      "Adelaide\tOrange\tCTTGA\n",
      "Alana\tBlack\tAGCTA\n",
      "Arabella\tBlack\tTTGAG\n",
      "Arianna\tOrange\tTCCGC\n",
      "Bobby\tBlack\tCCCAC\n",
      "Brayden\tBlack\tGCAGT\n",
      "Bridget\tOrange\tCGGTT\n",
      "Bruce\tOrange\tACGGA\n"
     ]
    }
   ],
   "source": [
    "%%bash\n",
    "\n",
    "head -10 harrington_clinical_data.txt"
   ]
  },
  {
   "cell_type": "markdown",
   "metadata": {},
   "source": [
    "### getMutations.py"
   ]
  },
  {
   "cell_type": "markdown",
   "metadata": {},
   "source": [
    "pysam needs python 3.6 downgrading from 3.8 now"
   ]
  },
  {
   "cell_type": "code",
   "execution_count": 5,
   "metadata": {},
   "outputs": [
    {
     "name": "stdout",
     "output_type": "stream",
     "text": [
      "Overwriting getMutations.py\n"
     ]
    }
   ],
   "source": [
    "%%writefile getMutations.py\n",
    "import pysam\n",
    "\n",
    "#This is a slightly modified version from here: https://pysam.readthedocs.io/en/latest/api.html\n",
    "# What is a pileup? It is \"piling up\" all the reads that have mapped to a given position of your reference.\n",
    "# It is a useful way to see what reads have a mutation and what don't. \n",
    "\n",
    "def pileup():\n",
    "    #test file, replaced with the sorted.bam you are using. Make sure it is indexed! \n",
    "    #(Use samtools index yourbam.sorted.bam)\n",
    "    samfile = pysam.AlignmentFile(\"/home/rbif/week6/necessary_scripts/faker.sorted.bam\", \"rb\")\n",
    "\n",
    "    #Since our reference only has a single sequence, we're going to pile up ALL of the reads. \n",
    "    #Usually you would do it in a specific region (such as chromosome 1, position 1023 to 1050 for example)\n",
    "    for pileupcolumn in samfile.pileup():\n",
    "        print (\"coverage at base %s = %s\" % (pileupcolumn.pos, pileupcolumn.n))\n",
    "        #use a dictionary to count up the bases at each position\n",
    "        ntdict = {}\n",
    "        for pileupread in pileupcolumn.pileups:\n",
    "            if not pileupread.is_del and not pileupread.is_refskip:\n",
    "                # You can uncomment the below line to see what is happening in the pileup. \n",
    "                # print ('\\tbase in read %s = %s' % (pileupread.alignment.query_name, pileupread.alignment.query_sequence[pileupread.query_position]))\n",
    "                base = pileupread.alignment.query_sequence[pileupread.query_position]\n",
    "                \n",
    "                ########## ADD ADDITIONAL CODE HERE ############# \n",
    "                # Populate the ntdict with the counts of each base \n",
    "                # This dictionary will hold all of the base read counts per nucletoide per position.\n",
    "                # Use the dictionary to calculate the frequency of each site, and report it if if the frequency is NOT  100% / 0%. \n",
    "                #############################################\n",
    "        print (ntdict)\n",
    "    samfile.close()\n",
    "\n",
    "if __name__==\"__main__\":\n",
    "    pileup()"
   ]
  },
  {
   "cell_type": "markdown",
   "metadata": {},
   "source": [
    "### parseFastq.py"
   ]
  },
  {
   "cell_type": "code",
   "execution_count": 6,
   "metadata": {},
   "outputs": [
    {
     "name": "stdout",
     "output_type": "stream",
     "text": [
      "Overwriting parseFastq.py\n"
     ]
    }
   ],
   "source": [
    "%%writefile parseFastq.py\n",
    "\n",
    "import argparse\n",
    "#Example use is \n",
    "# python parseFastq.py --fastq /home/rbif/week6/hawkins_pooled_sequences.fastq\n",
    "\n",
    "\n",
    "################################################\n",
    "# You can use this code and put it in your own script\n",
    "class ParseFastQ(object):\n",
    "    \"\"\"Returns a read-by-read fastQ parser analogous to file.readline()\"\"\"\n",
    "    def __init__(self,filePath,headerSymbols=['@','+']):\n",
    "        \"\"\"Returns a read-by-read fastQ parser analogous to file.readline().\n",
    "        Exmpl: parser.next()\n",
    "        -OR-\n",
    "        Its an iterator so you can do:\n",
    "        for rec in parser:\n",
    "            ... do something with rec ...\n",
    " \n",
    "        rec is tuple: (seqHeader,seqStr,qualHeader,qualStr)\n",
    "        \"\"\"\n",
    "        if filePath.endswith('.gz'):\n",
    "            self._file = gzip.open(filePath)\n",
    "        else:\n",
    "            self._file = open(filePath, 'rU')\n",
    "        self._currentLineNumber = 0\n",
    "        self._hdSyms = headerSymbols\n",
    "         \n",
    "    def __iter__(self):\n",
    "        return self\n",
    "    \n",
    "    # I think this is supposed to be __next__(), so I'm changing it\n",
    "    def __next__(self):\n",
    "        \"\"\"Reads in next element, parses, and does minimal verification.\n",
    "        Returns: tuple: (seqHeader,seqStr,qualHeader,qualStr)\"\"\"\n",
    "        # ++++ Get Next Four Lines ++++\n",
    "        elemList = []\n",
    "        for i in range(4):\n",
    "            line = self._file.readline()\n",
    "            self._currentLineNumber += 1 ## increment file position\n",
    "            if line:\n",
    "                elemList.append(line.strip('\\n'))\n",
    "            else: \n",
    "                elemList.append(None)\n",
    "         \n",
    "        # ++++ Check Lines For Expected Form ++++\n",
    "        trues = [bool(x) for x in elemList].count(True)\n",
    "        nones = elemList.count(None)\n",
    "        # -- Check for acceptable end of file --\n",
    "        if nones == 4:\n",
    "            raise StopIteration\n",
    "        # -- Make sure we got 4 full lines of data --\n",
    "        assert trues == 4,\\\n",
    "               \"** ERROR: It looks like I encountered a premature EOF or empty line.\\n\\\n",
    "               Please check FastQ file near line number %s (plus or minus ~4 lines) and try again**\" % (self._currentLineNumber)\n",
    "        # -- Make sure we are in the correct \"register\" --\n",
    "        assert elemList[0].startswith(self._hdSyms[0]),\\\n",
    "               \"** ERROR: The 1st line in fastq element does not start with '%s'.\\n\\\n",
    "               Please check FastQ file near line number %s (plus or minus ~4 lines) and try again**\" % (self._hdSyms[0],self._currentLineNumber) \n",
    "        assert elemList[2].startswith(self._hdSyms[1]),\\\n",
    "               \"** ERROR: The 3rd line in fastq element does not start with '%s'.\\n\\\n",
    "               Please check FastQ file near line number %s (plus or minus ~4 lines) and try again**\" % (self._hdSyms[1],self._currentLineNumber) \n",
    "        # -- Make sure the seq line and qual line have equal lengths --\n",
    "        assert len(elemList[1]) == len(elemList[3]), \"** ERROR: The length of Sequence data and Quality data of the last record aren't equal.\\n\\\n",
    "               Please check FastQ file near line number %s (plus or minus ~4 lines) and try again**\" % (self._currentLineNumber) \n",
    "         \n",
    "        # ++++ Return fatsQ data as tuple ++++\n",
    "        return tuple(elemList)\n",
    "##########################################################################\n",
    "\n",
    "\n",
    "\n",
    "if __name__ == \"__main__\":\n",
    "    parser = argparse.ArgumentParser()\n",
    "    parser.add_argument(\"-f\", \"--fastq\", required=True, help=\"Place fastq inside here\")\n",
    "    args = parser.parse_args()\n",
    "\n",
    "    #This is an example of how to use the function in your own code\n",
    "    \n",
    "    fastqfile = ParseFastQ(args.fastq)\n",
    "\n",
    "    #A fastq read contains 4 lines\n",
    "    for fastq_obj in fastqfile:\n",
    "        #This fastq_obj is a tuple that has length of 4 and corresponds to those 4 lines\n",
    "        #This is the header\n",
    "        print(fastq_obj[0])\n",
    "        #This is the sequence\n",
    "        print(fastq_obj[1])\n",
    "        #This is the separator\n",
    "        print(fastq_obj[2])\n",
    "        #This is the quality score\n",
    "        print(fastq_obj[3])\n",
    "        \n",
    "        #Just an indicator showing the fastq \"blocks\"\n",
    "        print('*'*10 + '==='*10 + '*' * 10)"
   ]
  },
  {
   "cell_type": "code",
   "execution_count": 7,
   "metadata": {},
   "outputs": [
    {
     "name": "stderr",
     "output_type": "stream",
     "text": [
      "IOPub data rate exceeded.\n",
      "The notebook server will temporarily stop sending output\n",
      "to the client in order to avoid crashing it.\n",
      "To change this limit, set the config variable\n",
      "`--NotebookApp.iopub_data_rate_limit`.\n",
      "\n",
      "Current values:\n",
      "NotebookApp.iopub_data_rate_limit=1000000.0 (bytes/sec)\n",
      "NotebookApp.rate_limit_window=3.0 (secs)\n",
      "\n",
      "parseFastq.py:24: DeprecationWarning: 'U' mode is deprecated\n",
      "  self._file = open(filePath, 'rU')\n"
     ]
    }
   ],
   "source": [
    "%%bash \n",
    "\n",
    "python parseFastq.py --fastq /home/rbif/week6/hawkins_pooled_sequences.fastq"
   ]
  },
  {
   "cell_type": "markdown",
   "metadata": {},
   "source": [
    "hmmm....this must be a really big output, let me see if I can implement this in a code"
   ]
  },
  {
   "cell_type": "markdown",
   "metadata": {},
   "source": [
    "## Workflow outline"
   ]
  },
  {
   "cell_type": "markdown",
   "metadata": {},
   "source": [
    "Important note: We will not be able to use anything from BioPython for this assignment"
   ]
  },
  {
   "cell_type": "markdown",
   "metadata": {},
   "source": [
    "### Demultiplex the pooled fastq by barcode\n",
    "\n",
    "Create a single python script that:\n",
    "1. Reads in the pooled fastq*\n",
    "2. Uses the barcode from clinical data to find matches\n",
    "3. Write to file\n",
    "4. Trims barcode from start\n",
    "5. Trims consequtive D or F from quality scores.\n",
    "6. Set in foder with {name}_trimmed.fastq"
   ]
  },
  {
   "cell_type": "markdown",
   "metadata": {},
   "source": [
    "### Dictionary Coding Structure"
   ]
  },
  {
   "cell_type": "markdown",
   "metadata": {},
   "source": [
    "I will be using dictionarys to carry a lot of the heavy lifting inside this code. For example, I will be setting a coding_dict to make sure that everything is set in the right direction. Thus this will be more of a vinilla python programming exercise. "
   ]
  },
  {
   "cell_type": "code",
   "execution_count": 8,
   "metadata": {},
   "outputs": [
    {
     "data": {
      "text/plain": [
       "{'name': 'Brayden', 'color': 'Black'}"
      ]
     },
     "execution_count": 8,
     "metadata": {},
     "output_type": "execute_result"
    }
   ],
   "source": [
    "with open(\"/home/rbif/week6/harrington_clinical_data.txt\") as fin:\n",
    "    rows = (line.split('\\t') for line in fin )\n",
    "    coding_dict = {row[1:][1].rstrip():{\"name\":row[0], \"color\":row[1]}  for row in rows}\n",
    "    \n",
    "coding_dict[\"GCAGT\"]"
   ]
  },
  {
   "cell_type": "markdown",
   "metadata": {},
   "source": [
    "### Parsing the Parser"
   ]
  },
  {
   "cell_type": "code",
   "execution_count": 9,
   "metadata": {},
   "outputs": [],
   "source": [
    "from parseFastq import ParseFastQ\n",
    "\n",
    "fastqfile = ParseFastQ(\"/home/rbif/week6/hawkins_pooled_sequences.fastq\")\n",
    "for item in fastqfile:\n",
    "    #It seems like item[2] are all \"+\", let's just check that really quick \n",
    "    if item[2] != \"+\": print(item[2])"
   ]
  },
  {
   "cell_type": "markdown",
   "metadata": {},
   "source": [
    "Item's 0, 1, and 3 are important to the work, so we will keep them in a dictionary."
   ]
  },
  {
   "cell_type": "code",
   "execution_count": 10,
   "metadata": {},
   "outputs": [
    {
     "data": {
      "text/plain": [
       "'GCAGT'"
      ]
     },
     "execution_count": 10,
     "metadata": {},
     "output_type": "execute_result"
    }
   ],
   "source": [
    "fastqfile = ParseFastQ(\"/home/rbif/week6/hawkins_pooled_sequences.fastq\")\n",
    "fast_dict = {}\n",
    "\n",
    "for item in fastqfile:\n",
    "    fast_dict[item[0]] = {\"tag\":item[1][0:5], \n",
    "                          \"seq\":item[1][5:], \n",
    "                          \"quality\":item[3], \n",
    "                          \"name\":item[0]}\n",
    "\n",
    "fast_dict['@seq13534-419']['tag']"
   ]
  },
  {
   "cell_type": "markdown",
   "metadata": {},
   "source": [
    "### Merging Dictionarys "
   ]
  },
  {
   "cell_type": "markdown",
   "metadata": {},
   "source": [
    "Now we need to get these dictionarys into one final format. It would probably be best if I put these by name, but names can repeat, but I assume they would not repeat the tag. "
   ]
  },
  {
   "cell_type": "code",
   "execution_count": 78,
   "metadata": {},
   "outputs": [],
   "source": [
    "from parseFastq import ParseFastQ\n",
    "\n",
    "#First we are going to make a dictionary with all of the clinical entries\n",
    "with open(\"harrington_clinical_data.txt\") as clinical:\n",
    "    rows = (line.split('\\t') for line in clinical)\n",
    "    coding_dict = {row[1:][1].rstrip():{\"name\":row[0], \"color\":row[1]}  for row in rows}\n",
    "\n",
    "# Remove the first entry, we are not going to use a Pandas style index here\n",
    "coding_dict.pop('Barcode')\n",
    "\n",
    "fastqfile = ParseFastQ(\"hawkins_pooled_sequences.fastq\")\n",
    "for i in fastqfile:\n",
    "    # I don't think we need item 2 which is always a \"+\", so we will omit it\n",
    "    coding_dict[i[1][0:5]][i[0]] = {\"pretrimmed\":i[1][5:], \"prequality\":i[3]}\n",
    "    pretrim = coding_dict[i[1][0:5]][i[0]][\"prequality\"]\n",
    "\n",
    "    #Search for consecutive D or F \n",
    "    trim_value = re.search(r'[DF][DF]', pretrim).start()\n",
    "    coding_dict[i[1][0:5]][i[0]][\"trim_value\"] = trim_value\n",
    "    coding_dict[i[1][0:5]][i[0]][\"trimmed\"] = coding_dict[i[1][0:5]][i[0]][\"pretrimmed\"][:trim_value]\n",
    "    coding_dict[i[1][0:5]][i[0]][\"quality\"] = coding_dict[i[1][0:5]][i[0]][\"prequality\"][:trim_value]"
   ]
  },
  {
   "cell_type": "markdown",
   "metadata": {},
   "source": [
    "### Quick Sanity Check"
   ]
  },
  {
   "cell_type": "code",
   "execution_count": 79,
   "metadata": {},
   "outputs": [
    {
     "data": {
      "text/plain": [
       "{'pretrimmed': 'AGCGGTCATAAGTCGTACATTACGAGATTCGGAGTACCATAGATTCGCATGAATCCCTGTGGATACGAGAGTGTGAGATATATGTACGCCAATCCAGTGTGATACCCATGAGATTTAGGACCGATGATGGTTGAGGACCAAGGATTGACCCGATGGATGCAGATTTGACCCCAGATAGAATAAATGCGATGAGATGATTTGGCCGATAGATAGATAGTGCTCGCGGAAAGGCGCGTAGAGCTGATATGCACAAGTA',\n",
       " 'prequality': 'IIIIIIIIIIIIIIIIIIIIIIIIIIIIIIIIIIIIIIIIIIIIIIIIIIIIIIIIIIIIIIIIIIIIIIIIIIIIIIIIIIIIIIIIIIIIIIIIIIIIIIIIIIIIIIIIIIIIIIIIIIIIIIIIIIIIIIIIIIIIIIIIIIIIIIIIIIIFIIIIIIIIIIIIIIIIIIIIIIIIIIIIIIIIIIIIIIIIIIIIIIIIIIIIIIIIIIIIIIIIIIDFFFFFDFDFDDFFDFDDFDFFFDFDFFDDFDDDDFFFF',\n",
       " 'trim_value': 222,\n",
       " 'trimmed': 'AGCGGTCATAAGTCGTACATTACGAGATTCGGAGTACCATAGATTCGCATGAATCCCTGTGGATACGAGAGTGTGAGATATATGTACGCCAATCCAGTGTGATACCCATGAGATTTAGGACCGATGATGGTTGAGGACCAAGGATTGACCCGATGGATGCAGATTTGACCCCAGATAGAATAAATGCGATGAGATGATTTGGCCGATAGATAGATAGTGCTC',\n",
       " 'quality': 'IIIIIIIIIIIIIIIIIIIIIIIIIIIIIIIIIIIIIIIIIIIIIIIIIIIIIIIIIIIIIIIIIIIIIIIIIIIIIIIIIIIIIIIIIIIIIIIIIIIIIIIIIIIIIIIIIIIIIIIIIIIIIIIIIIIIIIIIIIIIIIIIIIIIIIIIIIIFIIIIIIIIIIIIIIIIIIIIIIIIIIIIIIIIIIIIIIIIIIIIIIIIIIIIIIIIIIIIIIIIII'}"
      ]
     },
     "execution_count": 79,
     "metadata": {},
     "output_type": "execute_result"
    }
   ],
   "source": [
    "coding_dict[\"GCAGA\"][\"@seq72638-854\"]"
   ]
  },
  {
   "cell_type": "code",
   "execution_count": 65,
   "metadata": {},
   "outputs": [
    {
     "data": {
      "text/plain": [
       "222"
      ]
     },
     "execution_count": 65,
     "metadata": {},
     "output_type": "execute_result"
    }
   ],
   "source": [
    "re.search(r'[DF][DF]',coding_dict[\"GCAGA\"][\"@seq72638-854\"][\"quality\"]).start()"
   ]
  },
  {
   "cell_type": "code",
   "execution_count": 67,
   "metadata": {},
   "outputs": [
    {
     "name": "stdout",
     "output_type": "stream",
     "text": [
      "IIIIIIIIIIIIIIIIIIIIIIIIIIIIIIIIIIIIIIIIIIIIIIIIIIIIIIIIIIIIIIIIIIIIIIIIIIIIIIIIIIIIIIIIIIIIIIIIIIIIIIIIIIIIIIIIIIIIIIIIIIIIIIIIIIIIIIIIIIIIIIIIIIIIIIIIIIIFIIIIIIIIIIIIIIIIIIIIIIIIIIIIIIIIIIIIIIIIIIIIIIIIIIIIIIIIIIIIIIIIII\n",
      "DFFFFFDFDFDDFFDFDDFDFFFDFDFFDDFDDDDFFFF\n"
     ]
    }
   ],
   "source": [
    "print(coding_dict[\"GCAGA\"][\"@seq72638-854\"][\"quality\"][:222])\n",
    "print(coding_dict[\"GCAGA\"][\"@seq72638-854\"][\"quality\"][222:])"
   ]
  },
  {
   "cell_type": "markdown",
   "metadata": {},
   "source": [
    "According to https://support.illumina.com/bulletins/2016/04/fastq-files-explained.html \n",
    "\n",
    "For each cluster that passes filter, a single sequence is written to the corresponding sample’s R1 FASTQ file, and, for a paired-end run, a single sequence is also written to the sample’s R2 FASTQ file. Each entry in a FASTQ files consists of 4 lines:\n",
    "\n",
    "1) A sequence identifier with information about the sequencing run and the cluster. The exact contents of this line vary by based on the BCL to FASTQ conversion software used. <br>\n",
    "2) The sequence (the base calls; A, C, T, G and N). <br>\n",
    "3) A separator, which is simply a plus (+) sign. <br>\n",
    "4) The base call quality scores. These are Phred +33 encoded, using ASCII characters to represent the numerical quality scores.<br>"
   ]
  },
  {
   "cell_type": "markdown",
   "metadata": {},
   "source": [
    "## Pipeline"
   ]
  },
  {
   "cell_type": "markdown",
   "metadata": {},
   "source": [
    "I will try to make a function for every section of the homework to help read the code"
   ]
  },
  {
   "cell_type": "code",
   "execution_count": 105,
   "metadata": {},
   "outputs": [
    {
     "name": "stdout",
     "output_type": "stream",
     "text": [
      "Writing pipeline.py\n"
     ]
    }
   ],
   "source": [
    "%%writefile pipeline.py\n",
    "from parseFastq import ParseFastQ\n",
    "import re\n",
    "import os\n",
    "import shutil\n",
    "\n",
    "class Main:\n",
    "    def __init__(self):\n",
    "        coding_dict = self.trimmer(\"harrington_clinical_data.txt\", \"hawkins_pooled_sequences.fastq\")\n",
    "        self.alignment()\n",
    "\n",
    "    # Part I: Trim and report\n",
    "    def trimmer(self, clinical_path, fast_path):\n",
    "        #First we are going to make a dictionary with all of the clinical entries\n",
    "        with open(clinical_path) as clinical:\n",
    "            rows = (line.split('\\t') for line in clinical)\n",
    "            coding_dict = {row[1:][1].rstrip():{\"name\":row[0], \"color\":row[1]}  for row in rows}\n",
    "\n",
    "        # Remove the first entry, we are not going to use a Pandas style index here\n",
    "        coding_dict.pop('Barcode')\n",
    "\n",
    "        fastqfile = ParseFastQ(fast_path)\n",
    "        for i in fastqfile:\n",
    "            # I don't think we need item 2 which is always a \"+\", so we will omit it\n",
    "\n",
    "            coding_dict[i[1][0:5]][i[0]] = {\"pretrimmed\":i[1][5:], \"prequality\":i[3]}\n",
    "            pretrim = coding_dict[i[1][0:5]][i[0]][\"prequality\"]\n",
    "\n",
    "            #Search for consecutive D or F \n",
    "            trim_value = re.search(r'[DF][DF]', pretrim).start()\n",
    "            coding_dict[i[1][0:5]][i[0]][\"trim_value\"] = trim_value\n",
    "            coding_dict[i[1][0:5]][i[0]][\"trimmed\"] = coding_dict[i[1][0:5]][i[0]][\"pretrimmed\"][:trim_value]\n",
    "            coding_dict[i[1][0:5]][i[0]][\"quality\"] = coding_dict[i[1][0:5]][i[0]][\"prequality\"][:trim_value]\n",
    "\n",
    "        # Make a new directory unless it exists\n",
    "        try:\n",
    "            os.makedirs(\"fastqs\")\n",
    "            print(\"Made New Directory\")\n",
    "        except:\n",
    "            print(\"Removing Old Directory\")\n",
    "            shutil.rmtree(\"fastqs\")\n",
    "            os.makedirs(\"fastqs\")\n",
    "\n",
    "        for listing in coding_dict:\n",
    "            # First name file\n",
    "            f= open(\"fastqs/{}_trimmed.fastq\".format(coding_dict[listing][\"name\"]),\"w+\")\n",
    "            for seq in coding_dict[listing]:\n",
    "                # I kept the name and color in the dictionary, we can't add that to fastq file\n",
    "                if seq not in {\"name\", \"color\"}:\n",
    "                    f.write(seq + \"\\n\")\n",
    "                    f.write(coding_dict[listing][seq][\"trimmed\"] + \"\\n\")\n",
    "                    f.write(\"+\" + \"\\n\")\n",
    "                    f.write(coding_dict[listing][seq][\"quality\"] + \"\\n\")\n",
    "            \n",
    "        # Part 1 completed\n",
    "        return coding_dict\n",
    "    \n",
    "    # Part 2&3 alignment\n",
    "    def alignment(self):\n",
    "        os.system(\"bwa index dgorgon_reference.fa\")\n",
    "        for name in os.listdir(\"fastqs\"):\n",
    "            split = name.split(\"_\")[0]\n",
    "            os.system(\"bwa mem dgorgon_reference.fa fastqs/{0}_trimmed.fastq > fastqs/{0}.sam\".format(split))\n",
    "            os.system(\"samtools view -bS fastqs/{0}.sam > fastqs/{0}.bam\".format(split))\n",
    "            os.system(\"samtools sort -m 100M -o fastqs/{0}.sorted.bam fastqs/{0}.bam\".format(split))\n",
    "            os.system(\"samtools index fastqs/{0}.sorted.bam\".format(split))\n",
    "            # Part 2&3 Completed\n",
    "    \n",
    "    def variant():\n",
    "        \n",
    "        \n",
    "    \n",
    "    \n",
    "if __name__== \"__main__\":    \n",
    "    Main()"
   ]
  },
  {
   "cell_type": "markdown",
   "metadata": {},
   "source": [
    "Getting weird error .bam is not UTF-8 encoded...trying to work around."
   ]
  },
  {
   "cell_type": "code",
   "execution_count": 106,
   "metadata": {},
   "outputs": [
    {
     "name": "stdout",
     "output_type": "stream",
     "text": [
      "Removing Old Directory\n"
     ]
    },
    {
     "name": "stderr",
     "output_type": "stream",
     "text": [
      "[bwa_index] Pack FASTA... 0.00 sec\n",
      "[bwa_index] Construct BWT for the packed sequence...\n",
      "[bwa_index] 0.00 seconds elapse.\n",
      "[bwa_index] Update BWT... 0.00 sec\n",
      "[bwa_index] Pack forward-only FASTA... 0.00 sec\n",
      "[bwa_index] Construct SA from BWT and Occ... 0.00 sec\n",
      "[main] Version: 0.7.17-r1188\n",
      "[main] CMD: bwa index dgorgon_reference.fa\n",
      "[main] Real time: 0.077 sec; CPU: 0.002 sec\n",
      "[M::bwa_idx_load_from_disk] read 0 ALT contigs\n",
      "[M::process] read 694 sequences (154068 bp)...\n",
      "[M::mem_process_seqs] Processed 694 reads in 0.043 CPU sec, 0.043 real sec\n",
      "[main] Version: 0.7.17-r1188\n",
      "[main] CMD: bwa mem dgorgon_reference.fa fastqs/Terry_trimmed.fastq\n",
      "[main] Real time: 0.063 sec; CPU: 0.045 sec\n",
      "[M::bwa_idx_load_from_disk] read 0 ALT contigs\n",
      "[M::process] read 393 sequences (87246 bp)...\n",
      "[M::mem_process_seqs] Processed 393 reads in 0.043 CPU sec, 0.043 real sec\n",
      "[main] Version: 0.7.17-r1188\n",
      "[main] CMD: bwa mem dgorgon_reference.fa fastqs/Tristian_trimmed.fastq\n",
      "[main] Real time: 0.065 sec; CPU: 0.048 sec\n",
      "[M::bwa_idx_load_from_disk] read 0 ALT contigs\n",
      "[M::process] read 464 sequences (103008 bp)...\n",
      "[M::mem_process_seqs] Processed 464 reads in 0.049 CPU sec, 0.048 real sec\n",
      "[main] Version: 0.7.17-r1188\n",
      "[main] CMD: bwa mem dgorgon_reference.fa fastqs/Jordyn_trimmed.fastq\n",
      "[main] Real time: 0.073 sec; CPU: 0.053 sec\n",
      "[M::bwa_idx_load_from_disk] read 0 ALT contigs\n",
      "[M::process] read 620 sequences (137640 bp)...\n",
      "[M::mem_process_seqs] Processed 620 reads in 0.058 CPU sec, 0.058 real sec\n",
      "[main] Version: 0.7.17-r1188\n",
      "[main] CMD: bwa mem dgorgon_reference.fa fastqs/Mckayla_trimmed.fastq\n",
      "[main] Real time: 0.079 sec; CPU: 0.064 sec\n",
      "[M::bwa_idx_load_from_disk] read 0 ALT contigs\n",
      "[M::process] read 699 sequences (155178 bp)...\n",
      "[M::mem_process_seqs] Processed 699 reads in 0.054 CPU sec, 0.053 real sec\n",
      "[main] Version: 0.7.17-r1188\n",
      "[main] CMD: bwa mem dgorgon_reference.fa fastqs/Abbey_trimmed.fastq\n",
      "[main] Real time: 0.071 sec; CPU: 0.060 sec\n",
      "[M::bwa_idx_load_from_disk] read 0 ALT contigs\n",
      "[M::process] read 532 sequences (118104 bp)...\n",
      "[M::mem_process_seqs] Processed 532 reads in 0.062 CPU sec, 0.061 real sec\n",
      "[main] Version: 0.7.17-r1188\n",
      "[main] CMD: bwa mem dgorgon_reference.fa fastqs/Javion_trimmed.fastq\n",
      "[main] Real time: 0.083 sec; CPU: 0.067 sec\n",
      "[M::bwa_idx_load_from_disk] read 0 ALT contigs\n",
      "[M::process] read 581 sequences (128982 bp)...\n",
      "[M::mem_process_seqs] Processed 581 reads in 0.060 CPU sec, 0.059 real sec\n",
      "[main] Version: 0.7.17-r1188\n",
      "[main] CMD: bwa mem dgorgon_reference.fa fastqs/Alana_trimmed.fastq\n",
      "[main] Real time: 0.075 sec; CPU: 0.066 sec\n",
      "[M::bwa_idx_load_from_disk] read 0 ALT contigs\n",
      "[M::process] read 625 sequences (138750 bp)...\n",
      "[M::mem_process_seqs] Processed 625 reads in 0.062 CPU sec, 0.061 real sec\n",
      "[main] Version: 0.7.17-r1188\n",
      "[main] CMD: bwa mem dgorgon_reference.fa fastqs/Kamden_trimmed.fastq\n",
      "[main] Real time: 0.078 sec; CPU: 0.067 sec\n",
      "[M::bwa_idx_load_from_disk] read 0 ALT contigs\n",
      "[M::process] read 342 sequences (75924 bp)...\n",
      "[M::mem_process_seqs] Processed 342 reads in 0.036 CPU sec, 0.036 real sec\n",
      "[main] Version: 0.7.17-r1188\n",
      "[main] CMD: bwa mem dgorgon_reference.fa fastqs/Mckenzie_trimmed.fastq\n",
      "[main] Real time: 0.055 sec; CPU: 0.039 sec\n",
      "[M::bwa_idx_load_from_disk] read 0 ALT contigs\n",
      "[M::process] read 641 sequences (142302 bp)...\n",
      "[M::mem_process_seqs] Processed 641 reads in 0.034 CPU sec, 0.034 real sec\n",
      "[main] Version: 0.7.17-r1188\n",
      "[main] CMD: bwa mem dgorgon_reference.fa fastqs/Karlee_trimmed.fastq\n",
      "[main] Real time: 0.056 sec; CPU: 0.036 sec\n",
      "[M::bwa_idx_load_from_disk] read 0 ALT contigs\n",
      "[M::process] read 431 sequences (95682 bp)...\n",
      "[M::mem_process_seqs] Processed 431 reads in 0.030 CPU sec, 0.030 real sec\n",
      "[main] Version: 0.7.17-r1188\n",
      "[main] CMD: bwa mem dgorgon_reference.fa fastqs/Byron_trimmed.fastq\n",
      "[main] Real time: 0.048 sec; CPU: 0.032 sec\n",
      "[M::bwa_idx_load_from_disk] read 0 ALT contigs\n",
      "[M::process] read 388 sequences (86136 bp)...\n",
      "[M::mem_process_seqs] Processed 388 reads in 0.041 CPU sec, 0.040 real sec\n",
      "[main] Version: 0.7.17-r1188\n",
      "[main] CMD: bwa mem dgorgon_reference.fa fastqs/Case_trimmed.fastq\n",
      "[main] Real time: 0.055 sec; CPU: 0.044 sec\n",
      "[M::bwa_idx_load_from_disk] read 0 ALT contigs\n",
      "[M::process] read 306 sequences (67932 bp)...\n",
      "[M::mem_process_seqs] Processed 306 reads in 0.026 CPU sec, 0.026 real sec\n",
      "[main] Version: 0.7.17-r1188\n",
      "[main] CMD: bwa mem dgorgon_reference.fa fastqs/Libby_trimmed.fastq\n",
      "[main] Real time: 0.042 sec; CPU: 0.028 sec\n",
      "[M::bwa_idx_load_from_disk] read 0 ALT contigs\n",
      "[M::process] read 372 sequences (82584 bp)...\n",
      "[M::mem_process_seqs] Processed 372 reads in 0.031 CPU sec, 0.030 real sec\n",
      "[main] Version: 0.7.17-r1188\n",
      "[main] CMD: bwa mem dgorgon_reference.fa fastqs/Kian_trimmed.fastq\n",
      "[main] Real time: 0.054 sec; CPU: 0.033 sec\n",
      "[M::bwa_idx_load_from_disk] read 0 ALT contigs\n",
      "[M::process] read 536 sequences (118992 bp)...\n",
      "[M::mem_process_seqs] Processed 536 reads in 0.045 CPU sec, 0.045 real sec\n",
      "[main] Version: 0.7.17-r1188\n",
      "[main] CMD: bwa mem dgorgon_reference.fa fastqs/Sienna_trimmed.fastq\n",
      "[main] Real time: 0.066 sec; CPU: 0.052 sec\n",
      "[M::bwa_idx_load_from_disk] read 0 ALT contigs\n",
      "[M::process] read 570 sequences (126540 bp)...\n",
      "[M::mem_process_seqs] Processed 570 reads in 0.055 CPU sec, 0.054 real sec\n",
      "[main] Version: 0.7.17-r1188\n",
      "[main] CMD: bwa mem dgorgon_reference.fa fastqs/Damien_trimmed.fastq\n",
      "[main] Real time: 0.076 sec; CPU: 0.060 sec\n",
      "[M::bwa_idx_load_from_disk] read 0 ALT contigs\n",
      "[M::process] read 519 sequences (115218 bp)...\n",
      "[M::mem_process_seqs] Processed 519 reads in 0.054 CPU sec, 0.054 real sec\n",
      "[main] Version: 0.7.17-r1188\n",
      "[main] CMD: bwa mem dgorgon_reference.fa fastqs/Arabella_trimmed.fastq\n",
      "[main] Real time: 0.078 sec; CPU: 0.060 sec\n",
      "[M::bwa_idx_load_from_disk] read 0 ALT contigs\n",
      "[M::process] read 395 sequences (87690 bp)...\n",
      "[M::mem_process_seqs] Processed 395 reads in 0.040 CPU sec, 0.040 real sec\n",
      "[main] Version: 0.7.17-r1188\n",
      "[main] CMD: bwa mem dgorgon_reference.fa fastqs/Israel_trimmed.fastq\n",
      "[main] Real time: 0.056 sec; CPU: 0.043 sec\n",
      "[M::bwa_idx_load_from_disk] read 0 ALT contigs\n",
      "[M::process] read 548 sequences (121656 bp)...\n",
      "[M::mem_process_seqs] Processed 548 reads in 0.058 CPU sec, 0.058 real sec\n",
      "[main] Version: 0.7.17-r1188\n",
      "[main] CMD: bwa mem dgorgon_reference.fa fastqs/Adelaide_trimmed.fastq\n",
      "[main] Real time: 0.081 sec; CPU: 0.062 sec\n",
      "[M::bwa_idx_load_from_disk] read 0 ALT contigs\n",
      "[M::process] read 329 sequences (73038 bp)...\n",
      "[M::mem_process_seqs] Processed 329 reads in 0.045 CPU sec, 0.045 real sec\n",
      "[main] Version: 0.7.17-r1188\n",
      "[main] CMD: bwa mem dgorgon_reference.fa fastqs/Jaylen_trimmed.fastq\n",
      "[main] Real time: 0.061 sec; CPU: 0.050 sec\n",
      "[M::bwa_idx_load_from_disk] read 0 ALT contigs\n",
      "[M::process] read 442 sequences (98124 bp)...\n",
      "[M::mem_process_seqs] Processed 442 reads in 0.031 CPU sec, 0.030 real sec\n",
      "[main] Version: 0.7.17-r1188\n",
      "[main] CMD: bwa mem dgorgon_reference.fa fastqs/Keaton_trimmed.fastq\n",
      "[main] Real time: 0.052 sec; CPU: 0.033 sec\n",
      "[M::bwa_idx_load_from_disk] read 0 ALT contigs\n",
      "[M::process] read 301 sequences (66822 bp)...\n",
      "[M::mem_process_seqs] Processed 301 reads in 0.039 CPU sec, 0.039 real sec\n",
      "[main] Version: 0.7.17-r1188\n",
      "[main] CMD: bwa mem dgorgon_reference.fa fastqs/Arianna_trimmed.fastq\n",
      "[main] Real time: 0.060 sec; CPU: 0.041 sec\n",
      "[M::bwa_idx_load_from_disk] read 0 ALT contigs\n",
      "[M::process] read 547 sequences (121434 bp)...\n",
      "[M::mem_process_seqs] Processed 547 reads in 0.047 CPU sec, 0.046 real sec\n",
      "[main] Version: 0.7.17-r1188\n",
      "[main] CMD: bwa mem dgorgon_reference.fa fastqs/Bruce_trimmed.fastq\n",
      "[main] Real time: 0.073 sec; CPU: 0.050 sec\n",
      "[M::bwa_idx_load_from_disk] read 0 ALT contigs\n",
      "[M::process] read 566 sequences (125652 bp)...\n",
      "[M::mem_process_seqs] Processed 566 reads in 0.049 CPU sec, 0.049 real sec\n",
      "[main] Version: 0.7.17-r1188\n",
      "[main] CMD: bwa mem dgorgon_reference.fa fastqs/Brayden_trimmed.fastq\n",
      "[main] Real time: 0.066 sec; CPU: 0.054 sec\n",
      "[M::bwa_idx_load_from_disk] read 0 ALT contigs\n",
      "[M::process] read 526 sequences (116772 bp)...\n",
      "[M::mem_process_seqs] Processed 526 reads in 0.060 CPU sec, 0.059 real sec\n",
      "[main] Version: 0.7.17-r1188\n",
      "[main] CMD: bwa mem dgorgon_reference.fa fastqs/Jazlyn_trimmed.fastq\n",
      "[main] Real time: 0.086 sec; CPU: 0.065 sec\n",
      "[M::bwa_idx_load_from_disk] read 0 ALT contigs\n",
      "[M::process] read 460 sequences (102120 bp)...\n",
      "[M::mem_process_seqs] Processed 460 reads in 0.048 CPU sec, 0.048 real sec\n",
      "[main] Version: 0.7.17-r1188\n",
      "[main] CMD: bwa mem dgorgon_reference.fa fastqs/Joshua_trimmed.fastq\n",
      "[main] Real time: 0.073 sec; CPU: 0.051 sec\n",
      "[M::bwa_idx_load_from_disk] read 0 ALT contigs\n",
      "[M::process] read 334 sequences (74148 bp)...\n",
      "[M::mem_process_seqs] Processed 334 reads in 0.040 CPU sec, 0.040 real sec\n",
      "[main] Version: 0.7.17-r1188\n",
      "[main] CMD: bwa mem dgorgon_reference.fa fastqs/Gabrielle_trimmed.fastq\n",
      "[main] Real time: 0.055 sec; CPU: 0.043 sec\n",
      "[M::bwa_idx_load_from_disk] read 0 ALT contigs\n",
      "[M::process] read 387 sequences (85914 bp)...\n",
      "[M::mem_process_seqs] Processed 387 reads in 0.036 CPU sec, 0.035 real sec\n",
      "[main] Version: 0.7.17-r1188\n",
      "[main] CMD: bwa mem dgorgon_reference.fa fastqs/Bobby_trimmed.fastq\n",
      "[main] Real time: 0.052 sec; CPU: 0.039 sec\n",
      "[M::bwa_idx_load_from_disk] read 0 ALT contigs\n",
      "[M::process] read 588 sequences (130536 bp)...\n",
      "[M::mem_process_seqs] Processed 588 reads in 0.049 CPU sec, 0.049 real sec\n",
      "[main] Version: 0.7.17-r1188\n",
      "[main] CMD: bwa mem dgorgon_reference.fa fastqs/Martin_trimmed.fastq\n",
      "[main] Real time: 0.072 sec; CPU: 0.052 sec\n",
      "[M::bwa_idx_load_from_disk] read 0 ALT contigs\n",
      "[M::process] read 381 sequences (84582 bp)...\n",
      "[M::mem_process_seqs] Processed 381 reads in 0.043 CPU sec, 0.042 real sec\n",
      "[main] Version: 0.7.17-r1188\n",
      "[main] CMD: bwa mem dgorgon_reference.fa fastqs/Dominik_trimmed.fastq\n",
      "[main] Real time: 0.067 sec; CPU: 0.047 sec\n",
      "[M::bwa_idx_load_from_disk] read 0 ALT contigs\n",
      "[M::process] read 466 sequences (103452 bp)...\n",
      "[M::mem_process_seqs] Processed 466 reads in 0.057 CPU sec, 0.056 real sec\n",
      "[main] Version: 0.7.17-r1188\n",
      "[main] CMD: bwa mem dgorgon_reference.fa fastqs/Shelby_trimmed.fastq\n",
      "[main] Real time: 0.084 sec; CPU: 0.062 sec\n",
      "[M::bwa_idx_load_from_disk] read 0 ALT contigs\n",
      "[M::process] read 575 sequences (127650 bp)...\n",
      "[M::mem_process_seqs] Processed 575 reads in 0.059 CPU sec, 0.059 real sec\n",
      "[main] Version: 0.7.17-r1188\n",
      "[main] CMD: bwa mem dgorgon_reference.fa fastqs/Justus_trimmed.fastq\n",
      "[main] Real time: 0.081 sec; CPU: 0.064 sec\n",
      "[M::bwa_idx_load_from_disk] read 0 ALT contigs\n",
      "[M::process] read 683 sequences (151626 bp)...\n",
      "[M::mem_process_seqs] Processed 683 reads in 0.065 CPU sec, 0.065 real sec\n",
      "[main] Version: 0.7.17-r1188\n",
      "[main] CMD: bwa mem dgorgon_reference.fa fastqs/Destiney_trimmed.fastq\n",
      "[main] Real time: 0.086 sec; CPU: 0.071 sec\n",
      "[M::bwa_idx_load_from_disk] read 0 ALT contigs\n",
      "[M::process] read 305 sequences (67710 bp)...\n",
      "[M::mem_process_seqs] Processed 305 reads in 0.044 CPU sec, 0.043 real sec\n",
      "[main] Version: 0.7.17-r1188\n",
      "[main] CMD: bwa mem dgorgon_reference.fa fastqs/Jordyna_trimmed.fastq\n",
      "[main] Real time: 0.063 sec; CPU: 0.048 sec\n",
      "[M::bwa_idx_load_from_disk] read 0 ALT contigs\n",
      "[M::process] read 480 sequences (106560 bp)...\n",
      "[M::mem_process_seqs] Processed 480 reads in 0.052 CPU sec, 0.051 real sec\n",
      "[main] Version: 0.7.17-r1188\n",
      "[main] CMD: bwa mem dgorgon_reference.fa fastqs/Sarai_trimmed.fastq\n",
      "[main] Real time: 0.075 sec; CPU: 0.057 sec\n",
      "[M::bwa_idx_load_from_disk] read 0 ALT contigs\n",
      "[M::process] read 352 sequences (78144 bp)...\n",
      "[M::mem_process_seqs] Processed 352 reads in 0.049 CPU sec, 0.049 real sec\n",
      "[main] Version: 0.7.17-r1188\n",
      "[main] CMD: bwa mem dgorgon_reference.fa fastqs/Lorelei_trimmed.fastq\n",
      "[main] Real time: 0.074 sec; CPU: 0.054 sec\n",
      "[M::bwa_idx_load_from_disk] read 0 ALT contigs\n",
      "[M::process] read 593 sequences (131646 bp)...\n",
      "[M::mem_process_seqs] Processed 593 reads in 0.046 CPU sec, 0.046 real sec\n",
      "[main] Version: 0.7.17-r1188\n",
      "[main] CMD: bwa mem dgorgon_reference.fa fastqs/Kayla_trimmed.fastq\n",
      "[main] Real time: 0.073 sec; CPU: 0.050 sec\n",
      "[M::bwa_idx_load_from_disk] read 0 ALT contigs\n",
      "[M::process] read 499 sequences (110778 bp)...\n",
      "[M::mem_process_seqs] Processed 499 reads in 0.055 CPU sec, 0.054 real sec\n",
      "[main] Version: 0.7.17-r1188\n",
      "[main] CMD: bwa mem dgorgon_reference.fa fastqs/Giancarlo_trimmed.fastq\n",
      "[main] Real time: 0.081 sec; CPU: 0.058 sec\n",
      "[M::bwa_idx_load_from_disk] read 0 ALT contigs\n",
      "[M::process] read 467 sequences (103674 bp)...\n",
      "[M::mem_process_seqs] Processed 467 reads in 0.055 CPU sec, 0.054 real sec\n",
      "[main] Version: 0.7.17-r1188\n",
      "[main] CMD: bwa mem dgorgon_reference.fa fastqs/Cali_trimmed.fastq\n",
      "[main] Real time: 0.074 sec; CPU: 0.060 sec\n",
      "[M::bwa_idx_load_from_disk] read 0 ALT contigs\n",
      "[M::process] read 626 sequences (138972 bp)...\n",
      "[M::mem_process_seqs] Processed 626 reads in 0.060 CPU sec, 0.059 real sec\n",
      "[main] Version: 0.7.17-r1188\n",
      "[main] CMD: bwa mem dgorgon_reference.fa fastqs/Dania_trimmed.fastq\n",
      "[main] Real time: 0.077 sec; CPU: 0.066 sec\n",
      "[M::bwa_idx_load_from_disk] read 0 ALT contigs\n",
      "[M::process] read 588 sequences (130536 bp)...\n",
      "[M::mem_process_seqs] Processed 588 reads in 0.052 CPU sec, 0.052 real sec\n",
      "[main] Version: 0.7.17-r1188\n",
      "[main] CMD: bwa mem dgorgon_reference.fa fastqs/Cason_trimmed.fastq\n",
      "[main] Real time: 0.078 sec; CPU: 0.058 sec\n",
      "[M::bwa_idx_load_from_disk] read 0 ALT contigs\n",
      "[M::process] read 523 sequences (116106 bp)...\n",
      "[M::mem_process_seqs] Processed 523 reads in 0.049 CPU sec, 0.049 real sec\n",
      "[main] Version: 0.7.17-r1188\n",
      "[main] CMD: bwa mem dgorgon_reference.fa fastqs/Mariela_trimmed.fastq\n",
      "[main] Real time: 0.065 sec; CPU: 0.052 sec\n",
      "[M::bwa_idx_load_from_disk] read 0 ALT contigs\n",
      "[M::process] read 315 sequences (69930 bp)...\n",
      "[M::mem_process_seqs] Processed 315 reads in 0.042 CPU sec, 0.041 real sec\n",
      "[main] Version: 0.7.17-r1188\n",
      "[main] CMD: bwa mem dgorgon_reference.fa fastqs/Greta_trimmed.fastq\n",
      "[main] Real time: 0.068 sec; CPU: 0.046 sec\n",
      "[M::bwa_idx_load_from_disk] read 0 ALT contigs\n",
      "[M::process] read 322 sequences (71484 bp)...\n",
      "[M::mem_process_seqs] Processed 322 reads in 0.039 CPU sec, 0.038 real sec\n",
      "[main] Version: 0.7.17-r1188\n",
      "[main] CMD: bwa mem dgorgon_reference.fa fastqs/Dereon_trimmed.fastq\n",
      "[main] Real time: 0.062 sec; CPU: 0.043 sec\n",
      "[M::bwa_idx_load_from_disk] read 0 ALT contigs\n",
      "[M::process] read 313 sequences (69486 bp)...\n",
      "[M::mem_process_seqs] Processed 313 reads in 0.022 CPU sec, 0.021 real sec\n",
      "[main] Version: 0.7.17-r1188\n",
      "[main] CMD: bwa mem dgorgon_reference.fa fastqs/Kirsten_trimmed.fastq\n",
      "[main] Real time: 0.045 sec; CPU: 0.024 sec\n",
      "[M::bwa_idx_load_from_disk] read 0 ALT contigs\n",
      "[M::process] read 600 sequences (133200 bp)...\n",
      "[M::mem_process_seqs] Processed 600 reads in 0.058 CPU sec, 0.058 real sec\n",
      "[main] Version: 0.7.17-r1188\n",
      "[main] CMD: bwa mem dgorgon_reference.fa fastqs/Bridget_trimmed.fastq\n",
      "[main] Real time: 0.081 sec; CPU: 0.062 sec\n",
      "[M::bwa_idx_load_from_disk] read 0 ALT contigs\n",
      "[M::process] read 671 sequences (148962 bp)...\n",
      "[M::mem_process_seqs] Processed 671 reads in 0.058 CPU sec, 0.058 real sec\n",
      "[main] Version: 0.7.17-r1188\n",
      "[main] CMD: bwa mem dgorgon_reference.fa fastqs/Santiago_trimmed.fastq\n",
      "[main] Real time: 0.085 sec; CPU: 0.063 sec\n",
      "[M::bwa_idx_load_from_disk] read 0 ALT contigs\n",
      "[M::process] read 441 sequences (97902 bp)...\n",
      "[M::mem_process_seqs] Processed 441 reads in 0.038 CPU sec, 0.038 real sec\n",
      "[main] Version: 0.7.17-r1188\n",
      "[main] CMD: bwa mem dgorgon_reference.fa fastqs/Camilla_trimmed.fastq\n",
      "[main] Real time: 0.055 sec; CPU: 0.041 sec\n",
      "[M::bwa_idx_load_from_disk] read 0 ALT contigs\n",
      "[M::process] read 468 sequences (103896 bp)...\n",
      "[M::mem_process_seqs] Processed 468 reads in 0.038 CPU sec, 0.038 real sec\n",
      "[main] Version: 0.7.17-r1188\n",
      "[main] CMD: bwa mem dgorgon_reference.fa fastqs/Serena_trimmed.fastq\n",
      "[main] Real time: 0.060 sec; CPU: 0.041 sec\n",
      "[M::bwa_idx_load_from_disk] read 0 ALT contigs\n",
      "[M::process] read 683 sequences (151626 bp)...\n",
      "[M::mem_process_seqs] Processed 683 reads in 0.053 CPU sec, 0.053 real sec\n",
      "[main] Version: 0.7.17-r1188\n",
      "[main] CMD: bwa mem dgorgon_reference.fa fastqs/Natalia_trimmed.fastq\n",
      "[main] Real time: 0.083 sec; CPU: 0.056 sec\n"
     ]
    }
   ],
   "source": [
    "%%bash\n",
    "\n",
    "python pipeline.py"
   ]
  },
  {
   "cell_type": "code",
   "execution_count": 96,
   "metadata": {},
   "outputs": [
    {
     "name": "stdout",
     "output_type": "stream",
     "text": [
      "Terry\n",
      "Tristian\n",
      "Jordyn\n",
      "Mckayla\n",
      "Abbey\n",
      "Javion\n",
      "Alana\n",
      "Kamden\n",
      "Mckenzie\n",
      "Karlee\n",
      "Byron\n",
      "Case\n",
      "Libby\n",
      "Kian\n",
      "Sienna\n",
      "Damien\n",
      "Arabella\n",
      "Israel\n",
      "Adelaide\n",
      "Jaylen\n",
      "Keaton\n",
      "Arianna\n",
      "Bruce\n",
      "Brayden\n",
      "Jazlyn\n",
      "Joshua\n",
      "Gabrielle\n",
      "Bobby\n",
      "Martin\n",
      "Dominik\n",
      "Shelby\n",
      "Justus\n",
      "Destiney\n",
      "Jordyna\n",
      "Sarai\n",
      "Lorelei\n",
      "Kayla\n",
      "Giancarlo\n",
      "Cali\n",
      "Dania\n",
      "Cason\n",
      "Mariela\n",
      "Greta\n",
      "Dereon\n",
      "Kirsten\n",
      "Bridget\n",
      "Santiago\n",
      "Camilla\n",
      "Serena\n",
      "Natalia\n"
     ]
    }
   ],
   "source": [
    "import os\n",
    "for x in os.listdir('fastqs'):\n",
    "    print(x.split(\"_\")[0])"
   ]
  },
  {
   "cell_type": "code",
   "execution_count": null,
   "metadata": {},
   "outputs": [],
   "source": []
  }
 ],
 "metadata": {
  "kernelspec": {
   "display_name": "Python 3",
   "language": "python",
   "name": "python3"
  },
  "language_info": {
   "codemirror_mode": {
    "name": "ipython",
    "version": 3
   },
   "file_extension": ".py",
   "mimetype": "text/x-python",
   "name": "python",
   "nbconvert_exporter": "python",
   "pygments_lexer": "ipython3",
   "version": "3.7.6"
  },
  "toc": {
   "base_numbering": 1,
   "nav_menu": {},
   "number_sections": true,
   "sideBar": true,
   "skip_h1_title": false,
   "title_cell": "Table of Contents",
   "title_sidebar": "Contents",
   "toc_cell": false,
   "toc_position": {},
   "toc_section_display": true,
   "toc_window_display": false
  }
 },
 "nbformat": 4,
 "nbformat_minor": 4
}
