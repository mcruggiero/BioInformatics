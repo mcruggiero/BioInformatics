{
 "cells": [
  {
   "cell_type": "markdown",
   "metadata": {
    "toc": true
   },
   "source": [
    "<h1>Table of Contents<span class=\"tocSkip\"></span></h1>\n",
    "<div class=\"toc\"><ul class=\"toc-item\"><li><span><a href=\"#Assignment\" data-toc-modified-id=\"Assignment-1\"><span class=\"toc-item-num\">1&nbsp;&nbsp;</span>Assignment</a></span></li><li><span><a href=\"#Step-1-Ensembl-id-for-MC1R\" data-toc-modified-id=\"Step-1-Ensembl-id-for-MC1R-2\"><span class=\"toc-item-num\">2&nbsp;&nbsp;</span>Step 1 Ensembl id for MC1R</a></span></li><li><span><a href=\"#Homework-Script\" data-toc-modified-id=\"Homework-Script-3\"><span class=\"toc-item-num\">3&nbsp;&nbsp;</span>Homework Script</a></span></li></ul></div>"
   ]
  },
  {
   "cell_type": "markdown",
   "metadata": {},
   "source": [
    "# Week 8"
   ]
  },
  {
   "cell_type": "markdown",
   "metadata": {},
   "source": [
    "## Assignment"
   ]
  },
  {
   "cell_type": "markdown",
   "metadata": {},
   "source": [
    "Assignment\n",
    "You’re a computational scientist that loves the color red. So much so that you would like to discover all animals that have red hair.\n",
    "\n",
    "A quick google search tells you a gene responsible for this color (try it yourself). MC1R\n",
    "\n",
    "Sometimes it's not enough to know just the gene name, you need specific ids for certain databases.\n",
    "\n",
    "Step 1. Use the mygene database restful api endpoint to get the ensembl id. Start from the name of the gene (MC1R), and end with the ensembl id. It may take multiple queries to get there. This does not need to be written to a file, you need to use it in your code to do the ensembl database lookup.\n",
    "*Make sure to only look for human species\n",
    "\n",
    "Now that you have the ensembl id, use the Ensemble database and RESTful api to get more information about this red hair gene.\n",
    "\n",
    "Step 2. Use the ensembl database endpoints to grab the nucleotide sequence data for MC1R. Write this sequence to a fasta file. (Remember a fasta file always has a header > , followed by a sequence). \n",
    "\n",
    "Find the longest open reading frame (ORF) and then convert it from DNA to Amino Acid. Feel free to use any function you find online to to get the longest ORF (as long as it doesn't require you to install other pip packages). \n",
    "Then use biopython (from Bio.Seq import Seq) to convert the nucleotide sequence into an amino acid sequence. Write this amino acid sequence to the same fasta file.\n",
    "\n",
    "Step 3. What other species have genes that are homologous to MC1R? Write the full unique list of species to a text file call mc1r_homology_list.txt.\n",
    "\n",
    "Your final week8 directory should have a single python script. And two outputs, a fasta file and a homology txt file.\n",
    "\n",
    "You can use this link to find appropriate endpoints:\n",
    "\n",
    "http://rest.ensembl.org/?content-type=text/html\n",
    "\n",
    "\n",
    "Other notes:\n",
    "Please use the ensembl id for the DNA sequence (not the protein sequences).\n",
    "\n",
    "Since it is the full DNA sequence it will contain introns, exons, and maybe splice sites.\n",
    "\n",
    "Find the longest open reading frame (ORF) and then convert it from DNA to Amino Acid. Feel free to use any function you find online to to get the longest ORF (as long as it doesn't require you to install other pip packages)\n",
    "\n",
    "\n",
    "If anything is unclear please us the Questions and Answers forum so your classmates can benefit from it.\n"
   ]
  },
  {
   "cell_type": "markdown",
   "metadata": {},
   "source": [
    "## Step 1 Ensembl id for MC1R"
   ]
  },
  {
   "cell_type": "code",
   "execution_count": 5,
   "metadata": {},
   "outputs": [
    {
     "name": "stdout",
     "output_type": "stream",
     "text": [
      "{'Transcript': [{'source': 'havana', 'end': 89915168, 'id': 'ENST00000539976', 'display_name': 'MC1R-201', 'biotype': 'retained_intron', 'assembly_name': 'GRCh38', 'start': 89912119, 'version': 1, 'is_canonical': 0, 'logic_name': 'havana_homo_sapiens', 'species': 'homo_sapiens', 'Parent': 'ENSG00000258839', 'db_type': 'core', 'Exon': [{'db_type': 'core', 'assembly_name': 'GRCh38', 'start': 89912119, 'species': 'homo_sapiens', 'id': 'ENSE00002231523', 'end': 89912645, 'object_type': 'Exon', 'version': 1, 'seq_region_name': '16', 'strand': 1}, {'strand': 1, 'object_type': 'Exon', 'seq_region_name': '16', 'version': 1, 'start': 89913232, 'db_type': 'core', 'assembly_name': 'GRCh38', 'species': 'homo_sapiens', 'id': 'ENSE00002202946', 'end': 89915168}], 'object_type': 'Transcript', 'seq_region_name': '16', 'strand': 1}, {'Translation': {'db_type': 'core', 'length': 382, 'start': 89919259, 'species': 'homo_sapiens', 'Parent': 'ENST00000555427', 'id': 'ENSP00000451760', 'end': 89920788, 'object_type': 'Translation'}, 'start': 89913418, 'biotype': 'protein_coding', 'assembly_name': 'GRCh38', 'display_name': 'MC1R-203', 'end': 89920973, 'id': 'ENST00000555427', 'source': 'havana', 'version': 1, 'db_type': 'core', 'Parent': 'ENSG00000258839', 'species': 'homo_sapiens', 'logic_name': 'havana_homo_sapiens', 'is_canonical': 0, 'strand': 1, 'seq_region_name': '16', 'object_type': 'Transcript', 'Exon': [{'strand': 1, 'version': 1, 'seq_region_name': '16', 'object_type': 'Exon', 'start': 89913418, 'assembly_name': 'GRCh38', 'db_type': 'core', 'id': 'ENSE00002508940', 'end': 89915140, 'species': 'homo_sapiens'}, {'object_type': 'Exon', 'seq_region_name': '16', 'version': 1, 'strand': 1, 'db_type': 'core', 'assembly_name': 'GRCh38', 'start': 89917876, 'species': 'homo_sapiens', 'id': 'ENSE00002445563', 'end': 89918047}, {'db_type': 'core', 'assembly_name': 'GRCh38', 'start': 89918851, 'species': 'homo_sapiens', 'id': 'ENSE00002477640', 'end': 89920208, 'object_type': 'Exon', 'seq_region_name': '16', 'version': 1, 'strand': 1}, {'species': 'homo_sapiens', 'id': 'ENSE00002535013', 'end': 89920973, 'db_type': 'core', 'assembly_name': 'GRCh38', 'start': 89920590, 'object_type': 'Exon', 'version': 1, 'seq_region_name': '16', 'strand': 1}]}, {'version': 1, 'Translation': {'object_type': 'Translation', 'Parent': 'ENST00000639847', 'id': 'ENSP00000492011', 'end': 89920212, 'species': 'homo_sapiens', 'db_type': 'core', 'start': 89919259, 'length': 317}, 'start': 89914847, 'assembly_name': 'GRCh38', 'biotype': 'protein_coding', 'display_name': 'MC1R-204', 'id': 'ENST00000639847', 'end': 89920951, 'source': 'havana', 'strand': 1, 'seq_region_name': '16', 'object_type': 'Transcript', 'Exon': [{'version': 1, 'seq_region_name': '16', 'object_type': 'Exon', 'strand': 1, 'end': 89915140, 'id': 'ENSE00003804917', 'species': 'homo_sapiens', 'assembly_name': 'GRCh38', 'db_type': 'core', 'start': 89914847}, {'db_type': 'core', 'assembly_name': 'GRCh38', 'start': 89917876, 'species': 'homo_sapiens', 'id': 'ENSE00002445563', 'end': 89918047, 'object_type': 'Exon', 'seq_region_name': '16', 'version': 1, 'strand': 1}, {'strand': 1, 'version': 1, 'seq_region_name': '16', 'object_type': 'Exon', 'id': 'ENSE00003803225', 'end': 89920951, 'species': 'homo_sapiens', 'start': 89918851, 'assembly_name': 'GRCh38', 'db_type': 'core'}], 'db_type': 'core', 'Parent': 'ENSG00000258839', 'species': 'homo_sapiens', 'logic_name': 'havana_homo_sapiens', 'is_canonical': 0}, {'object_type': 'Transcript', 'seq_region_name': '16', 'strand': 1, 'Exon': [{'strand': 1, 'version': 1, 'seq_region_name': '16', 'object_type': 'Exon', 'start': 89917879, 'assembly_name': 'GRCh38', 'db_type': 'core', 'id': 'ENSE00002458332', 'end': 89920977, 'species': 'homo_sapiens'}], 'db_type': 'core', 'is_canonical': 1, 'logic_name': 'ensembl_havana_transcript_homo_sapiens', 'species': 'homo_sapiens', 'Parent': 'ENSG00000258839', 'version': 1, 'display_name': 'MC1R-202', 'assembly_name': 'GRCh38', 'biotype': 'protein_coding', 'start': 89917879, 'Translation': {'object_type': 'Translation', 'Parent': 'ENST00000555147', 'id': 'ENSP00000451605', 'end': 89920212, 'species': 'homo_sapiens', 'db_type': 'core', 'start': 89919259, 'length': 317}, 'source': 'ensembl_havana', 'end': 89920977, 'id': 'ENST00000555147'}], 'start': 89912119, 'display_name': 'MC1R', 'assembly_name': 'GRCh38', 'biotype': 'protein_coding', 'id': 'ENSG00000258839', 'end': 89920977, 'source': 'ensembl_havana', 'version': 3, 'db_type': 'core', 'species': 'homo_sapiens', 'logic_name': 'ensembl_havana_gene_homo_sapiens', 'strand': 1, 'object_type': 'Gene', 'seq_region_name': '16', 'description': 'melanocortin 1 receptor [Source:HGNC Symbol;Acc:HGNC:6929]'}\n"
     ]
    }
   ],
   "source": [
    "import requests, sys\n",
    " \n",
    "server = \"https://rest.ensembl.org\"\n",
    "ext = \"/lookup/id/ENSG00000258839?expand=1\"\n",
    " \n",
    "r = requests.get(server+ext, headers={ \"Content-Type\" : \"application/json\"})\n",
    " \n",
    "if not r.ok:\n",
    "  r.raise_for_status()\n",
    "  sys.exit()\n",
    " \n",
    "decoded = r.json()\n",
    "print(repr(decoded))"
   ]
  },
  {
   "cell_type": "code",
   "execution_count": 6,
   "metadata": {},
   "outputs": [
    {
     "name": "stdout",
     "output_type": "stream",
     "text": [
      "hi\n"
     ]
    }
   ],
   "source": [
    "print(\"hi\")"
   ]
  },
  {
   "cell_type": "code",
   "execution_count": 11,
   "metadata": {},
   "outputs": [],
   "source": [
    "import ensembl_rest\n",
    "\n",
    "fasta_dict =    ensembl_rest.sequence_id(\n",
    "                'ENSG00000258839',species='human',\n",
    "                headers={'content-type': 'fasta'})"
   ]
  },
  {
   "cell_type": "code",
   "execution_count": 12,
   "metadata": {},
   "outputs": [
    {
     "data": {
      "text/plain": [
       "dict_keys(['desc', 'query', 'seq', 'molecule', 'id', 'version'])"
      ]
     },
     "execution_count": 12,
     "metadata": {},
     "output_type": "execute_result"
    }
   ],
   "source": [
    "fasta_dict.keys()"
   ]
  },
  {
   "cell_type": "code",
   "execution_count": 13,
   "metadata": {},
   "outputs": [
    {
     "data": {
      "text/plain": [
       "'chromosome:GRCh38:16:89912119:89920977:1'"
      ]
     },
     "execution_count": 13,
     "metadata": {},
     "output_type": "execute_result"
    }
   ],
   "source": [
    "fasta_dict[\"desc\"]"
   ]
  },
  {
   "cell_type": "code",
   "execution_count": 16,
   "metadata": {},
   "outputs": [],
   "source": [
    "dna_chain = fasta_dict[\"seq\"]"
   ]
  },
  {
   "cell_type": "code",
   "execution_count": 15,
   "metadata": {},
   "outputs": [
    {
     "data": {
      "text/plain": [
       "8859"
      ]
     },
     "execution_count": 15,
     "metadata": {},
     "output_type": "execute_result"
    }
   ],
   "source": [
    "fast_a_fasta = open(\"MC1R.fasta\",\"w\") \n",
    "fast_a_fasta.write(\">{}\\n\".format(fasta_dict[\"desc\"]))\n",
    "fast_a_fasta.write(fasta_dict[\"seq\"])"
   ]
  },
  {
   "cell_type": "code",
   "execution_count": 22,
   "metadata": {},
   "outputs": [
    {
     "name": "stdout",
     "output_type": "stream",
     "text": [
      "ATGTGCACGCGTGTGTGGGTAAACGTGTGTGCGCACGTATGTATGTGTGTACATTTGTATGTGTGTACATTTGTATGCATGTGTGCCTGTGTGTGTGTGCCTGTGTGTGTGGGTGCACATTTGTGTGTGTGTGTGTGCCTGTGTGTGTGTGTGCACGTATGTATGTGTGCACACTTGTATGCATGTGTGCCTGTGTGTGTGGGTGCACATTTGTGTGTGTGTGCCTGTGTGTGTGGGTGCACATTTGTGTGTGTGGGTGCACATTTGTGTGTGTGTGCGCCTGTGTGGGTGCACATTTGTGTGTGTGTGTGCCTGTGTGTGTGCCTGTGTGTGTGGGTGCCTGTGTGTGTGGGGCACATTTGTGTGTGTGTGTGCCTGTGTGTGGGTGCACATTTGTGTGTGTGCCTCTGTGTGTGTGCCTGTGTGTGGGGGTGCACATTTGTGTGTGCGCCTGTGTGTGGGGGTGCACATTTGTGTGTGCGCCTGTGTGTGTGGGTGCACATTTGTGTGTGTGTGCGCCTGTGTGTGTGGGTGCCTGTGTGTGTGTGGGGCACATTTGTGTGTGTGTGTGTGCCTGTGTGTGGGTGCACATTTGTGTGTGTGCCTGTGTGTGTGTGCCTGTGTGTGGGGGTGCACATTTGTGTGTGTGTGTGCCTGTGTGTGGGGGTGCACATTTGTGTGTGTGTGTGCCTGTGTGTGTGGGTGCACATTTGTGTGTGTGTGTGCCTGTGTGTGTGGGTGCACATTTGTGTGTGTGTGCCTGTGTGTGTGGGTGCACATTTGTGTGTGTGTGTGCCTGTGTGTGTGGGTGCACATTTGTGTGTGTGCCTGTGTGTGGGTGCACATTTGTGTGTGTGTGCCTGTGTGTGTGTGCCTGTGTGTGTGGGTGCACATTTGTGTGTGTGTGTGCCTGTGTGTGTGGGTGCACATTTGTGTGTGTGTGTGTGCCTGTGTGTGTGTTGCAGGCCCTGGATGCCAGACACTGAATAA\n"
     ]
    }
   ],
   "source": [
    "# Regex is standard, so we will run with that\n",
    "\n",
    "import re\n",
    "\n",
    "# This will give us all of the ORFs, out of curiosity, I wanted to look at all\n",
    "# of them\n",
    "chain_frame = re.findall(r'ATG(?:(?!TAA|TAG|TGA)...)*(?:TAA|TAG|TGA)',DNAchain)\n",
    "longest_chain = max(chain_frame, key=len)\n",
    "print(longest_chain)"
   ]
  },
  {
   "cell_type": "code",
   "execution_count": 31,
   "metadata": {},
   "outputs": [
    {
     "data": {
      "text/plain": [
       "'MCTRVWVNVCAHVCMCVHLYVCTFVCMCACVCVPVCVGAHLCVCVCLCVCVHVCMCAHLYACVPVCVGAHLCVCACVCGCTFVCVGAHLCVCAPVWVHICVCVCLCVCLCVWVPVCVGHICVCVCLCVGAHLCVCLCVCACVWGCTFVCAPVCGGAHLCVRLCVWVHICVCVRLCVWVPVCVWGTFVCVCVPVCGCTFVCVPVCVCLCVGVHICVCVCLCVGVHICVCVCLCVWVHICVCVCLCVWVHICVCVPVCVGAHLCVCVPVCVGAHLCVCLCVGAHLCVCACVCVPVCVGAHLCVCVPVCVGAHLCVCVCLCVCCRPWMPDTE*'"
      ]
     },
     "execution_count": 31,
     "metadata": {},
     "output_type": "execute_result"
    }
   ],
   "source": [
    "from Bio.Seq import translate\n",
    "\n"
   ]
  },
  {
   "cell_type": "code",
   "execution_count": 38,
   "metadata": {},
   "outputs": [
    {
     "data": {
      "text/plain": [
       "dict_keys(['desc', 'query', 'seq', 'molecule', 'id', 'version'])"
      ]
     },
     "execution_count": 38,
     "metadata": {},
     "output_type": "execute_result"
    }
   ],
   "source": [
    "fasta_dict.keys()"
   ]
  },
  {
   "cell_type": "markdown",
   "metadata": {},
   "source": [
    "## Homework Script"
   ]
  },
  {
   "cell_type": "code",
   "execution_count": 36,
   "metadata": {},
   "outputs": [
    {
     "name": "stdout",
     "output_type": "stream",
     "text": [
      "Overwriting week8.py\n"
     ]
    }
   ],
   "source": [
    "%%writefile week8.py\n",
    "from Bio.Seq import translate\n",
    "import re\n",
    "import ensembl_rest\n",
    "\n",
    "# This structure is overkill, but why not?\n",
    "class Main:\n",
    "    def __init__(self):\n",
    "        fasta_dict, longest_chain = self.part_2()\n",
    "        \n",
    "    \n",
    "    def part_2(self):\n",
    "        fasta_dict = ensembl_rest.sequence_id(\n",
    "             'ENSG00000258839',species='human',\n",
    "             headers={'content-type': 'fasta'})\n",
    "\n",
    "        dna_chain = fasta_dict[\"seq\"]\n",
    "        \n",
    "        # Regex is standard\n",
    "        chain_frame = re.findall(r'ATG(?:(?!TAA|TAG|TGA)...)*(?:TAA|TAG|TGA)',dna_chain)\n",
    "        longest_chain = max(chain_frame, key=len)\n",
    "        \n",
    "        fast_a_fasta = open(\"MC1R.fasta\",\"w\") \n",
    "        fast_a_fasta.write(\">{}\\n\".format(fasta_dict[\"desc\"]))\n",
    "        fast_a_fasta.write(fasta_dict[\"seq\"])\n",
    "        fast_a_fasta.write(\"\\n+\\n\")\n",
    "        fast_a_fasta.write(translate(longest_chain))\n",
    "        \n",
    "        return fasta_dict, longest_chain\n",
    "    \n",
    "    def part_3(self):\n",
    "        \n",
    "\n",
    "if __name__== \"__main__\": \n",
    "    Main()"
   ]
  },
  {
   "cell_type": "code",
   "execution_count": 37,
   "metadata": {},
   "outputs": [],
   "source": [
    "%%bash\n",
    "\n",
    "python week8.py"
   ]
  },
  {
   "cell_type": "code",
   "execution_count": 45,
   "metadata": {},
   "outputs": [],
   "source": [
    "fasta_dict = ensembl_rest.homology_ensemblgene(\n",
    "     'ENSG00000258839')"
   ]
  },
  {
   "cell_type": "code",
   "execution_count": 65,
   "metadata": {},
   "outputs": [
    {
     "data": {
      "text/plain": [
       "{'source': {'species': 'homo_sapiens',\n",
       "  'perc_pos': 41.9558,\n",
       "  'id': 'ENSG00000258839',\n",
       "  'perc_id': 23.9748,\n",
       "  'cigar_line': '9M15D7MDMD14MD6MDM9D2M2D3MD5MD30MD26M3DM2D46MD7M2D12M18D2MD8MD46MD4M2D2MD37M2D5MD3MD40M54D',\n",
       "  'protein_id': 'ENSP00000451605',\n",
       "  'taxon_id': 9606,\n",
       "  'align_seq': 'MAVQGSQRR---------------LLGSLNS-T-PTAIPQLGLAANQT-GARCLE-V---------SI--SDG-LFLSL-GLVSLVENALVVATIAKNRNLHSPMYCFIC-CLALSDLLVSGSNVLETAVILLLEAG---A--LVARAAVLQQLDNVIDVITCSSMLSSLCFLGAIAVDRYISIFYALR-YHSIVTL--PRARRAVAAIWV------------------AS-VVFSTLFI-AYYDHVAVLLCLVVFFLAMLVLMAVLYVHMLARACQHAQGIARLHK-RQRP--VH-QGFGLKGAVTLTILLGIFFLCWGPFFLHLTLIVLCPE--HPTCG-CIF-KNFNLFLALIICNAIIDPLIYAFHSQELRRTLKEVLTCSW------------------------------------------------------'},\n",
       " 'dn_ds': None,\n",
       " 'method_link_type': 'ENSEMBL_PARALOGUES',\n",
       " 'target': {'taxon_id': 9606,\n",
       "  'cigar_line': '2M3DM3D17M3DMD3M4D3MDMD5M6D11MD3MD9MD28MD13M5D12MD14M5D3MD23MD5M2DMD33MD2MD5MD6MDMD40MD4MD5MD32MD3M2D5MD4M2D33M2D54M',\n",
       "  'protein_id': 'ENSP00000305416',\n",
       "  'align_seq': 'MG---P---TSVPLVKAHRSSVSDYV---N-YDI----IVR-H-YNYTG------KLNISADKENS-IKL-TSVVFILIC-CFIILENIFVLLTIWKTKKFHRPMYYFI-GNLALSDLLAGVA-----YTANLLLSGATT-YKLTPAQWFLREGS-----MFV-ALSASVFSLLAIAIERYITMLKM-KLHNG--S-NNFRLFLLISACWVISLILGGLPIMGWNCISAL-SS-CSTVL-PLYHKH-Y-ILFCTTVFTLLLLSIVILYCRIYSLVRTRSRRLTFRKNIS-KASR-SSEKS-LALLKTVIIVLSVFIACWAPLFILLLLDVGCK-VKT--CDILF-RAEY--FLVLAVLNSGTNPIIYTLTNKEMRRAFIRIMSC--CKCPSGDSAGKFKRPIIAGMEFSRSKSDNSSHPQKDEGDNPETIMSSGNVNSSS',\n",
       "  'id': 'ENSG00000170989',\n",
       "  'perc_pos': 34.8168,\n",
       "  'species': 'homo_sapiens',\n",
       "  'perc_id': 19.8953},\n",
       " 'taxonomy_level': 'Chordata',\n",
       " 'type': 'other_paralog'}"
      ]
     },
     "execution_count": 65,
     "metadata": {},
     "output_type": "execute_result"
    }
   ],
   "source": [
    "fasta_dict[\"data\"][0]['homologies'][0]"
   ]
  },
  {
   "cell_type": "code",
   "execution_count": null,
   "metadata": {},
   "outputs": [],
   "source": []
  }
 ],
 "metadata": {
  "kernelspec": {
   "display_name": "Python 3",
   "language": "python",
   "name": "python3"
  },
  "language_info": {
   "codemirror_mode": {
    "name": "ipython",
    "version": 3
   },
   "file_extension": ".py",
   "mimetype": "text/x-python",
   "name": "python",
   "nbconvert_exporter": "python",
   "pygments_lexer": "ipython3",
   "version": "3.6.10"
  },
  "toc": {
   "base_numbering": 1,
   "nav_menu": {},
   "number_sections": true,
   "sideBar": true,
   "skip_h1_title": true,
   "title_cell": "Table of Contents",
   "title_sidebar": "Contents",
   "toc_cell": true,
   "toc_position": {},
   "toc_section_display": true,
   "toc_window_display": true
  }
 },
 "nbformat": 4,
 "nbformat_minor": 4
}
