{
 "cells": [
  {
   "cell_type": "markdown",
   "metadata": {
    "toc": true
   },
   "source": [
    "<h1>Table of Contents<span class=\"tocSkip\"></span></h1>\n",
    "<div class=\"toc\"><ul class=\"toc-item\"><li><span><a href=\"#Assignment\" data-toc-modified-id=\"Assignment-1\"><span class=\"toc-item-num\">1&nbsp;&nbsp;</span>Assignment</a></span></li><li><span><a href=\"#Step-1-Ensembl-id-for-MC1R\" data-toc-modified-id=\"Step-1-Ensembl-id-for-MC1R-2\"><span class=\"toc-item-num\">2&nbsp;&nbsp;</span>Step 1 Ensembl id for MC1R</a></span><ul class=\"toc-item\"><li><span><a href=\"#Homework-Note:\" data-toc-modified-id=\"Homework-Note:-2.1\"><span class=\"toc-item-num\">2.1&nbsp;&nbsp;</span>Homework Note:</a></span></li></ul></li><li><span><a href=\"#Homework-Script\" data-toc-modified-id=\"Homework-Script-3\"><span class=\"toc-item-num\">3&nbsp;&nbsp;</span>Homework Script</a></span></li></ul></div>"
   ]
  },
  {
   "cell_type": "markdown",
   "metadata": {},
   "source": [
    "# Week 8"
   ]
  },
  {
   "cell_type": "markdown",
   "metadata": {},
   "source": [
    "## Assignment"
   ]
  },
  {
   "cell_type": "markdown",
   "metadata": {},
   "source": [
    "Assignment\n",
    "You’re a computational scientist that loves the color red. So much so that you would like to discover all animals that have red hair.\n",
    "\n",
    "A quick google search tells you a gene responsible for this color (try it yourself). MC1R\n",
    "\n",
    "Sometimes it's not enough to know just the gene name, you need specific ids for certain databases.\n",
    "\n",
    "Step 1. Use the mygene database restful api endpoint to get the ensembl id. Start from the name of the gene (MC1R), and end with the ensembl id. It may take multiple queries to get there. This does not need to be written to a file, you need to use it in your code to do the ensembl database lookup.\n",
    "*Make sure to only look for human species\n",
    "\n",
    "Now that you have the ensembl id, use the Ensemble database and RESTful api to get more information about this red hair gene.\n",
    "\n",
    "Step 2. Use the ensembl database endpoints to grab the nucleotide sequence data for MC1R. Write this sequence to a fasta file. (Remember a fasta file always has a header > , followed by a sequence). \n",
    "\n",
    "Find the longest open reading frame (ORF) and then convert it from DNA to Amino Acid. Feel free to use any function you find online to to get the longest ORF (as long as it doesn't require you to install other pip packages). \n",
    "Then use biopython (from Bio.Seq import Seq) to convert the nucleotide sequence into an amino acid sequence. Write this amino acid sequence to the same fasta file.\n",
    "\n",
    "Step 3. What other species have genes that are homologous to MC1R? Write the full unique list of species to a text file call mc1r_homology_list.txt.\n",
    "\n",
    "Your final week8 directory should have a single python script. And two outputs, a fasta file and a homology txt file.\n",
    "\n",
    "You can use this link to find appropriate endpoints:\n",
    "\n",
    "http://rest.ensembl.org/?content-type=text/html\n",
    "\n",
    "\n",
    "Other notes:\n",
    "Please use the ensembl id for the DNA sequence (not the protein sequences).\n",
    "\n",
    "Since it is the full DNA sequence it will contain introns, exons, and maybe splice sites.\n",
    "\n",
    "Find the longest open reading frame (ORF) and then convert it from DNA to Amino Acid. Feel free to use any function you find online to to get the longest ORF (as long as it doesn't require you to install other pip packages)\n",
    "\n",
    "\n",
    "If anything is unclear please us the Questions and Answers forum so your classmates can benefit from it.\n"
   ]
  },
  {
   "cell_type": "markdown",
   "metadata": {},
   "source": [
    "## Step 1 Ensembl id for MC1R"
   ]
  },
  {
   "cell_type": "code",
   "execution_count": 5,
   "metadata": {},
   "outputs": [
    {
     "name": "stdout",
     "output_type": "stream",
     "text": [
      "{'Transcript': [{'source': 'havana', 'end': 89915168, 'id': 'ENST00000539976', 'display_name': 'MC1R-201', 'biotype': 'retained_intron', 'assembly_name': 'GRCh38', 'start': 89912119, 'version': 1, 'is_canonical': 0, 'logic_name': 'havana_homo_sapiens', 'species': 'homo_sapiens', 'Parent': 'ENSG00000258839', 'db_type': 'core', 'Exon': [{'db_type': 'core', 'assembly_name': 'GRCh38', 'start': 89912119, 'species': 'homo_sapiens', 'id': 'ENSE00002231523', 'end': 89912645, 'object_type': 'Exon', 'version': 1, 'seq_region_name': '16', 'strand': 1}, {'strand': 1, 'object_type': 'Exon', 'seq_region_name': '16', 'version': 1, 'start': 89913232, 'db_type': 'core', 'assembly_name': 'GRCh38', 'species': 'homo_sapiens', 'id': 'ENSE00002202946', 'end': 89915168}], 'object_type': 'Transcript', 'seq_region_name': '16', 'strand': 1}, {'Translation': {'db_type': 'core', 'length': 382, 'start': 89919259, 'species': 'homo_sapiens', 'Parent': 'ENST00000555427', 'id': 'ENSP00000451760', 'end': 89920788, 'object_type': 'Translation'}, 'start': 89913418, 'biotype': 'protein_coding', 'assembly_name': 'GRCh38', 'display_name': 'MC1R-203', 'end': 89920973, 'id': 'ENST00000555427', 'source': 'havana', 'version': 1, 'db_type': 'core', 'Parent': 'ENSG00000258839', 'species': 'homo_sapiens', 'logic_name': 'havana_homo_sapiens', 'is_canonical': 0, 'strand': 1, 'seq_region_name': '16', 'object_type': 'Transcript', 'Exon': [{'strand': 1, 'version': 1, 'seq_region_name': '16', 'object_type': 'Exon', 'start': 89913418, 'assembly_name': 'GRCh38', 'db_type': 'core', 'id': 'ENSE00002508940', 'end': 89915140, 'species': 'homo_sapiens'}, {'object_type': 'Exon', 'seq_region_name': '16', 'version': 1, 'strand': 1, 'db_type': 'core', 'assembly_name': 'GRCh38', 'start': 89917876, 'species': 'homo_sapiens', 'id': 'ENSE00002445563', 'end': 89918047}, {'db_type': 'core', 'assembly_name': 'GRCh38', 'start': 89918851, 'species': 'homo_sapiens', 'id': 'ENSE00002477640', 'end': 89920208, 'object_type': 'Exon', 'seq_region_name': '16', 'version': 1, 'strand': 1}, {'species': 'homo_sapiens', 'id': 'ENSE00002535013', 'end': 89920973, 'db_type': 'core', 'assembly_name': 'GRCh38', 'start': 89920590, 'object_type': 'Exon', 'version': 1, 'seq_region_name': '16', 'strand': 1}]}, {'version': 1, 'Translation': {'object_type': 'Translation', 'Parent': 'ENST00000639847', 'id': 'ENSP00000492011', 'end': 89920212, 'species': 'homo_sapiens', 'db_type': 'core', 'start': 89919259, 'length': 317}, 'start': 89914847, 'assembly_name': 'GRCh38', 'biotype': 'protein_coding', 'display_name': 'MC1R-204', 'id': 'ENST00000639847', 'end': 89920951, 'source': 'havana', 'strand': 1, 'seq_region_name': '16', 'object_type': 'Transcript', 'Exon': [{'version': 1, 'seq_region_name': '16', 'object_type': 'Exon', 'strand': 1, 'end': 89915140, 'id': 'ENSE00003804917', 'species': 'homo_sapiens', 'assembly_name': 'GRCh38', 'db_type': 'core', 'start': 89914847}, {'db_type': 'core', 'assembly_name': 'GRCh38', 'start': 89917876, 'species': 'homo_sapiens', 'id': 'ENSE00002445563', 'end': 89918047, 'object_type': 'Exon', 'seq_region_name': '16', 'version': 1, 'strand': 1}, {'strand': 1, 'version': 1, 'seq_region_name': '16', 'object_type': 'Exon', 'id': 'ENSE00003803225', 'end': 89920951, 'species': 'homo_sapiens', 'start': 89918851, 'assembly_name': 'GRCh38', 'db_type': 'core'}], 'db_type': 'core', 'Parent': 'ENSG00000258839', 'species': 'homo_sapiens', 'logic_name': 'havana_homo_sapiens', 'is_canonical': 0}, {'object_type': 'Transcript', 'seq_region_name': '16', 'strand': 1, 'Exon': [{'strand': 1, 'version': 1, 'seq_region_name': '16', 'object_type': 'Exon', 'start': 89917879, 'assembly_name': 'GRCh38', 'db_type': 'core', 'id': 'ENSE00002458332', 'end': 89920977, 'species': 'homo_sapiens'}], 'db_type': 'core', 'is_canonical': 1, 'logic_name': 'ensembl_havana_transcript_homo_sapiens', 'species': 'homo_sapiens', 'Parent': 'ENSG00000258839', 'version': 1, 'display_name': 'MC1R-202', 'assembly_name': 'GRCh38', 'biotype': 'protein_coding', 'start': 89917879, 'Translation': {'object_type': 'Translation', 'Parent': 'ENST00000555147', 'id': 'ENSP00000451605', 'end': 89920212, 'species': 'homo_sapiens', 'db_type': 'core', 'start': 89919259, 'length': 317}, 'source': 'ensembl_havana', 'end': 89920977, 'id': 'ENST00000555147'}], 'start': 89912119, 'display_name': 'MC1R', 'assembly_name': 'GRCh38', 'biotype': 'protein_coding', 'id': 'ENSG00000258839', 'end': 89920977, 'source': 'ensembl_havana', 'version': 3, 'db_type': 'core', 'species': 'homo_sapiens', 'logic_name': 'ensembl_havana_gene_homo_sapiens', 'strand': 1, 'object_type': 'Gene', 'seq_region_name': '16', 'description': 'melanocortin 1 receptor [Source:HGNC Symbol;Acc:HGNC:6929]'}\n"
     ]
    }
   ],
   "source": [
    "import requests, sys\n",
    " \n",
    "server = \"https://rest.ensembl.org\"\n",
    "ext = \"/lookup/id/ENSG00000258839?expand=1\"\n",
    " \n",
    "r = requests.get(server+ext, headers={ \"Content-Type\" : \"application/json\"})\n",
    " \n",
    "if not r.ok:\n",
    "  r.raise_for_status()\n",
    "  sys.exit()\n",
    " \n",
    "decoded = r.json()\n",
    "print(repr(decoded))"
   ]
  },
  {
   "cell_type": "code",
   "execution_count": 6,
   "metadata": {},
   "outputs": [
    {
     "name": "stdout",
     "output_type": "stream",
     "text": [
      "hi\n"
     ]
    }
   ],
   "source": [
    "print(\"hi\")"
   ]
  },
  {
   "cell_type": "code",
   "execution_count": 11,
   "metadata": {},
   "outputs": [],
   "source": [
    "import ensembl_rest\n",
    "\n",
    "fasta_dict =    ensembl_rest.sequence_id(\n",
    "                'ENSG00000258839',species='human',\n",
    "                headers={'content-type': 'fasta'})"
   ]
  },
  {
   "cell_type": "code",
   "execution_count": 12,
   "metadata": {},
   "outputs": [
    {
     "data": {
      "text/plain": [
       "dict_keys(['desc', 'query', 'seq', 'molecule', 'id', 'version'])"
      ]
     },
     "execution_count": 12,
     "metadata": {},
     "output_type": "execute_result"
    }
   ],
   "source": [
    "fasta_dict.keys()"
   ]
  },
  {
   "cell_type": "code",
   "execution_count": 13,
   "metadata": {},
   "outputs": [
    {
     "data": {
      "text/plain": [
       "'chromosome:GRCh38:16:89912119:89920977:1'"
      ]
     },
     "execution_count": 13,
     "metadata": {},
     "output_type": "execute_result"
    }
   ],
   "source": [
    "fasta_dict[\"desc\"]"
   ]
  },
  {
   "cell_type": "code",
   "execution_count": 16,
   "metadata": {},
   "outputs": [],
   "source": [
    "dna_chain = fasta_dict[\"seq\"]"
   ]
  },
  {
   "cell_type": "code",
   "execution_count": 15,
   "metadata": {},
   "outputs": [
    {
     "data": {
      "text/plain": [
       "8859"
      ]
     },
     "execution_count": 15,
     "metadata": {},
     "output_type": "execute_result"
    }
   ],
   "source": [
    "fast_a_fasta = open(\"MC1R.fasta\",\"w\") \n",
    "fast_a_fasta.write(\">{}\\n\".format(fasta_dict[\"desc\"]))\n",
    "fast_a_fasta.write(fasta_dict[\"seq\"])"
   ]
  },
  {
   "cell_type": "code",
   "execution_count": 22,
   "metadata": {},
   "outputs": [
    {
     "name": "stdout",
     "output_type": "stream",
     "text": [
      "ATGTGCACGCGTGTGTGGGTAAACGTGTGTGCGCACGTATGTATGTGTGTACATTTGTATGTGTGTACATTTGTATGCATGTGTGCCTGTGTGTGTGTGCCTGTGTGTGTGGGTGCACATTTGTGTGTGTGTGTGTGCCTGTGTGTGTGTGTGCACGTATGTATGTGTGCACACTTGTATGCATGTGTGCCTGTGTGTGTGGGTGCACATTTGTGTGTGTGTGCCTGTGTGTGTGGGTGCACATTTGTGTGTGTGGGTGCACATTTGTGTGTGTGTGCGCCTGTGTGGGTGCACATTTGTGTGTGTGTGTGCCTGTGTGTGTGCCTGTGTGTGTGGGTGCCTGTGTGTGTGGGGCACATTTGTGTGTGTGTGTGCCTGTGTGTGGGTGCACATTTGTGTGTGTGCCTCTGTGTGTGTGCCTGTGTGTGGGGGTGCACATTTGTGTGTGCGCCTGTGTGTGGGGGTGCACATTTGTGTGTGCGCCTGTGTGTGTGGGTGCACATTTGTGTGTGTGTGCGCCTGTGTGTGTGGGTGCCTGTGTGTGTGTGGGGCACATTTGTGTGTGTGTGTGTGCCTGTGTGTGGGTGCACATTTGTGTGTGTGCCTGTGTGTGTGTGCCTGTGTGTGGGGGTGCACATTTGTGTGTGTGTGTGCCTGTGTGTGGGGGTGCACATTTGTGTGTGTGTGTGCCTGTGTGTGTGGGTGCACATTTGTGTGTGTGTGTGCCTGTGTGTGTGGGTGCACATTTGTGTGTGTGTGCCTGTGTGTGTGGGTGCACATTTGTGTGTGTGTGTGCCTGTGTGTGTGGGTGCACATTTGTGTGTGTGCCTGTGTGTGGGTGCACATTTGTGTGTGTGTGCCTGTGTGTGTGTGCCTGTGTGTGTGGGTGCACATTTGTGTGTGTGTGTGCCTGTGTGTGTGGGTGCACATTTGTGTGTGTGTGTGTGCCTGTGTGTGTGTTGCAGGCCCTGGATGCCAGACACTGAATAA\n"
     ]
    }
   ],
   "source": [
    "# Regex is standard, so we will run with that\n",
    "\n",
    "import re\n",
    "\n",
    "# This will give us all of the ORFs, out of curiosity, I wanted to look at all\n",
    "# of them\n",
    "chain_frame = re.findall(r'ATG(?:(?!TAA|TAG|TGA)...)*(?:TAA|TAG|TGA)',DNAchain)\n",
    "longest_chain = max(chain_frame, key=len)\n",
    "print(longest_chain)"
   ]
  },
  {
   "cell_type": "code",
   "execution_count": 31,
   "metadata": {},
   "outputs": [
    {
     "data": {
      "text/plain": [
       "'MCTRVWVNVCAHVCMCVHLYVCTFVCMCACVCVPVCVGAHLCVCVCLCVCVHVCMCAHLYACVPVCVGAHLCVCACVCGCTFVCVGAHLCVCAPVWVHICVCVCLCVCLCVWVPVCVGHICVCVCLCVGAHLCVCLCVCACVWGCTFVCAPVCGGAHLCVRLCVWVHICVCVRLCVWVPVCVWGTFVCVCVPVCGCTFVCVPVCVCLCVGVHICVCVCLCVGVHICVCVCLCVWVHICVCVCLCVWVHICVCVPVCVGAHLCVCVPVCVGAHLCVCLCVGAHLCVCACVCVPVCVGAHLCVCVPVCVGAHLCVCVCLCVCCRPWMPDTE*'"
      ]
     },
     "execution_count": 31,
     "metadata": {},
     "output_type": "execute_result"
    }
   ],
   "source": [
    "from Bio.Seq import translate\n",
    "\n"
   ]
  },
  {
   "cell_type": "code",
   "execution_count": 38,
   "metadata": {},
   "outputs": [
    {
     "data": {
      "text/plain": [
       "dict_keys(['desc', 'query', 'seq', 'molecule', 'id', 'version'])"
      ]
     },
     "execution_count": 38,
     "metadata": {},
     "output_type": "execute_result"
    }
   ],
   "source": [
    "fasta_dict.keys()"
   ]
  },
  {
   "cell_type": "code",
   "execution_count": 45,
   "metadata": {},
   "outputs": [],
   "source": [
    "fasta_dict = ensembl_rest.homology_ensemblgene(\n",
    "     'ENSG00000258839')"
   ]
  },
  {
   "cell_type": "code",
   "execution_count": 77,
   "metadata": {},
   "outputs": [
    {
     "name": "stdout",
     "output_type": "stream",
     "text": [
      "{'dn_ds': None,\n",
      " 'method_link_type': 'ENSEMBL_PARALOGUES',\n",
      " 'source': {'align_seq': 'MAVQGSQRR---------------LLGSLNS-T-PTAIPQLGLAANQT-GARCLE-V---------SI--SDG-LFLSL-GLVSLVENALVVATIAKNRNLHSPMYCFIC-CLALSDLLVSGSNVLETAVILLLEAG---A--LVARAAVLQQLDNVIDVITCSSMLSSLCFLGAIAVDRYISIFYALR-YHSIVTL--PRARRAVAAIWV------------------AS-VVFSTLFI-AYYDHVAVLLCLVVFFLAMLVLMAVLYVHMLARACQHAQGIARLHK-RQRP--VH-QGFGLKGAVTLTILLGIFFLCWGPFFLHLTLIVLCPE--HPTCG-CIF-KNFNLFLALIICNAIIDPLIYAFHSQELRRTLKEVLTCSW------------------------------------------------------',\n",
      "            'cigar_line': '9M15D7MDMD14MD6MDM9D2M2D3MD5MD30MD26M3DM2D46MD7M2D12M18D2MD8MD46MD4M2D2MD37M2D5MD3MD40M54D',\n",
      "            'id': 'ENSG00000258839',\n",
      "            'perc_id': 23.9748,\n",
      "            'perc_pos': 41.9558,\n",
      "            'protein_id': 'ENSP00000451605',\n",
      "            'species': 'homo_sapiens',\n",
      "            'taxon_id': 9606},\n",
      " 'target': {'align_seq': 'MG---P---TSVPLVKAHRSSVSDYV---N-YDI----IVR-H-YNYTG------KLNISADKENS-IKL-TSVVFILIC-CFIILENIFVLLTIWKTKKFHRPMYYFI-GNLALSDLLAGVA-----YTANLLLSGATT-YKLTPAQWFLREGS-----MFV-ALSASVFSLLAIAIERYITMLKM-KLHNG--S-NNFRLFLLISACWVISLILGGLPIMGWNCISAL-SS-CSTVL-PLYHKH-Y-ILFCTTVFTLLLLSIVILYCRIYSLVRTRSRRLTFRKNIS-KASR-SSEKS-LALLKTVIIVLSVFIACWAPLFILLLLDVGCK-VKT--CDILF-RAEY--FLVLAVLNSGTNPIIYTLTNKEMRRAFIRIMSC--CKCPSGDSAGKFKRPIIAGMEFSRSKSDNSSHPQKDEGDNPETIMSSGNVNSSS',\n",
      "            'cigar_line': '2M3DM3D17M3DMD3M4D3MDMD5M6D11MD3MD9MD28MD13M5D12MD14M5D3MD23MD5M2DMD33MD2MD5MD6MDMD40MD4MD5MD32MD3M2D5MD4M2D33M2D54M',\n",
      "            'id': 'ENSG00000170989',\n",
      "            'perc_id': 19.8953,\n",
      "            'perc_pos': 34.8168,\n",
      "            'protein_id': 'ENSP00000305416',\n",
      "            'species': 'homo_sapiens',\n",
      "            'taxon_id': 9606},\n",
      " 'taxonomy_level': 'Chordata',\n",
      " 'type': 'other_paralog'}\n"
     ]
    }
   ],
   "source": [
    "import pprint\n",
    "\n",
    "pp = pprint.PrettyPrinter(indent=1)\n",
    "\n",
    "pp.pprint(fasta_dict[\"data\"][0]['homologies'][0])"
   ]
  },
  {
   "cell_type": "code",
   "execution_count": 82,
   "metadata": {},
   "outputs": [
    {
     "data": {
      "text/plain": [
       "'homo_sapiens'"
      ]
     },
     "execution_count": 82,
     "metadata": {},
     "output_type": "execute_result"
    }
   ],
   "source": [
    "fasta_dict[\"data\"][0]['homologies'][0][\"source\"][\"species\"]"
   ]
  },
  {
   "cell_type": "code",
   "execution_count": 84,
   "metadata": {},
   "outputs": [
    {
     "data": {
      "text/plain": [
       "'homo_sapiens'"
      ]
     },
     "execution_count": 84,
     "metadata": {},
     "output_type": "execute_result"
    }
   ],
   "source": [
    "fasta_dict[\"data\"][0]['homologies'][0][\"target\"][\"species\"]"
   ]
  },
  {
   "cell_type": "code",
   "execution_count": 86,
   "metadata": {},
   "outputs": [
    {
     "name": "stdout",
     "output_type": "stream",
     "text": [
      "homo_sapiens homo_sapiens\n",
      "homo_sapiens homo_sapiens\n",
      "homo_sapiens homo_sapiens\n",
      "homo_sapiens homo_sapiens\n",
      "homo_sapiens homo_sapiens\n",
      "homo_sapiens homo_sapiens\n",
      "homo_sapiens homo_sapiens\n",
      "homo_sapiens homo_sapiens\n",
      "homo_sapiens homo_sapiens\n",
      "homo_sapiens homo_sapiens\n",
      "homo_sapiens homo_sapiens\n",
      "homo_sapiens homo_sapiens\n",
      "homo_sapiens homo_sapiens\n",
      "homo_sapiens rhinopithecus_bieti\n",
      "homo_sapiens chlorocebus_sabaeus\n",
      "homo_sapiens macaca_nemestrina\n",
      "homo_sapiens macaca_fascicularis\n",
      "homo_sapiens theropithecus_gelada\n",
      "homo_sapiens piliocolobus_tephrosceles\n",
      "homo_sapiens macaca_mulatta\n",
      "homo_sapiens aotus_nancymaae\n",
      "homo_sapiens saimiri_boliviensis_boliviensis\n",
      "homo_sapiens callithrix_jacchus\n",
      "homo_sapiens carlito_syrichta\n",
      "homo_sapiens microcebus_murinus\n",
      "homo_sapiens heterocephalus_glaber_male\n",
      "homo_sapiens nannospalax_galili\n",
      "homo_sapiens cricetulus_griseus_crigri\n",
      "homo_sapiens ictidomys_tridecemlineatus\n",
      "homo_sapiens fukomys_damarensis\n",
      "homo_sapiens cavia_porcellus\n",
      "homo_sapiens cavia_aperea\n",
      "homo_sapiens cricetulus_griseus_chok1gshd\n",
      "homo_sapiens mus_musculus\n",
      "homo_sapiens ictidomys_tridecemlineatus\n",
      "homo_sapiens heterocephalus_glaber_female\n",
      "homo_sapiens mesocricetus_auratus\n",
      "homo_sapiens mus_caroli\n",
      "homo_sapiens mus_pahari\n",
      "homo_sapiens mus_spretus\n",
      "homo_sapiens mus_spicilegus\n",
      "homo_sapiens peromyscus_maniculatus_bairdii\n",
      "homo_sapiens meriones_unguiculatus\n",
      "homo_sapiens marmota_marmota_marmota\n",
      "homo_sapiens spermophilus_dauricus\n",
      "homo_sapiens castor_canadensis\n",
      "homo_sapiens oryctolagus_cuniculus\n",
      "homo_sapiens bos_taurus\n",
      "homo_sapiens capra_hircus\n",
      "homo_sapiens ovis_aries\n",
      "homo_sapiens ursus_americanus\n",
      "homo_sapiens vulpes_vulpes\n",
      "homo_sapiens delphinapterus_leucas\n",
      "homo_sapiens panthera_leo\n",
      "homo_sapiens ailuropoda_melanoleuca\n",
      "homo_sapiens bos_mutus\n",
      "homo_sapiens neovison_vison\n",
      "homo_sapiens bos_taurus_hybrid\n",
      "homo_sapiens bos_indicus_hybrid\n",
      "homo_sapiens felis_catus\n",
      "homo_sapiens rhinolophus_ferrumequinum\n",
      "homo_sapiens moschus_moschiferus\n",
      "homo_sapiens physeter_catodon\n",
      "homo_sapiens bos_grunniens\n",
      "homo_sapiens suricata_suricatta\n",
      "homo_sapiens catagonus_wagneri\n",
      "homo_sapiens bison_bison_bison\n",
      "homo_sapiens sus_scrofa\n",
      "homo_sapiens ursus_thibetanus_thibetanus\n",
      "homo_sapiens dasypus_novemcinctus\n",
      "homo_sapiens sarcophilus_harrisii\n",
      "homo_sapiens monodelphis_domestica\n",
      "homo_sapiens vombatus_ursinus\n",
      "homo_sapiens phascolarctos_cinereus\n",
      "homo_sapiens ornithorhynchus_anatinus\n",
      "homo_sapiens camarhynchus_parvulus\n",
      "homo_sapiens anser_brachyrhynchus\n",
      "homo_sapiens gallus_gallus\n",
      "homo_sapiens lepidothrix_coronata\n",
      "homo_sapiens terrapene_carolina_triunguis\n",
      "homo_sapiens geospiza_fortis\n",
      "homo_sapiens anser_cygnoides\n",
      "homo_sapiens gopherus_agassizii\n",
      "homo_sapiens taeniopygia_guttata\n",
      "homo_sapiens junco_hyemalis\n",
      "homo_sapiens stachyris_ruficeps\n",
      "homo_sapiens struthio_camelus_australis\n",
      "homo_sapiens anas_platyrhynchos_platyrhynchos\n",
      "homo_sapiens aquila_chrysaetos_chrysaetos\n",
      "homo_sapiens calidris_pugnax\n",
      "homo_sapiens podarcis_muralis\n",
      "homo_sapiens pavo_cristatus\n",
      "homo_sapiens zosterops_lateralis_melanops\n",
      "homo_sapiens dromaius_novaehollandiae\n",
      "homo_sapiens ficedula_albicollis\n",
      "homo_sapiens chrysemys_picta_bellii\n",
      "homo_sapiens phasianus_colchicus\n",
      "homo_sapiens pseudonaja_textilis\n",
      "homo_sapiens numida_meleagris\n",
      "homo_sapiens calidris_pygmaea\n",
      "homo_sapiens meleagris_gallopavo\n",
      "homo_sapiens chelydra_serpentina\n",
      "homo_sapiens accipiter_nisus\n",
      "homo_sapiens coturnix_japonica\n",
      "homo_sapiens pogona_vitticeps\n",
      "homo_sapiens strigops_habroptila\n",
      "homo_sapiens melopsittacus_undulatus\n",
      "homo_sapiens gopherus_evgoodei\n",
      "homo_sapiens amazona_collaria\n",
      "homo_sapiens laticauda_laticaudata\n",
      "homo_sapiens erythrura_gouldiae\n",
      "homo_sapiens chelonoidis_abingdonii\n",
      "homo_sapiens notechis_scutatus\n",
      "homo_sapiens varanus_komodoensis\n",
      "homo_sapiens lonchura_striata_domestica\n",
      "homo_sapiens sphenodon_punctatus\n",
      "homo_sapiens cyanistes_caeruleus\n",
      "homo_sapiens anas_platyrhynchos\n",
      "homo_sapiens salvator_merianae\n",
      "homo_sapiens pelusios_castaneus\n",
      "homo_sapiens terrapene_carolina_triunguis\n",
      "homo_sapiens lates_calcarifer\n",
      "homo_sapiens fundulus_heteroclitus\n",
      "homo_sapiens oncorhynchus_tshawytscha\n",
      "homo_sapiens astyanax_mexicanus_pachon\n",
      "homo_sapiens seriola_lalandi_dorsalis\n",
      "homo_sapiens oncorhynchus_mykiss\n",
      "homo_sapiens sinocyclocheilus_anshuiensis\n",
      "homo_sapiens tetraodon_nigroviridis\n",
      "homo_sapiens cyprinodon_variegatus\n",
      "homo_sapiens anabas_testudineus\n",
      "homo_sapiens acanthochromis_polyacanthus\n",
      "homo_sapiens monopterus_albus\n",
      "homo_sapiens scophthalmus_maximus\n",
      "homo_sapiens amphiprion_percula\n",
      "homo_sapiens hucho_hucho\n",
      "homo_sapiens amphilophus_citrinellus\n",
      "homo_sapiens salarias_fasciatus\n",
      "homo_sapiens periophthalmus_magnuspinnatus\n",
      "homo_sapiens stegastes_partitus\n",
      "homo_sapiens cynoglossus_semilaevis\n",
      "homo_sapiens salmo_salar\n",
      "homo_sapiens maylandia_zebra\n",
      "homo_sapiens poecilia_mexicana\n",
      "homo_sapiens neogobius_melanostomus\n",
      "homo_sapiens gasterosteus_aculeatus\n",
      "homo_sapiens erpetoichthys_calabaricus\n",
      "homo_sapiens salmo_salar\n",
      "homo_sapiens oryzias_javanicus\n",
      "homo_sapiens danio_rerio\n",
      "homo_sapiens pygocentrus_nattereri\n",
      "homo_sapiens myripristis_murdjan\n",
      "homo_sapiens cyprinus_carpio\n",
      "homo_sapiens sinocyclocheilus_rhinocerous\n",
      "homo_sapiens amphiprion_ocellaris\n",
      "homo_sapiens takifugu_rubripes\n",
      "homo_sapiens oryzias_latipes_hni\n",
      "homo_sapiens cyprinus_carpio_hebaored\n",
      "homo_sapiens poecilia_latipinna\n",
      "homo_sapiens gadus_morhua\n",
      "homo_sapiens esox_lucius\n",
      "homo_sapiens xiphophorus_maculatus\n",
      "homo_sapiens electrophorus_electricus\n",
      "homo_sapiens gouania_willdenowi\n",
      "homo_sapiens paramormyrops_kingsleyae\n",
      "homo_sapiens clupea_harengus\n",
      "homo_sapiens ictalurus_punctatus\n",
      "homo_sapiens mola_mola\n",
      "homo_sapiens poecilia_reticulata\n",
      "homo_sapiens dicentrarchus_labrax\n",
      "homo_sapiens seriola_dumerili\n",
      "homo_sapiens pundamilia_nyererei\n",
      "homo_sapiens hippocampus_comes\n",
      "homo_sapiens astatotilapia_calliptera\n",
      "homo_sapiens salmo_trutta\n",
      "homo_sapiens hucho_hucho\n",
      "homo_sapiens haplochromis_burtoni\n",
      "homo_sapiens xiphophorus_couchianus\n",
      "homo_sapiens kryptolebias_marmoratus\n",
      "homo_sapiens echeneis_naucrates\n",
      "homo_sapiens cyprinus_carpio_huanghe\n",
      "homo_sapiens lepisosteus_oculatus\n",
      "homo_sapiens poecilia_formosa\n",
      "homo_sapiens gambusia_affinis\n",
      "homo_sapiens larimichthys_crocea\n",
      "homo_sapiens sinocyclocheilus_grahami\n",
      "homo_sapiens labrus_bergylta\n",
      "homo_sapiens sphaeramia_orbicularis\n",
      "homo_sapiens oreochromis_niloticus\n",
      "homo_sapiens oryzias_melastigma\n",
      "homo_sapiens sparus_aurata\n",
      "homo_sapiens oncorhynchus_tshawytscha\n",
      "homo_sapiens neolamprologus_brichardi\n",
      "homo_sapiens denticeps_clupeoides\n",
      "homo_sapiens parambassis_ranga\n",
      "homo_sapiens salmo_trutta\n",
      "homo_sapiens oncorhynchus_mykiss\n",
      "homo_sapiens oryzias_latipes\n",
      "homo_sapiens mastacembelus_armatus\n",
      "homo_sapiens oryzias_sinensis\n",
      "homo_sapiens betta_splendens\n",
      "homo_sapiens oreochromis_aureus\n",
      "homo_sapiens scleropages_formosus\n",
      "homo_sapiens cottoperca_gobio\n",
      "homo_sapiens oryzias_latipes_hsok\n",
      "homo_sapiens scleropages_formosus\n",
      "homo_sapiens callorhinchus_milii\n",
      "homo_sapiens xenopus_tropicalis\n",
      "homo_sapiens eptatretus_burgeri\n",
      "homo_sapiens petromyzon_marinus\n",
      "homo_sapiens eptatretus_burgeri\n",
      "homo_sapiens homo_sapiens\n",
      "homo_sapiens homo_sapiens\n",
      "homo_sapiens homo_sapiens\n",
      "homo_sapiens homo_sapiens\n",
      "homo_sapiens homo_sapiens\n",
      "homo_sapiens ciona_intestinalis\n"
     ]
    }
   ],
   "source": [
    "for i in fasta_dict[\"data\"][0]['homologies']:\n",
    "    print(i[\"source\"][\"species\"],i[\"target\"][\"species\"] )"
   ]
  },
  {
   "cell_type": "markdown",
   "metadata": {},
   "source": [
    "### Homework Note:\n",
    "\n",
    "The instructions \"Write the full unique list of species to a text file call mc1r_homology_list.txt.\" Are a little vague. Do we mean a list of targets? By unique, do we mean with no repeated elements? I am going to say yes, and make a list for every new species listed. \n"
   ]
  },
  {
   "cell_type": "markdown",
   "metadata": {},
   "source": [
    "## Homework Script"
   ]
  },
  {
   "cell_type": "code",
   "execution_count": 97,
   "metadata": {},
   "outputs": [
    {
     "name": "stdout",
     "output_type": "stream",
     "text": [
      "Overwriting week8.py\n"
     ]
    }
   ],
   "source": [
    "%%writefile week8.py\n",
    "from Bio.Seq import translate\n",
    "import re\n",
    "import ensembl_rest\n",
    "\n",
    "# This structure is overkill, but why not?\n",
    "class Main:\n",
    "    def __init__(self):\n",
    "        fasta_dict, longest_chain = self.part_2()\n",
    "        self.part_3()\n",
    "        \n",
    "    \n",
    "    def part_2(self):\n",
    "        fasta_dict = ensembl_rest.sequence_id(\n",
    "             'ENSG00000258839',species='human',\n",
    "             headers={'content-type': 'fasta'})\n",
    "\n",
    "        dna_chain = fasta_dict[\"seq\"]\n",
    "        \n",
    "        # Regex is standard\n",
    "        chain_frame = re.findall(r'ATG(?:(?!TAA|TAG|TGA)...)*(?:TAA|TAG|TGA)',dna_chain)\n",
    "        longest_chain = max(chain_frame, key=len)\n",
    "        \n",
    "        fast_a_fasta = open(\"MC1R.fasta\",\"w\") \n",
    "        fast_a_fasta.write(\">{}\\n\".format(fasta_dict[\"desc\"]))\n",
    "        fast_a_fasta.write(fasta_dict[\"seq\"])\n",
    "        fast_a_fasta.write(\"\\n+\\n\")\n",
    "        fast_a_fasta.write(translate(longest_chain))\n",
    "        fast_a_fasta.close()\n",
    "        \n",
    "        return fasta_dict, longest_chain\n",
    "    \n",
    "    def part_3(self):\n",
    "        homology_dict = ensembl_rest.homology_ensemblgene('ENSG00000258839')\n",
    "        \n",
    "        # I am not quite sure what you mean by a \"unique list\", I am going to\n",
    "        # make a csv with every line as a new target species\n",
    "        holy_fasta = open(\"mc1r_homology_list.txt\",\"w\") \n",
    "        unique_species = []\n",
    "        for species in homology_dict[\"data\"][0]['homologies']:\n",
    "            if species[\"target\"][\"species\"] not in unique_species:\n",
    "                holy_fasta.write(\"{},\\n\".format(species[\"target\"][\"species\"]))\n",
    "                unique_species.append(species[\"target\"][\"species\"])\n",
    "        holy_fasta.close()\n",
    "\n",
    "if __name__== \"__main__\": \n",
    "    Main()"
   ]
  },
  {
   "cell_type": "code",
   "execution_count": 98,
   "metadata": {},
   "outputs": [],
   "source": [
    "%%bash\n",
    "\n",
    "python week8.py"
   ]
  },
  {
   "cell_type": "code",
   "execution_count": null,
   "metadata": {},
   "outputs": [],
   "source": []
  }
 ],
 "metadata": {
  "kernelspec": {
   "display_name": "Python 3",
   "language": "python",
   "name": "python3"
  },
  "language_info": {
   "codemirror_mode": {
    "name": "ipython",
    "version": 3
   },
   "file_extension": ".py",
   "mimetype": "text/x-python",
   "name": "python",
   "nbconvert_exporter": "python",
   "pygments_lexer": "ipython3",
   "version": "3.6.10"
  },
  "toc": {
   "base_numbering": 1,
   "nav_menu": {},
   "number_sections": true,
   "sideBar": true,
   "skip_h1_title": true,
   "title_cell": "Table of Contents",
   "title_sidebar": "Contents",
   "toc_cell": true,
   "toc_position": {},
   "toc_section_display": true,
   "toc_window_display": true
  }
 },
 "nbformat": 4,
 "nbformat_minor": 4
}
