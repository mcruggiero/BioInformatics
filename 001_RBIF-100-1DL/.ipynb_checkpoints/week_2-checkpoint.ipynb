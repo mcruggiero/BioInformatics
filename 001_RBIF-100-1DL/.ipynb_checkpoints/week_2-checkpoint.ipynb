{
 "cells": [
  {
   "cell_type": "markdown",
   "metadata": {
    "toc": true
   },
   "source": [
    "<h1>Table of Contents<span class=\"tocSkip\"></span></h1>\n",
    "<div class=\"toc\"><ul class=\"toc-item\"><li><span><a href=\"#Week-2-Homework\" data-toc-modified-id=\"Week-2-Homework-1\"><span class=\"toc-item-num\">1&nbsp;&nbsp;</span>Week 2 Homework</a></span></li></ul></div>"
   ]
  },
  {
   "cell_type": "code",
   "execution_count": null,
   "metadata": {},
   "outputs": [],
   "source": [
    "%%bash\n",
    "\n",
    "ls"
   ]
  },
  {
   "cell_type": "code",
   "execution_count": null,
   "metadata": {},
   "outputs": [],
   "source": [
    "%%bash\n",
    "\n",
    "grep -o \"aaaaaa\" test1.fasta| wc -l"
   ]
  },
  {
   "cell_type": "code",
   "execution_count": null,
   "metadata": {},
   "outputs": [],
   "source": [
    "%%bash\n",
    "\n",
    "LanguageArray=(\"PHP\"  \"Java\"  \"C#\"  \"C++\"  \"VB.Net\"  \"Python\"  \"Perl\")\n",
    "echo ${LanguageArray}{$LanguageArray}"
   ]
  },
  {
   "cell_type": "markdown",
   "metadata": {},
   "source": [
    "## Week 2 Homework"
   ]
  },
  {
   "cell_type": "markdown",
   "metadata": {},
   "source": [
    "Assignment 1, due Tuesday Week 2\n",
    "Beginning Bash Scripting\n",
    "Key concepts covered: Recognizing approaches to solving problems using linux commands. Become familiar with GitHub practices\n",
    "\n",
    "Goals\n",
    "Preparing and downloading files. Creating a bash script that tests knowledge of linux commands. Running the script and submitting it. \n",
    "\n",
    "Assignment\n",
    "Story:\n",
    "\n",
    "Jane has discovered 10 motifs that are associated with radiation resistance in her colony of bacteria, R.bifella. A motif is a short, recurring sequence of DNA that is associated with gene regulation. She wants to choose the motif that occurs most frequently across the bacterial genome.   However, since these experiments are costly, she wants to pick the one that has the highest number of occurrences in the bacterial genome. Which motif should she choose?\n",
    "\n",
    "Steps:\n",
    "\n",
    "SSH into the AWS server and create a folder called week2. I will be grading out of this directory.\n",
    "Copy the motif list and the genome of the R.bifella from  /home/rbif/week2_assignment/\n",
    "Create a single bash script that does the following:\n",
    "Print out the number of occurrences for each motif that is found in the bacterial genome and output to a file called motif_count.txt\n",
    "Create a fasta file for each motif (so 10 in total) which contains all of the genes and their corresponding sequences that have that motif. Each file should be named after the motif (ie ATG.txt) and outputted to a new directory called motifs\n",
    "*Note*  Please comment your code. This should include a description of what the goal of the script is at the beginning. And then any clarifying comments for snippets of code.\n",
    "You can find an example output of the assignment in /home/rbif/week2_example_output along with how comments should look like.\n",
    "\n",
    "This is due Tuesday, July 31 at 11:59 pm. I will mark anything modified inside your assignment directory after that time as late.\n",
    "\n",
    "Submission status\n",
    "This assignment will accept submissions from Tuesday, 14 April 2020, 7:00 AM"
   ]
  },
  {
   "cell_type": "markdown",
   "metadata": {},
   "source": [
    "<strong>First a more complex python task. I want to explore a little bit here and rank all of the various string options, moving until I find a sting with only one entries</strong>"
   ]
  },
  {
   "cell_type": "code",
   "execution_count": null,
   "metadata": {},
   "outputs": [],
   "source": [
    "# Numpy is a common library,I will use it here,\n",
    "import numpy as np\n",
    "\n",
    "###\n",
    "# Until I get the motif list, I am going to cook myself something up\n",
    "# I am not going to use numpy for the code below since I am going to translate\n",
    "# the Python code to Bash.\n",
    "###\n",
    "\n",
    "class Main:\n",
    "    def __init__(self, number, min_length, max_length):\n",
    "        motifs = []\n",
    "        \n",
    "        for _ in range(number):\n",
    "            motifs.append(self.motif_generator(min_length, max_length))\n",
    "        \n",
    "        # Write the motifs to a file\n",
    "        \n",
    "        with open('motifs.txt', 'w') as f:\n",
    "            for motif in motifs:\n",
    "                f.write(\"{}\\n\".format(motif))\n",
    "        \n",
    "    def motif_generator(self, min_length, max_length):\n",
    "        \n",
    "        # Set the size of the random item\n",
    "        size = np.random.randint(low = min_length, high = max_length)\n",
    "        \n",
    "        # Populate that list\n",
    "        nucleotides = \"\".join(np.random.choice([\"a\", \"c\", \"g\", \"t\"], size))\n",
    "        return nucleotides\n",
    "    \n",
    "if __name__ == '__main__':\n",
    "    # Not really sure how large to make each motif, I suppose it doesn't matter.\n",
    "    Main = Main(10, 7, 9)"
   ]
  },
  {
   "cell_type": "code",
   "execution_count": null,
   "metadata": {},
   "outputs": [],
   "source": [
    "%%bash\n",
    "\n",
    "ls"
   ]
  },
  {
   "cell_type": "code",
   "execution_count": 1,
   "metadata": {},
   "outputs": [
    {
     "ename": "FileNotFoundError",
     "evalue": "[Errno 2] No such file or directory: 'test1.fasta'",
     "output_type": "error",
     "traceback": [
      "\u001b[0;31m---------------------------------------------------------------------------\u001b[0m",
      "\u001b[0;31mFileNotFoundError\u001b[0m                         Traceback (most recent call last)",
      "\u001b[0;32m<ipython-input-1-eaf25c0d6739>\u001b[0m in \u001b[0;36m<module>\u001b[0;34m\u001b[0m\n\u001b[1;32m    112\u001b[0m \u001b[0;34m\u001b[0m\u001b[0m\n\u001b[1;32m    113\u001b[0m \u001b[0;32mif\u001b[0m \u001b[0m__name__\u001b[0m \u001b[0;34m==\u001b[0m \u001b[0;34m'__main__'\u001b[0m\u001b[0;34m:\u001b[0m\u001b[0;34m\u001b[0m\u001b[0;34m\u001b[0m\u001b[0m\n\u001b[0;32m--> 114\u001b[0;31m     \u001b[0mMain\u001b[0m \u001b[0;34m=\u001b[0m \u001b[0mMain\u001b[0m\u001b[0;34m(\u001b[0m\u001b[0;34m\"test1.fasta\"\u001b[0m\u001b[0;34m,\u001b[0m \u001b[0;34m\"motifs.txt\"\u001b[0m\u001b[0;34m,\u001b[0m \u001b[0;36m5\u001b[0m\u001b[0;34m)\u001b[0m\u001b[0;34m\u001b[0m\u001b[0;34m\u001b[0m\u001b[0m\n\u001b[0m",
      "\u001b[0;32m<ipython-input-1-eaf25c0d6739>\u001b[0m in \u001b[0;36m__init__\u001b[0;34m(self, path, motif_path, candidate_size)\u001b[0m\n\u001b[1;32m      6\u001b[0m \u001b[0;32mclass\u001b[0m \u001b[0mMain\u001b[0m\u001b[0;34m:\u001b[0m\u001b[0;34m\u001b[0m\u001b[0;34m\u001b[0m\u001b[0m\n\u001b[1;32m      7\u001b[0m     \u001b[0;32mdef\u001b[0m \u001b[0m__init__\u001b[0m\u001b[0;34m(\u001b[0m\u001b[0mself\u001b[0m\u001b[0;34m,\u001b[0m \u001b[0mpath\u001b[0m\u001b[0;34m,\u001b[0m \u001b[0mmotif_path\u001b[0m\u001b[0;34m,\u001b[0m \u001b[0mcandidate_size\u001b[0m\u001b[0;34m)\u001b[0m\u001b[0;34m:\u001b[0m\u001b[0;34m\u001b[0m\u001b[0;34m\u001b[0m\u001b[0m\n\u001b[0;32m----> 8\u001b[0;31m         \u001b[0mself\u001b[0m\u001b[0;34m.\u001b[0m\u001b[0mchromo_dict\u001b[0m \u001b[0;34m=\u001b[0m \u001b[0mself\u001b[0m\u001b[0;34m.\u001b[0m\u001b[0mread_fasta\u001b[0m\u001b[0;34m(\u001b[0m\u001b[0mpath\u001b[0m\u001b[0;34m)\u001b[0m\u001b[0;34m\u001b[0m\u001b[0;34m\u001b[0m\u001b[0m\n\u001b[0m\u001b[1;32m      9\u001b[0m \u001b[0;34m\u001b[0m\u001b[0m\n\u001b[1;32m     10\u001b[0m         \u001b[0;31m# The idea of this script is to start by creating a\u001b[0m\u001b[0;34m\u001b[0m\u001b[0;34m\u001b[0m\u001b[0;34m\u001b[0m\u001b[0m\n",
      "\u001b[0;32m<ipython-input-1-eaf25c0d6739>\u001b[0m in \u001b[0;36mread_fasta\u001b[0;34m(self, file_name)\u001b[0m\n\u001b[1;32m     29\u001b[0m \u001b[0;34m\u001b[0m\u001b[0m\n\u001b[1;32m     30\u001b[0m         \u001b[0;31m# First read out the lines\u001b[0m\u001b[0;34m\u001b[0m\u001b[0;34m\u001b[0m\u001b[0;34m\u001b[0m\u001b[0m\n\u001b[0;32m---> 31\u001b[0;31m         \u001b[0mf\u001b[0m \u001b[0;34m=\u001b[0m \u001b[0mopen\u001b[0m\u001b[0;34m(\u001b[0m\u001b[0mfile_name\u001b[0m\u001b[0;34m)\u001b[0m\u001b[0;34m\u001b[0m\u001b[0;34m\u001b[0m\u001b[0m\n\u001b[0m\u001b[1;32m     32\u001b[0m         \u001b[0mlines\u001b[0m \u001b[0;34m=\u001b[0m \u001b[0mf\u001b[0m\u001b[0;34m.\u001b[0m\u001b[0mread\u001b[0m\u001b[0;34m(\u001b[0m\u001b[0;34m)\u001b[0m\u001b[0;34m.\u001b[0m\u001b[0msplitlines\u001b[0m\u001b[0;34m(\u001b[0m\u001b[0;34m)\u001b[0m\u001b[0;34m\u001b[0m\u001b[0;34m\u001b[0m\u001b[0m\n\u001b[1;32m     33\u001b[0m         \u001b[0mf\u001b[0m\u001b[0;34m.\u001b[0m\u001b[0mclose\u001b[0m\u001b[0;34m(\u001b[0m\u001b[0;34m)\u001b[0m\u001b[0;34m\u001b[0m\u001b[0;34m\u001b[0m\u001b[0m\n",
      "\u001b[0;31mFileNotFoundError\u001b[0m: [Errno 2] No such file or directory: 'test1.fasta'"
     ]
    }
   ],
   "source": [
    "import re\n",
    "import os\n",
    "import pandas\n",
    "from itertools import combinations, permutations\n",
    "\n",
    "class Main:\n",
    "    def __init__(self, path, motif_path, candidate_size):\n",
    "        self.chromo_dict = self.read_fasta(path)\n",
    "        \n",
    "        # The idea of this script is to start by creating a\n",
    "        # Candidates list, and build the test set from there. \n",
    "        self.candidate_size = candidate_size\n",
    "        self.motif_path = motif_path\n",
    "        \n",
    "        self.chromo_tests = self.chromo_creator(self.candidate_size)\n",
    "        \n",
    "        # Also going to return the motif list in here\n",
    "        self.flat_chains, self.motifs = self.chain_maker(self.chromo_tests, self.motif_path)\n",
    "        \n",
    "        self.chain_count = self.nucleotide_counter(self.flat_chains, \n",
    "                                                   self.chromo_dict, \n",
    "                                                   self.chromo_tests)\n",
    "        \n",
    "        self.motif_df = self.report(self.chain_count, self.motifs)\n",
    "  \n",
    "    def read_fasta(self, file_name):\n",
    "        # This is not the most elegant solution\n",
    "        # I might refactor this code later.\n",
    "        \n",
    "        # First read out the lines\n",
    "        f = open(file_name)\n",
    "        lines = f.read().splitlines()\n",
    "        f.close()\n",
    "        \n",
    "        # Make a list of chromosomes from list\n",
    "        chromosomes = \"\".join([x for x in lines if x != \"\"]).split(\">\")\n",
    "        chromosomes.remove(\"\")\n",
    "        \n",
    "        # Make a dictionary of chromosomes and entries. Could have done this in one line,\n",
    "        # but I think this is easier to read.\n",
    "                \n",
    "        chromo_dict = dict()\n",
    "        for chromosome in chromosomes:\n",
    "            # Split terms into int and non int values\n",
    "            entry = re.split(r'(\\d+)', chromosome)\n",
    "            chromo_dict[\"\".join(entry[:2])] = entry[-1]\n",
    "                             \n",
    "        return chromo_dict\n",
    "\n",
    "    def chromo_creator(self, index):        \n",
    "        chromo_tests = dict()\n",
    "        for value in range(index):\n",
    "            # We need to make sure we also grab duplicates\n",
    "            nucleotides = (value + 1) * [\"a\", \"c\", \"g\", \"t\"]\n",
    "            pattern = set(permutations(nucleotides, (value + 1)))\n",
    "            pattern = list(set(\"\".join(i) for i in pattern))\n",
    "            pattern.sort()\n",
    "            chromo_tests[value + 1] = pattern\n",
    "        \n",
    "        return chromo_tests\n",
    "        \n",
    "        \n",
    "    def chain_maker(self, chromo_tests, motif_path):\n",
    "        # flatten chromo_tests.values() lists\n",
    "        flat_chains = [item for sublist in chromo_tests.values() for item in sublist]\n",
    "        \n",
    "        # read into the set\n",
    "        with open(\"motifs.txt\") as f:\n",
    "            motifs = f.readlines()\n",
    "\n",
    "        # you may also want to remove whitespace characters like `\\n` at the end of each line\n",
    "        motifs = [x.strip() for x in content]\n",
    "\n",
    "        \n",
    "        # Add motifs into flat_chain list \n",
    "        return flat_chains + motifs, motifs\n",
    "        \n",
    "        \n",
    "    def nucleotide_counter(self, flat_chains, chromo_dict, chromo_tests):\n",
    "        \n",
    "        # First flatten list and then make a dictionary with counts  \n",
    "        chromo_count = dict()\n",
    "        chain_count  = dict()\n",
    "        for chain in flat_chains:\n",
    "            chain_counter = 0\n",
    "            chromo_count = dict()\n",
    "            for chromosome in chromo_dict.keys():\n",
    "                chromo_count[chromosome] = chromo_dict[chromosome].count(chain)\n",
    "                chain_counter += chromo_count[chromosome]\n",
    "            \n",
    "            chromo_count[\"total\"] = chain_counter\n",
    "            chain_count[chain] = chromo_count\n",
    "        \n",
    "        return chain_count\n",
    "        \n",
    "    def report(self, chain_count, motifs):\n",
    "        \n",
    "        report_dict = {k: chain_count[k] for k in motifs}\n",
    "        \n",
    "        # Not sure if it is OK to use Pandas here, but it feels most natural\n",
    "        motif_df = pd.DataFrame.from_dict(report_dict)\n",
    "         \n",
    "        motif_df.to_csv(\"complete.txt\".format(motif))\n",
    "        motif_df.to_csv(\"motif_count.txt\")\n",
    "        \n",
    "        # Print out the .txt for each column\n",
    "        for motif in motif_df.columns:\n",
    "               motif_df[[motif]].to_csv(\"{}.txt\".format(upper(motif)))\n",
    "                \n",
    "        \n",
    "        return motif_df\n",
    "    \n",
    "if __name__ == '__main__':\n",
    "    Main = Main(\"test1.fasta\", \"motifs.txt\", 5)"
   ]
  },
  {
   "cell_type": "code",
   "execution_count": null,
   "metadata": {},
   "outputs": [],
   "source": []
  },
  {
   "cell_type": "code",
   "execution_count": null,
   "metadata": {},
   "outputs": [],
   "source": [
    "Main.motif_df[[\"ggaagt\"]].to_c"
   ]
  },
  {
   "cell_type": "code",
   "execution_count": null,
   "metadata": {},
   "outputs": [],
   "source": [
    "bin(6)"
   ]
  },
  {
   "cell_type": "code",
   "execution_count": null,
   "metadata": {},
   "outputs": [],
   "source": []
  }
 ],
 "metadata": {
  "kernelspec": {
   "display_name": "Python 3",
   "language": "python",
   "name": "python3"
  },
  "language_info": {
   "codemirror_mode": {
    "name": "ipython",
    "version": 3
   },
   "file_extension": ".py",
   "mimetype": "text/x-python",
   "name": "python",
   "nbconvert_exporter": "python",
   "pygments_lexer": "ipython3",
   "version": "3.7.5"
  },
  "toc": {
   "base_numbering": 1,
   "nav_menu": {},
   "number_sections": true,
   "sideBar": false,
   "skip_h1_title": false,
   "title_cell": "Table of Contents",
   "title_sidebar": "Contents",
   "toc_cell": true,
   "toc_position": {
    "height": "calc(100% - 180px)",
    "left": "10px",
    "top": "150px",
    "width": "165px"
   },
   "toc_section_display": true,
   "toc_window_display": false
  }
 },
 "nbformat": 4,
 "nbformat_minor": 4
}
