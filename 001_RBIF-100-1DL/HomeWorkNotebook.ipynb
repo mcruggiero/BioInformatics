{
 "cells": [
  {
   "cell_type": "markdown",
   "metadata": {
    "toc": true
   },
   "source": [
    "<h1>Table of Contents<span class=\"tocSkip\"></span></h1>\n",
    "<div class=\"toc\"><ul class=\"toc-item\"><li><span><a href=\"#Week-2-Homework\" data-toc-modified-id=\"Week-2-Homework-1\"><span class=\"toc-item-num\">1&nbsp;&nbsp;</span>Week 2 Homework</a></span></li></ul></div>"
   ]
  },
  {
   "cell_type": "code",
   "execution_count": null,
   "metadata": {},
   "outputs": [],
   "source": [
    "%%bash\n",
    "\n",
    "ls"
   ]
  },
  {
   "cell_type": "code",
   "execution_count": null,
   "metadata": {},
   "outputs": [],
   "source": [
    "%%bash\n",
    "\n",
    "grep -o \"aaaaaa\" test1.fasta| wc -l"
   ]
  },
  {
   "cell_type": "code",
   "execution_count": null,
   "metadata": {},
   "outputs": [],
   "source": [
    "%%bash\n",
    "\n",
    "LanguageArray=(\"PHP\"  \"Java\"  \"C#\"  \"C++\"  \"VB.Net\"  \"Python\"  \"Perl\")\n",
    "echo ${LanguageArray}{$LanguageArray}"
   ]
  },
  {
   "cell_type": "markdown",
   "metadata": {},
   "source": [
    "## Week 2 Homework"
   ]
  },
  {
   "cell_type": "markdown",
   "metadata": {},
   "source": [
    "Assignment 1, due Tuesday Week 2\n",
    "Beginning Bash Scripting\n",
    "Key concepts covered: Recognizing approaches to solving problems using linux commands. Become familiar with GitHub practices\n",
    "\n",
    "Goals\n",
    "Preparing and downloading files. Creating a bash script that tests knowledge of linux commands. Running the script and submitting it. \n",
    "\n",
    "Assignment\n",
    "Story:\n",
    "\n",
    "Jane has discovered 10 motifs that are associated with radiation resistance in her colony of bacteria, R.bifella. A motif is a short, recurring sequence of DNA that is associated with gene regulation. She wants to choose the motif that occurs most frequently across the bacterial genome.   However, since these experiments are costly, she wants to pick the one that has the highest number of occurrences in the bacterial genome. Which motif should she choose?\n",
    "\n",
    "Steps:\n",
    "\n",
    "SSH into the AWS server and create a folder called week2. I will be grading out of this directory.\n",
    "Copy the motif list and the genome of the R.bifella from  /home/rbif/week2_assignment/\n",
    "Create a single bash script that does the following:\n",
    "Print out the number of occurrences for each motif that is found in the bacterial genome and output to a file called motif_count.txt\n",
    "Create a fasta file for each motif (so 10 in total) which contains all of the genes and their corresponding sequences that have that motif. Each file should be named after the motif (ie ATG.txt) and outputted to a new directory called motifs\n",
    "*Note*  Please comment your code. This should include a description of what the goal of the script is at the beginning. And then any clarifying comments for snippets of code.\n",
    "You can find an example output of the assignment in /home/rbif/week2_example_output along with how comments should look like.\n",
    "\n",
    "This is due Tuesday, July 31 at 11:59 pm. I will mark anything modified inside your assignment directory after that time as late.\n",
    "\n",
    "Submission status\n",
    "This assignment will accept submissions from Tuesday, 14 April 2020, 7:00 AM"
   ]
  },
  {
   "cell_type": "markdown",
   "metadata": {},
   "source": [
    "<strong>First a more complex python task. I want to explore a little bit here and rank all of the various string options, moving until I find a sting with only one entries</strong>"
   ]
  },
  {
   "cell_type": "code",
   "execution_count": null,
   "metadata": {},
   "outputs": [],
   "source": [
    "%%bash\n",
    "\n",
    "ls"
   ]
  },
  {
   "cell_type": "code",
   "execution_count": 16,
   "metadata": {},
   "outputs": [],
   "source": [
    "import re\n",
    "from itertools import combinations, permutations\n",
    "\n",
    "class Main:\n",
    "    def __init__(self, path):\n",
    "        self.chromo_dict = self.read_fasta(path)\n",
    "        \n",
    "        # The idea of this script is to start by creating a\n",
    "        # Candidates list, and build the test set from there. \n",
    "        self.candidate_size = 6\n",
    "        self.chromo_tests = self.chromo_creator(self.candidate_size)\n",
    "    \n",
    "        # \n",
    "        \n",
    "\n",
    "    \n",
    "    def read_fasta(self, file_name):\n",
    "        # This is not the most elegant solution\n",
    "        # I might refactor this code later.\n",
    "        \n",
    "        # First read out the lines\n",
    "        f = open(file_name)\n",
    "        lines = f.read().splitlines()\n",
    "        \n",
    "        # Close File\n",
    "        f.close()\n",
    "        \n",
    "        # Make a list of chromosomes from list\n",
    "        chromosomes = \"\".join([x for x in lines if x != \"\"]).split(\">\")\n",
    "        chromosomes.remove(\"\")\n",
    "        \n",
    "        chromo_dict = dict()\n",
    "        \n",
    "        # Make a dictionary of chromosomes and entries \n",
    "        for chromosome in chromosomes:\n",
    "            # Split terms into int and non int values\n",
    "            entry = re.split(r'(\\d+)', chromosome)\n",
    "            chromo_dict[\"\".join(entry[:2])] = entry[-1]\n",
    "                             \n",
    "        return chromo_dict\n",
    "\n",
    "    def chromo_creator(self, index):        \n",
    "        patterns = dict()\n",
    "        for value in range(index):\n",
    "            # We need to make sure we also grab duplicates\n",
    "            nucleotides = (value + 1) * [\"a\", \"c\", \"g\", \"t\"]\n",
    "            pattern = set(permutations(nucleotides, (value + 1)))\n",
    "            pattern = list(set(\"\".join(i) for i in pattern))\n",
    "            pattern.sort()\n",
    "            patterns[value + 1] = pattern\n",
    "\n",
    "        return patterns\n",
    "        \n",
    "    def nucleotide_count(self, chromo_dict, chromo_tests):\n",
    "        \n",
    "        for nucleotide in \n",
    "        \n",
    "if __name__ == '__main__':\n",
    "    Main(\"test1.fasta\")"
   ]
  },
  {
   "cell_type": "code",
   "execution_count": null,
   "metadata": {},
   "outputs": [],
   "source": [
    "4 * [\"a\", \"c\", \"g\", \"t\"]"
   ]
  },
  {
   "cell_type": "code",
   "execution_count": null,
   "metadata": {},
   "outputs": [],
   "source": []
  }
 ],
 "metadata": {
  "kernelspec": {
   "display_name": "Python 3",
   "language": "python",
   "name": "python3"
  },
  "language_info": {
   "codemirror_mode": {
    "name": "ipython",
    "version": 3
   },
   "file_extension": ".py",
   "mimetype": "text/x-python",
   "name": "python",
   "nbconvert_exporter": "python",
   "pygments_lexer": "ipython3",
   "version": "3.7.5"
  },
  "toc": {
   "base_numbering": 1,
   "nav_menu": {},
   "number_sections": true,
   "sideBar": false,
   "skip_h1_title": false,
   "title_cell": "Table of Contents",
   "title_sidebar": "Contents",
   "toc_cell": true,
   "toc_position": {
    "height": "calc(100% - 180px)",
    "left": "10px",
    "top": "150px",
    "width": "165px"
   },
   "toc_section_display": true,
   "toc_window_display": false
  }
 },
 "nbformat": 4,
 "nbformat_minor": 4
}
