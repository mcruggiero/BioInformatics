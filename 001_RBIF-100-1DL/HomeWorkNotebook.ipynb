{
 "cells": [
  {
   "cell_type": "markdown",
   "metadata": {
    "toc": true
   },
   "source": [
    "<h1>Table of Contents<span class=\"tocSkip\"></span></h1>\n",
    "<div class=\"toc\"><ul class=\"toc-item\"><li><span><a href=\"#Week-2-Homework\" data-toc-modified-id=\"Week-2-Homework-1\"><span class=\"toc-item-num\">1&nbsp;&nbsp;</span>Week 2 Homework</a></span></li></ul></div>"
   ]
  },
  {
   "cell_type": "code",
   "execution_count": null,
   "metadata": {},
   "outputs": [],
   "source": [
    "%%bash\n",
    "\n",
    "ls"
   ]
  },
  {
   "cell_type": "code",
   "execution_count": null,
   "metadata": {},
   "outputs": [],
   "source": [
    "%%bash\n",
    "\n",
    "grep -o \"aaaaaa\" test1.fasta| wc -l"
   ]
  },
  {
   "cell_type": "code",
   "execution_count": null,
   "metadata": {},
   "outputs": [],
   "source": [
    "%%bash\n",
    "\n",
    "LanguageArray=(\"PHP\"  \"Java\"  \"C#\"  \"C++\"  \"VB.Net\"  \"Python\"  \"Perl\")\n",
    "echo ${LanguageArray}{$LanguageArray}"
   ]
  },
  {
   "cell_type": "markdown",
   "metadata": {},
   "source": [
    "## Week 2 Homework"
   ]
  },
  {
   "cell_type": "markdown",
   "metadata": {},
   "source": [
    "Assignment 1, due Tuesday Week 2\n",
    "Beginning Bash Scripting\n",
    "Key concepts covered: Recognizing approaches to solving problems using linux commands. Become familiar with GitHub practices\n",
    "\n",
    "Goals\n",
    "Preparing and downloading files. Creating a bash script that tests knowledge of linux commands. Running the script and submitting it. \n",
    "\n",
    "Assignment\n",
    "Story:\n",
    "\n",
    "Jane has discovered 10 motifs that are associated with radiation resistance in her colony of bacteria, R.bifella. A motif is a short, recurring sequence of DNA that is associated with gene regulation. She wants to choose the motif that occurs most frequently across the bacterial genome.   However, since these experiments are costly, she wants to pick the one that has the highest number of occurrences in the bacterial genome. Which motif should she choose?\n",
    "\n",
    "Steps:\n",
    "\n",
    "SSH into the AWS server and create a folder called week2. I will be grading out of this directory.\n",
    "Copy the motif list and the genome of the R.bifella from  /home/rbif/week2_assignment/\n",
    "Create a single bash script that does the following:\n",
    "Print out the number of occurrences for each motif that is found in the bacterial genome and output to a file called motif_count.txt\n",
    "Create a fasta file for each motif (so 10 in total) which contains all of the genes and their corresponding sequences that have that motif. Each file should be named after the motif (ie ATG.txt) and outputted to a new directory called motifs\n",
    "*Note*  Please comment your code. This should include a description of what the goal of the script is at the beginning. And then any clarifying comments for snippets of code.\n",
    "You can find an example output of the assignment in /home/rbif/week2_example_output along with how comments should look like.\n",
    "\n",
    "This is due Tuesday, July 31 at 11:59 pm. I will mark anything modified inside your assignment directory after that time as late.\n",
    "\n",
    "Submission status\n",
    "This assignment will accept submissions from Tuesday, 14 April 2020, 7:00 AM"
   ]
  },
  {
   "cell_type": "markdown",
   "metadata": {},
   "source": [
    "<strong>First a more complex python task. I want to explore a little bit here and rank all of the various string options, moving until I find a sting with only one entries</strong>"
   ]
  },
  {
   "cell_type": "code",
   "execution_count": 49,
   "metadata": {},
   "outputs": [
    {
     "name": "stdout",
     "output_type": "stream",
     "text": [
      "gactt\n"
     ]
    }
   ],
   "source": [
    "# Numpy is a common library,I will use it here,\n",
    "import numpy as np\n",
    "\n",
    "# Until I get the motif list, I am going to cook myself something up\n",
    "# I am not going to use numpy for the code below since I am going to translate\n",
    "# the Python code to Bash.\n",
    "\n",
    "class Main:\n",
    "    def __init__(self, number, min_length, max_length):\n",
    "        self.motif_generator(min_length, max_length)\n",
    "    \n",
    "    def motif_generator(self, min_length, max_length):\n",
    "        \n",
    "        # Set the size of the random item\n",
    "        size = np.random.randint(low = min_length, high = max_length)\n",
    "        \n",
    "        # Set the candidate list of \n",
    "        nucleotides = (size + 1) * [\"a\", \"c\", \"g\", \"t\"]\n",
    "        \n",
    "        # Populate that list\n",
    "        nucleotides = \"\".join(np.random.choice([\"a\", \"c\", \"g\", \"t\"], size))\n",
    "        print(nucleotides)\n",
    "\n",
    "if __name__ == '__main__':\n",
    "    # Not really sure how large to make each motif, I suppose it doesn't matter.\n",
    "    Main = Main(6, 5, 7)"
   ]
  },
  {
   "cell_type": "code",
   "execution_count": 50,
   "metadata": {},
   "outputs": [
    {
     "name": "stdout",
     "output_type": "stream",
     "text": [
      "HomeWorkNotebook.ipynb\n",
      "test1.fasta\n"
     ]
    }
   ],
   "source": [
    "%%bash\n",
    "\n",
    "ls"
   ]
  },
  {
   "cell_type": "code",
   "execution_count": 1,
   "metadata": {},
   "outputs": [],
   "source": [
    "import re\n",
    "from itertools import combinations, permutations\n",
    "\n",
    "###\n",
    "# \n",
    "###\n",
    "\n",
    "\n",
    "\n",
    "class Main:\n",
    "    def __init__(self, path, candidate_size):\n",
    "        self.chromo_dict = self.read_fasta(path)\n",
    "        \n",
    "        # The idea of this script is to start by creating a\n",
    "        # Candidates list, and build the test set from there. \n",
    "        self.candidate_size = candidate_size\n",
    "        self.chromo_tests = self.chromo_creator(self.candidate_size)\n",
    "        \n",
    "        # flatten chromo_tests.values() lists\n",
    "        self.flat_chains = [item for sublist in self.chromo_tests.values() for item in sublist]\n",
    "        \n",
    "        self.chain_count = self.nucleotide_counter(self.flat_chains, \n",
    "                                                   self.chromo_dict, \n",
    "                                                   self.chromo_tests)\n",
    "  \n",
    "    def read_fasta(self, file_name):\n",
    "        # This is not the most elegant solution\n",
    "        # I might refactor this code later.\n",
    "        \n",
    "        # First read out the lines\n",
    "        f = open(file_name)\n",
    "        lines = f.read().splitlines()\n",
    "        f.close()\n",
    "        \n",
    "        # Make a list of chromosomes from list\n",
    "        chromosomes = \"\".join([x for x in lines if x != \"\"]).split(\">\")\n",
    "        chromosomes.remove(\"\")\n",
    "        \n",
    "        # Make a dictionary of chromosomes and entries. Could have done this in one line,\n",
    "        # but I think this is easier to read.\n",
    "                \n",
    "        chromo_dict = dict()\n",
    "        for chromosome in chromosomes:\n",
    "            # Split terms into int and non int values\n",
    "            entry = re.split(r'(\\d+)', chromosome)\n",
    "            chromo_dict[\"\".join(entry[:2])] = entry[-1]\n",
    "                             \n",
    "        return chromo_dict\n",
    "\n",
    "    def chromo_creator(self, index):        \n",
    "        chromo_tests = dict()\n",
    "        for value in range(index):\n",
    "            # We need to make sure we also grab duplicates\n",
    "            nucleotides = (value + 1) * [\"a\", \"c\", \"g\", \"t\"]\n",
    "            pattern = set(permutations(nucleotides, (value + 1)))\n",
    "            pattern = list(set(\"\".join(i) for i in pattern))\n",
    "            pattern.sort()\n",
    "            chromo_tests[value + 1] = pattern\n",
    "\n",
    "        return chromo_tests\n",
    "        \n",
    "    def nucleotide_counter(self, flat_chains, chromo_dict, chromo_tests):\n",
    "        \n",
    "        # First flatten list and then make a dictionary with counts  \n",
    "        chromo_count = dict()\n",
    "        chain_count  = dict()\n",
    "        for chain in flat_chains:\n",
    "            chain_counter = 0\n",
    "            chromo_count = dict()\n",
    "            for chromosome in chromo_dict.keys():\n",
    "                chromo_count[chromosome] = chromo_dict[chromosome].count(chain)\n",
    "                chain_counter += chromo_count[chromosome]\n",
    "            \n",
    "            chromo_count[\"total\"] = chain_counter\n",
    "            chain_count[chain] = chromo_count\n",
    "        \n",
    "        return chain_count\n",
    "        \n",
    "if __name__ == '__main__':\n",
    "    Main = Main(\"test1.fasta\", 6)"
   ]
  },
  {
   "cell_type": "code",
   "execution_count": 4,
   "metadata": {},
   "outputs": [
    {
     "data": {
      "text/plain": [
       "{'chr1': 1,\n",
       " 'chr2': 0,\n",
       " 'chr3': 1,\n",
       " 'chr4': 0,\n",
       " 'chr5': 0,\n",
       " 'chr6': 1,\n",
       " 'chr7': 1,\n",
       " 'chr8': 0,\n",
       " 'chr9': 0,\n",
       " 'chr10': 0,\n",
       " 'chr11': 0,\n",
       " 'chr12': 1,\n",
       " 'chr13': 0,\n",
       " 'chr14': 0,\n",
       " 'chr15': 0,\n",
       " 'chr16': 0,\n",
       " 'chr17': 0,\n",
       " 'chr18': 0,\n",
       " 'chr19': 1,\n",
       " 'chr20': 0,\n",
       " 'chr21': 0,\n",
       " 'chr22': 0,\n",
       " 'chr23': 0,\n",
       " 'chr24': 0,\n",
       " 'chr25': 0,\n",
       " 'chr26': 0,\n",
       " 'chr27': 0,\n",
       " 'chr28': 0,\n",
       " 'chr29': 0,\n",
       " 'chr30': 0,\n",
       " 'chr31': 0,\n",
       " 'chr32': 0,\n",
       " 'chr33': 0,\n",
       " 'chr34': 0,\n",
       " 'chr35': 0,\n",
       " 'chr36': 0,\n",
       " 'chr37': 0,\n",
       " 'chr38': 0,\n",
       " 'chr39': 0,\n",
       " 'chr40': 0,\n",
       " 'chr41': 1,\n",
       " 'chr42': 0,\n",
       " 'chr43': 0,\n",
       " 'chr44': 0,\n",
       " 'chr45': 0,\n",
       " 'chr46': 0,\n",
       " 'chr47': 0,\n",
       " 'chr48': 0,\n",
       " 'chr49': 0,\n",
       " 'chr50': 0,\n",
       " 'total': 7}"
      ]
     },
     "execution_count": 4,
     "metadata": {},
     "output_type": "execute_result"
    }
   ],
   "source": [
    "Main.chain_count[\"gcctaa\"]"
   ]
  },
  {
   "cell_type": "code",
   "execution_count": null,
   "metadata": {},
   "outputs": [],
   "source": []
  },
  {
   "cell_type": "code",
   "execution_count": null,
   "metadata": {},
   "outputs": [],
   "source": []
  }
 ],
 "metadata": {
  "kernelspec": {
   "display_name": "Python 3",
   "language": "python",
   "name": "python3"
  },
  "language_info": {
   "codemirror_mode": {
    "name": "ipython",
    "version": 3
   },
   "file_extension": ".py",
   "mimetype": "text/x-python",
   "name": "python",
   "nbconvert_exporter": "python",
   "pygments_lexer": "ipython3",
   "version": "3.7.5"
  },
  "toc": {
   "base_numbering": 1,
   "nav_menu": {},
   "number_sections": true,
   "sideBar": false,
   "skip_h1_title": false,
   "title_cell": "Table of Contents",
   "title_sidebar": "Contents",
   "toc_cell": true,
   "toc_position": {
    "height": "calc(100% - 180px)",
    "left": "10px",
    "top": "150px",
    "width": "165px"
   },
   "toc_section_display": true,
   "toc_window_display": false
  }
 },
 "nbformat": 4,
 "nbformat_minor": 4
}
