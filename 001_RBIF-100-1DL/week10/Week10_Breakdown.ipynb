{
 "cells": [
  {
   "cell_type": "markdown",
   "metadata": {},
   "source": [
    "# Week 10 Assignment"
   ]
  },
  {
   "cell_type": "markdown",
   "metadata": {
    "toc": true
   },
   "source": [
    "<h1>Table of Contents<span class=\"tocSkip\"></span></h1>\n",
    "<div class=\"toc\"><ul class=\"toc-item\"><li><span><a href=\"#Prompt:\" data-toc-modified-id=\"Prompt:-1\"><span class=\"toc-item-num\">1&nbsp;&nbsp;</span>Prompt:</a></span></li><li><span><a href=\"#Libraries\" data-toc-modified-id=\"Libraries-2\"><span class=\"toc-item-num\">2&nbsp;&nbsp;</span>Libraries</a></span></li><li><span><a href=\"#Exploratory-Data-Analysis-(Part-I)\" data-toc-modified-id=\"Exploratory-Data-Analysis-(Part-I)-3\"><span class=\"toc-item-num\">3&nbsp;&nbsp;</span>Exploratory Data Analysis (Part I)</a></span><ul class=\"toc-item\"><li><span><a href=\"#Load-dataframe\" data-toc-modified-id=\"Load-dataframe-3.1\"><span class=\"toc-item-num\">3.1&nbsp;&nbsp;</span>Load dataframe</a></span></li><li><span><a href=\"#Add-std-and-mean\" data-toc-modified-id=\"Add-std-and-mean-3.2\"><span class=\"toc-item-num\">3.2&nbsp;&nbsp;</span>Add std and mean</a></span></li></ul></li><li><span><a href=\"#Graphics-(Part-II)\" data-toc-modified-id=\"Graphics-(Part-II)-4\"><span class=\"toc-item-num\">4&nbsp;&nbsp;</span>Graphics (Part II)</a></span></li><li><span><a href=\"#Clustering-(Part-III)\" data-toc-modified-id=\"Clustering-(Part-III)-5\"><span class=\"toc-item-num\">5&nbsp;&nbsp;</span>Clustering (Part III)</a></span><ul class=\"toc-item\"><li><span><a href=\"#Split-and-apply-standard-scalar\" data-toc-modified-id=\"Split-and-apply-standard-scalar-5.1\"><span class=\"toc-item-num\">5.1&nbsp;&nbsp;</span>Split and apply standard scalar</a></span></li><li><span><a href=\"#Build-Silhouette-and-Inertia-Score-dataframe\" data-toc-modified-id=\"Build-Silhouette-and-Inertia-Score-dataframe-5.2\"><span class=\"toc-item-num\">5.2&nbsp;&nbsp;</span>Build Silhouette and Inertia Score dataframe</a></span></li><li><span><a href=\"#Take-best-silhouette-score\" data-toc-modified-id=\"Take-best-silhouette-score-5.3\"><span class=\"toc-item-num\">5.3&nbsp;&nbsp;</span>Take best silhouette score</a></span></li></ul></li><li><span><a href=\"#Final-Script\" data-toc-modified-id=\"Final-Script-6\"><span class=\"toc-item-num\">6&nbsp;&nbsp;</span>Final Script</a></span></li><li><span><a href=\"#Readme\" data-toc-modified-id=\"Readme-7\"><span class=\"toc-item-num\">7&nbsp;&nbsp;</span>Readme</a></span></li></ul></div>"
   ]
  },
  {
   "cell_type": "markdown",
   "metadata": {},
   "source": [
    "## Prompt:"
   ]
  },
  {
   "cell_type": "markdown",
   "metadata": {},
   "source": [
    "You are the newest member of the Atreides Lab. Their postdoc, Paul, had recently left and you are in charge of taking over the latest analysis.\n",
    "\n",
    "Paul was collaborating with another lab and received clinical data from their team. He identified the bacteria present in the microbiome of 50 samples and calculated the taxonomic diversity for each sample.\n",
    "His analyses outputted into two folders: one filled with diversity scores, and another with the final output of his distance matrices.\n",
    "\n",
    "Your task:\n",
    "\n",
    "1) Read in the data clinical file (clinical_data.txt) as a dataframe and create two new columns called averages and std. You will read in each sample's diversity score list (found in diversityScores) and append the mean value and the standard deviation of the sample's diversity score. Then output the new clinical data (which includes the original clinical information from clinical_data.txt along with the two new columns to a file called clinical_data.stats.txt.)\n",
    "\n",
    "This should be done using pandas and numpy python package.\n",
    "\n",
    "2) Then find the animals (code names) that correspond with the two highest average diversity scores and one with the lowest average diversity score (three animals in total).  Find their respective txt file inside the distanceFiles directory and plot and save a scatter plot for each animal (three plots in total, and can be saved as png files). Add a title for each plot that has the animal's name in it.\n",
    "\n",
    "Extra credit. Perform k-means on the three plots and color them by cluster. K-means is a very common algorithm to find patterns in a dataset. In our case we want to see if clustering our scatterplot reveals a biological meaning for our samples.\n",
    "Use the elbow method to find the appropriate number of clusters (even though it may be very easy to see by eye).\n",
    "\n",
    "K-means is a very common algorithm to find patterns in a dataset. In our case we want to see if clustering our scatterplot reveals a biological meaning for our samples (different species of bacteria in the microbiome).\n",
    "\n",
    "You can use the following resources below to help you. The code for this should be in the same python script as the rest of the assignment. Feel free to make use of the scipy function for k-means (I'm not expecting you to write the code for k-means, just implement it). \n",
    "\n",
    "What is Kmeans and when would we use it? https://www.datascience.com/blog/k-means-clustering\n",
    "\n",
    "Code for k-means: https://mubaris.com/posts/kmeans-clustering/\n",
    "Code for elbow plot: https://pythonprogramminglanguage.com/kmeans-elbow-method/\n",
    "\n",
    "\n",
    "\n",
    "Requirements\n",
    "Input files:\n",
    "You will find all necessary input files here: /home/rbif/week10/inputfiles\n",
    "\n",
    "Expected output:\n",
    "clinical_data.stats.txt\n",
    "3 plots with a title of the {animal}, and saved as {animal}.pdf\n",
    "your python script\n",
    "a readme\n",
    "\n",
    "All of the above steps should be contained in a single python script.\n",
    "You can use either matplotlib or seaborn to plot the data.\n",
    "\n",
    "Your code is expected to work independent of the data clinical file. For example, if I gave another file with a completely different set of animal names, your code should work without any issues.\n",
    "\n",
    "Please make use of the Questions and Answers forum if anything is unclear. If you need help with your code, please provide the path on the AWS to your code. "
   ]
  },
  {
   "cell_type": "markdown",
   "metadata": {},
   "source": [
    "## Libraries"
   ]
  },
  {
   "cell_type": "markdown",
   "metadata": {},
   "source": [
    "Common Libraries used in this task"
   ]
  },
  {
   "cell_type": "code",
   "execution_count": 157,
   "metadata": {},
   "outputs": [],
   "source": [
    "# Data Analytics\n",
    "import numpy as np\n",
    "import pandas as pd\n",
    "\n",
    "# Ploting Libraries\n",
    "import seaborn as sns\n",
    "import matplotlib.pyplot as plt\n",
    "\n",
    "# Clustering Libraries\n",
    "from sklearn.cluster import KMeans, DBSCAN\n",
    "from sklearn.preprocessing import StandardScaler\n",
    "from sklearn.metrics import silhouette_score\n",
    "\n",
    "plt.style.use('fivethirtyeight')\n",
    "\n",
    "%matplotlib inline"
   ]
  },
  {
   "cell_type": "markdown",
   "metadata": {},
   "source": [
    "## Exploratory Data Analysis (Part I)"
   ]
  },
  {
   "cell_type": "markdown",
   "metadata": {},
   "source": [
    "### Load dataframe"
   ]
  },
  {
   "cell_type": "code",
   "execution_count": 46,
   "metadata": {},
   "outputs": [],
   "source": [
    "df = pd.read_csv(\"./inputfiles/clinical_data.txt\", sep='\\t')"
   ]
  },
  {
   "cell_type": "code",
   "execution_count": 47,
   "metadata": {},
   "outputs": [
    {
     "data": {
      "text/html": [
       "<div>\n",
       "<style scoped>\n",
       "    .dataframe tbody tr th:only-of-type {\n",
       "        vertical-align: middle;\n",
       "    }\n",
       "\n",
       "    .dataframe tbody tr th {\n",
       "        vertical-align: top;\n",
       "    }\n",
       "\n",
       "    .dataframe thead th {\n",
       "        text-align: right;\n",
       "    }\n",
       "</style>\n",
       "<table border=\"1\" class=\"dataframe\">\n",
       "  <thead>\n",
       "    <tr style=\"text-align: right;\">\n",
       "      <th></th>\n",
       "      <th>Discoverer</th>\n",
       "      <th>Location</th>\n",
       "      <th>Diamater (mm)</th>\n",
       "      <th>Environment</th>\n",
       "      <th>Status</th>\n",
       "      <th>code_name</th>\n",
       "    </tr>\n",
       "  </thead>\n",
       "  <tbody>\n",
       "    <tr>\n",
       "      <th>0</th>\n",
       "      <td>Kerr</td>\n",
       "      <td>New Jersey</td>\n",
       "      <td>68</td>\n",
       "      <td>River</td>\n",
       "      <td>Sequenced</td>\n",
       "      <td>addax</td>\n",
       "    </tr>\n",
       "    <tr>\n",
       "      <th>1</th>\n",
       "      <td>Schacher</td>\n",
       "      <td>Sweden</td>\n",
       "      <td>44</td>\n",
       "      <td>Sewage</td>\n",
       "      <td>Sequenced</td>\n",
       "      <td>badger</td>\n",
       "    </tr>\n",
       "    <tr>\n",
       "      <th>2</th>\n",
       "      <td>No</td>\n",
       "      <td>Florida</td>\n",
       "      <td>6</td>\n",
       "      <td>River</td>\n",
       "      <td>Sequenced</td>\n",
       "      <td>basilisk</td>\n",
       "    </tr>\n",
       "    <tr>\n",
       "      <th>3</th>\n",
       "      <td>Farrior</td>\n",
       "      <td>New Jersey</td>\n",
       "      <td>75</td>\n",
       "      <td>River</td>\n",
       "      <td>Sequenced</td>\n",
       "      <td>bat</td>\n",
       "    </tr>\n",
       "    <tr>\n",
       "      <th>4</th>\n",
       "      <td>Look</td>\n",
       "      <td>Florida</td>\n",
       "      <td>66</td>\n",
       "      <td>Sewage</td>\n",
       "      <td>Sequenced</td>\n",
       "      <td>bear</td>\n",
       "    </tr>\n",
       "  </tbody>\n",
       "</table>\n",
       "</div>"
      ],
      "text/plain": [
       "  Discoverer    Location  Diamater (mm) Environment     Status code_name\n",
       "0       Kerr  New Jersey             68       River  Sequenced     addax\n",
       "1   Schacher      Sweden             44      Sewage  Sequenced    badger\n",
       "2         No     Florida              6       River  Sequenced  basilisk\n",
       "3    Farrior  New Jersey             75       River  Sequenced       bat\n",
       "4       Look     Florida             66      Sewage  Sequenced      bear"
      ]
     },
     "execution_count": 47,
     "metadata": {},
     "output_type": "execute_result"
    }
   ],
   "source": [
    "df.head()"
   ]
  },
  {
   "cell_type": "markdown",
   "metadata": {},
   "source": [
    "### Add std and mean"
   ]
  },
  {
   "cell_type": "markdown",
   "metadata": {},
   "source": [
    "Let's see if I can do with with a lambda"
   ]
  },
  {
   "cell_type": "code",
   "execution_count": 48,
   "metadata": {},
   "outputs": [
    {
     "data": {
      "text/plain": [
       "[7.345858333333334, 4.452870152676499]"
      ]
     },
     "execution_count": 48,
     "metadata": {},
     "output_type": "execute_result"
    }
   ],
   "source": [
    "clinical_file = \"./inputfiles/\"\n",
    "\n",
    "def stats(clinical_file, codename):\n",
    "    data = clinical_file + \"/diversityScores/{}.diversity.txt\".format(codename)\n",
    "    text_list = open(data).readlines()\n",
    "    data_list = [float(x) for x in text_list]\n",
    "    \n",
    "    mean = np.mean(data_list)\n",
    "    std = np.std(data_list)\n",
    "    \n",
    "    return [mean, std] \n",
    "\n",
    "stats(clinical_file, \"basilisk\")"
   ]
  },
  {
   "cell_type": "code",
   "execution_count": 55,
   "metadata": {},
   "outputs": [],
   "source": [
    "df[\"mean\"] = df[\"code_name\"].apply(lambda a: stats(clinical_file, a)[0])\n",
    "df[\"std\"] = df[\"code_name\"].apply(lambda a: stats(clinical_file, a)[1])"
   ]
  },
  {
   "cell_type": "markdown",
   "metadata": {},
   "source": [
    "## Graphics (Part II)"
   ]
  },
  {
   "cell_type": "markdown",
   "metadata": {},
   "source": [
    "Get top two mean values"
   ]
  },
  {
   "cell_type": "code",
   "execution_count": 85,
   "metadata": {},
   "outputs": [
    {
     "data": {
      "text/plain": [
       "[22.379341666666665, 25.099075]"
      ]
     },
     "execution_count": 85,
     "metadata": {},
     "output_type": "execute_result"
    }
   ],
   "source": [
    "sorted(df[\"mean\"].tolist())[-2:]"
   ]
  },
  {
   "cell_type": "markdown",
   "metadata": {},
   "source": [
    "We could use idmax, but not as clean"
   ]
  },
  {
   "cell_type": "code",
   "execution_count": 62,
   "metadata": {},
   "outputs": [
    {
     "data": {
      "text/plain": [
       "Discoverer       Vanderburg\n",
       "Location             Sweden\n",
       "Diamater (mm)            26\n",
       "Environment           River\n",
       "Status            Sequenced\n",
       "code_name               fox\n",
       "mean                25.0991\n",
       "std                 2.91054\n",
       "Name: 21, dtype: object"
      ]
     },
     "execution_count": 62,
     "metadata": {},
     "output_type": "execute_result"
    }
   ],
   "source": [
    "df.loc[df[\"mean\"].idxmax()]"
   ]
  },
  {
   "cell_type": "code",
   "execution_count": 147,
   "metadata": {},
   "outputs": [
    {
     "data": {
      "image/png": "[encoded data removed]",
      "text/plain": [
       "<Figure size 432x288 with 1 Axes>"
      ]
     },
     "metadata": {
      "needs_background": "light"
     },
     "output_type": "display_data"
    },
    {
     "data": {
      "image/png": "[encoded data removed]",
      "text/plain": [
       "<Figure size 432x288 with 1 Axes>"
      ]
     },
     "metadata": {
      "needs_background": "light"
     },
     "output_type": "display_data"
    },
    {
     "data": {
      "image/png": "[encoded data removed]",
      "text/plain": [
       "<Figure size 432x288 with 1 Axes>"
      ]
     },
     "metadata": {
      "needs_background": "light"
     },
     "output_type": "display_data"
    }
   ],
   "source": [
    "def analysis(clinical_file, df):\n",
    "        \"\"\"\n",
    "        Finds and plots first, second, and last place animal information\n",
    "        \"\"\"\n",
    "        # Sort list and grab values\n",
    "        sorted_mean_list =  sorted(df[\"mean\"].tolist())\n",
    "        first_place  = sorted_mean_list[-1]\n",
    "        second_place = sorted_mean_list[-2]\n",
    "        last_place   = sorted_mean_list[0]\n",
    "\n",
    "        animal_dataframes = []\n",
    "        for place in [first_place, second_place, last_place]:\n",
    "            # Grab animal name from dataframe\n",
    "            animal = df[df[\"mean\"] == place][\"code_name\"].values[0]\n",
    "\n",
    "            # Convert txt files to float list\n",
    "            animal_text = clinical_file + \"/distanceFiles/{}.distance.txt\".format(animal)\n",
    "            animal_data = pd.read_csv(animal_text, header=None).rename(columns={0: 'x1', 1: 'x2'})\n",
    "            \n",
    "            # Plot Values\n",
    "            animal_data.plot(kind='scatter', x='x1', y='x2', title = animal.title())\n",
    "            plt.savefig( '{}{}.png'.format(clinical_file, animal), dpi=300)\n",
    "            \n",
    "            # Make dataframe for merger\n",
    "            animal_data[\"target\"] = animal\n",
    "            animal_dataframes.append(animal_data)\n",
    "        \n",
    "        # Concatenate dataframes and reset index\n",
    "        cluster_animals = pd.concat(animal_dataframes).reset_index(drop=True)\n",
    "        return cluster_animals\n",
    "\n",
    "cluster_animals = analysis(clinical_file, df)"
   ]
  },
  {
   "cell_type": "markdown",
   "metadata": {},
   "source": [
    "## Clustering (Part III)"
   ]
  },
  {
   "cell_type": "code",
   "execution_count": 148,
   "metadata": {},
   "outputs": [
    {
     "data": {
      "text/html": [
       "<div>\n",
       "<style scoped>\n",
       "    .dataframe tbody tr th:only-of-type {\n",
       "        vertical-align: middle;\n",
       "    }\n",
       "\n",
       "    .dataframe tbody tr th {\n",
       "        vertical-align: top;\n",
       "    }\n",
       "\n",
       "    .dataframe thead th {\n",
       "        text-align: right;\n",
       "    }\n",
       "</style>\n",
       "<table border=\"1\" class=\"dataframe\">\n",
       "  <thead>\n",
       "    <tr style=\"text-align: right;\">\n",
       "      <th></th>\n",
       "      <th>x1</th>\n",
       "      <th>x2</th>\n",
       "      <th>target</th>\n",
       "    </tr>\n",
       "  </thead>\n",
       "  <tbody>\n",
       "    <tr>\n",
       "      <th>0</th>\n",
       "      <td>1.2</td>\n",
       "      <td>7.5</td>\n",
       "      <td>fox</td>\n",
       "    </tr>\n",
       "    <tr>\n",
       "      <th>1</th>\n",
       "      <td>3.9</td>\n",
       "      <td>5.7</td>\n",
       "      <td>fox</td>\n",
       "    </tr>\n",
       "    <tr>\n",
       "      <th>2</th>\n",
       "      <td>7.8</td>\n",
       "      <td>7.9</td>\n",
       "      <td>fox</td>\n",
       "    </tr>\n",
       "    <tr>\n",
       "      <th>3</th>\n",
       "      <td>1.2</td>\n",
       "      <td>6.3</td>\n",
       "      <td>fox</td>\n",
       "    </tr>\n",
       "    <tr>\n",
       "      <th>4</th>\n",
       "      <td>7.6</td>\n",
       "      <td>6.3</td>\n",
       "      <td>fox</td>\n",
       "    </tr>\n",
       "    <tr>\n",
       "      <th>...</th>\n",
       "      <td>...</td>\n",
       "      <td>...</td>\n",
       "      <td>...</td>\n",
       "    </tr>\n",
       "    <tr>\n",
       "      <th>1882</th>\n",
       "      <td>4.5</td>\n",
       "      <td>16.5</td>\n",
       "      <td>lion</td>\n",
       "    </tr>\n",
       "    <tr>\n",
       "      <th>1883</th>\n",
       "      <td>18.2</td>\n",
       "      <td>19.9</td>\n",
       "      <td>lion</td>\n",
       "    </tr>\n",
       "    <tr>\n",
       "      <th>1884</th>\n",
       "      <td>1.8</td>\n",
       "      <td>17.7</td>\n",
       "      <td>lion</td>\n",
       "    </tr>\n",
       "    <tr>\n",
       "      <th>1885</th>\n",
       "      <td>18.1</td>\n",
       "      <td>7.5</td>\n",
       "      <td>lion</td>\n",
       "    </tr>\n",
       "    <tr>\n",
       "      <th>1886</th>\n",
       "      <td>0.4</td>\n",
       "      <td>18.3</td>\n",
       "      <td>lion</td>\n",
       "    </tr>\n",
       "  </tbody>\n",
       "</table>\n",
       "<p>1887 rows × 3 columns</p>\n",
       "</div>"
      ],
      "text/plain": [
       "        x1    x2 target\n",
       "0      1.2   7.5    fox\n",
       "1      3.9   5.7    fox\n",
       "2      7.8   7.9    fox\n",
       "3      1.2   6.3    fox\n",
       "4      7.6   6.3    fox\n",
       "...    ...   ...    ...\n",
       "1882   4.5  16.5   lion\n",
       "1883  18.2  19.9   lion\n",
       "1884   1.8  17.7   lion\n",
       "1885  18.1   7.5   lion\n",
       "1886   0.4  18.3   lion\n",
       "\n",
       "[1887 rows x 3 columns]"
      ]
     },
     "execution_count": 148,
     "metadata": {},
     "output_type": "execute_result"
    }
   ],
   "source": [
    "cluster_animals"
   ]
  },
  {
   "cell_type": "markdown",
   "metadata": {},
   "source": [
    "### Split and apply standard scalar "
   ]
  },
  {
   "cell_type": "markdown",
   "metadata": {},
   "source": [
    "First we are going to have to scale these data before we can effectively cluster. I am not going to cross validate these data since it is outside the scope of this class for an unsupervised learning model like k-means clustering, but it is best practice."
   ]
  },
  {
   "cell_type": "code",
   "execution_count": 151,
   "metadata": {},
   "outputs": [],
   "source": [
    "X = cluster_animals.loc[:, ['x1', 'x2']]\n",
    "y = cluster_animals[\"target\"]"
   ]
  },
  {
   "cell_type": "code",
   "execution_count": 152,
   "metadata": {},
   "outputs": [
    {
     "data": {
      "text/html": [
       "<div>\n",
       "<style scoped>\n",
       "    .dataframe tbody tr th:only-of-type {\n",
       "        vertical-align: middle;\n",
       "    }\n",
       "\n",
       "    .dataframe tbody tr th {\n",
       "        vertical-align: top;\n",
       "    }\n",
       "\n",
       "    .dataframe thead th {\n",
       "        text-align: right;\n",
       "    }\n",
       "</style>\n",
       "<table border=\"1\" class=\"dataframe\">\n",
       "  <thead>\n",
       "    <tr style=\"text-align: right;\">\n",
       "      <th></th>\n",
       "      <th>x1</th>\n",
       "      <th>x2</th>\n",
       "    </tr>\n",
       "  </thead>\n",
       "  <tbody>\n",
       "    <tr>\n",
       "      <th>0</th>\n",
       "      <td>1.2</td>\n",
       "      <td>7.5</td>\n",
       "    </tr>\n",
       "    <tr>\n",
       "      <th>1</th>\n",
       "      <td>3.9</td>\n",
       "      <td>5.7</td>\n",
       "    </tr>\n",
       "    <tr>\n",
       "      <th>2</th>\n",
       "      <td>7.8</td>\n",
       "      <td>7.9</td>\n",
       "    </tr>\n",
       "    <tr>\n",
       "      <th>3</th>\n",
       "      <td>1.2</td>\n",
       "      <td>6.3</td>\n",
       "    </tr>\n",
       "    <tr>\n",
       "      <th>4</th>\n",
       "      <td>7.6</td>\n",
       "      <td>6.3</td>\n",
       "    </tr>\n",
       "  </tbody>\n",
       "</table>\n",
       "</div>"
      ],
      "text/plain": [
       "    x1   x2\n",
       "0  1.2  7.5\n",
       "1  3.9  5.7\n",
       "2  7.8  7.9\n",
       "3  1.2  6.3\n",
       "4  7.6  6.3"
      ]
     },
     "execution_count": 152,
     "metadata": {},
     "output_type": "execute_result"
    }
   ],
   "source": [
    "X.head()"
   ]
  },
  {
   "cell_type": "code",
   "execution_count": 153,
   "metadata": {},
   "outputs": [
    {
     "data": {
      "text/plain": [
       "0    fox\n",
       "1    fox\n",
       "2    fox\n",
       "3    fox\n",
       "4    fox\n",
       "Name: target, dtype: object"
      ]
     },
     "execution_count": 153,
     "metadata": {},
     "output_type": "execute_result"
    }
   ],
   "source": [
    "y.head()"
   ]
  },
  {
   "cell_type": "code",
   "execution_count": 155,
   "metadata": {},
   "outputs": [],
   "source": [
    "sc = StandardScaler()\n",
    "X_sc = sc.fit_transform(X)"
   ]
  },
  {
   "cell_type": "markdown",
   "metadata": {},
   "source": [
    "### Build Silhouette and Inertia Score dataframe"
   ]
  },
  {
   "cell_type": "markdown",
   "metadata": {},
   "source": [
    "Might be getting too technical here, but basically, I will be using two basic score systems to test the value of our clustering. First, **inertia** is sum of squared errors for each cluster. Second, I will be looking at the **silhouette score** which measures of how far apart clusters are. For this problem, we will just maximize the silhouette score. Normally we would want to grid search which of these clustering systems would be best, but here we will just make a quick plot. In this particular problem, this type of analysis doesn't really make any sense. We know these data come from three different sets..."
   ]
  },
  {
   "cell_type": "code",
   "execution_count": 161,
   "metadata": {},
   "outputs": [],
   "source": [
    "scores = []\n",
    "for k in range(2, 7):\n",
    "    cl = KMeans(n_clusters=k)\n",
    "    cl.fit(X_sc)\n",
    "    inertia = cl.inertia_\n",
    "    sil = silhouette_score(X_sc, cl.labels_)\n",
    "    scores.append([k, inertia, sil])\n",
    "    \n",
    "score_df = pd.DataFrame(scores)\n",
    "score_df.columns = ['k', 'inertia', 'silhouette']"
   ]
  },
  {
   "cell_type": "code",
   "execution_count": 162,
   "metadata": {},
   "outputs": [
    {
     "data": {
      "text/html": [
       "<div>\n",
       "<style scoped>\n",
       "    .dataframe tbody tr th:only-of-type {\n",
       "        vertical-align: middle;\n",
       "    }\n",
       "\n",
       "    .dataframe tbody tr th {\n",
       "        vertical-align: top;\n",
       "    }\n",
       "\n",
       "    .dataframe thead th {\n",
       "        text-align: right;\n",
       "    }\n",
       "</style>\n",
       "<table border=\"1\" class=\"dataframe\">\n",
       "  <thead>\n",
       "    <tr style=\"text-align: right;\">\n",
       "      <th></th>\n",
       "      <th>k</th>\n",
       "      <th>inertia</th>\n",
       "      <th>silhouette</th>\n",
       "    </tr>\n",
       "  </thead>\n",
       "  <tbody>\n",
       "    <tr>\n",
       "      <th>0</th>\n",
       "      <td>2</td>\n",
       "      <td>1831.254766</td>\n",
       "      <td>0.489930</td>\n",
       "    </tr>\n",
       "    <tr>\n",
       "      <th>1</th>\n",
       "      <td>3</td>\n",
       "      <td>830.346825</td>\n",
       "      <td>0.589380</td>\n",
       "    </tr>\n",
       "    <tr>\n",
       "      <th>2</th>\n",
       "      <td>4</td>\n",
       "      <td>576.785005</td>\n",
       "      <td>0.574318</td>\n",
       "    </tr>\n",
       "    <tr>\n",
       "      <th>3</th>\n",
       "      <td>5</td>\n",
       "      <td>469.516972</td>\n",
       "      <td>0.538698</td>\n",
       "    </tr>\n",
       "    <tr>\n",
       "      <th>4</th>\n",
       "      <td>6</td>\n",
       "      <td>372.596285</td>\n",
       "      <td>0.472514</td>\n",
       "    </tr>\n",
       "  </tbody>\n",
       "</table>\n",
       "</div>"
      ],
      "text/plain": [
       "   k      inertia  silhouette\n",
       "0  2  1831.254766    0.489930\n",
       "1  3   830.346825    0.589380\n",
       "2  4   576.785005    0.574318\n",
       "3  5   469.516972    0.538698\n",
       "4  6   372.596285    0.472514"
      ]
     },
     "execution_count": 162,
     "metadata": {},
     "output_type": "execute_result"
    }
   ],
   "source": [
    "score_df"
   ]
  },
  {
   "cell_type": "code",
   "execution_count": 165,
   "metadata": {},
   "outputs": [
    {
     "data": {
      "image/png": "[encoded data removed]",
      "text/plain": [
       "<Figure size 1008x504 with 2 Axes>"
      ]
     },
     "metadata": {
      "needs_background": "light"
     },
     "output_type": "display_data"
    }
   ],
   "source": [
    "fig, axes = plt.subplots(1, 2, figsize=(14, 7));\n",
    "fig.suptitle('Test for best clustering of animal data', fontsize=16)\n",
    "axes[0].plot(score_df.k, score_df.inertia);\n",
    "axes[0].set_title('Inertia over k');\n",
    "axes[1].plot(score_df.k, score_df.silhouette);\n",
    "axes[1].set_title('Silhouette Score over k');\n",
    "plt.savefig( 'best-clustering.png', dpi=300)"
   ]
  },
  {
   "cell_type": "markdown",
   "metadata": {},
   "source": [
    "### Take best silhouette score"
   ]
  },
  {
   "cell_type": "code",
   "execution_count": 175,
   "metadata": {},
   "outputs": [
    {
     "data": {
      "text/plain": [
       "3"
      ]
     },
     "execution_count": 175,
     "metadata": {},
     "output_type": "execute_result"
    }
   ],
   "source": [
    "best_silhoette = score_df[\"silhouette\"].max()\n",
    "score_df[score_df[\"silhouette\"] == best_silhoette][\"k\"].values[0]"
   ]
  },
  {
   "cell_type": "code",
   "execution_count": null,
   "metadata": {},
   "outputs": [],
   "source": []
  },
  {
   "cell_type": "markdown",
   "metadata": {},
   "source": [
    "## Final Script"
   ]
  },
  {
   "cell_type": "code",
   "execution_count": 205,
   "metadata": {},
   "outputs": [
    {
     "name": "stdout",
     "output_type": "stream",
     "text": [
      "Overwriting week10.py\n"
     ]
    }
   ],
   "source": [
    "%%writefile week10.py\n",
    "\n",
    "# Data Analytics\n",
    "import numpy as np\n",
    "import pandas as pd\n",
    "\n",
    "# Ploting Libraries\n",
    "import seaborn as sns\n",
    "import matplotlib.pyplot as plt\n",
    "\n",
    "# Clustering Libraries\n",
    "from sklearn.cluster import KMeans, DBSCAN\n",
    "from sklearn.preprocessing import StandardScaler\n",
    "from sklearn.metrics import silhouette_score\n",
    "\n",
    "# Confusion matrix\n",
    "from sklearn.metrics import confusion_matrix\n",
    "\n",
    "\n",
    "plt.style.use('fivethirtyeight')\n",
    "\n",
    "class Week10:\n",
    "    \"\"\"\n",
    "    Part 1: load & stats\n",
    "    Part 2: analysis\n",
    "    Part 3: cluster\n",
    "    \"\"\"\n",
    "    def __init__(self, clinical_file):\n",
    "        \n",
    "        df = self.load(clinical_file)\n",
    "        cluster_animals = self.analysis(clinical_file, df)\n",
    "        self.cluster(clinical_file, cluster_animals)\n",
    "        \n",
    "    def stats(self, clinical_file, codename):\n",
    "        \"\"\"\n",
    "        Returns mean and standard deviation of codename text file, used in load\n",
    "        \"\"\"\n",
    "        data = clinical_file + \"/diversityScores/{}.diversity.txt\".format(codename)\n",
    "        \n",
    "        # Convert txt files to float list\n",
    "        text_list = open(data).readlines()\n",
    "        data_list = [float(x) for x in text_list]\n",
    "        \n",
    "        # Calculate statistics\n",
    "        mean = np.mean(data_list)\n",
    "        std = np.std(data_list)\n",
    "    \n",
    "        return [mean, std] \n",
    "    \n",
    "    def load(self, clinical_file):\n",
    "        \"\"\"\n",
    "        Creates .txt with statistical information and return dataframe\n",
    "        \"\"\"\n",
    "        clinical_data = clinical_file + \"clinical_data.txt\"\n",
    "        df = pd.read_csv(clinical_data, sep='\\t')\n",
    "        \n",
    "        # Creates new columns for statistics\n",
    "        df[\"mean\"] = df[\"code_name\"].apply(lambda a: self.stats(clinical_file, a)[0])\n",
    "        df[\"std\"] = df[\"code_name\"].apply(lambda a: self.stats(clinical_file, a)[1])\n",
    "        \n",
    "        # Export data frame to csv\n",
    "        export_name = \"clinical_data.stats.txt\"\n",
    "        df.to_csv(export_name, sep='\\t')\n",
    "        \n",
    "        return df\n",
    "        \n",
    "    def analysis(self, clinical_file, df):\n",
    "        \"\"\"\n",
    "        Finds and plots first, second, and last place animal information\n",
    "        \"\"\"\n",
    "        # Sort list and grab values\n",
    "        sorted_mean_list =  sorted(df[\"mean\"].tolist())\n",
    "        first_place  = sorted_mean_list[-1]\n",
    "        second_place = sorted_mean_list[-2]\n",
    "        last_place   = sorted_mean_list[0]\n",
    "\n",
    "        animal_dataframes = []\n",
    "        i = 0\n",
    "        for place in [first_place, second_place, last_place]:\n",
    "            # Grab animal name from dataframe\n",
    "            animal = df[df[\"mean\"] == place][\"code_name\"].values[0]\n",
    "\n",
    "            # Convert txt files to float list\n",
    "            animal_text = clinical_file + \"/distanceFiles/{}.distance.txt\".format(animal)\n",
    "            animal_data = pd.read_csv(animal_text, header=None).rename(columns={0: 'x1', 1: 'x2'})\n",
    "            \n",
    "            # Plot Values\n",
    "            animal_data.plot(kind='scatter', x='x1', y='x2', title = animal.title())\n",
    "            plt.savefig( '{}.png'.format(clinical_file, animal), dpi=300)\n",
    "            \n",
    "            # Make dataframe for merger with target labels\n",
    "            animal_data[\"target\"] = animal\n",
    "            animal_data[\"num_target\"] = i\n",
    "            i += 1\n",
    "            animal_dataframes.append(animal_data)\n",
    "        \n",
    "        # Concatenate dataframes and reset index\n",
    "        cluster_animals = pd.concat(animal_dataframes).reset_index(drop=True)\n",
    "        return cluster_animals\n",
    "        \n",
    "    def cluster(self, clinical_file, cluster_animals):\n",
    "        \"\"\"\n",
    "        Apply K-means clustering to graphs\n",
    "        \"\"\"\n",
    "        # Will not apply train-test split\n",
    "        X = cluster_animals.loc[:, ['x1', 'x2']]\n",
    "        y = cluster_animals[\"num_target\"]\n",
    "        \n",
    "        # Scale X to effectively cluster\n",
    "        sc = StandardScaler()\n",
    "        X_sc = sc.fit_transform(X)\n",
    "\n",
    "        # k-means clustering test: see notes in jupyter notebook\n",
    "        scores = []\n",
    "        for k in range(2, 7):\n",
    "            cl = KMeans(n_clusters=k)\n",
    "            cl.fit(X_sc)\n",
    "            inertia = cl.inertia_\n",
    "            sil = silhouette_score(X_sc, cl.labels_)\n",
    "            scores.append([k, inertia, sil])\n",
    "\n",
    "        score_df = pd.DataFrame(scores)\n",
    "        score_df.columns = ['k', 'inertia', 'silhouette']\n",
    "        \n",
    "        # Plot analysis for best cluster\n",
    "        fig, axes = plt.subplots(1, 2, figsize=(14, 7));\n",
    "        fig.suptitle('Test for best clustering of animal data', fontsize=16)\n",
    "        axes[0].plot(score_df.k, score_df.inertia);\n",
    "        axes[0].set_title('Inertia over k');\n",
    "        axes[1].plot(score_df.k, score_df.silhouette);\n",
    "        axes[1].set_title('Silhouette Score over k');\n",
    "        plt.savefig('clustering_choice.png', dpi=300);\n",
    "        \n",
    "        # Grab best cluster choice from silhoette\n",
    "        best_silhoette = score_df[\"silhouette\"].max()\n",
    "        clusters = score_df[score_df[\"silhouette\"] == best_silhoette][\"k\"].values[0]\n",
    "        \n",
    "        km = KMeans(n_clusters=clusters)\n",
    "        km.fit(X_sc)\n",
    "        cluster_animals['prediction'] = km.labels_\n",
    "        \n",
    "        # Create a dataframe for cluster_centers (centroids)\n",
    "        centroids = pd.DataFrame(\n",
    "            sc.inverse_transform(km.cluster_centers_),\n",
    "            columns=[\"x1\", \"x2\"])\n",
    "       \n",
    "        # Plot scatter by cluster / color, and centroids\n",
    "        colors = [\"red\", \"green\", \"blue\"]\n",
    "        cluster_animals['color'] = cluster_animals['prediction'].map(lambda p: colors[p])\n",
    "\n",
    "        ax = cluster_animals.plot(    \n",
    "            kind=\"scatter\", \n",
    "            x=\"x1\", y=\"x2\",\n",
    "            figsize=(10,8),\n",
    "            c = cluster_animals['color'])\n",
    "\n",
    "        centroids.plot(\n",
    "            kind=\"scatter\", \n",
    "            x=\"x1\", y=\"x2\", \n",
    "            marker=\"*\", c=[\"r\", \"g\", \"b\"], s=550,\n",
    "            ax=ax);\n",
    "        \n",
    "        plt.savefig('clustering.png', dpi=300)\n",
    "        \n",
    "        # Extra-extra credit, confusion matrix\n",
    "        y_actual = y\n",
    "        y_pred   = cluster_animals['prediction']\n",
    "        \n",
    "        df_confusion = pd.crosstab(y_actual, y_pred, rownames=[''], colnames=['Predicted'], margins=True)\n",
    "        \n",
    "        df_confusion.to_csv(\"confusion_matrix.txt\", sep=\"\\t\")\n",
    "        \n",
    "if __name__== \"__main__\":\n",
    "    #### \n",
    "    # Important: Match your file path here. Also ensure that your .txts are tab-delimited\n",
    "    ####\n",
    "    clinical_file = \"./inputfiles/\"\n",
    "    \n",
    "    Week10(clinical_file)"
   ]
  },
  {
   "cell_type": "code",
   "execution_count": 206,
   "metadata": {},
   "outputs": [],
   "source": [
    "%%bash\n",
    "\n",
    "python week10.py"
   ]
  },
  {
   "cell_type": "markdown",
   "metadata": {},
   "source": [
    "## Readme"
   ]
  },
  {
   "cell_type": "code",
   "execution_count": 204,
   "metadata": {},
   "outputs": [
    {
     "name": "stdout",
     "output_type": "stream",
     "text": [
      "Overwriting readme.txt\n"
     ]
    }
   ],
   "source": [
    "%%writefile readme.txt\n",
    "To use this script, please change clinical_file in the week10.py script to match\n",
    "your file path. All reports placed in script folder. For more complete breakdown\n",
    "please look in jupyter notebook in this folder.\n",
    "\n",
    "---clustering report---\n",
    "Since one of animals has data that ranges over the entire graph, using k-means\n",
    "clustering is not advised. As can be seen by the confusion matrix, this \n",
    "model is not acceptable. However, other modeling, such as support vector machines\n",
    "might would be more useful.\n",
    "\n",
    "--\n",
    "Project Completed Sunday, June 14th\n",
    "Michael Ruggiero\n",
    "michaelruggiero@brandies.edu"
   ]
  },
  {
   "cell_type": "code",
   "execution_count": null,
   "metadata": {},
   "outputs": [],
   "source": []
  }
 ],
 "metadata": {
  "kernelspec": {
   "display_name": "Python 3",
   "language": "python",
   "name": "python3"
  },
  "language_info": {
   "codemirror_mode": {
    "name": "ipython",
    "version": 3
   },
   "file_extension": ".py",
   "mimetype": "text/x-python",
   "name": "python",
   "nbconvert_exporter": "python",
   "pygments_lexer": "ipython3",
   "version": "3.6.10"
  },
  "toc": {
   "base_numbering": 1,
   "nav_menu": {},
   "number_sections": true,
   "sideBar": true,
   "skip_h1_title": true,
   "title_cell": "Table of Contents",
   "title_sidebar": "Contents",
   "toc_cell": true,
   "toc_position": {},
   "toc_section_display": true,
   "toc_window_display": false
  }
 },
 "nbformat": 4,
 "nbformat_minor": 4
}
