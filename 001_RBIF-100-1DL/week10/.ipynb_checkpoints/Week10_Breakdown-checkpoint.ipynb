{
 "cells": [
  {
   "cell_type": "markdown",
   "metadata": {},
   "source": [
    "# Week 10 Assignment"
   ]
  },
  {
   "cell_type": "markdown",
   "metadata": {
    "toc": true
   },
   "source": [
    "<h1>Table of Contents<span class=\"tocSkip\"></span></h1>\n",
    "<div class=\"toc\"><ul class=\"toc-item\"><li><span><a href=\"#Prompt:\" data-toc-modified-id=\"Prompt:-1\"><span class=\"toc-item-num\">1&nbsp;&nbsp;</span>Prompt:</a></span></li><li><span><a href=\"#Libraries\" data-toc-modified-id=\"Libraries-2\"><span class=\"toc-item-num\">2&nbsp;&nbsp;</span>Libraries</a></span></li><li><span><a href=\"#Exploratory-Data-Analysis\" data-toc-modified-id=\"Exploratory-Data-Analysis-3\"><span class=\"toc-item-num\">3&nbsp;&nbsp;</span>Exploratory Data Analysis</a></span></li><li><span><a href=\"#Final-Script\" data-toc-modified-id=\"Final-Script-4\"><span class=\"toc-item-num\">4&nbsp;&nbsp;</span>Final Script</a></span></li></ul></div>"
   ]
  },
  {
   "cell_type": "markdown",
   "metadata": {},
   "source": [
    "## Prompt:"
   ]
  },
  {
   "cell_type": "markdown",
   "metadata": {},
   "source": [
    "You are the newest member of the Atreides Lab. Their postdoc, Paul, had recently left and you are in charge of taking over the latest analysis.\n",
    "\n",
    "Paul was collaborating with another lab and received clinical data from their team. He identified the bacteria present in the microbiome of 50 samples and calculated the taxonomic diversity for each sample.\n",
    "His analyses outputted into two folders: one filled with diversity scores, and another with the final output of his distance matrices.\n",
    "\n",
    "Your task:\n",
    "\n",
    "1) Read in the data clinical file (clinical_data.txt) as a dataframe and create two new columns called averages and std. You will read in each sample's diversity score list (found in diversityScores) and append the mean value and the standard deviation of the sample's diversity score. Then output the new clinical data (which includes the original clinical information from clinical_data.txt along with the two new columns to a file called clinical_data.stats.txt.)\n",
    "\n",
    "This should be done using pandas and numpy python package.\n",
    "\n",
    "2) Then find the animals (code names) that correspond with the two highest average diversity scores and one with the lowest average diversity score (three animals in total).  Find their respective txt file inside the distanceFiles directory and plot and save a scatter plot for each animal (three plots in total, and can be saved as png files). Add a title for each plot that has the animal's name in it.\n",
    "\n",
    "Extra credit. Perform k-means on the three plots and color them by cluster. K-means is a very common algorithm to find patterns in a dataset. In our case we want to see if clustering our scatterplot reveals a biological meaning for our samples.\n",
    "Use the elbow method to find the appropriate number of clusters (even though it may be very easy to see by eye).\n",
    "\n",
    "K-means is a very common algorithm to find patterns in a dataset. In our case we want to see if clustering our scatterplot reveals a biological meaning for our samples (different species of bacteria in the microbiome).\n",
    "\n",
    "You can use the following resources below to help you. The code for this should be in the same python script as the rest of the assignment. Feel free to make use of the scipy function for k-means (I'm not expecting you to write the code for k-means, just implement it). \n",
    "\n",
    "What is Kmeans and when would we use it? https://www.datascience.com/blog/k-means-clustering\n",
    "\n",
    "Code for k-means: https://mubaris.com/posts/kmeans-clustering/\n",
    "Code for elbow plot: https://pythonprogramminglanguage.com/kmeans-elbow-method/\n",
    "\n",
    "\n",
    "\n",
    "Requirements\n",
    "Input files:\n",
    "You will find all necessary input files here: /home/rbif/week10/inputfiles\n",
    "\n",
    "Expected output:\n",
    "clinical_data.stats.txt\n",
    "3 plots with a title of the {animal}, and saved as {animal}.pdf\n",
    "your python script\n",
    "a readme\n",
    "\n",
    "All of the above steps should be contained in a single python script.\n",
    "You can use either matplotlib or seaborn to plot the data.\n",
    "\n",
    "Your code is expected to work independent of the data clinical file. For example, if I gave another file with a completely different set of animal names, your code should work without any issues.\n",
    "\n",
    "Please make use of the Questions and Answers forum if anything is unclear. If you need help with your code, please provide the path on the AWS to your code. "
   ]
  },
  {
   "cell_type": "markdown",
   "metadata": {},
   "source": [
    "## Libraries"
   ]
  },
  {
   "cell_type": "markdown",
   "metadata": {},
   "source": [
    "Common Libraries used in this task"
   ]
  },
  {
   "cell_type": "code",
   "execution_count": 7,
   "metadata": {},
   "outputs": [],
   "source": [
    "# Data Analytics\n",
    "import numpy as np\n",
    "import pandas as pd\n",
    "\n",
    "# Ploting Libraries\n",
    "import seaborn as sns\n",
    "import matplotlib.pyplot as plt\n",
    "\n",
    "# Clustering Libraries\n",
    "from sklearn.cluster import KMeans, DBSCAN\n",
    "from sklearn.preprocessing import StandardScaler\n",
    "from sklearn.metrics import silhouette_score\n",
    "\n",
    "plt.style.use('fivethirtyeight')\n",
    "\n",
    "%matplotlib inline"
   ]
  },
  {
   "cell_type": "markdown",
   "metadata": {},
   "source": [
    "## Exploratory Data Analysis"
   ]
  },
  {
   "cell_type": "markdown",
   "metadata": {},
   "source": [
    "## Final Script"
   ]
  },
  {
   "cell_type": "code",
   "execution_count": null,
   "metadata": {},
   "outputs": [],
   "source": [
    "%%writefile week10.py\n",
    "\n",
    "# Data Analytics\n",
    "import numpy as np\n",
    "import pandas as pd\n",
    "\n",
    "# Ploting Libraries\n",
    "import seaborn as sns\n",
    "import matplotlib.pyplot as plt\n",
    "\n",
    "# Clustering Libraries\n",
    "from sklearn.cluster import KMeans, DBSCAN\n",
    "from sklearn.preprocessing import StandardScaler\n",
    "from sklearn.metrics import silhouette_score\n",
    "\n",
    "plt.style.use('fivethirtyeight')\n",
    "\n",
    "%matplotlib inline\n",
    "\n",
    "class Week10:\n",
    "    def __init__()"
   ]
  }
 ],
 "metadata": {
  "kernelspec": {
   "display_name": "Python 3",
   "language": "python",
   "name": "python3"
  },
  "language_info": {
   "codemirror_mode": {
    "name": "ipython",
    "version": 3
   },
   "file_extension": ".py",
   "mimetype": "text/x-python",
   "name": "python",
   "nbconvert_exporter": "python",
   "pygments_lexer": "ipython3",
   "version": "3.6.10"
  },
  "toc": {
   "base_numbering": 1,
   "nav_menu": {},
   "number_sections": true,
   "sideBar": true,
   "skip_h1_title": true,
   "title_cell": "Table of Contents",
   "title_sidebar": "Contents",
   "toc_cell": true,
   "toc_position": {},
   "toc_section_display": true,
   "toc_window_display": true
  }
 },
 "nbformat": 4,
 "nbformat_minor": 4
}
