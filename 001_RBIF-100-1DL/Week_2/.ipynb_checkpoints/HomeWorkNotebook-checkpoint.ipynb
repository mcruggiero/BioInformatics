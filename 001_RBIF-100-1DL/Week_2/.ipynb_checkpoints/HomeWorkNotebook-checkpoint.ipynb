{
 "cells": [
  {
   "cell_type": "markdown",
   "metadata": {
    "toc": true
   },
   "source": [
    "<h1>Table of Contents<span class=\"tocSkip\"></span></h1>\n",
    "<div class=\"toc\"><ul class=\"toc-item\"><li><span><a href=\"#Week-2-Homework\" data-toc-modified-id=\"Week-2-Homework-1\">Week 2 Homework</a></span><ul class=\"toc-item\"><li><span><a href=\"#Python\" data-toc-modified-id=\"Python-1.1\">Python</a></span></li></ul></li></ul></div>"
   ]
  },
  {
   "cell_type": "markdown",
   "metadata": {},
   "source": [
    "## Week 2 Homework"
   ]
  },
  {
   "cell_type": "markdown",
   "metadata": {},
   "source": [
    "Assignment 1, due Tuesday Week 2\n",
    "Beginning Bash Scripting\n",
    "Key concepts covered: Recognizing approaches to solving problems using linux commands. Become familiar with GitHub practices\n",
    "\n",
    "Goals\n",
    "Preparing and downloading files. Creating a bash script that tests knowledge of linux commands. Running the script and submitting it. \n",
    "\n",
    "Assignment\n",
    "Story:\n",
    "\n",
    "Jane has discovered 10 motifs that are associated with radiation resistance in her colony of bacteria, R.bifella. A motif is a short, recurring sequence of DNA that is associated with gene regulation. She wants to choose the motif that occurs most frequently across the bacterial genome.   However, since these experiments are costly, she wants to pick the one that has the highest number of occurrences in the bacterial genome. Which motif should she choose?\n",
    "\n",
    "Steps:\n",
    "\n",
    "SSH into the AWS server and create a folder called week2. I will be grading out of this directory.\n",
    "Copy the motif list and the genome of the R.bifella from  /home/rbif/week2_assignment/\n",
    "Create a single bash script that does the following:\n",
    "Print out the number of occurrences for each motif that is found in the bacterial genome and output to a file called motif_count.txt\n",
    "Create a fasta file for each motif (so 10 in total) which contains all of the genes and their corresponding sequences that have that motif. Each file should be named after the motif (ie ATG.txt) and outputted to a new directory called motifs\n",
    "*Note*  Please comment your code. This should include a description of what the goal of the script is at the beginning. And then any clarifying comments for snippets of code.\n",
    "You can find an example output of the assignment in /home/rbif/week2_example_output along with how comments should look like.\n",
    "\n",
    "This is due Tuesday, July 31 at 11:59 pm. I will mark anything modified inside your assignment directory after that time as late.\n",
    "\n",
    "Submission status\n",
    "This assignment will accept submissions from Tuesday, 14 April 2020, 7:00 AM"
   ]
  },
  {
   "cell_type": "markdown",
   "metadata": {},
   "source": [
    "<strong>First a plain bash script and then a more complex python task. I want to explore a little bit here and rank all of the various string options, moving until I find a sting with only one entries</strong>"
   ]
  },
  {
   "cell_type": "markdown",
   "metadata": {},
   "source": [
    "### Python"
   ]
  },
  {
   "cell_type": "code",
   "execution_count": 1,
   "metadata": {},
   "outputs": [],
   "source": [
    "# Numpy is a common library,I will use it here,\n",
    "import numpy as np\n",
    "\n",
    "###\n",
    "# Until I get the motif list, I am going to cook myself something up\n",
    "# I am not going to use numpy for the code below since I am going to translate\n",
    "# the Python code to Bash.\n",
    "###\n",
    "\n",
    "class Main:\n",
    "    def __init__(self, number, min_length, max_length):\n",
    "        motifs = []\n",
    "        \n",
    "        for _ in range(number):\n",
    "            motifs.append(self.motif_generator(min_length, max_length))\n",
    "        \n",
    "        # Write the motifs to a file\n",
    "        \n",
    "        with open('motifs.txt', 'w') as f:\n",
    "            for motif in motifs:\n",
    "                f.write(\"{}\\n\".format(motif))\n",
    "        \n",
    "    def motif_generator(self, min_length, max_length):\n",
    "        \n",
    "        # Set the size of the random item\n",
    "        size = np.random.randint(low = min_length, high = max_length)\n",
    "        \n",
    "        # Populate that list\n",
    "        nucleotides = \"\".join(np.random.choice([\"a\", \"c\", \"g\", \"t\"], size))\n",
    "        return nucleotides\n",
    "    \n",
    "if __name__ == '__main__':\n",
    "    # Not really sure how large to make each motif, I suppose it doesn't matter.\n",
    "    Main = Main(10, 7, 9)"
   ]
  },
  {
   "cell_type": "code",
   "execution_count": 2,
   "metadata": {},
   "outputs": [
    {
     "name": "stdout",
     "output_type": "stream",
     "text": [
      "HomeWorkNotebook.ipynb\n",
      "motifs.txt\n",
      "test1.fasta\n"
     ]
    }
   ],
   "source": [
    "%%bash\n",
    "\n",
    "ls"
   ]
  },
  {
   "cell_type": "code",
   "execution_count": 3,
   "metadata": {},
   "outputs": [],
   "source": [
    "import re\n",
    "import os\n",
    "import pandas as pd\n",
    "from itertools import combinations, permutations\n",
    "\n",
    "class Main:\n",
    "    def __init__(self, path, motif_path, candidate_size):\n",
    "        self.chromo_dict = self.read_fasta(path)\n",
    "        \n",
    "        # The idea of this script is to start by creating a\n",
    "        # Candidates list, and build the test set from there. \n",
    "        self.candidate_size = candidate_size\n",
    "        self.motif_path = motif_path\n",
    "        \n",
    "        self.chromo_tests = self.chromo_creator(self.candidate_size)\n",
    "        \n",
    "        # Also going to return the motif list in here\n",
    "        self.flat_chains, self.motifs = self.chain_maker(self.chromo_tests, self.motif_path)\n",
    "        \n",
    "        self.chain_count = self.nucleotide_counter(self.flat_chains, \n",
    "                                                   self.chromo_dict, \n",
    "                                                   self.chromo_tests)\n",
    "\n",
    "        self.motif_df = self.report(self.chain_count, self.motifs)\n",
    "  \n",
    "    def read_fasta(self, file_name):\n",
    "        # This is not the most elegant solution\n",
    "        # I might refactor this code later.\n",
    "        \n",
    "        # First read out the lines\n",
    "        f = open(file_name)\n",
    "        lines = f.read().splitlines()\n",
    "        f.close()\n",
    "        \n",
    "        # Make a list of chromosomes from list\n",
    "        chromosomes = \"\".join([x for x in lines if x != \"\"]).split(\">\")\n",
    "        chromosomes.remove(\"\")\n",
    "        \n",
    "        # Make a dictionary of chromosomes and entries. Could have done this in one line,\n",
    "        # but I think this is easier to read.\n",
    "                \n",
    "        chromo_dict = dict()\n",
    "        for chromosome in chromosomes:\n",
    "            # Split terms into int and non int values\n",
    "            entry = re.split(r'(\\d+)', chromosome)\n",
    "            chromo_dict[\"\".join(entry[:2])] = entry[-1]\n",
    "                             \n",
    "        return chromo_dict\n",
    "\n",
    "    def chromo_creator(self, index):        \n",
    "        chromo_tests = dict()\n",
    "        for value in range(index):\n",
    "            # We need to make sure we also grab duplicates\n",
    "            nucleotides = (value + 1) * [\"a\", \"c\", \"g\", \"t\"]\n",
    "            pattern = set(permutations(nucleotides, (value + 1)))\n",
    "            pattern = list(set(\"\".join(i) for i in pattern))\n",
    "            pattern.sort()\n",
    "            chromo_tests[value + 1] = pattern\n",
    "        \n",
    "        return chromo_tests\n",
    "        \n",
    "        \n",
    "    def chain_maker(self, chromo_tests, motif_path):\n",
    "        # flatten chromo_tests.values() lists\n",
    "        flat_chains = [item for sublist in chromo_tests.values() for item in sublist]\n",
    "        \n",
    "        # read into the set\n",
    "        with open(\"motifs.txt\") as f:\n",
    "            motifs = f.readlines()\n",
    "\n",
    "        # you may also want to remove whitespace characters like `\\n` at the end of each line\n",
    "        motifs = [x.strip() for x in motifs]\n",
    "\n",
    "        \n",
    "        # Add motifs into flat_chain list \n",
    "        return flat_chains + motifs, motifs\n",
    "        \n",
    "        \n",
    "    def nucleotide_counter(self, flat_chains, chromo_dict, chromo_tests):\n",
    "        \n",
    "        # First flatten list and then make a dictionary with counts  \n",
    "        chromo_count = dict()\n",
    "        chain_count  = dict()\n",
    "        for chain in flat_chains:\n",
    "            chain_counter = 0\n",
    "            chromo_count = dict()\n",
    "            for chromosome in chromo_dict.keys():\n",
    "                chromo_count[chromosome] = chromo_dict[chromosome].count(chain)\n",
    "                chain_counter += chromo_count[chromosome]\n",
    "            \n",
    "            chromo_count[\"total\"] = chain_counter\n",
    "            chain_count[chain] = chromo_count\n",
    "        \n",
    "        return chain_count\n",
    "        \n",
    "    def report(self, chain_count, motifs):\n",
    "        \n",
    "        report_dict = {k: chain_count[k] for k in motifs}\n",
    "\n",
    "        # Not sure if it is OK to use Pandas here, but it feels most natural\n",
    "        motif_df = pd.DataFrame.from_dict(report_dict)\n",
    "\n",
    "        motif_df.to_csv(\"complete.txt\")\n",
    "        motif_df.to_csv(\"motif_count.txt\")\n",
    "        \n",
    "        # Print out the .txt for each column\n",
    "        for motif in motif_df.columns:\n",
    "               motif_df[[motif]].to_csv(\"{}.txt\".format(motif.upper()))\n",
    "                \n",
    "        \n",
    "        return motif_df\n",
    "    \n",
    "if __name__ == '__main__':\n",
    "    Main = Main(\"test1.fasta\", \"motifs.txt\", 5)"
   ]
  },
  {
   "cell_type": "code",
   "execution_count": null,
   "metadata": {},
   "outputs": [],
   "source": []
  },
  {
   "cell_type": "code",
   "execution_count": null,
   "metadata": {},
   "outputs": [],
   "source": [
    "Main.motif_df[[\"ggaagt\"]].to_c"
   ]
  },
  {
   "cell_type": "code",
   "execution_count": null,
   "metadata": {},
   "outputs": [],
   "source": [
    "bin(6)"
   ]
  },
  {
   "cell_type": "code",
   "execution_count": 5,
   "metadata": {},
   "outputs": [
    {
     "data": {
      "text/markdown": [
       "\n",
       "Dims: $13.49m \\times  2.3m$\n",
       "\n",
       "Area: $302.99m^2$\n",
       "\n",
       "Volume: $90.02m^3$\n"
      ],
      "text/plain": [
       "<IPython.core.display.Markdown object>"
      ]
     },
     "metadata": {},
     "output_type": "display_data"
    }
   ],
   "source": [
    "from IPython.display import display, Markdown\n",
    "\n",
    "a = 13.49\n",
    "b = 2.2544223\n",
    "P = 302.99\n",
    "V = 90.02\n",
    "\n",
    "display(Markdown(\n",
    "   rf\"\"\"\n",
    "Dims: ${a}m \\times{b:5.2}m$\n",
    "\n",
    "Area: ${P}m^2$\n",
    "\n",
    "Volume: ${V}m^3$\n",
    "\"\"\"))"
   ]
  },
  {
   "cell_type": "code",
   "execution_count": 7,
   "metadata": {},
   "outputs": [
    {
     "ename": "FileNotFoundError",
     "evalue": "[Errno 2] No such file or directory: 'Stammdaten.xlsx'",
     "output_type": "error",
     "traceback": [
      "\u001b[0;31m---------------------------------------------------------------------------\u001b[0m",
      "\u001b[0;31mFileNotFoundError\u001b[0m                         Traceback (most recent call last)",
      "\u001b[0;32m<ipython-input-7-8bb924c49987>\u001b[0m in \u001b[0;36m<module>\u001b[0;34m\u001b[0m\n\u001b[1;32m     46\u001b[0m \u001b[0;31m##################### Prepare Stammdaten #####################\u001b[0m\u001b[0;34m\u001b[0m\u001b[0;34m\u001b[0m\u001b[0;34m\u001b[0m\u001b[0m\n\u001b[1;32m     47\u001b[0m \u001b[0;31m# lade Daten\u001b[0m\u001b[0;34m\u001b[0m\u001b[0;34m\u001b[0m\u001b[0;34m\u001b[0m\u001b[0m\n\u001b[0;32m---> 48\u001b[0;31m \u001b[0mstammdaten\u001b[0m \u001b[0;34m=\u001b[0m \u001b[0mpd\u001b[0m\u001b[0;34m.\u001b[0m\u001b[0mread_excel\u001b[0m\u001b[0;34m(\u001b[0m\u001b[0;34m'Stammdaten.xlsx'\u001b[0m\u001b[0;34m,\u001b[0m \u001b[0;34m'Tabelle1'\u001b[0m\u001b[0;34m)\u001b[0m\u001b[0;34m\u001b[0m\u001b[0;34m\u001b[0m\u001b[0m\n\u001b[0m\u001b[1;32m     49\u001b[0m \u001b[0;34m\u001b[0m\u001b[0m\n\u001b[1;32m     50\u001b[0m \u001b[0;31m# Remove NaN values by \" for strings\u001b[0m\u001b[0;34m\u001b[0m\u001b[0;34m\u001b[0m\u001b[0;34m\u001b[0m\u001b[0m\n",
      "\u001b[0;32m~/anaconda3/envs/pytorch/lib/python3.7/site-packages/pandas/io/excel/_base.py\u001b[0m in \u001b[0;36mread_excel\u001b[0;34m(io, sheet_name, header, names, index_col, usecols, squeeze, dtype, engine, converters, true_values, false_values, skiprows, nrows, na_values, keep_default_na, verbose, parse_dates, date_parser, thousands, comment, skipfooter, convert_float, mangle_dupe_cols, **kwds)\u001b[0m\n\u001b[1;32m    302\u001b[0m \u001b[0;34m\u001b[0m\u001b[0m\n\u001b[1;32m    303\u001b[0m     \u001b[0;32mif\u001b[0m \u001b[0;32mnot\u001b[0m \u001b[0misinstance\u001b[0m\u001b[0;34m(\u001b[0m\u001b[0mio\u001b[0m\u001b[0;34m,\u001b[0m \u001b[0mExcelFile\u001b[0m\u001b[0;34m)\u001b[0m\u001b[0;34m:\u001b[0m\u001b[0;34m\u001b[0m\u001b[0;34m\u001b[0m\u001b[0m\n\u001b[0;32m--> 304\u001b[0;31m         \u001b[0mio\u001b[0m \u001b[0;34m=\u001b[0m \u001b[0mExcelFile\u001b[0m\u001b[0;34m(\u001b[0m\u001b[0mio\u001b[0m\u001b[0;34m,\u001b[0m \u001b[0mengine\u001b[0m\u001b[0;34m=\u001b[0m\u001b[0mengine\u001b[0m\u001b[0;34m)\u001b[0m\u001b[0;34m\u001b[0m\u001b[0;34m\u001b[0m\u001b[0m\n\u001b[0m\u001b[1;32m    305\u001b[0m     \u001b[0;32melif\u001b[0m \u001b[0mengine\u001b[0m \u001b[0;32mand\u001b[0m \u001b[0mengine\u001b[0m \u001b[0;34m!=\u001b[0m \u001b[0mio\u001b[0m\u001b[0;34m.\u001b[0m\u001b[0mengine\u001b[0m\u001b[0;34m:\u001b[0m\u001b[0;34m\u001b[0m\u001b[0;34m\u001b[0m\u001b[0m\n\u001b[1;32m    306\u001b[0m         raise ValueError(\n",
      "\u001b[0;32m~/anaconda3/envs/pytorch/lib/python3.7/site-packages/pandas/io/excel/_base.py\u001b[0m in \u001b[0;36m__init__\u001b[0;34m(self, io, engine)\u001b[0m\n\u001b[1;32m    822\u001b[0m         \u001b[0mself\u001b[0m\u001b[0;34m.\u001b[0m\u001b[0m_io\u001b[0m \u001b[0;34m=\u001b[0m \u001b[0mstringify_path\u001b[0m\u001b[0;34m(\u001b[0m\u001b[0mio\u001b[0m\u001b[0;34m)\u001b[0m\u001b[0;34m\u001b[0m\u001b[0;34m\u001b[0m\u001b[0m\n\u001b[1;32m    823\u001b[0m \u001b[0;34m\u001b[0m\u001b[0m\n\u001b[0;32m--> 824\u001b[0;31m         \u001b[0mself\u001b[0m\u001b[0;34m.\u001b[0m\u001b[0m_reader\u001b[0m \u001b[0;34m=\u001b[0m \u001b[0mself\u001b[0m\u001b[0;34m.\u001b[0m\u001b[0m_engines\u001b[0m\u001b[0;34m[\u001b[0m\u001b[0mengine\u001b[0m\u001b[0;34m]\u001b[0m\u001b[0;34m(\u001b[0m\u001b[0mself\u001b[0m\u001b[0;34m.\u001b[0m\u001b[0m_io\u001b[0m\u001b[0;34m)\u001b[0m\u001b[0;34m\u001b[0m\u001b[0;34m\u001b[0m\u001b[0m\n\u001b[0m\u001b[1;32m    825\u001b[0m \u001b[0;34m\u001b[0m\u001b[0m\n\u001b[1;32m    826\u001b[0m     \u001b[0;32mdef\u001b[0m \u001b[0m__fspath__\u001b[0m\u001b[0;34m(\u001b[0m\u001b[0mself\u001b[0m\u001b[0;34m)\u001b[0m\u001b[0;34m:\u001b[0m\u001b[0;34m\u001b[0m\u001b[0;34m\u001b[0m\u001b[0m\n",
      "\u001b[0;32m~/anaconda3/envs/pytorch/lib/python3.7/site-packages/pandas/io/excel/_xlrd.py\u001b[0m in \u001b[0;36m__init__\u001b[0;34m(self, filepath_or_buffer)\u001b[0m\n\u001b[1;32m     19\u001b[0m         \u001b[0merr_msg\u001b[0m \u001b[0;34m=\u001b[0m \u001b[0;34m\"Install xlrd >= 1.0.0 for Excel support\"\u001b[0m\u001b[0;34m\u001b[0m\u001b[0;34m\u001b[0m\u001b[0m\n\u001b[1;32m     20\u001b[0m         \u001b[0mimport_optional_dependency\u001b[0m\u001b[0;34m(\u001b[0m\u001b[0;34m\"xlrd\"\u001b[0m\u001b[0;34m,\u001b[0m \u001b[0mextra\u001b[0m\u001b[0;34m=\u001b[0m\u001b[0merr_msg\u001b[0m\u001b[0;34m)\u001b[0m\u001b[0;34m\u001b[0m\u001b[0;34m\u001b[0m\u001b[0m\n\u001b[0;32m---> 21\u001b[0;31m         \u001b[0msuper\u001b[0m\u001b[0;34m(\u001b[0m\u001b[0;34m)\u001b[0m\u001b[0;34m.\u001b[0m\u001b[0m__init__\u001b[0m\u001b[0;34m(\u001b[0m\u001b[0mfilepath_or_buffer\u001b[0m\u001b[0;34m)\u001b[0m\u001b[0;34m\u001b[0m\u001b[0;34m\u001b[0m\u001b[0m\n\u001b[0m\u001b[1;32m     22\u001b[0m \u001b[0;34m\u001b[0m\u001b[0m\n\u001b[1;32m     23\u001b[0m     \u001b[0;34m@\u001b[0m\u001b[0mproperty\u001b[0m\u001b[0;34m\u001b[0m\u001b[0;34m\u001b[0m\u001b[0m\n",
      "\u001b[0;32m~/anaconda3/envs/pytorch/lib/python3.7/site-packages/pandas/io/excel/_base.py\u001b[0m in \u001b[0;36m__init__\u001b[0;34m(self, filepath_or_buffer)\u001b[0m\n\u001b[1;32m    351\u001b[0m             \u001b[0mself\u001b[0m\u001b[0;34m.\u001b[0m\u001b[0mbook\u001b[0m \u001b[0;34m=\u001b[0m \u001b[0mself\u001b[0m\u001b[0;34m.\u001b[0m\u001b[0mload_workbook\u001b[0m\u001b[0;34m(\u001b[0m\u001b[0mfilepath_or_buffer\u001b[0m\u001b[0;34m)\u001b[0m\u001b[0;34m\u001b[0m\u001b[0;34m\u001b[0m\u001b[0m\n\u001b[1;32m    352\u001b[0m         \u001b[0;32melif\u001b[0m \u001b[0misinstance\u001b[0m\u001b[0;34m(\u001b[0m\u001b[0mfilepath_or_buffer\u001b[0m\u001b[0;34m,\u001b[0m \u001b[0mstr\u001b[0m\u001b[0;34m)\u001b[0m\u001b[0;34m:\u001b[0m\u001b[0;34m\u001b[0m\u001b[0;34m\u001b[0m\u001b[0m\n\u001b[0;32m--> 353\u001b[0;31m             \u001b[0mself\u001b[0m\u001b[0;34m.\u001b[0m\u001b[0mbook\u001b[0m \u001b[0;34m=\u001b[0m \u001b[0mself\u001b[0m\u001b[0;34m.\u001b[0m\u001b[0mload_workbook\u001b[0m\u001b[0;34m(\u001b[0m\u001b[0mfilepath_or_buffer\u001b[0m\u001b[0;34m)\u001b[0m\u001b[0;34m\u001b[0m\u001b[0;34m\u001b[0m\u001b[0m\n\u001b[0m\u001b[1;32m    354\u001b[0m         \u001b[0;32melif\u001b[0m \u001b[0misinstance\u001b[0m\u001b[0;34m(\u001b[0m\u001b[0mfilepath_or_buffer\u001b[0m\u001b[0;34m,\u001b[0m \u001b[0mbytes\u001b[0m\u001b[0;34m)\u001b[0m\u001b[0;34m:\u001b[0m\u001b[0;34m\u001b[0m\u001b[0;34m\u001b[0m\u001b[0m\n\u001b[1;32m    355\u001b[0m             \u001b[0mself\u001b[0m\u001b[0;34m.\u001b[0m\u001b[0mbook\u001b[0m \u001b[0;34m=\u001b[0m \u001b[0mself\u001b[0m\u001b[0;34m.\u001b[0m\u001b[0mload_workbook\u001b[0m\u001b[0;34m(\u001b[0m\u001b[0mBytesIO\u001b[0m\u001b[0;34m(\u001b[0m\u001b[0mfilepath_or_buffer\u001b[0m\u001b[0;34m)\u001b[0m\u001b[0;34m)\u001b[0m\u001b[0;34m\u001b[0m\u001b[0;34m\u001b[0m\u001b[0m\n",
      "\u001b[0;32m~/anaconda3/envs/pytorch/lib/python3.7/site-packages/pandas/io/excel/_xlrd.py\u001b[0m in \u001b[0;36mload_workbook\u001b[0;34m(self, filepath_or_buffer)\u001b[0m\n\u001b[1;32m     34\u001b[0m             \u001b[0;32mreturn\u001b[0m \u001b[0mopen_workbook\u001b[0m\u001b[0;34m(\u001b[0m\u001b[0mfile_contents\u001b[0m\u001b[0;34m=\u001b[0m\u001b[0mdata\u001b[0m\u001b[0;34m)\u001b[0m\u001b[0;34m\u001b[0m\u001b[0;34m\u001b[0m\u001b[0m\n\u001b[1;32m     35\u001b[0m         \u001b[0;32melse\u001b[0m\u001b[0;34m:\u001b[0m\u001b[0;34m\u001b[0m\u001b[0;34m\u001b[0m\u001b[0m\n\u001b[0;32m---> 36\u001b[0;31m             \u001b[0;32mreturn\u001b[0m \u001b[0mopen_workbook\u001b[0m\u001b[0;34m(\u001b[0m\u001b[0mfilepath_or_buffer\u001b[0m\u001b[0;34m)\u001b[0m\u001b[0;34m\u001b[0m\u001b[0;34m\u001b[0m\u001b[0m\n\u001b[0m\u001b[1;32m     37\u001b[0m \u001b[0;34m\u001b[0m\u001b[0m\n\u001b[1;32m     38\u001b[0m     \u001b[0;34m@\u001b[0m\u001b[0mproperty\u001b[0m\u001b[0;34m\u001b[0m\u001b[0;34m\u001b[0m\u001b[0m\n",
      "\u001b[0;32m~/anaconda3/envs/pytorch/lib/python3.7/site-packages/xlrd/__init__.py\u001b[0m in \u001b[0;36mopen_workbook\u001b[0;34m(filename, logfile, verbosity, use_mmap, file_contents, encoding_override, formatting_info, on_demand, ragged_rows)\u001b[0m\n\u001b[1;32m    109\u001b[0m     \u001b[0;32melse\u001b[0m\u001b[0;34m:\u001b[0m\u001b[0;34m\u001b[0m\u001b[0;34m\u001b[0m\u001b[0m\n\u001b[1;32m    110\u001b[0m         \u001b[0mfilename\u001b[0m \u001b[0;34m=\u001b[0m \u001b[0mos\u001b[0m\u001b[0;34m.\u001b[0m\u001b[0mpath\u001b[0m\u001b[0;34m.\u001b[0m\u001b[0mexpanduser\u001b[0m\u001b[0;34m(\u001b[0m\u001b[0mfilename\u001b[0m\u001b[0;34m)\u001b[0m\u001b[0;34m\u001b[0m\u001b[0;34m\u001b[0m\u001b[0m\n\u001b[0;32m--> 111\u001b[0;31m         \u001b[0;32mwith\u001b[0m \u001b[0mopen\u001b[0m\u001b[0;34m(\u001b[0m\u001b[0mfilename\u001b[0m\u001b[0;34m,\u001b[0m \u001b[0;34m\"rb\"\u001b[0m\u001b[0;34m)\u001b[0m \u001b[0;32mas\u001b[0m \u001b[0mf\u001b[0m\u001b[0;34m:\u001b[0m\u001b[0;34m\u001b[0m\u001b[0;34m\u001b[0m\u001b[0m\n\u001b[0m\u001b[1;32m    112\u001b[0m             \u001b[0mpeek\u001b[0m \u001b[0;34m=\u001b[0m \u001b[0mf\u001b[0m\u001b[0;34m.\u001b[0m\u001b[0mread\u001b[0m\u001b[0;34m(\u001b[0m\u001b[0mpeeksz\u001b[0m\u001b[0;34m)\u001b[0m\u001b[0;34m\u001b[0m\u001b[0;34m\u001b[0m\u001b[0m\n\u001b[1;32m    113\u001b[0m     \u001b[0;32mif\u001b[0m \u001b[0mpeek\u001b[0m \u001b[0;34m==\u001b[0m \u001b[0;34mb\"PK\\x03\\x04\"\u001b[0m\u001b[0;34m:\u001b[0m \u001b[0;31m# a ZIP file\u001b[0m\u001b[0;34m\u001b[0m\u001b[0;34m\u001b[0m\u001b[0m\n",
      "\u001b[0;31mFileNotFoundError\u001b[0m: [Errno 2] No such file or directory: 'Stammdaten.xlsx'"
     ]
    }
   ],
   "source": [
    "import pandas as pd # pandas selbst\n",
    " \n",
    "import jinja2\n",
    "import os\n",
    "import codecs\n",
    " \n",
    "def cleanPLZ(stringToClean):\n",
    "    return stringToClean.replace('.0','')\n",
    " \n",
    "# Eine Funktion, die die Adresse vorbereitet\n",
    "# keine überflüssigen Leerzeichen, wenn Feld nicht gefüllt ist\n",
    "def prepareAddress(id, vorname, name, strasse, plz, ort):\n",
    "    address = '' # + str(id) + ': '\n",
    "    if len(vorname)==0:\n",
    "        address = address + name\n",
    "    else:\n",
    "        address = address + vorname + ' ' + name\n",
    "    if len(strasse)>0:\n",
    "        address = address + \", \" + strasse    \n",
    "    if len(plz)>0:\n",
    "        address = address + \", \" + plz + ' ' + ort\n",
    "    return address\n",
    " \n",
    "# Zerlege die Gesamtsumme in einzelne Bestandteile, um Zahlwort auszugeben\n",
    "# Siehe http://www.steuer-schutzbrief.de/fileadmin/downloads/BMF-Schreiben/BMF-Schreiben-Zuwendungsbestaetigung-2012-08-30.pdf\n",
    "def kardinal(summenstring,separator,indicator):\n",
    "    zahlen = {\"1\" : \"Eins\", \"2\":\"Zwei\", \"3\":\"Drei\", \"4\":\"Vier\",\"5\":\"Fünf\",\"6\":\"Sechs\",\"7\":\"Sieben\",\"8\":\"Acht\",\"9\":\"Neun\",\"0\":\"Null\"}\n",
    "    zahlwort = ''\n",
    "    zahl = summenstring.split(',')[0]\n",
    "    for i in zahl:\n",
    "        zahlwort = zahlwort + zahlen[i]+ separator\n",
    "    return indicator + separator + zahlwort + indicator\n",
    " \n",
    "# Diverse Konfigurationsvariablen\n",
    "# http://chrisalbon.com/python/pandas_list_unique_values_in_column.html\n",
    "# Set ipython's max row display\n",
    "pd.set_option('display.max_row', 10000)\n",
    "# Set iPython's max column width to 50\n",
    "pd.set_option('display.max_columns', 50)\n",
    "# A set number format to 2 digits\n",
    "pd.set_option('display.float_format', lambda x: '%.2f' % x)\n",
    "# http://stackoverflow.com/questions/20625582/how-to-deal-with-this-pandas-warning\n",
    "# komische Fehlermeldung beim Drop von Spalten loswerden\n",
    "pd.options.mode.chained_assignment = None  # default='warn'\n",
    " \n",
    "##################### Prepare Stammdaten ##################### \n",
    "# lade Daten\n",
    "stammdaten = pd.read_excel('Stammdaten.xlsx', 'Tabelle1')\n",
    " \n",
    "# Remove NaN values by \" for strings\n",
    "stammdaten['Vorname'].fillna(value='',inplace=True)\n",
    "stammdaten['Name'].fillna(value='',inplace=True)\n",
    "stammdaten['Adresszusatz'].fillna(value='',inplace=True)\n",
    "stammdaten['Strasse'].fillna(value='',inplace=True)"
   ]
  },
  {
   "cell_type": "code",
   "execution_count": null,
   "metadata": {},
   "outputs": [],
   "source": []
  }
 ],
 "metadata": {
  "kernelspec": {
   "display_name": "Python 3",
   "language": "python",
   "name": "python3"
  },
  "language_info": {
   "codemirror_mode": {
    "name": "ipython",
    "version": 3
   },
   "file_extension": ".py",
   "mimetype": "text/x-python",
   "name": "python",
   "nbconvert_exporter": "python",
   "pygments_lexer": "ipython3",
   "version": "3.7.5"
  },
  "toc": {
   "base_numbering": 1,
   "nav_menu": {},
   "number_sections": false,
   "sideBar": false,
   "skip_h1_title": false,
   "title_cell": "Table of Contents",
   "title_sidebar": "Contents",
   "toc_cell": true,
   "toc_position": {
    "height": "calc(100% - 180px)",
    "left": "10px",
    "top": "150px",
    "width": "165px"
   },
   "toc_section_display": true,
   "toc_window_display": false
  }
 },
 "nbformat": 4,
 "nbformat_minor": 4
}
