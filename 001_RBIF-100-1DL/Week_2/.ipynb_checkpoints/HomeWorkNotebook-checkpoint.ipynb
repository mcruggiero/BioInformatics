{
 "cells": [
  {
   "cell_type": "markdown",
   "metadata": {
    "toc": true
   },
   "source": [
    "<h1>Table of Contents<span class=\"tocSkip\"></span></h1>\n",
    "<div class=\"toc\"><ul class=\"toc-item\"><li><span><a href=\"#Week-2-Homework\" data-toc-modified-id=\"Week-2-Homework-1\">Week 2 Homework</a></span><ul class=\"toc-item\"><li><span><a href=\"#Bash\" data-toc-modified-id=\"Bash-1.1\">Bash</a></span></li><li><span><a href=\"#Python\" data-toc-modified-id=\"Python-1.2\">Python</a></span><ul class=\"toc-item\"><li><span><a href=\"#Motif-Generator\" data-toc-modified-id=\"Motif-Generator-1.2.1\">Motif Generator</a></span></li><li><span><a href=\"#Main-Python-Script\" data-toc-modified-id=\"Main-Python-Script-1.2.2\">Main Python Script</a></span></li></ul></li></ul></li></ul></div>"
   ]
  },
  {
   "cell_type": "markdown",
   "metadata": {},
   "source": [
    "## Week 2 Homework"
   ]
  },
  {
   "cell_type": "markdown",
   "metadata": {},
   "source": [
    "Assignment 1, due Tuesday Week 2\n",
    "Beginning Bash Scripting\n",
    "Key concepts covered: Recognizing approaches to solving problems using linux commands. Become familiar with GitHub practices\n",
    "\n",
    "Goals\n",
    "Preparing and downloading files. Creating a bash script that tests knowledge of linux commands. Running the script and submitting it. \n",
    "\n",
    "Assignment\n",
    "Story:\n",
    "\n",
    "Jane has discovered 10 motifs that are associated with radiation resistance in her colony of bacteria, R.bifella. A motif is a short, recurring sequence of DNA that is associated with gene regulation. She wants to choose the motif that occurs most frequently across the bacterial genome.   However, since these experiments are costly, she wants to pick the one that has the highest number of occurrences in the bacterial genome. Which motif should she choose?\n",
    "\n",
    "Steps:\n",
    "\n",
    "SSH into the AWS server and create a folder called week2. I will be grading out of this directory.\n",
    "Copy the motif list and the genome of the R.bifella from  /home/rbif/week2_assignment/\n",
    "Create a single bash script that does the following:\n",
    "Print out the number of occurrences for each motif that is found in the bacterial genome and output to a file called motif_count.txt\n",
    "Create a fasta file for each motif (so 10 in total) which contains all of the genes and their corresponding sequences that have that motif. Each file should be named after the motif (ie ATG.txt) and outputted to a new directory called motifs\n",
    "*Note*  Please comment your code. This should include a description of what the goal of the script is at the beginning. And then any clarifying comments for snippets of code.\n",
    "You can find an example output of the assignment in /home/rbif/week2_example_output along with how comments should look like.\n",
    "\n",
    "This is due Tuesday, July 31 at 11:59 pm. I will mark anything modified inside your assignment directory after that time as late.\n",
    "\n",
    "Submission status\n",
    "This assignment will accept submissions from Tuesday, 14 April 2020, 7:00 AM"
   ]
  },
  {
   "cell_type": "markdown",
   "metadata": {},
   "source": [
    "<strong>First a plain bash script and then a more complex python task. I want to explore a little bit here and rank all of the various string options, moving until I find a sting with only one entries</strong>"
   ]
  },
  {
   "cell_type": "markdown",
   "metadata": {},
   "source": [
    "### Bash"
   ]
  },
  {
   "cell_type": "markdown",
   "metadata": {},
   "source": [
    "<strong>I do not have access to AWS, so I will use the motif generator I constructed in Python below</strong>"
   ]
  },
  {
   "cell_type": "code",
   "execution_count": 17,
   "metadata": {},
   "outputs": [
    {
     "name": "stdout",
     "output_type": "stream",
     "text": [
      "fib1.py\n",
      "HomeWorkNotebook.ipynb\n",
      "motif_count.txt\n",
      "motifs.txt\n",
      "python_motif\n",
      "test1.fasta\n",
      "week2.sh\n"
     ]
    }
   ],
   "source": [
    "%%bash\n",
    "\n",
    "cd /media/data/Documents/BioInformatics/001_RBIF-100-1DL/Week_2/ \n",
    "ls"
   ]
  },
  {
   "cell_type": "code",
   "execution_count": 36,
   "metadata": {},
   "outputs": [
    {
     "name": "stdout",
     "output_type": "stream",
     "text": [
      "Overwriting week2.sh\n"
     ]
    }
   ],
   "source": [
    "%%writefile week2.sh\n",
    "#!/bin/bash\n",
    "\n",
    "# [Task 1] Print out the number of occurrences for each motif \n",
    "# [Task 2] output output a file called motif_count.txt \n",
    "# [Task 3] Create a fasta file for each motif (so 10 in total) which contains motif genes\n",
    "# [Task 4] Each file should be named after the motif outputted to a new directory\n",
    "\n",
    "###\n",
    "# The idea of this script will be to first append the motifs into a list, then \n",
    "# Scan through the chromosome\n",
    "###\n",
    "\n",
    "motifs=()\n",
    "printf \"The following Motifs will be checked:\\n\"\n",
    "\n",
    "#Internal Field Separator (IFS)\n",
    "while IFS= read -r line\n",
    "do\n",
    "    printf \"$line\\n\"\n",
    "    motifs+=(\"$line\")\n",
    "    \n",
    "done < motifs.txt\n",
    "\n",
    "printf \"\\n\\n\"\n",
    "a=\"\"\n",
    "\n",
    "# Test to see if directory exists\n",
    "File=\"/media/data/Documents/BioInformatics/001_RBIF-100-1DL/Week_2/bash_output\"\n",
    "if [ -d $File ]; then\n",
    "    echo \"$File exists, deleting file\"\n",
    "    rm -rf \"$FILE exist\"\n",
    "fi\n",
    "\n",
    "mkdir /media/data/Documents/BioInformatics/001_RBIF-100-1DL/Week_2/bash_output\n",
    "\n",
    "\n",
    "\n",
    "for motif in \"${motifs[@]}\"\n",
    "do \n",
    "    a+=$motif\n",
    "    printf \"$motif,\" >> bash_scripts/motif_count.txt\n",
    "    grep -o -i \"$motif\\n\" test1.fasta | wc -l >> motif_count.txt\n",
    "    \n",
    "done"
   ]
  },
  {
   "cell_type": "code",
   "execution_count": 37,
   "metadata": {
    "scrolled": true
   },
   "outputs": [
    {
     "name": "stdout",
     "output_type": "stream",
     "text": [
      "The following Motifs will be checked:\n",
      "gttaatta\n",
      "ctgcagcg\n",
      "aacctcg\n",
      "acagcta\n",
      "ggaaccgt\n",
      "tcccgaa\n",
      "gtaatta\n",
      "ataagatg\n",
      "acgaaaac\n",
      "attactat\n",
      "\n",
      "\n"
     ]
    },
    {
     "name": "stderr",
     "output_type": "stream",
     "text": [
      "week2.sh: line 41: bash_scripts/motif_count.txt: No such file or directory\n",
      "week2.sh: line 41: bash_scripts/motif_count.txt: No such file or directory\n",
      "week2.sh: line 41: bash_scripts/motif_count.txt: No such file or directory\n",
      "week2.sh: line 41: bash_scripts/motif_count.txt: No such file or directory\n",
      "week2.sh: line 41: bash_scripts/motif_count.txt: No such file or directory\n",
      "week2.sh: line 41: bash_scripts/motif_count.txt: No such file or directory\n",
      "week2.sh: line 41: bash_scripts/motif_count.txt: No such file or directory\n",
      "week2.sh: line 41: bash_scripts/motif_count.txt: No such file or directory\n",
      "week2.sh: line 41: bash_scripts/motif_count.txt: No such file or directory\n",
      "week2.sh: line 41: bash_scripts/motif_count.txt: No such file or directory\n"
     ]
    }
   ],
   "source": [
    "%%bash \n",
    "\n",
    "cd /media/data/Documents/BioInformatics/001_RBIF-100-1DL/Week_2\n",
    "chmod +x week2.sh\n",
    "bash week2.sh"
   ]
  },
  {
   "cell_type": "code",
   "execution_count": null,
   "metadata": {},
   "outputs": [],
   "source": []
  },
  {
   "cell_type": "markdown",
   "metadata": {},
   "source": [
    "### Python"
   ]
  },
  {
   "cell_type": "markdown",
   "metadata": {},
   "source": [
    "<strong>I do not have access to AWS yet, so here is a motif generator</strong>"
   ]
  },
  {
   "cell_type": "markdown",
   "metadata": {},
   "source": [
    "#### Motif Generator"
   ]
  },
  {
   "cell_type": "code",
   "execution_count": null,
   "metadata": {},
   "outputs": [],
   "source": [
    "# Numpy is a common library,I will use it here,\n",
    "import numpy as np\n",
    "\n",
    "###\n",
    "# Until I get the motif list, I am going to cook myself something up\n",
    "# I am not going to use numpy for the code below since I am going to translate\n",
    "# the Python code to Bash.\n",
    "###\n",
    "\n",
    "class Motif_Generator:\n",
    "    def __init__(self, number, min_length, max_length):\n",
    "        motifs = []\n",
    "        \n",
    "        for _ in range(number):\n",
    "            motifs.append(self.motif_generator(min_length, max_length))\n",
    "        \n",
    "        # Write the motifs to a file\n",
    "        \n",
    "        with open('motifs.txt', 'w') as f:\n",
    "            for motif in motifs:\n",
    "                f.write(\"{}\\n\".format(motif))\n",
    "        \n",
    "    def motif_generator(self, min_length, max_length):\n",
    "        \n",
    "        # Set the size of the random item\n",
    "        size = np.random.randint(low = min_length, high = max_length)\n",
    "        \n",
    "        # Populate that list\n",
    "        nucleotides = \"\".join(np.random.choice([\"a\", \"c\", \"g\", \"t\"], size))\n",
    "        return nucleotides\n",
    "    \n",
    "if __name__ == '__main__':\n",
    "    # Not really sure how large to make each motif, I suppose it doesn't matter.\n",
    "    Motif_Generator = Motif_Generator(10, 7, 9)"
   ]
  },
  {
   "cell_type": "markdown",
   "metadata": {},
   "source": [
    "#### Main Python Script"
   ]
  },
  {
   "cell_type": "code",
   "execution_count": null,
   "metadata": {},
   "outputs": [],
   "source": [
    "import re\n",
    "import os\n",
    "import pandas as pd\n",
    "from itertools import combinations, permutations\n",
    "\n",
    "class Main:\n",
    "    def __init__(self, path, motif_path, candidate_size):\n",
    "        self.chromo_dict = self.read_fasta(path)\n",
    "        \n",
    "        # The idea of this script is to start by creating a\n",
    "        # Candidates list, and build the test set from there. \n",
    "        self.candidate_size = candidate_size\n",
    "        self.motif_path = motif_path\n",
    "        \n",
    "        self.chromo_tests = self.chromo_creator(self.candidate_size)\n",
    "        \n",
    "        # Also going to return the motif list in here\n",
    "        self.flat_chains, self.motifs = self.chain_maker(self.chromo_tests, self.motif_path)\n",
    "        \n",
    "        self.chain_count = self.nucleotide_counter(self.flat_chains, \n",
    "                                                   self.chromo_dict, \n",
    "                                                   self.chromo_tests)\n",
    "\n",
    "        self.motif_df = self.report(self.chain_count, self.motifs)\n",
    "  \n",
    "    def read_fasta(self, file_name):\n",
    "        # This is not the most elegant solution\n",
    "        # I might refactor this code later.\n",
    "        \n",
    "        # First read out the lines\n",
    "        f = open(file_name)\n",
    "        lines = f.read().splitlines()\n",
    "        f.close()\n",
    "        \n",
    "        # Make a list of chromosomes from list\n",
    "        chromosomes = \"\".join([x for x in lines if x != \"\"]).split(\">\")\n",
    "        chromosomes.remove(\"\")\n",
    "        \n",
    "        # Make a dictionary of chromosomes and entries. Could have done this in one line,\n",
    "        # but I think this is easier to read.\n",
    "                \n",
    "        chromo_dict = dict()\n",
    "        for chromosome in chromosomes:\n",
    "            # Split terms into int and non int values\n",
    "            entry = re.split(r'(\\d+)', chromosome)\n",
    "            chromo_dict[\"\".join(entry[:2])] = entry[-1]\n",
    "                             \n",
    "        return chromo_dict\n",
    "\n",
    "    def chromo_creator(self, index):        \n",
    "        chromo_tests = dict()\n",
    "        for value in range(index):\n",
    "            # We need to make sure we also grab duplicates\n",
    "            nucleotides = (value + 1) * [\"a\", \"c\", \"g\", \"t\"]\n",
    "            pattern = set(permutations(nucleotides, (value + 1)))\n",
    "            pattern = list(set(\"\".join(i) for i in pattern))\n",
    "            pattern.sort()\n",
    "            chromo_tests[value + 1] = pattern\n",
    "        \n",
    "        return chromo_tests\n",
    "        \n",
    "        \n",
    "    def chain_maker(self, chromo_tests, motif_path):\n",
    "        # flatten chromo_tests.values() lists\n",
    "        flat_chains = [item for sublist in chromo_tests.values() for item in sublist]\n",
    "        \n",
    "        # read into the set\n",
    "        with open(\"motifs.txt\") as f:\n",
    "            motifs = f.readlines()\n",
    "\n",
    "        # you may also want to remove whitespace characters like `\\n` at the end of each line\n",
    "        motifs = [x.strip() for x in motifs]\n",
    "\n",
    "        \n",
    "        # Add motifs into flat_chain list \n",
    "        return flat_chains + motifs, motifs\n",
    "        \n",
    "        \n",
    "    def nucleotide_counter(self, flat_chains, chromo_dict, chromo_tests):\n",
    "        \n",
    "        # First flatten list and then make a dictionary with counts  \n",
    "        chromo_count = dict()\n",
    "        chain_count  = dict()\n",
    "        for chain in flat_chains:\n",
    "            chain_counter = 0\n",
    "            chromo_count = dict()\n",
    "            for chromosome in chromo_dict.keys():\n",
    "                chromo_count[chromosome] = chromo_dict[chromosome].count(chain)\n",
    "                chain_counter += chromo_count[chromosome]\n",
    "            \n",
    "            chromo_count[\"total\"] = chain_counter\n",
    "            chain_count[chain] = chromo_count\n",
    "        \n",
    "        return chain_count\n",
    "        \n",
    "    def report(self, chain_count, motifs):\n",
    "        \n",
    "        report_dict = {k: chain_count[k] for k in motifs}\n",
    "\n",
    "        # Not sure if it is OK to use Pandas here, but it feels most natural\n",
    "        motif_df = pd.DataFrame.from_dict(report_dict)\n",
    "\n",
    "        # check to see if folder exists\n",
    "        if not os.path.exists(\"python_motif\"):\n",
    "            print(\"hello\")\n",
    "            os.mkdir(\"python_motif\")\n",
    "            \n",
    "        os.chdir(\"python_motif\")\n",
    "        motif_df.to_csv(\"complete.txt\")\n",
    "        motif_df.to_csv(\"motif_count.txt\")\n",
    "        \n",
    "        # Print out the .txt for each column\n",
    "        for motif in motif_df.columns:\n",
    "               motif_df[[motif]].to_csv(\"{}.txt\".format(motif.upper()))\n",
    "                \n",
    "        \n",
    "        return motif_df\n",
    "    \n",
    "if __name__ == '__main__':\n",
    "    Main = Main(\"test1.fasta\", \"motifs.txt\", 5)"
   ]
  },
  {
   "cell_type": "markdown",
   "metadata": {},
   "source": [
    "<strong> There is a lot more fun to be had here, but for now, this will do.</strong>"
   ]
  },
  {
   "cell_type": "code",
   "execution_count": null,
   "metadata": {},
   "outputs": [],
   "source": [
    "Main.motif_df"
   ]
  },
  {
   "cell_type": "code",
   "execution_count": null,
   "metadata": {},
   "outputs": [],
   "source": []
  }
 ],
 "metadata": {
  "kernelspec": {
   "display_name": "Python 3",
   "language": "python",
   "name": "python3"
  },
  "language_info": {
   "codemirror_mode": {
    "name": "ipython",
    "version": 3
   },
   "file_extension": ".py",
   "mimetype": "text/x-python",
   "name": "python",
   "nbconvert_exporter": "python",
   "pygments_lexer": "ipython3",
   "version": "3.7.5"
  },
  "toc": {
   "base_numbering": 1,
   "nav_menu": {},
   "number_sections": false,
   "sideBar": false,
   "skip_h1_title": false,
   "title_cell": "Table of Contents",
   "title_sidebar": "Contents",
   "toc_cell": true,
   "toc_position": {
    "height": "calc(100% - 180px)",
    "left": "10px",
    "top": "150px",
    "width": "165px"
   },
   "toc_section_display": true,
   "toc_window_display": false
  }
 },
 "nbformat": 4,
 "nbformat_minor": 4
}
