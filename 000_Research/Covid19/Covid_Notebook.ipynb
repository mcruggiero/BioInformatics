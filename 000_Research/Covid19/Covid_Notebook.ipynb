{
 "cells": [
  {
   "cell_type": "markdown",
   "metadata": {
    "toc": true
   },
   "source": [
    "<h1>Table of Contents<span class=\"tocSkip\"></span></h1>\n",
    "<div class=\"toc\"><ul class=\"toc-item\"><li><span><a href=\"#Libraries\" data-toc-modified-id=\"Libraries-1\"><span class=\"toc-item-num\">1&nbsp;&nbsp;</span>Libraries</a></span></li></ul></div>"
   ]
  },
  {
   "cell_type": "markdown",
   "metadata": {},
   "source": [
    "# Covid 19 Notebook"
   ]
  },
  {
   "cell_type": "markdown",
   "metadata": {},
   "source": [
    "<strong>Goals and notes</strong>"
   ]
  },
  {
   "cell_type": "code",
   "execution_count": 1,
   "metadata": {},
   "outputs": [
    {
     "name": "stdout",
     "output_type": "stream",
     "text": [
      "/home/ruggm/BioInformatics/000_Research/Covid19\n",
      "Covid_Notebook.ipynb\n",
      "sequences.fasta\n"
     ]
    }
   ],
   "source": [
    "%%bash\n",
    "\n",
    "pwd\n",
    "ls"
   ]
  },
  {
   "cell_type": "markdown",
   "metadata": {},
   "source": [
    "## Libraries"
   ]
  },
  {
   "cell_type": "code",
   "execution_count": 1,
   "metadata": {},
   "outputs": [],
   "source": [
    "import numpy as np\n",
    "import pandas as pd\n",
    "\n",
    "from Bio import SeqIO"
   ]
  },
  {
   "cell_type": "markdown",
   "metadata": {},
   "source": [
    "## Exploratory Data Analysis"
   ]
  },
  {
   "cell_type": "code",
   "execution_count": 2,
   "metadata": {},
   "outputs": [
    {
     "name": "stderr",
     "output_type": "stream",
     "text": [
      "<ipython-input-2-33c3f6cc12ef>:4: DeprecationWarning: 'U' mode is deprecated\n",
      "  with open(\"sequences.fasta\", \"rU\") as fasta_file:\n",
      "/home/ruggm/anaconda3/envs/learn/lib/python3.8/site-packages/Bio/Seq.py:2855: BiopythonWarning: Partial codon, len(sequence) not a multiple of three. Explicitly trim the sequence or add trailing N before translation. This may become an error in future.\n",
      "  warnings.warn(\n"
     ]
    }
   ],
   "source": [
    "# Initialize dictionary\n",
    "sequence_dict = dict()\n",
    "protein_set = set()\n",
    "with open(\"sequences.fasta\", \"rU\") as fasta_file:\n",
    "    for record in SeqIO.parse(fasta_file, \"fasta\"):\n",
    "        sequence_dict[record.id] = {}\n",
    "        sequence_dict[record.id][\"name\"] = record.id\n",
    "        sequence_dict[record.id][\"length\"] = len(record.seq)\n",
    "        sequence_dict[record.id][\"sequence\"] = record.seq\n",
    "        \n",
    "        # Spliting up the pipes in the description     \n",
    "        sequence_dict[record.id][\"description\"] = record.description.split(\"|\")[1]\n",
    "        sequence_dict[record.id][\"type\"] = record.description.split(\"|\")[3]\n",
    "        sequence_dict[record.id][\"species\"] = record.description.split(\"|\")[4]\n",
    "        sequence_dict[record.id][\"country\"] = record.description.split(\"|\")[6]\n",
    "        \n",
    "        # These sequences are very much out of alignment, but I want to look at protein to \n",
    "        # consider phylogenetics this line below builds an amino acid translation from DNA sequences.\n",
    "        sequence_dict[record.id][\"amino_list\"] = str(record.seq.translate()).split(\"*\")\n",
    "        \n",
    "        # I am curious about the proteins used in each variant. Making set to explore values\n",
    "        protein_set |= set(sequence_dict[record.id][\"amino_list\"])        "
   ]
  },
  {
   "cell_type": "code",
   "execution_count": 3,
   "metadata": {},
   "outputs": [],
   "source": [
    "# There are a lot of entries here, so we need to figure out a way to categorize them:\n",
    "protein_list = list(protein_set)\n",
    "\n",
    "# Make a sorted list of proteins\n",
    "protein_list.sort(key=lambda item: (-len(item), item))"
   ]
  },
  {
   "cell_type": "code",
   "execution_count": 4,
   "metadata": {},
   "outputs": [],
   "source": [
    "count = 0\n",
    "protein_dict = dict()\n",
    "\n",
    "for index in range(len(protein_list)):\n",
    "    if protein_list[index][0:5] == protein_list[index - 1][0:5]:\n",
    "        count += 1\n",
    "    else:\n",
    "        count = 0\n",
    "        \n",
    "    protein_dict[protein_list[index]] = dict()\n",
    "    \n",
    "    # Here we are going to make two different classifications, family and variant\n",
    "    protein_dict[protein_list[index]][\"variant\"] = \"{}-{}-{}\".format(protein_list[index][0:5], len(protein_list[index]), count)\n",
    "    protein_dict[protein_list[index]][\"family\"] = \"{}-{}\".format(protein_list[index][0:5], len(protein_list[index]))"
   ]
  },
  {
   "cell_type": "code",
   "execution_count": 5,
   "metadata": {},
   "outputs": [],
   "source": [
    "# This next step can be done in pandas, but it is quicker to iterate through the dict\n",
    "for record in sequence_dict:  \n",
    "    for entry in protein_set:\n",
    "            sequence_dict[record][protein_dict[entry][\"variant\"]] = sequence_dict[record][\"amino_list\"].count(entry)"
   ]
  },
  {
   "cell_type": "code",
   "execution_count": 49,
   "metadata": {
    "scrolled": false
   },
   "outputs": [],
   "source": [
    "df = pd.DataFrame.from_dict(sequence_dict).T"
   ]
  },
  {
   "cell_type": "code",
   "execution_count": 53,
   "metadata": {},
   "outputs": [
    {
     "data": {
      "text/html": [
       "<div>\n",
       "<style scoped>\n",
       "    .dataframe tbody tr th:only-of-type {\n",
       "        vertical-align: middle;\n",
       "    }\n",
       "\n",
       "    .dataframe tbody tr th {\n",
       "        vertical-align: top;\n",
       "    }\n",
       "\n",
       "    .dataframe thead th {\n",
       "        text-align: right;\n",
       "    }\n",
       "</style>\n",
       "<table border=\"1\" class=\"dataframe\">\n",
       "  <thead>\n",
       "    <tr style=\"text-align: right;\">\n",
       "      <th></th>\n",
       "      <th>name</th>\n",
       "      <th>length</th>\n",
       "      <th>sequence</th>\n",
       "      <th>description</th>\n",
       "      <th>type</th>\n",
       "      <th>species</th>\n",
       "      <th>country</th>\n",
       "      <th>amino_list</th>\n",
       "      <th>-0-0</th>\n",
       "      <th>SSIGW-10-0</th>\n",
       "      <th>...</th>\n",
       "      <th>TALCV-21-0</th>\n",
       "      <th>PKGKM-4409-15</th>\n",
       "      <th>NLITH-42-0</th>\n",
       "      <th>KLLCT-31-0</th>\n",
       "      <th>TVHQT-79-0</th>\n",
       "      <th>LKLLI-25-0</th>\n",
       "      <th>RQISS-7-0</th>\n",
       "      <th>PXXXX-22-0</th>\n",
       "      <th>GTL-3-0</th>\n",
       "      <th>WPTLQ-10-0</th>\n",
       "    </tr>\n",
       "  </thead>\n",
       "  <tbody>\n",
       "    <tr>\n",
       "      <th>NC_045512</th>\n",
       "      <td>NC_045512</td>\n",
       "      <td>29903</td>\n",
       "      <td>(A, T, T, A, A, A, G, G, T, T, T, A, T, A, C, ...</td>\n",
       "      <td>Severe acute respiratory syndrome coronavirus ...</td>\n",
       "      <td>refseq</td>\n",
       "      <td>complete</td>\n",
       "      <td>Severe acute respiratory syndrome-related coro...</td>\n",
       "      <td>[IKGLYLPR, QTNQLSISCRSVL, TNFKICVAVTRLHA, CTHA...</td>\n",
       "      <td>69</td>\n",
       "      <td>1</td>\n",
       "      <td>...</td>\n",
       "      <td>1</td>\n",
       "      <td>0</td>\n",
       "      <td>0</td>\n",
       "      <td>0</td>\n",
       "      <td>0</td>\n",
       "      <td>0</td>\n",
       "      <td>0</td>\n",
       "      <td>0</td>\n",
       "      <td>0</td>\n",
       "      <td>0</td>\n",
       "    </tr>\n",
       "    <tr>\n",
       "      <th>MT350236</th>\n",
       "      <td>MT350236</td>\n",
       "      <td>29865</td>\n",
       "      <td>(A, C, T, T, T, C, G, A, T, C, T, C, T, T, G, ...</td>\n",
       "      <td>Severe acute respiratory syndrome coronavirus ...</td>\n",
       "      <td>complete</td>\n",
       "      <td>Homo sapiens</td>\n",
       "      <td>USA</td>\n",
       "      <td>[TFDLL, ICSLNEL, NLCGCHSAACLVHSRSIINN, LLSLTGH...</td>\n",
       "      <td>54</td>\n",
       "      <td>0</td>\n",
       "      <td>...</td>\n",
       "      <td>0</td>\n",
       "      <td>0</td>\n",
       "      <td>0</td>\n",
       "      <td>1</td>\n",
       "      <td>0</td>\n",
       "      <td>0</td>\n",
       "      <td>1</td>\n",
       "      <td>0</td>\n",
       "      <td>1</td>\n",
       "      <td>1</td>\n",
       "    </tr>\n",
       "    <tr>\n",
       "      <th>MT350237</th>\n",
       "      <td>MT350237</td>\n",
       "      <td>29866</td>\n",
       "      <td>(A, A, C, T, T, T, C, G, A, T, C, T, C, T, T, ...</td>\n",
       "      <td>Severe acute respiratory syndrome coronavirus ...</td>\n",
       "      <td>complete</td>\n",
       "      <td>Homo sapiens</td>\n",
       "      <td>USA</td>\n",
       "      <td>[NFRSLVDLFSKRTLKSVWLSLGCMLSALTQYN, , LITVVDRTR...</td>\n",
       "      <td>14</td>\n",
       "      <td>0</td>\n",
       "      <td>...</td>\n",
       "      <td>0</td>\n",
       "      <td>0</td>\n",
       "      <td>0</td>\n",
       "      <td>0</td>\n",
       "      <td>0</td>\n",
       "      <td>0</td>\n",
       "      <td>0</td>\n",
       "      <td>0</td>\n",
       "      <td>0</td>\n",
       "      <td>0</td>\n",
       "    </tr>\n",
       "    <tr>\n",
       "      <th>MT350238</th>\n",
       "      <td>MT350238</td>\n",
       "      <td>29826</td>\n",
       "      <td>(C, C, A, A, C, T, T, T, C, G, A, T, C, T, C, ...</td>\n",
       "      <td>Severe acute respiratory syndrome coronavirus ...</td>\n",
       "      <td>complete</td>\n",
       "      <td>Homo sapiens</td>\n",
       "      <td>USA</td>\n",
       "      <td>[PTFDLL, ICSLNEL, NLCGCHSAACLVHSRSIINN, LLSLTG...</td>\n",
       "      <td>55</td>\n",
       "      <td>0</td>\n",
       "      <td>...</td>\n",
       "      <td>0</td>\n",
       "      <td>0</td>\n",
       "      <td>0</td>\n",
       "      <td>1</td>\n",
       "      <td>0</td>\n",
       "      <td>0</td>\n",
       "      <td>1</td>\n",
       "      <td>0</td>\n",
       "      <td>1</td>\n",
       "      <td>1</td>\n",
       "    </tr>\n",
       "    <tr>\n",
       "      <th>MT350239</th>\n",
       "      <td>MT350239</td>\n",
       "      <td>29897</td>\n",
       "      <td>(T, G, T, T, T, A, T, A, C, C, T, T, C, C, C, ...</td>\n",
       "      <td>Severe acute respiratory syndrome coronavirus ...</td>\n",
       "      <td>complete</td>\n",
       "      <td>Homo sapiens</td>\n",
       "      <td>USA</td>\n",
       "      <td>[CLYLPRXQTNQLSISCRSVL, TNFKICVAVTRLHA, CTHAV, ...</td>\n",
       "      <td>69</td>\n",
       "      <td>1</td>\n",
       "      <td>...</td>\n",
       "      <td>1</td>\n",
       "      <td>0</td>\n",
       "      <td>0</td>\n",
       "      <td>0</td>\n",
       "      <td>0</td>\n",
       "      <td>0</td>\n",
       "      <td>0</td>\n",
       "      <td>0</td>\n",
       "      <td>0</td>\n",
       "      <td>0</td>\n",
       "    </tr>\n",
       "  </tbody>\n",
       "</table>\n",
       "<p>5 rows × 2796 columns</p>\n",
       "</div>"
      ],
      "text/plain": [
       "                name length  \\\n",
       "NC_045512  NC_045512  29903   \n",
       "MT350236    MT350236  29865   \n",
       "MT350237    MT350237  29866   \n",
       "MT350238    MT350238  29826   \n",
       "MT350239    MT350239  29897   \n",
       "\n",
       "                                                    sequence  \\\n",
       "NC_045512  (A, T, T, A, A, A, G, G, T, T, T, A, T, A, C, ...   \n",
       "MT350236   (A, C, T, T, T, C, G, A, T, C, T, C, T, T, G, ...   \n",
       "MT350237   (A, A, C, T, T, T, C, G, A, T, C, T, C, T, T, ...   \n",
       "MT350238   (C, C, A, A, C, T, T, T, C, G, A, T, C, T, C, ...   \n",
       "MT350239   (T, G, T, T, T, A, T, A, C, C, T, T, C, C, C, ...   \n",
       "\n",
       "                                                 description      type  \\\n",
       "NC_045512  Severe acute respiratory syndrome coronavirus ...    refseq   \n",
       "MT350236   Severe acute respiratory syndrome coronavirus ...  complete   \n",
       "MT350237   Severe acute respiratory syndrome coronavirus ...  complete   \n",
       "MT350238   Severe acute respiratory syndrome coronavirus ...  complete   \n",
       "MT350239   Severe acute respiratory syndrome coronavirus ...  complete   \n",
       "\n",
       "                species                                            country  \\\n",
       "NC_045512      complete  Severe acute respiratory syndrome-related coro...   \n",
       "MT350236   Homo sapiens                                                USA   \n",
       "MT350237   Homo sapiens                                                USA   \n",
       "MT350238   Homo sapiens                                                USA   \n",
       "MT350239   Homo sapiens                                                USA   \n",
       "\n",
       "                                                  amino_list -0-0 SSIGW-10-0  \\\n",
       "NC_045512  [IKGLYLPR, QTNQLSISCRSVL, TNFKICVAVTRLHA, CTHA...   69          1   \n",
       "MT350236   [TFDLL, ICSLNEL, NLCGCHSAACLVHSRSIINN, LLSLTGH...   54          0   \n",
       "MT350237   [NFRSLVDLFSKRTLKSVWLSLGCMLSALTQYN, , LITVVDRTR...   14          0   \n",
       "MT350238   [PTFDLL, ICSLNEL, NLCGCHSAACLVHSRSIINN, LLSLTG...   55          0   \n",
       "MT350239   [CLYLPRXQTNQLSISCRSVL, TNFKICVAVTRLHA, CTHAV, ...   69          1   \n",
       "\n",
       "           ... TALCV-21-0 PKGKM-4409-15 NLITH-42-0 KLLCT-31-0 TVHQT-79-0  \\\n",
       "NC_045512  ...          1             0          0          0          0   \n",
       "MT350236   ...          0             0          0          1          0   \n",
       "MT350237   ...          0             0          0          0          0   \n",
       "MT350238   ...          0             0          0          1          0   \n",
       "MT350239   ...          1             0          0          0          0   \n",
       "\n",
       "          LKLLI-25-0 RQISS-7-0 PXXXX-22-0 GTL-3-0 WPTLQ-10-0  \n",
       "NC_045512          0         0          0       0          0  \n",
       "MT350236           0         1          0       1          1  \n",
       "MT350237           0         0          0       0          0  \n",
       "MT350238           0         1          0       1          1  \n",
       "MT350239           0         0          0       0          0  \n",
       "\n",
       "[5 rows x 2796 columns]"
      ]
     },
     "execution_count": 53,
     "metadata": {},
     "output_type": "execute_result"
    }
   ],
   "source": [
    "df.head()"
   ]
  },
  {
   "cell_type": "code",
   "execution_count": 8,
   "metadata": {},
   "outputs": [],
   "source": [
    "protein_set = set()\n",
    "for index in sequence_dict:\n",
    "    protein_set |= set(sequence_dict[index][\"amino_list\"])"
   ]
  },
  {
   "cell_type": "code",
   "execution_count": 9,
   "metadata": {},
   "outputs": [
    {
     "data": {
      "text/plain": [
       "2788"
      ]
     },
     "execution_count": 9,
     "metadata": {},
     "output_type": "execute_result"
    }
   ],
   "source": [
    "len(protein_set)"
   ]
  },
  {
   "cell_type": "code",
   "execution_count": null,
   "metadata": {},
   "outputs": [],
   "source": []
  }
 ],
 "metadata": {
  "kernelspec": {
   "display_name": "Python 3",
   "language": "python",
   "name": "python3"
  },
  "language_info": {
   "codemirror_mode": {
    "name": "ipython",
    "version": 3
   },
   "file_extension": ".py",
   "mimetype": "text/x-python",
   "name": "python",
   "nbconvert_exporter": "python",
   "pygments_lexer": "ipython3",
   "version": "3.8.2"
  },
  "toc": {
   "base_numbering": 1,
   "nav_menu": {},
   "number_sections": true,
   "sideBar": true,
   "skip_h1_title": true,
   "title_cell": "Table of Contents",
   "title_sidebar": "Contents",
   "toc_cell": true,
   "toc_position": {},
   "toc_section_display": true,
   "toc_window_display": true
  }
 },
 "nbformat": 4,
 "nbformat_minor": 2
}
