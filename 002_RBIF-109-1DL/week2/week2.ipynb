{
 "cells": [
  {
   "cell_type": "code",
   "execution_count": 6,
   "metadata": {},
   "outputs": [
    {
     "name": "stdout",
     "output_type": "stream",
     "text": [
      "TACCGTTCAACCCAAGGGGAATCTATCCGCTGTTTGACCATTTTGTCAGGTTTGGCGCTTCGAACATCCGCGAAGGCCCGATAACGAA\n"
     ]
    }
   ],
   "source": [
    "import numpy as np\n",
    "import pandas as pd\n",
    "\n",
    "# Create a random DNA string and a random search term\n",
    "dna = [\"A\", \"C\", \"G\", \"T\"]\n",
    "dna_string = \"\".join(np.random.choice(dna, 88))\n",
    "print(dna_string)\n",
    "\n",
    "def protein_shaker(dna):\n",
    "    # First, we must replace the T in DNA to a U in RNA\n",
    "    rna = dna.replace(\"T\", \"U\")\n",
    "    \n",
    "    # Next we need to \n",
    "\n",
    "protein_shaker(dna_string)\n",
    "\n"
   ]
  },
  {
   "cell_type": "code",
   "execution_count": 78,
   "metadata": {},
   "outputs": [
    {
     "name": "stdout",
     "output_type": "stream",
     "text": [
      "Sample from amino_acid csv: \n",
      "\n",
      "{'amino_acid': 'glutamic acid', 'code': 'glu', 'composition': 'C5H7NO3', 'smiles': 'C(CC(=O)O)C(C(=O)O)N', 'codons': {'GAG', 'GAA'}, 'isoelectric': '3.15', 'carb_pKa': '2.1', 'amino_pKa': '9.47', 'side_pKa': '4.07', 'polarity': 'acidic', 'mono_mass': '129.0425931', 'avg_mass': '129.11398', 'cid_number': 'CID33032', 'properties': '{\"hydrophilic\", \"acidic\"}'} \n",
      "\n",
      "Sample from codon dictionary: codons['GAG'] = E\n",
      "\n",
      "DNA string to be transposed: CTCCCGTACCTCTATTCCATAGGACAGCACGGTAACAAATAGCAATCGCCGGCGGGTCCTTGCGATTGAAGC\n",
      "3 proteins found in DNA\n"
     ]
    },
    {
     "data": {
      "text/plain": [
       "['LPYLYSIGQHGNK', 'QSPAGPCD', 'S']"
      ]
     },
     "execution_count": 78,
     "metadata": {},
     "output_type": "execute_result"
    }
   ],
   "source": [
    "import numpy as np\n",
    "import pandas as pd\n",
    "import re\n",
    "\n",
    "# I made a little CSV with AminoAcids and some their properties. This information\n",
    "# is sourced from pubchem api, and WHO\n",
    "amino_acids = pd.read_csv('AminoAcids.csv', index_col=0, squeeze=True).T.to_dict()\n",
    "codons = {}\n",
    "\n",
    "# Since this is a CSV we need to evaluate the codon string\n",
    "for amino in amino_acids:\n",
    "    amino_acids[amino][\"codons\"] = eval(amino_acids[amino][\"codons\"])\n",
    "\n",
    "# Reverse for codon dictionary\n",
    "    for codon in amino_acids[amino][\"codons\"]:\n",
    "        codons[codon] = amino\n",
    "\n",
    "# Sample Test\n",
    "print(\"Sample from amino_acid csv: \\n\")\n",
    "print(amino_acids[\"E\"], \"\\n\")\n",
    "print(\"Sample from codon dictionary: codons['GAG'] = {}\".format(codons[\"GAG\"]))\n",
    "\n",
    "# Create a random DNA string and a random search term with possible errors\n",
    "# Add letters to this list to experiement \n",
    "dna = [\"A\", \"C\", \"G\", \"T\"] \n",
    "dna_string = \"\".join(np.random.choice(dna, np.random.randint(23,100)))\n",
    "print(\"\\nDNA string to be transposed: {}\".format(dna_string))\n",
    "\n",
    "# What follows is a little function to translate DNA into protein\n",
    "def protein_shaker(dna):\n",
    "\n",
    "    # First, we must replace the T in DNA to a U in RNA\n",
    "    rna = dna.replace(\"T\", \"U\")\n",
    "    \n",
    "    # Break into groups of 3 with the remaining tail\n",
    "    rna_groups = re.findall(\".{3}|.{1,2}\", rna)\n",
    "    \n",
    "    # We could use regex replace, but that is not as readable to me\n",
    "    protein = []\n",
    "    for item in rna_groups:\n",
    "        if item in codons and len(item) == 3:\n",
    "            protein.append(codons[item])\n",
    "            \n",
    "        # Add DNA fragment warning\n",
    "        elif len(item) != 3:\n",
    "            print(\"{} is a fragment\".format(item))\n",
    "            protein.append(\"{fragment}\")\n",
    "            \n",
    "        # Add Codon warning \n",
    "        else:\n",
    "            print(\"{} is not valid a valid codon\".format(item))\n",
    "            protein.append(\"{invalid codon}\")\n",
    "    \n",
    "    protein = \"\".join(protein).split(\"*\")\n",
    "    print(\"{} proteins found in DNA\".format(len(protein)))\n",
    "    return protein\n",
    "    \n",
    "\n",
    "protein_shaker(dna_string)\n",
    "\n"
   ]
  },
  {
   "cell_type": "code",
   "execution_count": 67,
   "metadata": {},
   "outputs": [
    {
     "ename": "KeyError",
     "evalue": "'TGG'",
     "output_type": "error",
     "traceback": [
      "\u001b[0;31m---------------------------------------------------------------------------\u001b[0m",
      "\u001b[0;31mKeyError\u001b[0m                                  Traceback (most recent call last)",
      "\u001b[0;32m<ipython-input-67-dc24ba153bda>\u001b[0m in \u001b[0;36m<module>\u001b[0;34m\u001b[0m\n\u001b[0;32m----> 1\u001b[0;31m \u001b[0mcodons\u001b[0m\u001b[0;34m[\u001b[0m\u001b[0;34m\"TGG\"\u001b[0m\u001b[0;34m]\u001b[0m\u001b[0;34m\u001b[0m\u001b[0;34m\u001b[0m\u001b[0m\n\u001b[0m",
      "\u001b[0;31mKeyError\u001b[0m: 'TGG'"
     ]
    }
   ],
   "source": [
    "codons[\"TGG\"]"
   ]
  },
  {
   "cell_type": "code",
   "execution_count": 22,
   "metadata": {},
   "outputs": [
    {
     "data": {
      "text/plain": [
       "set"
      ]
     },
     "execution_count": 22,
     "metadata": {},
     "output_type": "execute_result"
    }
   ],
   "source": [
    "type(amino_acids[\"A\"][\"codons\"])"
   ]
  },
  {
   "cell_type": "code",
   "execution_count": 28,
   "metadata": {},
   "outputs": [
    {
     "ename": "SyntaxError",
     "evalue": "unexpected EOF while parsing (<string>, line 1)",
     "output_type": "error",
     "traceback": [
      "Traceback \u001b[0;36m(most recent call last)\u001b[0m:\n",
      "  File \u001b[1;32m\"/home/mruggiero/anaconda3/envs/blender/lib/python3.7/site-packages/IPython/core/interactiveshell.py\"\u001b[0m, line \u001b[1;32m3331\u001b[0m, in \u001b[1;35mrun_code\u001b[0m\n    exec(code_obj, self.user_global_ns, self.user_ns)\n",
      "\u001b[0;36m  File \u001b[0;32m\"<ipython-input-28-71a8721f7e95>\"\u001b[0;36m, line \u001b[0;32m1\u001b[0;36m, in \u001b[0;35m<module>\u001b[0;36m\u001b[0m\n\u001b[0;31m    eval(\"23.5a\")\u001b[0m\n",
      "\u001b[0;36m  File \u001b[0;32m\"<string>\"\u001b[0;36m, line \u001b[0;32m1\u001b[0m\n\u001b[0;31m    23.5a\u001b[0m\n\u001b[0m        ^\u001b[0m\n\u001b[0;31mSyntaxError\u001b[0m\u001b[0;31m:\u001b[0m unexpected EOF while parsing\n"
     ]
    }
   ],
   "source": [
    "eval(\"23.5a\")"
   ]
  },
  {
   "cell_type": "code",
   "execution_count": null,
   "metadata": {},
   "outputs": [],
   "source": []
  }
 ],
 "metadata": {
  "kernelspec": {
   "display_name": "Python 3",
   "language": "python",
   "name": "python3"
  },
  "language_info": {
   "codemirror_mode": {
    "name": "ipython",
    "version": 3
   },
   "file_extension": ".py",
   "mimetype": "text/x-python",
   "name": "python",
   "nbconvert_exporter": "python",
   "pygments_lexer": "ipython3",
   "version": "3.7.6"
  },
  "toc": {
   "base_numbering": 1,
   "nav_menu": {},
   "number_sections": true,
   "sideBar": true,
   "skip_h1_title": false,
   "title_cell": "Table of Contents",
   "title_sidebar": "Contents",
   "toc_cell": false,
   "toc_position": {},
   "toc_section_display": true,
   "toc_window_display": false
  }
 },
 "nbformat": 4,
 "nbformat_minor": 4
}
