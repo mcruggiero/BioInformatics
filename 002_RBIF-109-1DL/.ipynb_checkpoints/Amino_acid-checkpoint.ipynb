{
 "cells": [
  {
   "cell_type": "code",
   "execution_count": 2,
   "metadata": {},
   "outputs": [],
   "source": [
    "amino_acids = {\n",
    "    \"ala\": {\"name\": \"alanine\",\n",
    "               \"code\": \"A\",\n",
    "               \"letter_code\": \"ala\",\n",
    "               \"formula\": \"C3H7NO2\",\n",
    "               \"molar_mass\": 89.09,\n",
    "               \"COOH_pKa\": 2.35,\n",
    "               \"NH3_pKa\": 9.87,\n",
    "               \"polarity\": \"non\",\n",
    "               \"codons\": [\"GCU\", \"GCC\", \"GCA\", \"GCG\"],\n",
    "               \"essential\": \"non\"}}"
   ]
  },
  {
   "cell_type": "code",
   "execution_count": 3,
   "metadata": {},
   "outputs": [
    {
     "data": {
      "text/plain": [
       "{'name': 'alanine',\n",
       " 'code': 'A',\n",
       " 'letter_code': 'ala',\n",
       " 'formula': 'C3H7NO2',\n",
       " 'molar_mass': 89.09,\n",
       " 'COOH_pKa': 2.35,\n",
       " 'NH3_pKa': 9.87,\n",
       " 'polarity': 'non',\n",
       " 'codons': ['GCU', 'GCC', 'GCA', 'GCG'],\n",
       " 'essential': 'non'}"
      ]
     },
     "execution_count": 3,
     "metadata": {},
     "output_type": "execute_result"
    }
   ],
   "source": [
    "amino_acids[\"ala\"]"
   ]
  },
  {
   "cell_type": "code",
   "execution_count": null,
   "metadata": {},
   "outputs": [],
   "source": [
    "amino_acids = {\n",
    "    \"ala\":    {\"name\": \"alanine\",\n",
    "               \"code\": \"A\",\n",
    "               \"letter_code\": \"ala\",\n",
    "               \"molar_mass\": 89.09,\n",
    "               \"COOH_pKa\": 2.35,\n",
    "               \"NH3_pKa\": 9.87,\n",
    "               \"Side_chain_pKa\": \"n/a\"\n",
    "               \"polarity\": \"non\",\n",
    "               \"codons\": {\"GCU\", \"GCC\", \"GCA\", \"GCG\"},\n",
    "               \"essential\": \"non\", \n",
    "               \"smiles\": \"CC(C(=O)O)N\",\n",
    "               \"type\" : \"aliphatic\"},\n",
    "    \"arg\":    {\"name\": \"arginine\",\n",
    "               \"code\": \"R\",\n",
    "               \"letter_code\": \"arg\",\n",
    "               \"formula\": \"C3H7NO2\",\n",
    "               \"molar_mass\":  174.2,\n",
    "               \"COOH_pKa\": 1.8,\n",
    "               \"NH3_pKa\": 8.99,\n",
    "               \"polarity\": \"basic_polar\",\n",
    "               \"codons\": {\"CGU\", \"CGC\", \"CGA\", \"CGG\", \"AGA\", \"AGG\"},\n",
    "               \"essential\": \"non\", \n",
    "               \"smiles\": \"NC(CCCN=C(N)N)C(O)=O\",\n",
    "               \"type\" : \"basic\"},\n",
    "    \"arg\":    {\"name\": \"arginine\",\n",
    "           \"code\": \"R\",\n",
    "           \"letter_code\": \"arg\",\n",
    "           \"formula\": \"C3H7NO2\",\n",
    "           \"molar_mass\":  174.2,\n",
    "           \"COOH_pKa\": 1.8,\n",
    "           \"NH3_pKa\": 8.99,\n",
    "           \"polarity\": \"basic_polar\",\n",
    "           \"codons\": {\"CGU\", \"CGC\", \"CGA\", \"CGG\", \"AGA\", \"AGG\"},\n",
    "           \"essential\": \"non\", \n",
    "           \"smiles\": \"NC(CCCN=C(N)N)C(O)=O\",\n",
    "           \"type\" : \"basic\"},\n",
    "\n",
    "\n",
    "asparagine - asn - N (gif, interactive)\n",
    "aspartic acid - asp - D (gif, interactive)\n",
    "cysteine - cys - C (gif, interactive)\n",
    "glutamine - gln - Q (gif, interactive)\n",
    "glutamic acid - glu - E (gif, interactive)\n",
    "glycine - gly - G (gif, interactive)\n",
    "histidine - his - H (gif, interactive)\n",
    "isoleucine - ile - I (gif, interactive)\n",
    "leucine - leu - L (gif, interactive)\n",
    "lysine - lys - K (gif, interactive)\n",
    "methionine - met - M (gif, interactive)\n",
    "phenylalanine - phe - F (gif, interactive)\n",
    "proline - pro - P (gif, interactive)\n",
    "serine - ser - S (gif, interactive)\n",
    "threonine - thr - T (gif, interactive)\n",
    "tryptophan - trp - W (gif, interactive)\n",
    "tyrosine - tyr - Y (gif, interactive)\n",
    "valine - val - V (gif, interactive)"
   ]
  },
  {
   "cell_type": "code",
   "execution_count": null,
   "metadata": {},
   "outputs": [],
   "source": []
  }
 ],
 "metadata": {
  "kernelspec": {
   "display_name": "Python 3",
   "language": "python",
   "name": "python3"
  },
  "language_info": {
   "codemirror_mode": {
    "name": "ipython",
    "version": 3
   },
   "file_extension": ".py",
   "mimetype": "text/x-python",
   "name": "python",
   "nbconvert_exporter": "python",
   "pygments_lexer": "ipython3",
   "version": "3.7.6"
  },
  "toc": {
   "base_numbering": 1,
   "nav_menu": {},
   "number_sections": true,
   "sideBar": true,
   "skip_h1_title": false,
   "title_cell": "Table of Contents",
   "title_sidebar": "Contents",
   "toc_cell": false,
   "toc_position": {},
   "toc_section_display": true,
   "toc_window_display": false
  }
 },
 "nbformat": 4,
 "nbformat_minor": 4
}
